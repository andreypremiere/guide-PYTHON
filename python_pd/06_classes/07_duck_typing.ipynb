{
 "metadata": {
  "language_info": {
   "codemirror_mode": {
    "name": "ipython",
    "version": 3
   },
   "file_extension": ".py",
   "mimetype": "text/x-python",
   "name": "python",
   "nbconvert_exporter": "python",
   "pygments_lexer": "ipython3",
   "version": "3.9.0"
  },
  "orig_nbformat": 2,
  "kernelspec": {
   "name": "python3",
   "display_name": "Python 3.9.0 64-bit ('.venv')"
  },
  "interpreter": {
   "hash": "178cad48488a45b94c2e1acb3bfd8ec03d0e926b0801a270a439a0363b59c19a"
  }
 },
 "nbformat": 4,
 "nbformat_minor": 2,
 "cells": [
  {
   "cell_type": "markdown",
   "source": [
    "# Утиная типизация\r\n",
    "\r\n",
    "Часто, когда речь заходит о Python, всплывает фраза утиная типизация.\r\n",
    "Идею этой концепции можно выразить как:\r\n",
    "\r\n",
    ">Если это выглядит как утка, плавает как утка и крякает как утка, то\r\n",
    ">это, вероятно, и есть утка\r\n",
    "\r\n",
    "Утиная типизация – это концепция, характерная для языков\r\n",
    "программирования с динамической типизацией, согласно которой конкретный\r\n",
    "тип или класс объекта не важен, а важны лишь свойства и методы, которыми\r\n",
    "этот объект обладает. Другими словами, при работе с объектом его тип не\r\n",
    "проверяется, вместо этого проверяются свойства и методы этого объекта.\r\n",
    "Такой подход добавляет гибкости коду, позволяет полиморфно работать с\r\n",
    "объектами, которые никак не связаны друг с другом и могут быть объектами\r\n",
    "разных классов. Единственное условие, чтобы все эти объекты поддерживали\r\n",
    "необходимый набор свойств и методов.\r\n",
    "\r\n",
    "Глоссарий Python определяет утинную типизацию\r\n",
    "[так](https://docs.python.org/3/glossary.html#term-duck-typing).\r\n",
    "\r\n",
    "Утиная типизация очень похожа на интерфейсы в других языках\r\n",
    "программирования, например, в Java. Однако в Python не требуется\r\n",
    "отдельно объявлять интерфесы. Все классы, реализующие определенный набор\r\n",
    "методов по умолчанию следуют заданному интерфейсу.\r\n",
    "\r\n",
    "Яркими примерами утиной типизации в Python выступают протоколы. Например\r\n",
    "протокол итерируемого объекта, реализуя метод `__iter__` или\r\n",
    "`__getitem__` можно неявно реализовать возможность использование вашего\r\n",
    "объекта в цикле.\r\n",
    "\r\n",
    "Для примера реализуем свой протокол `Lootable` предназначенный для\r\n",
    "реализации логики выпадения наград. Мотивация здесь в том, чтобы сделать\r\n",
    "логику получения награды из побежденных врагов, сундуков, секретных мест\r\n",
    "и прочего сделать похожей у разных объектов.\r\n",
    "\r\n",
    "Реализацию мы можем выполнить двумя способами: простым и более\r\n",
    "правильным. Мы рассмотрим второй, он отличается от первого только\r\n",
    "наличием базового класса, который определяет методы протокола\r\n",
    "(аля Java-style). Это сильно помогает в статическом анализе кода,\r\n",
    "автодополнение и проверка типов работают гораздо лучше.\r\n",
    "\r\n",
    "Для начала определим протокол как класс, который наследуется от класса\r\n",
    "`Protocol` модуля `typing`. Этот модуль специально создан для аннотации\r\n",
    "типов в Python. Наш протокол `Lootable` будет содержать только один\r\n",
    "метод `loot`."
   ],
   "metadata": {}
  },
  {
   "cell_type": "code",
   "execution_count": 1,
   "source": [
    "from typing import Protocol\r\n",
    "\r\n",
    "\r\n",
    "class Lootable(Protocol):\r\n",
    "    def loot(self):\r\n",
    "        ..."
   ],
   "outputs": [],
   "metadata": {}
  },
  {
   "cell_type": "markdown",
   "source": [
    "Определим три класса, реализующих протокол `Lootable`. Стоит отметить,\r\n",
    "что определять класс `Lootable` и наследовать от него другие классы не\r\n",
    "обязательно."
   ],
   "metadata": {}
  },
  {
   "cell_type": "code",
   "execution_count": 2,
   "source": [
    "import random\r\n",
    "\r\n",
    "\r\n",
    "class WobblyStone(Lootable):\r\n",
    "    def loot(self):\r\n",
    "        return random.randint(0, 20)\r\n",
    "\r\n",
    "\r\n",
    "class Сhest(Lootable):\r\n",
    "    def loot(self):\r\n",
    "        return random.randint(0, 50)\r\n",
    "\r\n",
    "\r\n",
    "class CowKing(Lootable):\r\n",
    "    def loot(self):\r\n",
    "        return random.randint(100, 200)"
   ],
   "outputs": [],
   "metadata": {}
  },
  {
   "cell_type": "markdown",
   "source": [
    "Определим функцию `get_loot`, которая будет принимать объект, реализующи\r\n",
    "метод `loot`, тип этого лбъекта совершенно не важен."
   ],
   "metadata": {}
  },
  {
   "cell_type": "code",
   "execution_count": 3,
   "source": [
    "def get_loot(obj: Lootable):\r\n",
    "    print(f'Ваша награда составила {obj.loot()} золота')"
   ],
   "outputs": [],
   "metadata": {}
  },
  {
   "cell_type": "code",
   "execution_count": 4,
   "source": [
    "wobbly_stone = WobblyStone()\r\n",
    "old_chest = Сhest()\r\n",
    "сow_лing = CowKing()\r\n",
    "\r\n",
    "get_loot(wobbly_stone)\r\n",
    "get_loot(old_chest)\r\n",
    "get_loot(сow_лing)"
   ],
   "outputs": [
    {
     "output_type": "stream",
     "name": "stdout",
     "text": [
      "Ваша награда составила 3 золота\n",
      "Ваша награда составила 48 золота\n",
      "Ваша награда составила 191 золота\n"
     ]
    }
   ],
   "metadata": {}
  },
  {
   "cell_type": "markdown",
   "source": [
    "# Полезные ссылки\r\n",
    "\r\n",
    "- [Wiki: Duck typing](https://en.wikipedia.org/wiki/Duck_typing)\r\n",
    "- [duck-typing. Python glossary](https://docs.python.org/3/glossary.html#term-duck-typing)\r\n",
    "- [What is duck typing?](https://stackoverflow.com/questions/4205130/what-is-duck-typing?rq=1)\r\n",
    "- [Протоколы в Python: утиная типизация по-новому](https://habr.com/ru/post/557898/)\r\n"
   ],
   "metadata": {}
  }
 ]
}