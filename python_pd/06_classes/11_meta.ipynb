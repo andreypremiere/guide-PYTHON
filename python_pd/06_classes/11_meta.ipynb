{
 "metadata": {
  "language_info": {
   "codemirror_mode": {
    "name": "ipython",
    "version": 3
   },
   "file_extension": ".py",
   "mimetype": "text/x-python",
   "name": "python",
   "nbconvert_exporter": "python",
   "pygments_lexer": "ipython3",
   "version": "3.9.0-final"
  },
  "orig_nbformat": 2,
  "kernelspec": {
   "name": "python3",
   "display_name": "Python 3",
   "language": "python"
  }
 },
 "nbformat": 4,
 "nbformat_minor": 2,
 "cells": [
  {
   "source": [
    "# Метаклассы"
   ],
   "cell_type": "markdown",
   "metadata": {}
  },
  {
   "cell_type": "code",
   "execution_count": null,
   "metadata": {},
   "outputs": [],
   "source": []
  },
  {
   "cell_type": "code",
   "execution_count": 4,
   "metadata": {},
   "outputs": [
    {
     "output_type": "stream",
     "name": "stdout",
     "text": [
      "a.foo = 5\nb.foo = 5\na is b = True\n"
     ]
    }
   ],
   "source": [
    "class MetaSingleton(type):\n",
    "    def __init__(self, *args, **kwargs):\n",
    "        super().__init__(*args, **kwargs)\n",
    "        self.__instance = None\n",
    "    \n",
    "    def __call__(self, *args, **kwargs):\n",
    "        if self.__instance is None:\n",
    "            self.__instance = super().__call__(*args, **kwargs)\n",
    "        return self.__instance\n",
    "\n",
    "class A(metaclass=MetaSingleton):\n",
    "    def __init__(self, a):\n",
    "        self.foo = a\n",
    "\n",
    "a = A(5)\n",
    "b = A(0)\n",
    "\n",
    "print(f'{a.foo = }')\n",
    "print(f'{b.foo = }')\n",
    "print(f'{a is b = }')"
   ]
  },
  {
   "source": [
    "# Полезные ссылки\n",
    "\n",
    "- [Что такое метаклассы в Python?](https://ru.stackoverflow.com/questions/1208241/%d0%a7%d1%82%d0%be-%d1%82%d0%b0%d0%ba%d0%be%d0%b5-%d0%bc%d0%b5%d1%82%d0%b0%d0%ba%d0%bb%d0%b0%d1%81%d1%81%d1%8b-%d0%b2-python)\n",
    "- [What are metaclasses in Python?](https://stackoverflow.com/questions/100003/what-are-metaclasses-in-python/100146)\n",
    "- [Why is __init__() always called after __new__()?](https://stackoverflow.com/questions/674304/why-is-init-always-called-after-new)"
   ],
   "cell_type": "markdown",
   "metadata": {}
  }
 ]
}