{
 "metadata": {
  "language_info": {
   "codemirror_mode": {
    "name": "ipython",
    "version": 3
   },
   "file_extension": ".py",
   "mimetype": "text/x-python",
   "name": "python",
   "nbconvert_exporter": "python",
   "pygments_lexer": "ipython3",
   "version": "3.9.0-final"
  },
  "orig_nbformat": 2,
  "kernelspec": {
   "name": "python3",
   "display_name": "Python 3",
   "language": "python"
  }
 },
 "nbformat": 4,
 "nbformat_minor": 2,
 "cells": [
  {
   "source": [
    "# Классы и экземпляры класса\n",
    "\n",
    "Классы представляют собой средства объединения данных и поведения. Каждый новый класс задает новый тип данных и позволяет создавать объекты или экземпляры этого типа. Экземпляр может содержать атрибуты, необходимые для хранения данных и характеризующие состояние объекта, а также методы для изменения состояния, которые определяются классом. Класс является одним из ключевых понятий в объектно-ориентированном программировании (ООП).\n",
    "\n",
    "По сравнению с другими языками программирования, механизм классов Python характерен минимумом нового синтаксиса и семантики. Классы Python предоставляют все стандартные возможности объектно-ориентированного программирования: механизм наследования классов позволяет использовать несколько базовых классов, способствуя повторному использованию кода, производный класс может переопределять любые методы своего базового класса или классов, а метод может вызывать метод базового класса с тем же именем. Объекты могут содержать произвольные количества и виды данных. Как и в случае с модулями, классы обладают динамической природой Python: они создаются во время выполнения и могут быть изменены в дальнейшем после создания.\n",
    "\n",
    "Синтаксис определения класса довольно прост. Для этого используется ключевое слово ```class```, за которым следует имя класса. Имена классов принято писать, используя ```CamelCase``` или «верблюжью» нотацию.\n",
    "\n",
    "Определения классов, также как и определения функций должны располагаться до их использования.\n",
    "\n",
    "В Python классы это тоже объекты (всё – объекты!). При определении класса создается объект класса, который связывается с переменной (имя класса) в глобальной области видимости, имеющей тоже имя, что и имя класса.\n",
    "\n",
    "Объекты классов поддерживают несколько операций: создание экземпляров и ссылки на атрибуты."
   ],
   "cell_type": "markdown",
   "metadata": {}
  },
  {
   "cell_type": "code",
   "execution_count": 1,
   "metadata": {},
   "outputs": [
    {
     "output_type": "stream",
     "name": "stdout",
     "text": [
      "hasattr(A, \"__call__\") = True\ntype(foo) = <class '__main__.A'>\ntype(bar) = <class '__main__.A'>\ntype(baz) = <class '__main__.A'>\nfoo is bar is baz = False\n"
     ]
    }
   ],
   "source": [
    "# простейший класс\n",
    "class A:\n",
    "    pass\n",
    "\n",
    "# класс это вызываемый объект, т.е. он реализует специальный \n",
    "# метод __call__, который позволяет использовать круглые скобки\n",
    "print(f'{hasattr(A, \"__call__\") = }')\n",
    "\n",
    "# создание экземпляров класса путем вызова класса как функции\n",
    "foo = A()\n",
    "bar = A()\n",
    "baz = A()\n",
    "\n",
    "# каждый экземпляр имеет тип соответствующий классу\n",
    "print(f'{type(foo) = }')\n",
    "print(f'{type(bar) = }')\n",
    "print(f'{type(baz) = }')\n",
    "\n",
    "# все экземпляры это разные! объекты\n",
    "print(f'{foo is bar is baz = }')"
   ]
  },
  {
   "cell_type": "code",
   "execution_count": 2,
   "metadata": {},
   "outputs": [
    {
     "output_type": "stream",
     "name": "stdout",
     "text": [
      "Обычные атрибуты: []\n\"Маггические\" атрибуты: ['__class__', '__delattr__', '__dict__', '__dir__', '__doc__', '__eq__', '__format__', '__ge__', '__getattribute__', '__gt__', '__hash__', '__init__', '__init_subclass__', '__le__', '__lt__', '__module__', '__ne__', '__new__', '__reduce__', '__reduce_ex__', '__repr__', '__setattr__', '__sizeof__', '__str__', '__subclasshook__', '__weakref__']\n"
     ]
    }
   ],
   "source": [
    "attrs = []\n",
    "magic_attrs = []\n",
    "for attr in dir(A):\n",
    "    if attr.startswith('__') and attr.endswith('__'):\n",
    "        magic_attrs.append(attr)\n",
    "    else:\n",
    "        attrs.append(attr)\n",
    "\n",
    "# примитивный вариант класса ничего не содержит \n",
    "# кроме некоторых специальных атрибутов\n",
    "print(f'Обычные атрибуты: {attrs}')\n",
    "print(f'\"Маггические\" атрибуты: {magic_attrs}')"
   ]
  },
  {
   "source": [
    "Для проверки принадлежности экземпляра конкретному классу стоит использовать функцию ```isinstance```, а не другие способы."
   ],
   "cell_type": "markdown",
   "metadata": {}
  },
  {
   "cell_type": "code",
   "execution_count": 3,
   "metadata": {},
   "outputs": [
    {
     "output_type": "stream",
     "name": "stdout",
     "text": [
      "type(foo) == A = True\ntype(foo) is A = True\nisinstance(foo, A) = True\n"
     ]
    }
   ],
   "source": [
    "print(f'{type(foo) == A = }')  # Нет\n",
    "print(f'{type(foo) is A = }')  # Нет\n",
    "print(f'{isinstance(foo, A) = }')  # Да!"
   ]
  },
  {
   "source": [
    "Классы могут содержать строку документации, которая располагается сразу после объявления класса и использоваться для вывода справки с помощью функции ```help(B)```. Строка документации храниться в специальном атрибуте ```__doc__```, получить к нему доступ можно через точечную нотацию ```B.__doc__```."
   ],
   "cell_type": "markdown",
   "metadata": {}
  },
  {
   "cell_type": "code",
   "execution_count": 4,
   "metadata": {},
   "outputs": [
    {
     "output_type": "stream",
     "name": "stdout",
     "text": [
      "B.__doc__ = 'Это класс B'\nHelp on class B in module __main__:\n\nclass B(builtins.object)\n |  Это класс B\n |  \n |  Data descriptors defined here:\n |  \n |  __dict__\n |      dictionary for instance variables (if defined)\n |  \n |  __weakref__\n |      list of weak references to the object (if defined)\n\n"
     ]
    }
   ],
   "source": [
    "class B:\n",
    "    \"\"\"Это класс B\"\"\"\n",
    "    pass\n",
    "\n",
    "print(f'{B.__doc__ = }')\n",
    "help(B)"
   ]
  },
  {
   "source": [
    "# Полезные ссылки"
   ],
   "cell_type": "markdown",
   "metadata": {}
  }
 ]
}