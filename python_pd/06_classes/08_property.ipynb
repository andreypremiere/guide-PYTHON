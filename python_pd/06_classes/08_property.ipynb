{
 "metadata": {
  "language_info": {
   "codemirror_mode": {
    "name": "ipython",
    "version": 3
   },
   "file_extension": ".py",
   "mimetype": "text/x-python",
   "name": "python",
   "nbconvert_exporter": "python",
   "pygments_lexer": "ipython3",
   "version": "3.9.0"
  },
  "orig_nbformat": 2,
  "kernelspec": {
   "name": "python3",
   "display_name": "Python 3.9.0 64-bit ('.venv')"
  },
  "interpreter": {
   "hash": "178cad48488a45b94c2e1acb3bfd8ec03d0e926b0801a270a439a0363b59c19a"
  }
 },
 "nbformat": 4,
 "nbformat_minor": 2,
 "cells": [
  {
   "cell_type": "markdown",
   "source": [
    "# Свойства (Property)\r\n",
    "\r\n",
    "В Python использование классов может быть очень гибким. Помимо механизма\r\n",
    "слотов, дескрипторов и примесей присутствует также механизм свойств или\r\n",
    "properties. Под капотом он реализован с использованием дескрипторов. Но\r\n",
    "знать как они работают совершенно не обязательно для использования\r\n",
    "свойств. В общем случае свойства позволяют модифицировать логику записи,\r\n",
    "чтения или удаления атрибутов, т.е. они упрощают работу с дескрипторами.\r\n",
    "Теперь вам не придется писать дополнительные классы для этого.\r\n",
    "\r\n",
    "Использование свойств позволяет обращаться к методам класса как к\r\n",
    "атрибутам, т.е. не указывая круглые скобки. Это работает только при\r\n",
    "условии, что метод имеет определенные аргументы или не имеет их вовсе.\r\n",
    "\r\n",
    "Рассматрим пример использования свойства с простым классов человека, у\r\n",
    "которого есть атрибут дата дня рождения `birthday`. Вполне логично, что\r\n",
    "мы не хотим хранить возраст человека в виде числа в обычном атрибуте,\r\n",
    "т.к. он будет периодически изменяться. Следить за этими изменениями не\r\n",
    "очень хочеться. С другой стороны возраст легко вычислить. Для этого\r\n",
    "создадим метод `age`. Зачастую возраст считает характеристикой человека,\r\n",
    "поэтому хотелось бы иметь атрибут `age` и не писать круглые скобки.\r\n",
    "Также желательно запретить его редактирование вручную. Реализуем все это\r\n",
    "с помощью свойств.\r\n",
    "\r\n",
    "Использование свойства, отвечающего за чтение данных очень просто,\r\n",
    "достаточно декорировать нужный метода декоратором `property`. Стоит\r\n",
    "отметить, что методы, декорируемые таком образом, не должны принимать\r\n",
    "никаких страбутов."
   ],
   "metadata": {}
  },
  {
   "cell_type": "code",
   "execution_count": 1,
   "source": [
    "from datetime import date\r\n",
    "\r\n",
    "\r\n",
    "class Human:\r\n",
    "    def __init__(self, birthday):\r\n",
    "        self.birthday = birthday\r\n",
    "    \r\n",
    "    @property\r\n",
    "    def age(self):\r\n",
    "        return (date.today() - self.birthday).days // 365"
   ],
   "outputs": [],
   "metadata": {}
  },
  {
   "cell_type": "markdown",
   "source": [
    "Теперь у объекта класса `Human` есть \"псевдо\" атрибут `age`. Обратиться\r\n",
    "к нему можно без скобок."
   ],
   "metadata": {}
  },
  {
   "cell_type": "code",
   "execution_count": 2,
   "source": [
    "man = Human(date(2000, 1, 1))\r\n",
    "print(f'{man.birthday = }')\r\n",
    "print(f'{man.age = }')"
   ],
   "outputs": [
    {
     "output_type": "stream",
     "name": "stdout",
     "text": [
      "man.birthday = datetime.date(2000, 1, 1)\n",
      "man.age = 21\n"
     ]
    }
   ],
   "metadata": {}
  },
  {
   "cell_type": "markdown",
   "source": [
    "Так как выше мы использовали только декоратор `property`, то свойство\r\n",
    "`age` доступно только для чтения. Попытка записи возбудит исключение\r\n",
    "`AttributeError`."
   ],
   "metadata": {}
  },
  {
   "cell_type": "code",
   "execution_count": 3,
   "source": [
    "man.age = 42"
   ],
   "outputs": [
    {
     "output_type": "error",
     "ename": "AttributeError",
     "evalue": "can't set attribute",
     "traceback": [
      "\u001b[1;31m---------------------------------------------------------------------------\u001b[0m",
      "\u001b[1;31mAttributeError\u001b[0m                            Traceback (most recent call last)",
      "\u001b[1;32m<ipython-input-3-16c15eaa20ff>\u001b[0m in \u001b[0;36m<module>\u001b[1;34m\u001b[0m\n\u001b[1;32m----> 1\u001b[1;33m \u001b[0mman\u001b[0m\u001b[1;33m.\u001b[0m\u001b[0mage\u001b[0m \u001b[1;33m=\u001b[0m \u001b[1;36m42\u001b[0m\u001b[1;33m\u001b[0m\u001b[1;33m\u001b[0m\u001b[0m\n\u001b[0m",
      "\u001b[1;31mAttributeError\u001b[0m: can't set attribute"
     ]
    }
   ],
   "metadata": {}
  },
  {
   "cell_type": "markdown",
   "source": [
    "Для поддержки операций записи и удаления нужно использовать декораторы в\r\n",
    "виде `attr_name.setter` и `attr_name.deleter` соответственно, где \r\n",
    "`attr_name` имя декорируемого атрибута. Стоит отметить, что для\r\n",
    "использования \"сеттера\" и \"делитера\" необходимо определить \"геттер\",\r\n",
    "т.е. свойство с декоратором `property`.\r\n",
    "\r\n",
    "Обратите внимание на сигнатуры каждого метода. Они должны бить именно\r\n",
    "такими. Только свойство записи модет принимать один аргумент - значение,\r\n",
    "которое должно быть записано."
   ],
   "metadata": {}
  },
  {
   "cell_type": "code",
   "execution_count": 4,
   "source": [
    "class Useless:\r\n",
    "    def __init__(self, foo):\r\n",
    "        self._foo = foo\r\n",
    "\r\n",
    "    @property\r\n",
    "    def foo(self):\r\n",
    "        return self._foo\r\n",
    "\r\n",
    "    @foo.setter\r\n",
    "    def foo(self, value):\r\n",
    "        print('Попытка записи в атрибут foo')\r\n",
    "        self._foo = value\r\n",
    "\r\n",
    "    @foo.deleter\r\n",
    "    def foo(self):\r\n",
    "        print(f'Попытка удаления атрибута foo')\r\n",
    "        del self._foo"
   ],
   "outputs": [],
   "metadata": {}
  },
  {
   "cell_type": "code",
   "execution_count": 5,
   "source": [
    "useless = Useless('spam')\r\n",
    "print(f'{useless.foo = }')"
   ],
   "outputs": [
    {
     "output_type": "stream",
     "name": "stdout",
     "text": [
      "useless.foo = 'spam'\n"
     ]
    }
   ],
   "metadata": {}
  },
  {
   "cell_type": "code",
   "execution_count": 6,
   "source": [
    "useless.foo = 'lovely spam'\r\n",
    "print(f'{useless.foo = }')"
   ],
   "outputs": [
    {
     "output_type": "stream",
     "name": "stdout",
     "text": [
      "Попытка записи в атрибут foo\n",
      "useless.foo = 'lovely spam'\n"
     ]
    }
   ],
   "metadata": {}
  },
  {
   "cell_type": "code",
   "execution_count": 7,
   "source": [
    "del useless.foo\r\n",
    "print(f'{useless.foo = }')"
   ],
   "outputs": [
    {
     "output_type": "stream",
     "name": "stdout",
     "text": [
      "Попытка удаления атрибута foo\n"
     ]
    },
    {
     "output_type": "error",
     "ename": "AttributeError",
     "evalue": "'Useless' object has no attribute '_foo'",
     "traceback": [
      "\u001b[1;31m---------------------------------------------------------------------------\u001b[0m",
      "\u001b[1;31mAttributeError\u001b[0m                            Traceback (most recent call last)",
      "\u001b[1;32m<ipython-input-7-d3b57a67514c>\u001b[0m in \u001b[0;36m<module>\u001b[1;34m\u001b[0m\n\u001b[0;32m      1\u001b[0m \u001b[1;32mdel\u001b[0m \u001b[0museless\u001b[0m\u001b[1;33m.\u001b[0m\u001b[0mfoo\u001b[0m\u001b[1;33m\u001b[0m\u001b[1;33m\u001b[0m\u001b[0m\n\u001b[1;32m----> 2\u001b[1;33m \u001b[0mprint\u001b[0m\u001b[1;33m(\u001b[0m\u001b[1;34mf'{useless.foo = }'\u001b[0m\u001b[1;33m)\u001b[0m\u001b[1;33m\u001b[0m\u001b[1;33m\u001b[0m\u001b[0m\n\u001b[0m",
      "\u001b[1;32m<ipython-input-4-22c6697374b4>\u001b[0m in \u001b[0;36mfoo\u001b[1;34m(self)\u001b[0m\n\u001b[0;32m      5\u001b[0m     \u001b[1;33m@\u001b[0m\u001b[0mproperty\u001b[0m\u001b[1;33m\u001b[0m\u001b[1;33m\u001b[0m\u001b[0m\n\u001b[0;32m      6\u001b[0m     \u001b[1;32mdef\u001b[0m \u001b[0mfoo\u001b[0m\u001b[1;33m(\u001b[0m\u001b[0mself\u001b[0m\u001b[1;33m)\u001b[0m\u001b[1;33m:\u001b[0m\u001b[1;33m\u001b[0m\u001b[1;33m\u001b[0m\u001b[0m\n\u001b[1;32m----> 7\u001b[1;33m         \u001b[1;32mreturn\u001b[0m \u001b[0mself\u001b[0m\u001b[1;33m.\u001b[0m\u001b[0m_foo\u001b[0m\u001b[1;33m\u001b[0m\u001b[1;33m\u001b[0m\u001b[0m\n\u001b[0m\u001b[0;32m      8\u001b[0m \u001b[1;33m\u001b[0m\u001b[0m\n\u001b[0;32m      9\u001b[0m     \u001b[1;33m@\u001b[0m\u001b[0mfoo\u001b[0m\u001b[1;33m.\u001b[0m\u001b[0msetter\u001b[0m\u001b[1;33m\u001b[0m\u001b[1;33m\u001b[0m\u001b[0m\n",
      "\u001b[1;31mAttributeError\u001b[0m: 'Useless' object has no attribute '_foo'"
     ]
    }
   ],
   "metadata": {}
  },
  {
   "cell_type": "markdown",
   "source": [
    "Использование свойств особенно интересно в тех ситуациях, когда значение\r\n",
    "атрибута не нужно хранить и оно может быть вычислено (см. пример с\r\n",
    "`age`). Существует вариант кешированного свойства, вычисляемого один\r\n",
    "раз. Свойства также можно применять для ограничения доступа (см. пример\r\n",
    "c `foo`), когда к ограниченному атрибуту предоставляется доступ через\r\n",
    "свойства. Конечно, это не гарантирует полного сокрытия.  "
   ],
   "metadata": {}
  },
  {
   "cell_type": "markdown",
   "source": [
    "# Полезные ссылки\r\n",
    "\r\n",
    "- [Properties](https://docs.python.org/3/howto/descriptor.html#properties)\r\n",
    "- [How does the `@property` decorator work in Python?](https://stackoverflow.com/questions/17330160/how-does-the-property-decorator-work-in-python)\r\n"
   ],
   "metadata": {}
  }
 ]
}