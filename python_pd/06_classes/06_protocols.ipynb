{
 "metadata": {
  "language_info": {
   "codemirror_mode": {
    "name": "ipython",
    "version": 3
   },
   "file_extension": ".py",
   "mimetype": "text/x-python",
   "name": "python",
   "nbconvert_exporter": "python",
   "pygments_lexer": "ipython3",
   "version": "3.9.0"
  },
  "orig_nbformat": 2,
  "kernelspec": {
   "name": "python3",
   "display_name": "Python 3.9.0 64-bit ('.venv')"
  },
  "interpreter": {
   "hash": "178cad48488a45b94c2e1acb3bfd8ec03d0e926b0801a270a439a0363b59c19a"
  }
 },
 "nbformat": 4,
 "nbformat_minor": 2,
 "cells": [
  {
   "cell_type": "markdown",
   "source": [
    "# Протоколы\r\n",
    "\r\n",
    "Понятие протокол введено для обозначения частичного или полного\r\n",
    "подчинения объектов тому или иному договору или интерфейсу.\r\n",
    "\r\n",
    "В утиной типизации Python любой объект, вне зависимости от типа, может\r\n",
    "объявить о своём следовании договору путём поддержки протокола. Обычно\r\n",
    "поддержка протокола заявляется путём реализации одного или нескольких\r\n",
    "методов, характерных для него.\r\n",
    "\r\n",
    "В Python есть несколько встроенных протоколов, поддержка которых\r\n",
    "объявялется с помощью реализации классом ряда \"магических\" и не только\r\n",
    "методов. О некоторых из них мы уже упоминали. Например, протоко числа,\r\n",
    "требует реализации магических методов, поддерживающих работу с\r\n",
    "арифметическими и другими операторами; протокол копирования требует\r\n",
    "реализации `__copy__` или `__deepcopy__` и т.д.\r\n",
    "\r\n",
    "В этой главе будут рассмотрен ряд других важных протоколов в Python.\r\n",
    "Реализацию своих протоколов, а также их поддержку в аннотации типов мы\r\n",
    "поговорим в следующей главе."
   ],
   "metadata": {}
  },
  {
   "cell_type": "markdown",
   "source": [
    "## Протокол последовательности\r\n",
    "\r\n",
    "Реализация методов\r\n",
    "[протокола последовательности](https://docs.python.org/3/reference/datamodel.html#emulating-container-types)\r\n",
    "позволяет использовать свой класс как последовательность и,\r\n",
    "соответственно, использовать все инструменты работы с\r\n",
    "последовательностями, например, оператор квадратные скобки, вычисление\r\n",
    "длины и др.\r\n",
    "\r\n",
    "Для полной поддержки этого протокола необходимо реализовать следующие мтеоды:\r\n",
    "- `__len__` - длина последовательности, поддерка функции `len`\r\n",
    "- `__contains__` - оператор включения `in`\r\n",
    "- `__getitem__` - оператор чтения элемента по индексу\r\n",
    "- `__setitem__` - оператор записи элемента по индексу\r\n",
    "- `__delitem__` - оператор удаления элемента по индексу\r\n",
    "- `__reversed__` - оператор инвертирования последовательности\r\n",
    "\r\n",
    "Для работы со срезами в методах `__*item__` нужно предусмотреть передачу\r\n",
    "объекта типа `slice`.\r\n",
    "\r\n",
    "\r\n",
    "Реализуем свою последовательность. Это проста последовательность,\r\n",
    "обертка над другимиколлекциями Python, в качестве аргумента `items`\r\n",
    "можно использовать списки или кортежи. Для подобного использования\r\n",
    "базовых коллекций лучше всего будет просто использовать наследование от\r\n",
    "типа `list`, `tuple` или других."
   ],
   "metadata": {}
  },
  {
   "cell_type": "code",
   "execution_count": 6,
   "source": [
    "class MySequence:\r\n",
    "    def __init__(self, items):\r\n",
    "        self._items = items\r\n",
    "\r\n",
    "    def __len__(self):\r\n",
    "        return len(self._items)\r\n",
    "\r\n",
    "    def __getitem__(self, index):\r\n",
    "        return self._items[index]\r\n",
    "\r\n",
    "    def __setitem__(self, index, value):\r\n",
    "        self._items[index] = value\r\n",
    "\r\n",
    "    def __delitem__(self, index):\r\n",
    "        return self._items.pop(index)\r\n",
    "\r\n",
    "    def __contains__(self, item):\r\n",
    "        return item in self._items\r\n",
    "\r\n",
    "    def __reversed__(self):\r\n",
    "        return reversed(self._items)\r\n",
    "\r\n",
    "my_seqence = MySequence([1, 2, 3])\r\n",
    "print(f'{len(my_seqence) = }')\r\n",
    "print(f'{my_seqence[0] = }')\r\n",
    "print(f'{my_seqence[1:] = }')\r\n",
    "print(f'{3 in my_seqence = }')\r\n",
    "print(f'{list(reversed(my_seqence)) = }')\r\n",
    "print('-' * 50)\r\n",
    "\r\n",
    "del my_seqence[1]\r\n",
    "my_seqence[0] = 42\r\n",
    "print(f'{list(my_seqence) = }')\r\n",
    "print('-' * 50)\r\n",
    "\r\n",
    "for item in my_seqence:\r\n",
    "    print(item)"
   ],
   "outputs": [
    {
     "output_type": "stream",
     "name": "stdout",
     "text": [
      "len(my_seqence) = 3\n",
      "my_seqence[0] = 1\n",
      "my_seqence[1:] = [2, 3]\n",
      "3 in my_seqence = True\n",
      "list(reversed(my_seqence)) = [3, 2, 1]\n",
      "--------------------------------------------------\n",
      "list(my_seqence) = [42, 3]\n",
      "--------------------------------------------------\n",
      "42\n",
      "3\n"
     ]
    }
   ],
   "metadata": {}
  },
  {
   "cell_type": "markdown",
   "source": [
    "## Протокол итератора\r\n",
    "\r\n",
    "Реализация классом протокола итератора позволяет получать из него\r\n",
    "итератор. Стоит отметить, что реализация метода `__getitem__` также\r\n",
    "позволяет получать итератор, т.к. функция `iter` проверяет и этот метод.\r\n",
    "\r\n",
    "Методы этого протокола:\r\n",
    "- `__next__` - получение следующего элемента, поддержка функции `next`\r\n",
    "- `__iter__` - получение итератора, поддержка функции `iter`\r\n"
   ],
   "metadata": {}
  },
  {
   "cell_type": "markdown",
   "source": [
    "## Вызываемый объект\r\n",
    "\r\n",
    "Данный протокол позволяет использовать экземплярам класса оператора\r\n",
    "круглые скобки, т.е. быть вызываемым объектом.\r\n",
    "\r\n",
    "Протокол содержит только один метод:\r\n",
    "- `__call__`"
   ],
   "metadata": {}
  },
  {
   "cell_type": "markdown",
   "source": [
    "## Менеджер контекста\r\n",
    "\r\n",
    "О менеджерах контекста мы говорили в\r\n",
    "[предыдущих главах](../05_files/03_cmanagers.ipynb). Здесь мы поговорим\r\n",
    "о том, как добавить своему классу поддержку этой функциональности, т.е.\r\n",
    "обеспечить возможность классу работать с конструкцией `with ... as ...`.\r\n",
    "\r\n",
    "Протокол менеджера контекста довольно прост и имеет только два метода:\r\n",
    "- `__enter__` - метод, вызываемый при входе в контекст\r\n",
    "- `__exit__` - метод, вызываемый при выходе из контекста\r\n",
    "\r\n",
    "Асинхронный вариант:\r\n",
    "- `__aenter__`\r\n",
    "- `__aexit__`\r\n",
    "\r\n",
    "Метод `__enter__` (`__aenter__`) неявно вызывается в момент входа в\r\n",
    "контекст, т.е. при выполенении инструкции `with ... as ...`. Этот метод\r\n",
    "должен реализовывать, например, логику получения ресурсов (открытие\r\n",
    "файла, подключение к базе данных, открытие сокета и др.).\r\n",
    "\r\n",
    "Метод `__exit__` (`__aexit__`) неявно вызывается при выходе из\r\n",
    "контекста, т.е. в момент завершения блока кода внутри `with ... as ...`.\r\n",
    "Этот метод должен реализовывать, например, логику освобождения ресурсов\r\n",
    "(закрытие файла, закрытие подключения к базе данных, закрытие сокета и\r\n",
    "др.).\r\n",
    "\r\n",
    "Метод `__exit__` предоставляет выход из контекста среды выполнения и\r\n",
    "возвращает логический флаг, указывающий, следует ли подавлять любое\r\n",
    "возникшее исключение. Он должен принимать три аргумента: тип исключения\r\n",
    "`exc_type`, значение `exc_val` и информацию о трассировке `exc_tb`.\r\n",
    "Если исключения не было возбуждено внутри блока `with`, то все три\r\n",
    "аргумента принимают значение `None`. \r\n",
    "\r\n",
    "Метод `__exit__` должен возвращать одно значение - флаг подавления\r\n",
    "исключения. Если у метода `__exit__` установить возвращаемое значение\r\n",
    "как `True`, то это приведет к тому, что оператор `with` будет подавлять\r\n",
    "возникающие исключения внутри себя и продолжит выполнение с оператора,\r\n",
    "непосредственно следующим за оператором `with`. В противном случае\r\n",
    "исключение `exc_type` продолжает распространяться после завершения\r\n",
    "выполнения этого метода. Исключения, возникающие во время выполнения\r\n",
    "этого метода, заменят все исключения, возникшие в теле оператора `with`.\r\n",
    "\r\n",
    "Передаваемое исключение `exc_type` никогда не следует повторно вызывать\r\n",
    "явно, вместо этого метод `__exit__` должен возвращать `False`, чтобы\r\n",
    "указать, что метод завершился успешно и не хочет подавлять возникшее\r\n",
    "исключение. Это позволяет коду управления контекстом легко определять,\r\n",
    "действительно ли метод `__exit__` потерпел неудачу.\r\n",
    "\r\n",
    "Ниже приведен пример использования протокола менеджера контекста."
   ],
   "metadata": {}
  },
  {
   "cell_type": "code",
   "execution_count": 1,
   "source": [
    "class SimpleMC:\r\n",
    "    def __enter__(self):\r\n",
    "        print('Вход в контекст')\r\n",
    "    \r\n",
    "    def __exit__(self, exc_type, exc_val, exc_tb):\r\n",
    "        if exc_type:\r\n",
    "            print(f'Контекст завершился с ошибкой: {exc_type}; {exc_val}')\r\n",
    "        else:\r\n",
    "            print('Контекст успешно завершился')"
   ],
   "outputs": [],
   "metadata": {}
  },
  {
   "cell_type": "markdown",
   "source": [
    "Продемонстрируем работу класса `SimpleMC`"
   ],
   "metadata": {}
  },
  {
   "cell_type": "code",
   "execution_count": 5,
   "source": [
    "with SimpleMC():\r\n",
    "    print('Очередная магия')"
   ],
   "outputs": [
    {
     "output_type": "stream",
     "name": "stdout",
     "text": [
      "Вход в контекст\n",
      "Очередная магия\n",
      "Выход из контекста. Исключение: None; None\n"
     ]
    }
   ],
   "metadata": {}
  },
  {
   "cell_type": "code",
   "execution_count": 6,
   "source": [
    "with SimpleMC():\r\n",
    "    print('Очередная магия')\r\n",
    "    raise ValueError('Что-то пошло не так')"
   ],
   "outputs": [
    {
     "output_type": "stream",
     "name": "stdout",
     "text": [
      "Вход в контекст\n",
      "Очередная магия\n",
      "Выход из контекста. Исключение: <class 'ValueError'>; Что-то пошло не так\n"
     ]
    },
    {
     "output_type": "error",
     "ename": "ValueError",
     "evalue": "Что-то пошло не так",
     "traceback": [
      "\u001b[1;31m---------------------------------------------------------------------------\u001b[0m",
      "\u001b[1;31mValueError\u001b[0m                                Traceback (most recent call last)",
      "\u001b[1;32m<ipython-input-6-5cf5d96aa1c7>\u001b[0m in \u001b[0;36m<module>\u001b[1;34m\u001b[0m\n\u001b[0;32m      1\u001b[0m \u001b[1;32mwith\u001b[0m \u001b[0mSimpleMC\u001b[0m\u001b[1;33m(\u001b[0m\u001b[1;33m)\u001b[0m\u001b[1;33m:\u001b[0m\u001b[1;33m\u001b[0m\u001b[1;33m\u001b[0m\u001b[0m\n\u001b[0;32m      2\u001b[0m     \u001b[0mprint\u001b[0m\u001b[1;33m(\u001b[0m\u001b[1;34m'Очередная магия'\u001b[0m\u001b[1;33m)\u001b[0m\u001b[1;33m\u001b[0m\u001b[1;33m\u001b[0m\u001b[0m\n\u001b[1;32m----> 3\u001b[1;33m     \u001b[1;32mraise\u001b[0m \u001b[0mValueError\u001b[0m\u001b[1;33m(\u001b[0m\u001b[1;34m'Что-то пошло не так'\u001b[0m\u001b[1;33m)\u001b[0m\u001b[1;33m\u001b[0m\u001b[1;33m\u001b[0m\u001b[0m\n\u001b[0m",
      "\u001b[1;31mValueError\u001b[0m: Что-то пошло не так"
     ]
    }
   ],
   "metadata": {}
  },
  {
   "cell_type": "markdown",
   "source": [
    "## Протокол дескриптора\r\n",
    "\r\n",
    "В общем случае дескриптор это некая прослойка или абстракция между\r\n",
    "данными и пользователем этих данных. В cлучае Python дескрипторя связаны\r\n",
    "с атрибутами класса. Идея заключается в том, что они обеспечивают\r\n",
    "абстракцию ресурса, поэтому вам не нужно много знать о самом ресурсе,\r\n",
    "чтобы использовать его.\r\n",
    "\r\n",
    "В [документации](https://docs.python.org/3/howto/descriptor.html#definition-and-introduction)\r\n",
    "дано следующее определение\r\n",
    "[дескрипторов](https://docs.python.org/3/glossary.html#term-descriptor):\r\n",
    "\r\n",
    ">Дескриптор это любой объект, у которого определены методы `__get__`,\r\n",
    ">`__set__` или `__delete__`. Если дескриптором является атрибут класса,\r\n",
    ">то для него определено специальное поведение при поиске имени атрибута.\r\n",
    "\r\n",
    "Таким образом в Python дескриптор представляет собой прослойку на уровне\r\n",
    "операций поиска, изменения и удаления атрибута.\r\n",
    "\r\n",
    "Поведение по умолчанию для доступа к атрибутам заключается в получении,\r\n",
    "установке или удалении атрибута из словаря объекта. Например, у объекта\r\n",
    "`obj` есть атрибут `obj.attr`. В таком случае цепочка поиска будет\r\n",
    "начинаться в словаре самого объекта, т.е. в `obj.__dict__['attr']`,\r\n",
    "затем, если атрибут не будет найден, поиск перейдет в объект класса\r\n",
    "`type(a).__dict__['x']` и продолжающуюся через базовые классы `type(a)`,\r\n",
    "за исключением метаклассов. Если искомое значение является объектом,\r\n",
    "определяющим один из методов дескриптора, тогда Python может\r\n",
    "переопределить поведение по умолчанию и вместо этого вызвать метод\r\n",
    "дескриптора. То, где это происходит в цепочке приоритетов, зависит от\r\n",
    "того, какие методы дескриптора были определены.\r\n",
    "\r\n",
    "Дескрипторы — это мощный протокол общего назначения. Это механизм,\r\n",
    "лежащий в основе свойств, методов, статических методов, методов класса\r\n",
    "и `super`. Они предлагают гибкий набор новых инструментов для\r\n",
    "повседневных программ Python.\r\n",
    "\r\n",
    "Протокол дескриптора содержит четыре метода:\r\n",
    "- `descr.__get__(self, obj, type=None) -> value` - метод, определяющий\r\n",
    "поведение при доступе к атрибуту, т.е. при выполнении `obj.attr`\r\n",
    "- `descr.__set__(self, obj, value) -> None` - метод, определяющий\r\n",
    "поведение при создании/изменении атрибута, т.е. при выполнении\r\n",
    "`obj.attr = value`\r\n",
    "- `descr.__delete__(self, obj) -> None` - метод, определяющий поведение\r\n",
    "при удалении атрибута, т.е. при выполнении `del obj.attr`\r\n",
    "- `descr.__set_name__(self, owner, name) -> None` - метод, определяющий\r\n",
    "поведение при доступе к атрибуту, т.е. при выполнении `obj.attr`\r\n",
    "\r\n",
    "В документации можно ознакомиться с отличным туториалом по дескрипторам:\r\n",
    "[Descriptor HowTo Guide](https://docs.python.org/3/howto/descriptor.html)\r\n",
    "\r\n",
    "Рассмотрим работу этих методов на примере дескриптора для валидации\r\n",
    "атрибутов. Это пример простого валидатора для целых чисел. Он проверят\r\n",
    "тип значения, а также проверяет принадлежность определенным границам.\r\n",
    "Если какая-либо проверка не пройдена, будет возбуждено исключение\r\n",
    "`ValueError`.\r\n",
    "\r\n",
    "Так как в этом валидаторе нам важно отслеживать момент изменения\r\n",
    "значения атрибута, то переопределим метод `__set__`, метод `__get__` в\r\n",
    "данном контексте нам не нужен, он будет использован с реализацией по\r\n",
    "умолчанию. Важно отметить, что мы также реализовали метод\r\n",
    "`__set_name__`, который позволяет автоматически передавать имя атрибута,\r\n",
    "с которым связан дескриптор. Это явялется важной функциональной\r\n",
    "возможностью, т.к. теперь нет необходимости явно указывать имя атрибута\r\n",
    "внутри дескриптора. Однако, используя этот метод, приходится\r\n",
    "использовать функции `setattr` и `getattr` для доступа к атрибуту по его\r\n",
    "имени. Тем не менее это позволяет реализовать один дескриптор сразу для\r\n",
    "нескольких атрибутов. Ранее требовалось реализовывать один дескриптор\r\n",
    "для одного атрибута (см. пример в\r\n",
    "[документации](https://docs.python.org/3/howto/descriptor.html#customized-names))."
   ],
   "metadata": {}
  },
  {
   "cell_type": "code",
   "execution_count": 3,
   "source": [
    "class IntValidate:\r\n",
    "    \"\"\"Простой валидатор для целых чисел\"\"\"\r\n",
    "    def __init__(self, min_=0, max_=None) -> None:\r\n",
    "        self._min = min_\r\n",
    "        if max_ is not None:\r\n",
    "            self._max = max_\r\n",
    "        else:\r\n",
    "            self._max = float('inf')\r\n",
    "\r\n",
    "    def __set__(self, obj, value):\r\n",
    "        print(f'Попытка изменения атрибута {self.public_name} у {obj}')\r\n",
    "        if isinstance(value, int) and self._min <= value <= self._max:\r\n",
    "            setattr(obj, self.private_name, value)\r\n",
    "        else:\r\n",
    "            message = (\r\n",
    "                f'Некорректное значение {value}. '\r\n",
    "                f'Оно должно лежать в отрезке [{self._min}, {self._max}]'\r\n",
    "            )\r\n",
    "            raise ValueError(message)\r\n",
    "\r\n",
    "    def __set_name__(self, owner, name):\r\n",
    "        print(f'Передача имени атрибута: {owner = }, {name = }')\r\n",
    "        self.public_name = name\r\n",
    "        self.private_name = '_' + name"
   ],
   "outputs": [],
   "metadata": {}
  },
  {
   "cell_type": "markdown",
   "source": [
    "Использовать дескрипторы очень просто. Главным моментом использования\r\n",
    "дескрипторов являтеся то, что нужно создавать атрибут класса.\r\n",
    "Использование дескриптора внутри метода `__init__` будет\r\n",
    "недействительно.\r\n",
    "\r\n",
    "Разберем порядок работы такого дескриптора на примере атрибута `count` в\r\n",
    "случае, когда создается аналогичный атрибут в методе `__init__`."
   ],
   "metadata": {}
  },
  {
   "cell_type": "code",
   "execution_count": 18,
   "source": [
    "class MyModel:\r\n",
    "    count = IntValidate()\r\n",
    "    def __init__(self, count) -> None:\r\n",
    "        self.count = count\r\n",
    "\r\n",
    "\r\n",
    "my_model = MyModel(42)"
   ],
   "outputs": [
    {
     "output_type": "stream",
     "name": "stdout",
     "text": [
      "Передача имени атрибута: owner = <class '__main__.MyModel'>, name = 'count'\n",
      "Попытка изменения атрибута count у <__main__.MyModel object at 0x00000192AAA90610>\n"
     ]
    }
   ],
   "metadata": {}
  },
  {
   "cell_type": "markdown",
   "source": [
    "Такой дескриптор работает следующим образом. Важно понимать, что при\r\n",
    "инициализации атрибутов экземпляра, атрибут класса с именем `count`\r\n",
    "уже будет создан. В методе `__init__` выражение `self.count = count`\r\n",
    "вызовет метод поиска атрибутов `__setattr__`. Реализация этого метода\r\n",
    "автоматически определяет, является ли атрибут дескриптором. Если да, то\r\n",
    "вызывается его метод `__set__`.\r\n",
    "\r\n",
    "Метод дескрипторов `__get__` работает аналогичным образом, только для\r\n",
    "случая чтения атрибута.\r\n",
    "\r\n",
    "Дескрипторы деляться на два типа: дескрипторы данных (data descriptor) и\r\n",
    "дескрипторы без данных (non-data descriptors). Дескрипторы данных\r\n",
    "реализуют методы `__set__` и `__delete__`. Как оворит их название, они\r\n",
    "обычно предназначены для работы (сохранения/удаления) данных.\r\n",
    "Дескрипторы без данных реализуют метод `__get__` и обычно предназначены\r\n",
    "для методов. Запрет определенных действий возможен с помощью возбуждения\r\n",
    "исключения `AttributeError`. Например, для реализации дескриптора только\r\n",
    "для чтения можно возбудить исключение в методе `__set__`. Такое деление\r\n",
    "обусловлено тем, что они работают немного по разному при поиске\r\n",
    "атрибутов. Рассмотрим это подробнее на немного другом примере класса.\r\n",
    "Обратите внимание, что в нем нет метода `__init__`.\r\n",
    "\r\n",
    "Существует следующее правило, определяющее порядок процесса поиска\r\n",
    "атрибутов для дескрипторов:\r\n",
    "- Обращение `MyClass().attr` будет перенаправлено `Descr.__get__`\r\n",
    "если:\r\n",
    "    - `Descr` - дескриптор данных, реализующий метод `__get__`;\r\n",
    "    - `Descr` - дескриптор, реализующий **только** метод\r\n",
    "    `__get__`, и в `self.__dict__` нет искомого атрибута.\r\n",
    "- Во всех остальных случаях порядок классический:\r\n",
    "`self.__dict__` -> `cls.__dict__` -> рекурсивно по всем предкам."
   ],
   "metadata": {}
  },
  {
   "cell_type": "code",
   "execution_count": 12,
   "source": [
    "class DescrA:\r\n",
    "    \"\"\"Дескриптор данных\"\"\"\r\n",
    "    def __set__(self, obj, value):\r\n",
    "        print(f'Попытка изменения атрибута {self.public_name} у {obj}')\r\n",
    "        setattr(obj, self.private_name, value)\r\n",
    "    \r\n",
    "    def __delete__(self, obj):\r\n",
    "        print(f'Удаление атрибута {self.public_name} у {obj}')\r\n",
    "        delattr(obj, self.public_name)\r\n",
    "\r\n",
    "    def __set_name__(self, owner, name):\r\n",
    "        self.public_name = name\r\n",
    "        self.private_name = '_' + name\r\n",
    "\r\n",
    "\r\n",
    "class DescrB(DescrA):\r\n",
    "    \"\"\"Дескриптор данных с методом __get__\"\"\"\r\n",
    "    def __get__(self, obj, owner):\r\n",
    "        print(f'Попытка чтения атрибута {self.public_name} у {obj}')\r\n",
    "        return 42\r\n",
    "\r\n",
    "\r\n",
    "class DescrC(DescrA):\r\n",
    "    \"\"\"Дескриптор без данных\"\"\"\r\n",
    "    def __set__(self, obj, value):\r\n",
    "        print(f'Попытка изменения атрибута {self.public_name} у {obj}')\r\n",
    "        setattr(obj, self.private_name, value)\r\n",
    "\r\n",
    "    def __set_name__(self, owner, name):\r\n",
    "        self.public_name = name\r\n",
    "        self.private_name = '_' + name\r\n",
    "\r\n",
    "\r\n",
    "class MyClass:\r\n",
    "    attr_a = DescrA()\r\n",
    "    attr_b = DescrB()\r\n",
    "    attr_c = DescrC()\r\n",
    "\r\n",
    "\r\n",
    "instance = MyClass()\r\n",
    "print(f'{instance.attr_a = }')  # поиск в MyClass.__dict__\r\n",
    "print('-' * 50)\r\n",
    "print(f'{instance.attr_b = }')  # перенаправление в DescrB.__get__\r\n",
    "print('-' * 50)\r\n",
    "print(f'{instance.attr_c = }')  # поиск в MyClass.__dict__\r\n",
    "print('-' * 50)"
   ],
   "outputs": [
    {
     "output_type": "stream",
     "name": "stdout",
     "text": [
      "instance.attr_a = <__main__.DescrA object at 0x000001D020EA59A0>\n",
      "--------------------------------------------------\n",
      "Попытка чтения атрибута attr_b у <__main__.MyClass object at 0x000001D020ECCEE0>\n",
      "instance.attr_b = 42\n",
      "--------------------------------------------------\n",
      "instance.attr_c = <__main__.DescrC object at 0x000001D020ECC130>\n",
      "--------------------------------------------------\n"
     ]
    }
   ],
   "metadata": {}
  },
  {
   "cell_type": "markdown",
   "source": [
    "Важно отметить, что дескрипторы работают **только** при наличии\r\n",
    "экземпляров. Если использовать попробовать написать\r\n",
    "`MyClass.attr_a = 42`, то мы просто перезапишем дескриптор на число 42."
   ],
   "metadata": {}
  },
  {
   "cell_type": "markdown",
   "source": [
    "Ниже представлен пример получения протоколов непосредственно из имен\r\n",
    "методов"
   ],
   "metadata": {}
  },
  {
   "cell_type": "code",
   "execution_count": 2,
   "source": [
    "from collections import abc\r\n",
    "\r\n",
    "\r\n",
    "def get_protocols(source=abc):\r\n",
    "    \"\"\"Протоколы модуля `collections.abc`.\"\"\"\r\n",
    "    protocols = {}\r\n",
    "    for objname in dir(source):\r\n",
    "        if objname.startswith(\"_\"):\r\n",
    "            continue\r\n",
    "        obj = getattr(source, objname)\r\n",
    "        abmethods = sorted(obj.__abstractmethods__)\r\n",
    "        if not abmethods:\r\n",
    "            continue    \r\n",
    "        protocols[objname] = abmethods        \r\n",
    "    return protocols\r\n",
    "\r\n",
    "\r\n",
    "get_protocols()"
   ],
   "outputs": [
    {
     "output_type": "execute_result",
     "data": {
      "text/plain": [
       "{'AsyncGenerator': ['asend', 'athrow'],\n",
       " 'AsyncIterable': ['__aiter__'],\n",
       " 'AsyncIterator': ['__anext__'],\n",
       " 'Awaitable': ['__await__'],\n",
       " 'ByteString': ['__getitem__', '__len__'],\n",
       " 'Callable': ['__call__'],\n",
       " 'Collection': ['__contains__', '__iter__', '__len__'],\n",
       " 'Container': ['__contains__'],\n",
       " 'Coroutine': ['__await__', 'send', 'throw'],\n",
       " 'Generator': ['send', 'throw'],\n",
       " 'Hashable': ['__hash__'],\n",
       " 'Iterable': ['__iter__'],\n",
       " 'Iterator': ['__next__'],\n",
       " 'Mapping': ['__getitem__', '__iter__', '__len__'],\n",
       " 'MutableMapping': ['__delitem__',\n",
       "  '__getitem__',\n",
       "  '__iter__',\n",
       "  '__len__',\n",
       "  '__setitem__'],\n",
       " 'MutableSequence': ['__delitem__',\n",
       "  '__getitem__',\n",
       "  '__len__',\n",
       "  '__setitem__',\n",
       "  'insert'],\n",
       " 'MutableSet': ['__contains__', '__iter__', '__len__', 'add', 'discard'],\n",
       " 'Reversible': ['__iter__', '__reversed__'],\n",
       " 'Sequence': ['__getitem__', '__len__'],\n",
       " 'Set': ['__contains__', '__iter__', '__len__'],\n",
       " 'Sized': ['__len__']}"
      ]
     },
     "metadata": {},
     "execution_count": 2
    }
   ],
   "metadata": {}
  },
  {
   "cell_type": "markdown",
   "source": [
    "# Полезные ссылки\r\n",
    "\r\n",
    "- [PEP 544 -- Protocols: Structural subtyping (static duck typing)](https://www.python.org/dev/peps/pep-0544/)\r\n",
    "- [`collections.abc` — Abstract Base Classes for Containers](https://docs.python.org/3/library/collections.abc.html?highlight=abc#module-collections.abc)\r\n",
    "- [Descriptor HowTo Guide](https://docs.python.org/3/howto/descriptor.html)\r\n",
    "- [What is Python's sequence protocol?](https://stackoverflow.com/questions/43566044/what-is-pythons-sequence-protocol)\r\n",
    "- [What exactly is Python's iterator protocol?](https://stackoverflow.com/questions/16301253/what-exactly-is-pythons-iterator-protocol)\r\n",
    "- [What to use in replacement of an interface/protocol in python](https://stackoverflow.com/questions/29022766/what-to-use-in-replacement-of-an-interface-protocol-in-python)\r\n",
    "- [Python Descriptors: An Introduction](https://realpython.com/python-descriptors/)\r\n",
    "- [Python Descriptors](https://www.datacamp.com/community/tutorials/python-descriptors)\r\n",
    "- [Number Protocol (C API)](https://docs.python.org/3/c-api/number.html)\r\n",
    "- [Sequence Protocol (C API)](https://docs.python.org/3/c-api/sequence.html)\r\n",
    "- [Call Protocol (C API)](https://docs.python.org/3/c-api/call.html)"
   ],
   "metadata": {}
  }
 ]
}