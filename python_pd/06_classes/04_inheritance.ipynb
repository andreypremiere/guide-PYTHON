{
 "metadata": {
  "language_info": {
   "codemirror_mode": {
    "name": "ipython",
    "version": 3
   },
   "file_extension": ".py",
   "mimetype": "text/x-python",
   "name": "python",
   "nbconvert_exporter": "python",
   "pygments_lexer": "ipython3",
   "version": "3.9.0"
  },
  "orig_nbformat": 2,
  "kernelspec": {
   "name": "python3",
   "display_name": "Python 3.9.0 64-bit ('.venv': venv)"
  },
  "interpreter": {
   "hash": "178cad48488a45b94c2e1acb3bfd8ec03d0e926b0801a270a439a0363b59c19a"
  }
 },
 "nbformat": 4,
 "nbformat_minor": 2,
 "cells": [
  {
   "cell_type": "markdown",
   "source": [
    "# Наследование\r\n",
    "\r\n",
    "Наследование это одна из концепций объектно-ориентированной парадигмы\r\n",
    "программирования (ООП), соласно которой тип данных может наследовать\r\n",
    "данные и функциональность некоторого существующего типа, способствуя\r\n",
    "повторному использованию компонентов программноо обеспечения.\r\n",
    "\r\n",
    "Существует два основных вида наследования: одиночное и множественное.\r\n",
    "Python поддерживает оба этих вида. Рассмотрим некоторые основные\r\n",
    "понятия в наследовании.\r\n",
    "\r\n",
    "Подклассом (дочерним классом, наследником) принято называть класс,\r\n",
    "определенный через наследование от другого класса.\r\n",
    "\r\n",
    "Класс, стоящий на вершине иерархии наследования, называют базовым\r\n",
    "классом. Иерархию наследования можно представить в виде дерева, у\r\n",
    "которого обычно один корневой узел, которым и является базов класс.\r\n",
    "\r\n",
    "В Python классы предки указываются в скобках сразу после имени класса\r\n",
    "в его определении. При этом сам класс становится наследником своих\r\n",
    "предков. Рассмотрим простой пример наследования."
   ],
   "metadata": {}
  },
  {
   "cell_type": "code",
   "execution_count": 1,
   "source": [
    "class Figure:\r\n",
    "    \"\"\"Базовый класс фигуры\"\"\"\r\n",
    "    pass\r\n",
    "\r\n",
    "\r\n",
    "class Figure2D(Figure):\r\n",
    "    \"\"\"Двумерная фигура\"\"\"\r\n",
    "    pass\r\n",
    "\r\n",
    "\r\n",
    "class Figure3D(Figure):\r\n",
    "    \"\"\"Трехмерная фигура\"\"\"\r\n",
    "    pass\r\n",
    "\r\n",
    "\r\n",
    "class Rectangle(Figure2D):\r\n",
    "    \"\"\"Двумерный прямоугольник\"\"\"\r\n",
    "    pass"
   ],
   "outputs": [],
   "metadata": {}
  },
  {
   "cell_type": "markdown",
   "source": [
    "Приведенную иерархию фигур можно представить в виде графа, приведенного\r\n",
    "на рисунке.\r\n",
    "\r\n",
    "![Граф наследования](image/inh_graph.png)\r\n",
    "\r\n",
    "Здесь класс ```Figure``` выступает базовым классом, у которого два\r\n",
    "потомка - ```Figure2D``` и ```Figure3D```. У класса ```Figure2D```, в\r\n",
    "свою очеред, также есть потомок - класс ```Rectangle```. Кроме того\r\n",
    "```Figure2D``` и ```Figure3D``` являются подтипами ```Figure```, а\r\n",
    "```Rectangle``` подтипом ```Figure2D```. Если ```Figure2D``` подтип\r\n",
    "```Figure```, а ```Rectangle``` подтип ```Figure2D```, то\r\n",
    "```Rectangle``` также является подтипом ```Figure```. Для проверки\r\n",
    "этого в Python есть встроенная функция ```issubclass```, которая может\r\n",
    "проверять типы с учетом наследования. Также у классов есть специальный\r\n",
    "атрибут ```__bases__```, который сожержит кортеж классов-предков."
   ],
   "metadata": {}
  },
  {
   "cell_type": "code",
   "execution_count": 2,
   "source": [
    "print(f'{Figure.__bases__ = }')\r\n",
    "print(f'{Figure2D.__bases__ = }')\r\n",
    "print(f'{Figure3D.__bases__ = }')\r\n",
    "print(f'{Rectangle.__bases__ = }')"
   ],
   "outputs": [
    {
     "output_type": "stream",
     "name": "stdout",
     "text": [
      "Figure.__bases__ = (<class 'object'>,)\n",
      "Figure2D.__bases__ = (<class '__main__.Figure'>,)\n",
      "Figure3D.__bases__ = (<class '__main__.Figure'>,)\n",
      "Rectangle.__bases__ = (<class '__main__.Figure2D'>,)\n"
     ]
    }
   ],
   "metadata": {}
  },
  {
   "cell_type": "markdown",
   "source": [
    "Обратите внимание, что класс ```Figure```, как и все классы в Python, неявно наследуются от базового класса ```object```."
   ],
   "metadata": {}
  },
  {
   "cell_type": "code",
   "execution_count": 3,
   "source": [
    "print(f'{issubclass(Figure, object) = }')\r\n",
    "print(f'{issubclass(Figure2D, Figure) = }')\r\n",
    "print(f'{issubclass(Figure3D, Figure) = }')\r\n",
    "print(f'{issubclass(Rectangle, Figure2D) = }')\r\n",
    "print(f'{issubclass(Rectangle, Figure) = }')\r\n",
    "\r\n",
    "# Для проверки одного из вариантов можно использовать кортеж\r\n",
    "# issubclass(Rectangle, (Figure, Figure2D))"
   ],
   "outputs": [
    {
     "output_type": "stream",
     "name": "stdout",
     "text": [
      "issubclass(Figure, object) = True\n",
      "issubclass(Figure2D, Figure) = True\n",
      "issubclass(Figure3D, Figure) = True\n",
      "issubclass(Rectangle, Figure2D) = True\n",
      "issubclass(Rectangle, Figure) = True\n"
     ]
    }
   ],
   "metadata": {}
  },
  {
   "cell_type": "markdown",
   "source": [
    "В Python есть еще одна функция для проверки типов непосредственно\r\n",
    "экземпляров - ```isinstance```. Она очень похожа на ```issubclass```.\r\n",
    "На самом деле она проверяет атрибут ```obj.__class__``` у объекта и\r\n",
    "сравнивает его со значением второго аргумента. ```isinstance``` в\r\n",
    "качестве первого аргумента принимает не класс как ```issubclass```, а\r\n",
    "экземпляр. Она также учитывает наследование.\r\n",
    "\r\n",
    "См. реализацию на Си в ~~Осторожно магия~~\r\n",
    "[исходниках](https://github.com/python/cpython/blob/ce5e1a6809b714eb0383219190a076d9f883e008/Objects/abstract.c#L2624)."
   ],
   "metadata": {}
  },
  {
   "cell_type": "code",
   "execution_count": 4,
   "source": [
    "rectangle = Rectangle()\r\n",
    "\r\n",
    "print(f'{isinstance(rectangle, Rectangle) = }')\r\n",
    "print(f'{isinstance(rectangle, Figure) = }')"
   ],
   "outputs": [
    {
     "output_type": "stream",
     "name": "stdout",
     "text": [
      "isinstance(rectangle, Rectangle) = True\n",
      "isinstance(rectangle, Figure) = True\n"
     ]
    }
   ],
   "metadata": {}
  },
  {
   "cell_type": "markdown",
   "source": [
    "Здесь есть интересный момент. Класс явялется подклассом самого себя."
   ],
   "metadata": {}
  },
  {
   "cell_type": "code",
   "execution_count": 5,
   "source": [
    "print(f'{issubclass(Figure, Figure) = }')"
   ],
   "outputs": [
    {
     "output_type": "stream",
     "name": "stdout",
     "text": [
      "issubclass(Figure, Figure) = True\n"
     ]
    }
   ],
   "metadata": {}
  },
  {
   "cell_type": "markdown",
   "source": [
    "Только в случае необходимости проверки типа объекта без учета наследования можно применять функцию ```type```."
   ],
   "metadata": {}
  },
  {
   "cell_type": "code",
   "execution_count": 6,
   "source": [
    "rectangle = Rectangle()\r\n",
    "\r\n",
    "print(f'{type(rectangle) is Rectangle = }')\r\n",
    "print(f'{type(rectangle) is Figure = }')"
   ],
   "outputs": [
    {
     "output_type": "stream",
     "name": "stdout",
     "text": [
      "type(rectangle) is Rectangle = True\n",
      "type(rectangle) is Figure = False\n"
     ]
    }
   ],
   "metadata": {}
  },
  {
   "cell_type": "markdown",
   "source": [
    "Сохранение базовых классов необходимо для процесса поиска атрибутов.\r\n",
    "Поиск осуществляется рекурсивно снизу вверх по иерархии наследования,\r\n",
    "начиная с класса у которого был запрошен атрибут, затем у его базовых\r\n",
    "классов и т.д. Подробнее о поиске атрибутов и методов мы поговорим\r\n",
    "позднее."
   ],
   "metadata": {}
  },
  {
   "cell_type": "markdown",
   "source": [
    "## Переопределение и переиспользование методов\r\n",
    "\r\n",
    "Применение ООП позволяет удобно переиспользовать логику поведения уже\r\n",
    "созданных объектов. Это происходит за счет наследования классов.\r\n",
    "\r\n",
    "Есть два три пути повторного использования логики. Первый из них это\r\n",
    "просто унаследовать методы, определенные в классе родителя. В этом\r\n",
    "случае логика работы будет идентична, например, если вы определили класс\r\n",
    "матрицы и создали метод матричного произведения, а затем создали потомка\r\n",
    "класс квадратной матрицы, то вам не нужно никак изменять метод\r\n",
    "матричного произведения, он уже будет доступен для использования в\r\n",
    "классе потомке.\r\n",
    "\r\n",
    "Что если вам нужно как-то модифицировать поведение\r\n",
    "класса потомка, например, изменить логику проверки уровня доступа у\r\n",
    "разных пользователей. Тогда вам захочется полностью или частично\r\n",
    "изменить логику работы определенного метода. В Python для того, что бы\r\n",
    "полностью изменить унаследованные метод достаточно объявить этот метод и\r\n",
    "реализовать в нем новую логику без каких-либо дополнительных\r\n",
    "манипуляций. Такой подход можно назвать переопределением метода.\r\n",
    "\r\n",
    "И, наконец, еще один способ это переиспользование методов, определенных\r\n",
    "в классе родителе. Этот способ позволяет дополнить логику работы метода\r\n",
    "класса родителя, не переписывая его реализацию.\r\n",
    "\r\n",
    "Перечисленные выше походы предельно просты в Python. Далее мы рассмотрим\r\n",
    "каждый из них на примере классов геометрических фигур со следующей структурой.\r\n",
    "\r\n",
    "![Граф наследования](image/inh_graph_2.png)"
   ],
   "metadata": {}
  },
  {
   "cell_type": "code",
   "execution_count": 7,
   "source": [
    "class Figure:\r\n",
    "    \"\"\"Базовый класс фигуры\"\"\"\r\n",
    "    def area(self):\r\n",
    "        \"\"\"Площадь фигуры\"\"\"\r\n",
    "        # \"абстрактный метод\", определяющий, что у каждой фигуры есть площадь\r\n",
    "        ...\r\n",
    "\r\n",
    "\r\n",
    "class Figure2D(Figure):\r\n",
    "    \"\"\"Двумерная фигура\"\"\"\r\n",
    "    pass\r\n",
    "\r\n",
    "\r\n",
    "class Rectangle(Figure2D):\r\n",
    "    \"\"\"Двумерный прямоугольник\"\"\"\r\n",
    "    def __init__(self, length, width):\r\n",
    "        self.length = length\r\n",
    "        self.width = width\r\n",
    "\r\n",
    "    def area(self):\r\n",
    "        # конкретная реализация метода для прямоугольника\r\n",
    "        return self.length * self.width\r\n",
    "\r\n",
    "\r\n",
    "class Square(Rectangle):\r\n",
    "    \"\"\"Квадрат\"\"\"\r\n",
    "    def __init__(self, length):\r\n",
    "        print(f'Магическая функция super: {super()}')\r\n",
    "        # переиспользование метода __init__ класса родителя\r\n",
    "        super().__init__(length, length)\r\n",
    "\r\n",
    "\r\n",
    "class Circle(Figure2D):\r\n",
    "    \"\"\"Круг\"\"\"\r\n",
    "    def __init__(self, radius):\r\n",
    "        self.radius = radius\r\n",
    "\r\n",
    "    def area(self):\r\n",
    "        # конкретная реализация метода для круга\r\n",
    "        return 3.14 * self.radius ** 2\r\n",
    "\r\n",
    "\r\n",
    "square = Square(5)\r\n",
    "print(f'{square.length = }')\r\n",
    "print(f'{square.width = }')\r\n",
    "print(f'{square.area() = }')"
   ],
   "outputs": [
    {
     "output_type": "stream",
     "name": "stdout",
     "text": [
      "Магическая функция super: <super: <class 'Square'>, <Square object>>\n",
      "square.length = 5\n",
      "square.width = 5\n",
      "square.area() = 25\n"
     ]
    }
   ],
   "metadata": {}
  },
  {
   "cell_type": "markdown",
   "source": [
    "В этом примере у нас есть класс ```Figure```, который является базовым\r\n",
    "классом. В этом классе есть метод определения площади фигуры ```area```,\r\n",
    "который не содержит реализации. Предполагается, что каждая фигура\r\n",
    "определить его по своему. От него наследуется подкласс двумерных фигур\r\n",
    "```Figure2D```. Затем идут классы конкретных фигур ```Rectangle``` и\r\n",
    "```Circle```. Эти фигуры переопределяют метод ```area``` своего предка\r\n",
    "```Figure```.\r\n",
    "\r\n",
    "В случае, если вы захотели создать класс квадрата, стороны которого\r\n",
    "равны, вы могли бы использовать класс прямоугольника и при создании\r\n",
    "задавать два одинаковых значения его сторон. Но нам бы хотелось\r\n",
    "упростить этот момент. При этом вся остальная логика у этих фигур нас\r\n",
    "устраивает. Здесь на помощь приходит переиспользование методов. В данном\r\n",
    "случае мы хотим немного изменить логику поведения метода ```__init__```\r\n",
    "класса ```Rectangle```, а именно сделать так, чтобы класс квадрата со\r\n",
    "стороной, например, 5 создавался так ```Square(5)``` при этом у него\r\n",
    "были оба атрибута ```Rectangle``` - ```length``` и ```width```, а также\r\n",
    "неизменный метод ```area```.\r\n",
    "\r\n",
    "Решение этой проблемы очень простое. Мы унаследуем класс ```Square```\r\n",
    "от класс ```Rectangle``` и немного подправим метод ```__init__```. Новый\r\n",
    "метод ```__init__``` класса ```Square``` будет принимать только один\r\n",
    "аргумент. А для того чтобы вызвать метод ```__init__``` у предка\r\n",
    "```Rectangle``` служит специальная функция ```super```. Работа этой\r\n",
    "функции окутана тайной и о тонкостях ее работы мы поговорим в следующих\r\n",
    "параграфах этой главы. Сейчас же скажем, что эта функция неявно\r\n",
    "принимает текущий класс и экземпляр, т.е. использование ```super()``` в\r\n",
    "любом методе, не только в ```__init__```, эквивалентно\r\n",
    "```super(Square, self)``` или более правильно ```super(self.__class__, self)```,\r\n",
    "но вам не нужно этого указывать, Python делает это автоматически.\r\n",
    "Результатом работы этой функции будет класс предок, у которого есть\r\n",
    "вызываемый метод."
   ],
   "metadata": {}
  },
  {
   "cell_type": "markdown",
   "source": [
    "## Множественное наследование, классы примеси (MixIn)\r\n",
    "\r\n",
    "Множественное наследование позволяет классу потомку иметь несколько\r\n",
    "классов предков. В ряде случаев это бывает удобно, а иногда может\r\n",
    "доставлять проблемы.\r\n",
    "\r\n",
    "В Python множественное наследование имеет синтаксическую поддержку и\r\n",
    "определяется указанием нескольких базовых классов, разделенных запятыми:\r\n",
    "\r\n",
    "```python\r\n",
    "class MyClass(Base1, Base2, ..., BaseN)\r\n",
    "```\r\n",
    "\r\n",
    "Для начала рассмотри множественное наследование на\r\n",
    "простом примере классов для воксельной графики, со следующей схемой.\r\n",
    "\r\n",
    "![Граф наследования](image/inh_graph_3.png)\r\n",
    "\r\n",
    "Здесь есть сразу три \"базовых\" класса ```Resizeble```, ```Moveble``` и\r\n",
    "```Destructible```, каждый из которых реализует свою часть функционала.\r\n",
    "Такие классы называются классами примесями или MixIn.\r\n",
    "Классы-примеси или mixin это базовые классы, которые реализуют\r\n",
    "конкретную функциональность.\r\n",
    "\r\n",
    "```python\r\n",
    "class Mixin:\r\n",
    "    def complex_method(self):\r\n",
    "        return complex_functionality(self)\r\n",
    "```\r\n",
    "\r\n",
    "Примеси предназначены для создания дочерних классов, т.е. классов\r\n",
    "унаследованных от классов-примесей, для обеспечения дополнительной\r\n",
    "функциональности. Понятие `mixin` предполагает «смешивание» с другим\r\n",
    "кодом. В результате классы-примеси не предполагают создание экземпляров,\r\n",
    "так как в большинстве случаев они не имею атрибутов, а реализуют только\r\n",
    "методы. Например, использование `mixin`'а как `obj = Mixin()` не имеет\r\n",
    "смысла, в этом случае можно было просто создать функцию `complex_method`\r\n",
    "без использования класса.\r\n",
    "\r\n",
    "Вернемся к примеру воксельной графики. Мы определили несколько классов\r\n",
    "конкретного поведения: ```Resizeble``` для изменения размеров;\r\n",
    "```Moveble``` для передвижения; ```Destructible``` для уничтожения.\r\n",
    "Каждый класс содержит свои методы. Обратите внимание, что у этих классов\r\n",
    "нет метода ```__init__```, при этом в методах происходит обращение к\r\n",
    "атрибутам ```size``` и ```position```. Это определенная специфика\r\n",
    "классов примесей. Зачастую невозможно полностью \"отделить\" поведение от\r\n",
    "состояния объекта. В результате классы примеси в большинстве случаев\r\n",
    "\"заточены\" на дополнение логики объектов опреденного типа и требуют\r\n",
    "наличие ряда атрибутов.\r\n",
    "\r\n",
    "В нашем примере основными классами являются ```Voxel``` и ```Doxel```.\r\n",
    "Множественное наследование используется только в классе ```Doxel```,\r\n",
    "который содержит три предка.\r\n"
   ],
   "metadata": {}
  },
  {
   "cell_type": "code",
   "execution_count": 8,
   "source": [
    "class Resizeble:\r\n",
    "    \"\"\"Класс масштабируемых объектов\"\"\"\r\n",
    "    def resize(self, new_size):\r\n",
    "        self.size = new_size\r\n",
    "\r\n",
    "\r\n",
    "class Moveble:\r\n",
    "    \"\"\"Класс движимых объектов\"\"\"\r\n",
    "    def move(self, new_position):\r\n",
    "        self.position = new_position\r\n",
    "\r\n",
    "\r\n",
    "class Destructible:\r\n",
    "    \"\"\"Класс уничтожимых объектов\"\"\"\r\n",
    "    def destroy(self):\r\n",
    "        pass\r\n",
    "\r\n",
    "\r\n",
    "class Voxel(Destructible):\r\n",
    "    \"\"\"Воксел\r\n",
    "    \r\n",
    "    Wiki: https://en.wikipedia.org/wiki/Voxel\r\n",
    "    \"\"\"\r\n",
    "    def __init__(self, size, position):\r\n",
    "        self.size = size\r\n",
    "        self.position = position\r\n",
    "\r\n",
    "\r\n",
    "class Doxel(Voxel, Moveble, Resizeble):\r\n",
    "    \"\"\"Доксел\"\"\"\r\n",
    "    pass"
   ],
   "outputs": [],
   "metadata": {}
  },
  {
   "cell_type": "markdown",
   "source": [
    "Стоит обратить внимание, что порядок указания предков имеет значение.\r\n",
    "Это основано на специфики поиска атрибутов и методов, речь о которых\r\n",
    "пойдет позднее. В частности из-за этого не рекомендуется реализовывать\r\n",
    "метод ```__init__``` в классах примесях. Это может привести к серьезным\r\n",
    "проблемам.\r\n",
    "\r\n",
    "Рассмотрим упомянутую проблему на простом примере примере.\r\n"
   ],
   "metadata": {}
  },
  {
   "cell_type": "code",
   "execution_count": 9,
   "source": [
    "class DealDamage:\r\n",
    "    \"\"\"Урон\"\"\"\r\n",
    "    def __init__(self, damage) -> None:\r\n",
    "        self.damage = damage\r\n",
    "\r\n",
    "\r\n",
    "class AreaDamage(DealDamage):\r\n",
    "    \"\"\"Урон по площади\"\"\"\r\n",
    "    def __init__(self, damage, radis) -> None:\r\n",
    "        super().__init__(damage)\r\n",
    "        self.radis = radis\r\n",
    "\r\n",
    "\r\n",
    "class ToxicDamage(DealDamage):\r\n",
    "    \"\"\"Ядовитый урон\"\"\"\r\n",
    "    def __init__(self, damage, periodicity) -> None:\r\n",
    "        super().__init__(damage)\r\n",
    "        self.periodicity = periodicity\r\n",
    "\r\n",
    "\r\n",
    "class DungeonKeeper(AreaDamage, ToxicDamage):\r\n",
    "    \"\"\"Босс уровня\"\"\"\r\n",
    "    def __init__(self, *args, **kwargs) -> None:\r\n",
    "        super().__init__(*args, **kwargs)"
   ],
   "outputs": [],
   "metadata": {}
  },
  {
   "cell_type": "markdown",
   "source": [
    "Здесь мы определяем несколько модификаторов атаки и персонажа, который\r\n",
    "будет иметь несколько модификаторов. В данном случа у нас есть несколько\r\n",
    "параметров у каждого модификатора, которые мы хотим использовать.\r\n",
    "\r\n",
    "Однако передача трех аргументов (один общий и по одному уникальному)\r\n",
    "обернется ошибкой. Алгоритм поиска методов найдет только метод\r\n",
    "```__init__``` класса ```AreaDamage```. "
   ],
   "metadata": {}
  },
  {
   "cell_type": "code",
   "execution_count": 10,
   "source": [
    "character = DungeonKeeper(50, 20, 3)"
   ],
   "outputs": [
    {
     "output_type": "error",
     "ename": "TypeError",
     "evalue": "__init__() takes 3 positional arguments but 4 were given",
     "traceback": [
      "\u001b[1;31m---------------------------------------------------------------------------\u001b[0m",
      "\u001b[1;31mTypeError\u001b[0m                                 Traceback (most recent call last)",
      "\u001b[1;32m<ipython-input-10-00c905e8f9cc>\u001b[0m in \u001b[0;36m<module>\u001b[1;34m\u001b[0m\n\u001b[1;32m----> 1\u001b[1;33m \u001b[0mcharacter\u001b[0m \u001b[1;33m=\u001b[0m \u001b[0mDungeonKeeper\u001b[0m\u001b[1;33m(\u001b[0m\u001b[1;36m50\u001b[0m\u001b[1;33m,\u001b[0m \u001b[1;36m20\u001b[0m\u001b[1;33m,\u001b[0m \u001b[1;36m3\u001b[0m\u001b[1;33m)\u001b[0m\u001b[1;33m\u001b[0m\u001b[1;33m\u001b[0m\u001b[0m\n\u001b[0m",
      "\u001b[1;32m<ipython-input-9-2dfd053200dd>\u001b[0m in \u001b[0;36m__init__\u001b[1;34m(self, *args, **kwargs)\u001b[0m\n\u001b[0;32m     22\u001b[0m     \u001b[1;34m\"\"\"Босс уровня\"\"\"\u001b[0m\u001b[1;33m\u001b[0m\u001b[1;33m\u001b[0m\u001b[0m\n\u001b[0;32m     23\u001b[0m     \u001b[1;32mdef\u001b[0m \u001b[0m__init__\u001b[0m\u001b[1;33m(\u001b[0m\u001b[0mself\u001b[0m\u001b[1;33m,\u001b[0m \u001b[1;33m*\u001b[0m\u001b[0margs\u001b[0m\u001b[1;33m,\u001b[0m \u001b[1;33m**\u001b[0m\u001b[0mkwargs\u001b[0m\u001b[1;33m)\u001b[0m \u001b[1;33m->\u001b[0m \u001b[1;32mNone\u001b[0m\u001b[1;33m:\u001b[0m\u001b[1;33m\u001b[0m\u001b[1;33m\u001b[0m\u001b[0m\n\u001b[1;32m---> 24\u001b[1;33m         \u001b[0msuper\u001b[0m\u001b[1;33m(\u001b[0m\u001b[1;33m)\u001b[0m\u001b[1;33m.\u001b[0m\u001b[0m__init__\u001b[0m\u001b[1;33m(\u001b[0m\u001b[1;33m*\u001b[0m\u001b[0margs\u001b[0m\u001b[1;33m,\u001b[0m \u001b[1;33m**\u001b[0m\u001b[0mkwargs\u001b[0m\u001b[1;33m)\u001b[0m\u001b[1;33m\u001b[0m\u001b[1;33m\u001b[0m\u001b[0m\n\u001b[0m",
      "\u001b[1;31mTypeError\u001b[0m: __init__() takes 3 positional arguments but 4 were given"
     ]
    }
   ],
   "metadata": {}
  },
  {
   "cell_type": "markdown",
   "source": [
    "В этом же примере продемонстрирован еще один вариант множественного\r\n",
    "наследования. Это ромбовидное наследование, схема которого выглядит так.\r\n",
    "\r\n",
    "![ромбовидное наследование](image/diamond_inh.png)\r\n",
    "\r\n",
    "Ромбовидного наследования стоит избегать, т.к. оно несет риск\r\n",
    "возникновения проблем, связанных с разрешением методов.\r\n",
    "\r\n",
    "На самом деле в Python все классы неявно наследуются от одного общего\r\n",
    "предка ```object```, а значит и в примере с вокселями будет ромбовидное\r\n",
    "наследование.\r\n",
    "\r\n",
    "![ромбовидное наследование ocject](image/diamond_inh_object.png)"
   ],
   "metadata": {}
  },
  {
   "cell_type": "markdown",
   "source": [
    "## Поиск атрибутов и алгоритм C3\r\n",
    "\r\n",
    "При использовании наследования возникает вопрос: каким образом\r\n",
    "интерпретатор понимает из какого класса взять метод? Особенно этот\r\n",
    "вопрос актуален при использовании множественного наследования, когда\r\n",
    "есть несколько одинаковых методов с разной реализацией.\r\n",
    "\r\n",
    "В Python поиск атрибутов и метод происходит очень просто. Весь граф\r\n",
    "наследования преобразуется в список. Затем простым итерированием и\r\n",
    "проверкой находится предок с нужным методом или атрибутом. Вся сложность\r\n",
    "заключается в том, каким образом преобразовать граф в линейную\r\n",
    "структуру. В частности это нетривиальная задача для множественного\r\n",
    "наследования. \r\n",
    "\r\n",
    "Python использует рекурсивный алгоритм\r\n",
    "[C3-линеаризации](https://en.wikipedia.org/wiki/C3_linearization) для\r\n",
    "преобразования графа наследования в список классов. Результат его работы\r\n",
    "можно посмотреть в атрибуте `__mro__` или с помощью метода `mro`\r\n",
    "(порядок разрешения методов)."
   ],
   "metadata": {}
  },
  {
   "cell_type": "code",
   "execution_count": 11,
   "source": [
    "class Widget:\r\n",
    "    \"\"\"Виджет\"\"\"\r\n",
    "    def __init__(self, parent=None) -> None:\r\n",
    "        self.parent = parent\r\n",
    "\r\n",
    "\r\n",
    "class Clickable:\r\n",
    "    \"\"\"Кликабельный объект\"\"\"\r\n",
    "    def click(self) -> None:\r\n",
    "        print(f'Клик по {self}')\r\n",
    "\r\n",
    "\r\n",
    "class Button(Widget, Clickable):\r\n",
    "    \"\"\"Кнопка\"\"\"\r\n",
    "    def __init__(self, text, parent=None) -> None:\r\n",
    "        super().__init__(parent=parent)\r\n",
    "        self.text = text\r\n",
    "\r\n",
    "\r\n",
    "window = Widget()\r\n",
    "button = Button('Кнопка', parent=window)\r\n",
    "print(f'{button.parent = }')\r\n",
    "button.click()"
   ],
   "outputs": [
    {
     "output_type": "stream",
     "name": "stdout",
     "text": [
      "button.parent = <__main__.Widget object at 0x000002672F6E84F0>\n",
      "Клик по <__main__.Button object at 0x000002672F6E8CA0>\n"
     ]
    }
   ],
   "metadata": {}
  },
  {
   "cell_type": "code",
   "execution_count": 12,
   "source": [
    "print(f'{Button.__mro__ = }')\r\n",
    "print(f'{Button.mro() = }')"
   ],
   "outputs": [
    {
     "output_type": "stream",
     "name": "stdout",
     "text": [
      "Button.__mro__ = (<class '__main__.Button'>, <class '__main__.Widget'>, <class '__main__.Clickable'>, <class 'object'>)\n",
      "Button.mro() = [<class '__main__.Button'>, <class '__main__.Widget'>, <class '__main__.Clickable'>, <class 'object'>]\n"
     ]
    }
   ],
   "metadata": {}
  },
  {
   "cell_type": "markdown",
   "source": [
    "Алгоритм C3 учитывает порядок следвоания предков, поэтому если мы\r\n",
    "изменим его, то линеаризация графа наследования изменится. Об этом\r\n",
    "стоит помнить при наследовании от классов с совпадающими именами\r\n",
    "методов."
   ],
   "metadata": {}
  },
  {
   "cell_type": "code",
   "execution_count": 13,
   "source": [
    "class NewButton(Clickable, Widget):\r\n",
    "    \"\"\"Кнопка\"\"\"\r\n",
    "    def __init__(self, text, parent=None) -> None:\r\n",
    "        super().__init__(parent=parent)\r\n",
    "        self.text = text"
   ],
   "outputs": [],
   "metadata": {}
  },
  {
   "cell_type": "code",
   "execution_count": 14,
   "source": [
    "print(f'{NewButton.__mro__ = }')"
   ],
   "outputs": [
    {
     "output_type": "stream",
     "name": "stdout",
     "text": [
      "NewButton.__mro__ = (<class '__main__.NewButton'>, <class '__main__.Clickable'>, <class '__main__.Widget'>, <class 'object'>)\n"
     ]
    }
   ],
   "metadata": {}
  },
  {
   "cell_type": "markdown",
   "source": [
    "## Механизм слотов\r\n",
    "\r\n",
    "Как уже упоминалось, при создании объекта класса происходит создание\r\n",
    "нового пространства имен, которое представляется в виде словаря. Это\r\n",
    "говорит о том, что все атрибуты не только класса, но и экземпляра\r\n",
    "доступны в виде словаря.\r\n",
    "\r\n",
    "Убедиться в этом можно, используя специальный атрибут ```__dict__```,\r\n",
    "который есть как у классов, так и у экземпляров. Есть также встроенная\r\n",
    "функция ```vars```, которая возвращает ```__dict__```.\r\n"
   ],
   "metadata": {}
  },
  {
   "cell_type": "code",
   "execution_count": 15,
   "source": [
    "print(f'{window.__dict__ = }')\r\n",
    "print(f'{button.__dict__ = }')"
   ],
   "outputs": [
    {
     "output_type": "stream",
     "name": "stdout",
     "text": [
      "window.__dict__ = {'parent': None}\n",
      "button.__dict__ = {'parent': <__main__.Widget object at 0x000002672F6E84F0>, 'text': 'Кнопка'}\n"
     ]
    }
   ],
   "metadata": {}
  },
  {
   "cell_type": "markdown",
   "source": [
    "У класса помимо атрибутов и методов, определенных в его теле, содержится\r\n",
    "еще ряд специальных методов и атрибутов, таких как строка документации,\r\n",
    "модуль и прочее."
   ],
   "metadata": {}
  },
  {
   "cell_type": "code",
   "execution_count": 16,
   "source": [
    "print(f'{Button.__dict__ = }')"
   ],
   "outputs": [
    {
     "output_type": "stream",
     "name": "stdout",
     "text": [
      "Button.__dict__ = mappingproxy({'__module__': '__main__', '__doc__': 'Кнопка', '__init__': <function Button.__init__ at 0x000002672F8E2820>})\n"
     ]
    }
   ],
   "metadata": {}
  },
  {
   "cell_type": "markdown",
   "source": [
    "В связи с тем, что атрибуты хранятся в словаре, то поиск, изменение,\r\n",
    "добавление и удаление атрибута — это операции над словарем."
   ],
   "metadata": {}
  },
  {
   "cell_type": "code",
   "execution_count": 17,
   "source": [
    "print(f'{button.__dict__[\"text\"] = }')"
   ],
   "outputs": [
    {
     "output_type": "stream",
     "name": "stdout",
     "text": [
      "button.__dict__[\"text\"] = 'Кнопка'\n"
     ]
    }
   ],
   "metadata": {}
  },
  {
   "cell_type": "markdown",
   "source": [
    "Представление пространства имен в виде словаря несет некоторые накладные\r\n",
    "расходы по памяти. Также зачастую динамическое управление атрибутами не\r\n",
    "нужно или нежелательно, например, нужно запретить удаление и добавление\r\n",
    "новых атрибутов. Решить эти проблемы можно, жестко зафиксировав\r\n",
    "структуру класса. Для этого используется механизм `__slots__`.\r\n",
    "\r\n",
    "Переменная `__slots__` задает атрибуты экземпляров. Она обычно\r\n",
    "определяется сразу после объявления класса и должна содержать список\r\n",
    "строк, или другую итерируемую коллекцию строк, где строки будут\r\n",
    "именами атрибутов."
   ],
   "metadata": {}
  },
  {
   "cell_type": "code",
   "execution_count": 18,
   "source": [
    "class Noodle:\r\n",
    "    __slots__ = ('compound', 'pungency_level')\r\n",
    "\r\n",
    "cup_ramen = Noodle()\r\n",
    "\r\n",
    "cup_ramen.compound = ['noodle', 'spices']\r\n",
    "cup_ramen.pungency_level = 5"
   ],
   "outputs": [],
   "metadata": {}
  },
  {
   "cell_type": "markdown",
   "source": [
    "В этом примере у экземпляра класса Base будет только два атрибута\r\n",
    "`compound` и `pungency_level`.\r\n",
    "\r\n",
    "Использование `__slots__` позволяет получить более быстрый доступ к\r\n",
    "атрибутам и экономит место в памяти. Эти достоинства достигаются за счет\r\n",
    "хранения ссылок на атрибуты в специальных слотах, а не в `__dict__`.\r\n",
    "Также класс не будет содержать `__dict__` вовсе, если в родительских\r\n",
    "классах также были объявлены `__slots__`.\r\n",
    "\r\n",
    "Отсутствие `__dict__` делает структуру класса \"жесткой\", т.е. добавление\r\n",
    "новых атрибутов в процессе работы будет невозможным."
   ],
   "metadata": {}
  },
  {
   "cell_type": "code",
   "execution_count": 19,
   "source": [
    "cup_ramen.manufacturer = 'Nissin'"
   ],
   "outputs": [
    {
     "output_type": "error",
     "ename": "AttributeError",
     "evalue": "'Noodle' object has no attribute 'manufacturer'",
     "traceback": [
      "\u001b[1;31m---------------------------------------------------------------------------\u001b[0m",
      "\u001b[1;31mAttributeError\u001b[0m                            Traceback (most recent call last)",
      "\u001b[1;32m<ipython-input-19-a1b541aa8057>\u001b[0m in \u001b[0;36m<module>\u001b[1;34m\u001b[0m\n\u001b[1;32m----> 1\u001b[1;33m \u001b[0mcup_ramen\u001b[0m\u001b[1;33m.\u001b[0m\u001b[0mmanufacturer\u001b[0m \u001b[1;33m=\u001b[0m \u001b[1;34m'Nissin'\u001b[0m\u001b[1;33m\u001b[0m\u001b[1;33m\u001b[0m\u001b[0m\n\u001b[0m",
      "\u001b[1;31mAttributeError\u001b[0m: 'Noodle' object has no attribute 'manufacturer'"
     ]
    }
   ],
   "metadata": {}
  },
  {
   "cell_type": "markdown",
   "source": [
    "Еще одним подводным камнем в использовании `__slots__` и наследования\r\n",
    "заключается в том, что нужно объявлять каждый атрибут только в одном\r\n",
    "`__slots__`. Если некоторые атрибуты указаны в нескольких переменных, то\r\n",
    "это не вызовет исключения, однако эти объекты будут занимать больше\r\n",
    "места в памяти."
   ],
   "metadata": {}
  },
  {
   "cell_type": "code",
   "execution_count": 20,
   "source": [
    "from sys import getsizeof\r\n",
    "\r\n",
    "\r\n",
    "class Base:\r\n",
    "    __slots__ = ('foo', 'bar')\r\n",
    "\r\n",
    "\r\n",
    "class A(Base):\r\n",
    "    __slots__ = ('baz', )\r\n",
    "\r\n",
    "\r\n",
    "class B(Base):\r\n",
    "    __slots__ = ('foo', 'bar', 'baz')\r\n",
    "\r\n",
    "\r\n",
    "print(f'{getsizeof(B()) = }')\r\n",
    "print(f'{getsizeof(A()) = }')"
   ],
   "outputs": [
    {
     "output_type": "stream",
     "name": "stdout",
     "text": [
      "getsizeof(B()) = 72\n",
      "getsizeof(A()) = 56\n"
     ]
    }
   ],
   "metadata": {}
  },
  {
   "cell_type": "markdown",
   "source": [
    "В результате, основным требованием для использования слотов можно\r\n",
    "выделить отсутствие классов с `__dict__` в иерархии наследования.\r\n",
    "\r\n",
    "При использовании механизма слотов можно разрешить использование\r\n",
    "`__dict__`, просто указав `'__dict__'` как элемент в переменной\r\n",
    "`__slots__`.\r\n",
    "\r\n",
    "Использование множественного наследования и `__slots__` может вызвать\r\n",
    "большие проблемы. Например:"
   ],
   "metadata": {}
  },
  {
   "cell_type": "code",
   "execution_count": 21,
   "source": [
    "class A:\r\n",
    "    __slots__ = ('a', )\r\n",
    "\r\n",
    "\r\n",
    "class B:\r\n",
    "    __slots__ = ('b', )\r\n",
    "\r\n",
    "\r\n",
    "class C(A, B):\r\n",
    "    __slots__ = ()"
   ],
   "outputs": [
    {
     "output_type": "error",
     "ename": "TypeError",
     "evalue": "multiple bases have instance lay-out conflict",
     "traceback": [
      "\u001b[1;31m---------------------------------------------------------------------------\u001b[0m",
      "\u001b[1;31mTypeError\u001b[0m                                 Traceback (most recent call last)",
      "\u001b[1;32m<ipython-input-21-aae54751c405>\u001b[0m in \u001b[0;36m<module>\u001b[1;34m\u001b[0m\n\u001b[0;32m      7\u001b[0m \u001b[1;33m\u001b[0m\u001b[0m\n\u001b[0;32m      8\u001b[0m \u001b[1;33m\u001b[0m\u001b[0m\n\u001b[1;32m----> 9\u001b[1;33m \u001b[1;32mclass\u001b[0m \u001b[0mC\u001b[0m\u001b[1;33m(\u001b[0m\u001b[0mA\u001b[0m\u001b[1;33m,\u001b[0m \u001b[0mB\u001b[0m\u001b[1;33m)\u001b[0m\u001b[1;33m:\u001b[0m\u001b[1;33m\u001b[0m\u001b[1;33m\u001b[0m\u001b[0m\n\u001b[0m\u001b[0;32m     10\u001b[0m     \u001b[0m__slots__\u001b[0m \u001b[1;33m=\u001b[0m \u001b[1;33m(\u001b[0m\u001b[1;33m)\u001b[0m\u001b[1;33m\u001b[0m\u001b[1;33m\u001b[0m\u001b[0m\n",
      "\u001b[1;31mTypeError\u001b[0m: multiple bases have instance lay-out conflict"
     ]
    }
   ],
   "metadata": {}
  },
  {
   "cell_type": "markdown",
   "source": [
    "В этом случае создание класса `C` вызовет исключение. В случае наличия\r\n",
    "контроля над базовыми классами решить эту проблему можно, удалив у них\r\n",
    "`__slots__` или сделав их пустыми. Также можно воспользоваться\r\n",
    "абстрактными классами, о которых речь пойдет позже."
   ],
   "metadata": {}
  },
  {
   "cell_type": "code",
   "execution_count": 22,
   "source": [
    "from abc import ABC\r\n",
    "\r\n",
    "class AbstractA(ABC):\r\n",
    "    __slots__ = ()\r\n",
    "\r\n",
    "class BaseA(AbstractA): \r\n",
    "    __slots__ = ('a',)\r\n",
    "\r\n",
    "class AbstractB(ABC):\r\n",
    "    __slots__ = ()\r\n",
    "\r\n",
    "class BaseB(AbstractB):\r\n",
    "    __slots__ = ('b',)\r\n",
    "\r\n",
    "class Child(AbstractA, AbstractB): \r\n",
    "    __slots__ = ('a', 'b')\r\n",
    "\r\n",
    "\r\n",
    "c = Child()"
   ],
   "outputs": [],
   "metadata": {}
  },
  {
   "cell_type": "markdown",
   "source": [
    "Подробнее с механизмом `__slots__` можно ознакомиться по\r\n",
    "[ссылке](https://stackoverflow.com/questions/472000/usage-of-slots)."
   ],
   "metadata": {}
  },
  {
   "cell_type": "markdown",
   "source": [
    "## Управление доступом (сокрытие)\r\n",
    "\r\n",
    "Сокрытие — это принцип проектирования, заключающийся в разграничении\r\n",
    "доступа различных частей программы к внутренним компонентам друг друга.\r\n",
    "В одних языках (например, C++) термин тесно пересекается (вплоть до\r\n",
    "отождествления) с инкапсуляцией, в других эти понятия абсолютно\r\n",
    "независимы. В некоторых языках (например, Smalltalk или Python) сокрытие\r\n",
    "отсутствует, хотя возможности инкапсуляции развиты хорошо.\r\n",
    "\r\n",
    "В Python нет разделения атрибутов на публичные (public), приватные\r\n",
    "(private) и защищенные (protected). Однако в сообществе языка принято\r\n",
    "соглашение об именовании атрибутов классов. Оно гласит, что атрибуты для\r\n",
    "внутреннего использования начинают с префикса нижнее подчеркивание."
   ],
   "metadata": {}
  },
  {
   "cell_type": "code",
   "execution_count": 23,
   "source": [
    "class A:\r\n",
    "    def __init__(self) -> None:\r\n",
    "        self.public = 42\r\n",
    "        self._private = 'foo'"
   ],
   "outputs": [],
   "metadata": {}
  },
  {
   "cell_type": "markdown",
   "source": [
    "Такая возможность не обеспечивается интерпретатором, поэтому\r\n",
    "пользователь может получить к таким атрибутам доступ через точечную\r\n",
    "нотацию по аналогии с обычными атрибутами."
   ],
   "metadata": {}
  },
  {
   "cell_type": "code",
   "execution_count": 24,
   "source": [
    "a = A()\r\n",
    "\r\n",
    "print(f'{a.public = }')\r\n",
    "print(f'{a._private = }')"
   ],
   "outputs": [
    {
     "output_type": "stream",
     "name": "stdout",
     "text": [
      "a.public = 42\n",
      "a._private = 'foo'\n"
     ]
    }
   ],
   "metadata": {}
  },
  {
   "cell_type": "markdown",
   "source": [
    "Обращение к атрибутам, которые начинаются с нижним подчеркиванием,\r\n",
    "говорит о том, что пользователь знает, что делает.\r\n",
    "\r\n",
    "Существует еще один способ сокрыть атрибут от обращения извне. Для этого\r\n",
    "необходимо добавить к атрибуту префикс с двумя нижними подчеркиваниями.\r\n",
    "В этом случае интерпретатор изменит имя атрибута, для избегания\r\n",
    "конфликтов из-за совпадения имен. Это называется искажением имени\r\n",
    "(name mangling)."
   ],
   "metadata": {}
  },
  {
   "cell_type": "code",
   "execution_count": 25,
   "source": [
    "class A:\r\n",
    "    def __init__(self):\r\n",
    "        self.public = 42\r\n",
    "        self._private = 'foo'\r\n",
    "        self.__very_private = 'bar'\r\n"
   ],
   "outputs": [],
   "metadata": {}
  },
  {
   "cell_type": "markdown",
   "source": [
    "После создания экземпляра атрибута с именем `__very_private` существовать\r\n",
    "не будет."
   ],
   "metadata": {}
  },
  {
   "cell_type": "code",
   "execution_count": 26,
   "source": [
    "a = A()\r\n",
    "a.__very_private"
   ],
   "outputs": [
    {
     "output_type": "error",
     "ename": "AttributeError",
     "evalue": "'A' object has no attribute '__very_private'",
     "traceback": [
      "\u001b[1;31m---------------------------------------------------------------------------\u001b[0m",
      "\u001b[1;31mAttributeError\u001b[0m                            Traceback (most recent call last)",
      "\u001b[1;32m<ipython-input-26-b30eb20e87d3>\u001b[0m in \u001b[0;36m<module>\u001b[1;34m\u001b[0m\n\u001b[0;32m      1\u001b[0m \u001b[0ma\u001b[0m \u001b[1;33m=\u001b[0m \u001b[0mA\u001b[0m\u001b[1;33m(\u001b[0m\u001b[1;33m)\u001b[0m\u001b[1;33m\u001b[0m\u001b[1;33m\u001b[0m\u001b[0m\n\u001b[1;32m----> 2\u001b[1;33m \u001b[0ma\u001b[0m\u001b[1;33m.\u001b[0m\u001b[0m__very_private\u001b[0m\u001b[1;33m\u001b[0m\u001b[1;33m\u001b[0m\u001b[0m\n\u001b[0m",
      "\u001b[1;31mAttributeError\u001b[0m: 'A' object has no attribute '__very_private'"
     ]
    }
   ],
   "metadata": {}
  },
  {
   "cell_type": "markdown",
   "source": [
    "Интерпретатор преобразует его специальным образом. Это помогает избежать\r\n",
    "проблем, связанных с конфликтом имен при переопределении переменных в\r\n",
    "классах наследниках."
   ],
   "metadata": {}
  },
  {
   "cell_type": "code",
   "execution_count": 27,
   "source": [
    "print(f'{dir(a) = }')\r\n",
    "print(f'{\"_A__very_private\" in dir(a) = }')\r\n",
    "print(f'{a._A__very_private = }')"
   ],
   "outputs": [
    {
     "output_type": "stream",
     "name": "stdout",
     "text": [
      "dir(a) = ['_A__very_private', '__class__', '__delattr__', '__dict__', '__dir__', '__doc__', '__eq__', '__format__', '__ge__', '__getattribute__', '__gt__', '__hash__', '__init__', '__init_subclass__', '__le__', '__lt__', '__module__', '__ne__', '__new__', '__reduce__', '__reduce_ex__', '__repr__', '__setattr__', '__sizeof__', '__str__', '__subclasshook__', '__weakref__', '_private', 'public']\n",
      "\"_A__very_private\" in dir(a) = True\n",
      "a._A__very_private = 'bar'\n"
     ]
    }
   ],
   "metadata": {}
  },
  {
   "cell_type": "markdown",
   "source": [
    "Это и есть искажение имен в Python и оно также распространяется на\r\n",
    "методы. Рассмотрим поведение при расширении базового класса `A`."
   ],
   "metadata": {}
  },
  {
   "cell_type": "code",
   "execution_count": 28,
   "source": [
    "class B(A):\r\n",
    "    def __init__(self):\t\r\n",
    "        super().__init__()\r\n",
    "        self.public = 'spam'\r\n",
    "        self._private = 'spam'\r\n",
    "        self.__very_private = 'spam'"
   ],
   "outputs": [],
   "metadata": {}
  },
  {
   "cell_type": "markdown",
   "source": [
    "Атрибуты `public` и `_private` ожидаемо будут переопределены.\r\n",
    "А атрибута `__very_private` по-прежнему существовать не будет."
   ],
   "metadata": {}
  },
  {
   "cell_type": "code",
   "execution_count": 29,
   "source": [
    "b = B()\r\n",
    "print(f'{b.public = }')\r\n",
    "print(f'{b._private = }')\r\n",
    "print(f'{b.__very_private = }')"
   ],
   "outputs": [
    {
     "output_type": "stream",
     "name": "stdout",
     "text": [
      "b.public = 'spam'\n",
      "b._private = 'spam'\n"
     ]
    },
    {
     "output_type": "error",
     "ename": "AttributeError",
     "evalue": "'B' object has no attribute '__very_private'",
     "traceback": [
      "\u001b[1;31m---------------------------------------------------------------------------\u001b[0m",
      "\u001b[1;31mAttributeError\u001b[0m                            Traceback (most recent call last)",
      "\u001b[1;32m<ipython-input-29-5cdc38cd87bb>\u001b[0m in \u001b[0;36m<module>\u001b[1;34m\u001b[0m\n\u001b[0;32m      2\u001b[0m \u001b[0mprint\u001b[0m\u001b[1;33m(\u001b[0m\u001b[1;34mf'{b.public = }'\u001b[0m\u001b[1;33m)\u001b[0m\u001b[1;33m\u001b[0m\u001b[1;33m\u001b[0m\u001b[0m\n\u001b[0;32m      3\u001b[0m \u001b[0mprint\u001b[0m\u001b[1;33m(\u001b[0m\u001b[1;34mf'{b._private = }'\u001b[0m\u001b[1;33m)\u001b[0m\u001b[1;33m\u001b[0m\u001b[1;33m\u001b[0m\u001b[0m\n\u001b[1;32m----> 4\u001b[1;33m \u001b[0mprint\u001b[0m\u001b[1;33m(\u001b[0m\u001b[1;34mf'{b.__very_private = }'\u001b[0m\u001b[1;33m)\u001b[0m\u001b[1;33m\u001b[0m\u001b[1;33m\u001b[0m\u001b[0m\n\u001b[0m",
      "\u001b[1;31mAttributeError\u001b[0m: 'B' object has no attribute '__very_private'"
     ]
    }
   ],
   "metadata": {}
  },
  {
   "cell_type": "markdown",
   "source": [
    "Обратиться к атрибуту `__very_private` можно через измененное имя."
   ],
   "metadata": {}
  },
  {
   "cell_type": "code",
   "execution_count": 30,
   "source": [
    "print(f'{b._B__very_private = }')\r\n",
    "print(f'{b._A__very_private = }')"
   ],
   "outputs": [
    {
     "output_type": "stream",
     "name": "stdout",
     "text": [
      "b._B__very_private = 'spam'\n",
      "b._A__very_private = 'bar'\n"
     ]
    }
   ],
   "metadata": {}
  },
  {
   "cell_type": "markdown",
   "source": [
    "Но довольно очевидно, что атрибут `__very_private` класса-предка `A`\r\n",
    "переопределен не был.\r\n",
    "\r\n",
    "Стоит сказать несколько слов о применении. Разделять атрибуты и методы\r\n",
    "на приватные и публичные с помощью принятого соглашения, используя\r\n",
    "префикс с одним нижним подчеркиванием, является хорошей практикой.\r\n",
    "Применять же имена вида `__var` стоит с осторожность, всегда держа в\r\n",
    "голове то, как это имя будет преобразовано интерпретатором."
   ],
   "metadata": {}
  },
  {
   "cell_type": "markdown",
   "source": [
    "# Полезные ссылки\r\n",
    "\r\n",
    "- [Порядок разрешения методов в Python](https://habr.com/ru/post/62203/)\r\n",
    "- [C3-линеаризация](https://en.wikipedia.org/wiki/C3_linearization)\r\n",
    "- [The Python 2.3 Method Resolution Order](https://www.python.org/download/releases/2.3/mro/)\r\n",
    "- [Python Tutorial: Understanding Python MRO - Class search path](https://makina-corpus.com/blog/metier/2014/python-tutorial-understanding-python-mro-class-search-path)\r\n",
    "- [Наследование](https://www.uneex.org/LecturesCMC/PythonIntro2018/10_Inheritance)\r\n",
    "- [Usage of `__slots__`?](https://stackoverflow.com/questions/472000/usage-of-slots)"
   ],
   "metadata": {}
  }
 ]
}