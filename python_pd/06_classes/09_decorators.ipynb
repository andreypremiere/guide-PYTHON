{
 "metadata": {
  "language_info": {
   "codemirror_mode": {
    "name": "ipython",
    "version": 3
   },
   "file_extension": ".py",
   "mimetype": "text/x-python",
   "name": "python",
   "nbconvert_exporter": "python",
   "pygments_lexer": "ipython3",
   "version": 3
  },
  "orig_nbformat": 2
 },
 "nbformat": 4,
 "nbformat_minor": 2,
 "cells": [
  {
   "cell_type": "markdown",
   "source": [
    "# Декораторы классов"
   ],
   "metadata": {}
  },
  {
   "cell_type": "code",
   "execution_count": null,
   "source": [],
   "outputs": [],
   "metadata": {}
  },
  {
   "cell_type": "markdown",
   "source": [
    "# Полезные ссылки\r\n",
    "\r\n",
    "- [Python decorators in classes](https://stackoverflow.com/questions/1263451/python-decorators-in-classes)\r\n",
    "- [Сила и красота декораторов](https://habr.com/ru/post/46306/)\r\n",
    "- [Python Decorators](https://wiki.python.org/moin/PythonDecorators)\r\n",
    "- [Using Class Decorators in Python](https://towardsdatascience.com/using-class-decorators-in-python-2807ef52d273)\r\n",
    "- [Понимаем декораторы в Python'e, шаг за шагом. Шаг 2](https://habr.com/ru/post/141501/)\r\n"
   ],
   "metadata": {}
  }
 ]
}