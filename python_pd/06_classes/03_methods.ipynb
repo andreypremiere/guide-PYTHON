{
 "metadata": {
  "language_info": {
   "codemirror_mode": {
    "name": "ipython",
    "version": 3
   },
   "file_extension": ".py",
   "mimetype": "text/x-python",
   "name": "python",
   "nbconvert_exporter": "python",
   "pygments_lexer": "ipython3",
   "version": "3.9.0"
  },
  "orig_nbformat": 2,
  "kernelspec": {
   "name": "python3",
   "display_name": "Python 3.9.0 64-bit ('.venv': venv)"
  },
  "interpreter": {
   "hash": "178cad48488a45b94c2e1acb3bfd8ec03d0e926b0801a270a439a0363b59c19a"
  }
 },
 "nbformat": 4,
 "nbformat_minor": 2,
 "cells": [
  {
   "cell_type": "markdown",
   "source": [
    "# Методы\r\n",
    "\r\n",
    "Еще одним видом атрибута являются методы. Методы это специальные функции, которые объявляются внутри класса. Обращение к методам происходит с помощью точечной нотации как и к атрибутам. Вызвать метод можно аналогично функциям, с помощью круглых скобок.\r\n",
    "\r\n",
    "Методы являются объектами типа ```method```, поэтому их не обязательно вызывать. С ними можно выполнять те же операции, что и с функциями, т.е. хранить в структурах данных, удалять, передавать в качестве аргументов, возвращать из других функций и методов."
   ],
   "metadata": {}
  },
  {
   "cell_type": "code",
   "execution_count": 1,
   "source": [
    "class A:\r\n",
    "    def foo(self):\r\n",
    "        print(f'Это класс {self.__class__.__name__}!')\r\n",
    "\r\n",
    "a = A()\r\n",
    "a.foo()\r\n",
    "\r\n",
    "print(f'{type(a.foo) = }')"
   ],
   "outputs": [
    {
     "output_type": "stream",
     "name": "stdout",
     "text": [
      "Это класс A!\n",
      "type(a.foo) = <class 'method'>\n"
     ]
    }
   ],
   "metadata": {}
  },
  {
   "cell_type": "markdown",
   "source": [
    "Все методы можно разделить на три группы:\r\n",
    "- методы экземпляра;\r\n",
    "- методы класса;\r\n",
    "- статические методы.\r\n",
    "\r\n",
    "По умолчанию все методы являются методами экземпляра. Их отличает одна особенность. Такие методы **должны** принимать один **обязательный** аргумент - ```self```. Имя ```self``` не обязательно, оно используется по соглашению, но не рекомендуется использование других имен.\r\n",
    "\r\n",
    "Этот аргумент отвечает за передачу экземпляра класса в метод. Поэтому при вызове метода ```obj.method()``` не нужно передавать этот аргумент вручную, это делается неявно. Эту конструкцию можно переписать в эквивалентную ```Class.method(obj)```, вызвав метод у класса и, передав в качестве аргумента ```self``` экземпляр класса ```obj```. Аналогом аргумента ```self``` является ```this``` в других языках программирования."
   ],
   "metadata": {}
  },
  {
   "cell_type": "code",
   "execution_count": 2,
   "source": [
    "a.foo()\r\n",
    "A.foo(a)"
   ],
   "outputs": [
    {
     "output_type": "stream",
     "name": "stdout",
     "text": [
      "Это класс A!\n",
      "Это класс A!\n"
     ]
    }
   ],
   "metadata": {}
  },
  {
   "cell_type": "markdown",
   "source": [
    "Стоит обратить внимание, что типы этих объектов отличаются. Верхнее выражение ```a.foo``` имеет тип ```method```, а второе ```A.foo``` - ```function```. Далее мы разберемся почему происходит именно так."
   ],
   "metadata": {}
  },
  {
   "cell_type": "code",
   "execution_count": 3,
   "source": [
    "print(f'{type(a.foo) = }')\r\n",
    "print(f'{type(A.foo) = }')"
   ],
   "outputs": [
    {
     "output_type": "stream",
     "name": "stdout",
     "text": [
      "type(a.foo) = <class 'method'>\n",
      "type(A.foo) = <class 'function'>\n"
     ]
    }
   ],
   "metadata": {}
  },
  {
   "cell_type": "markdown",
   "source": [
    "Работа методов происходит следующим образом. При вызове метода у\r\n",
    "укземпляра ```obj.method()```, происходит поиск в классе экземпляра.\r\n",
    "Если имя обозначает атрибут, тип которого является функцией, то\r\n",
    "происходит создаение объекта метода. Это происходит с помощью упаковки\r\n",
    "указателя объекта (экземпляра) и функции в новый объект - объект\r\n",
    "метода. В момент вызова метода с набором аргументов происходит создание\r\n",
    "нового набора аргументов из объекта экземпляра и списка остальных\r\n",
    "аргументов, в заключении вызывается функция с этим набором аргументов.\r\n",
    "\r\n",
    "## Связанные и несвязанные методы\r\n",
    "\r\n",
    "Стоит сразу упомянуть, что концепция несвязанные методов была удалена в\r\n",
    "версии языка 3.0. Изначально она рассматривалась в качестве способа\r\n",
    "обеспечения \"равноправия\" между всеми объектами и в том числе методами.\r\n",
    "Рассмотрим эту концепцию подробнее на следующем простом примере класса\r\n",
    "с парой методов."
   ],
   "metadata": {}
  },
  {
   "cell_type": "code",
   "execution_count": 6,
   "source": [
    "class A:\r\n",
    "    def __init__(self, x):\r\n",
    "        self.x = x\r\n",
    "    \r\n",
    "    def foo(self, y):\r\n",
    "        print(f'{self.x = }; {y = }')"
   ],
   "outputs": [],
   "metadata": {}
  },
  {
   "cell_type": "markdown",
   "source": [
    "Если методы рассматривать как объекты первого класса, то они должны\r\n",
    "поддерживать связывание с именами переменных и соответственно вызов как\r\n",
    "обычных функций. Рассмотрим следующий вариант вызова ```b = A.spam```.\r\n",
    "В этом случае переменная ```b``` связывается непосредственно с методом\r\n",
    "класса ```A```, который на самом деле является функцией. Но методы\r\n",
    "немного отличаются от обычных функций наличием первого аргумента, в\r\n",
    "качестве которого передается экзепляр класса, где определен метод.\r\n",
    "\r\n",
    "В результате было введено понятие как несвязанный метод. В версиях\r\n",
    "языка < 3.0 это был отдельный тип, который налагал ограничения на то,\r\n",
    "что первым аргументом должен быть экземпляр класса, в котором объявлен\r\n",
    "метод. Таким образом, если нужно было вызвать ```b``` в качестве\r\n",
    "функции, потребовалось бы создать экземпляр класса ```A``` и передать\r\n",
    "его первым аргументом."
   ],
   "metadata": {}
  },
  {
   "cell_type": "code",
   "execution_count": 7,
   "source": [
    "b = A.foo\r\n",
    "a = A(42)\r\n",
    "b(a, 3)"
   ],
   "outputs": [
    {
     "output_type": "stream",
     "name": "stdout",
     "text": [
      "self.x = 42; y = 3\n"
     ]
    }
   ],
   "metadata": {}
  },
  {
   "cell_type": "markdown",
   "source": [
    "Сейчас несвязанный метод это просто функция. И на тип первого аргумента\r\n",
    "не накладываются ограничения, т.е. не обязательно передавать именно\r\n",
    "экземпляр класса, в котором был определе метод."
   ],
   "metadata": {}
  },
  {
   "cell_type": "code",
   "execution_count": 8,
   "source": [
    "class B:\r\n",
    "    pass\r\n",
    "\r\n",
    "mock = B()\r\n",
    "mock.x = 42\r\n",
    "\r\n",
    "b(mock, 1)"
   ],
   "outputs": [
    {
     "output_type": "stream",
     "name": "stdout",
     "text": [
      "self.x = 42; y = 1\n"
     ]
    }
   ],
   "metadata": {}
  },
  {
   "cell_type": "markdown",
   "source": [
    "Такое поведение называется утиной типизацией, которая будет рассмотрена\r\n",
    "отдельно.\r\n",
    "\r\n",
    "Связанные методы возникают, если создается имя, которое ссылается на\r\n",
    "метод конкретного экземпляра."
   ],
   "metadata": {}
  },
  {
   "cell_type": "code",
   "execution_count": 9,
   "source": [
    "a = A(42)\r\n",
    "b = a.foo  # связанный метод\r\n",
    "\r\n",
    "print(f'{type(b) = }')\r\n",
    "print(b)"
   ],
   "outputs": [
    {
     "output_type": "stream",
     "name": "stdout",
     "text": [
      "type(b) = <class 'method'>\n",
      "<bound method A.foo of <__main__.A object at 0x00000214A560BE20>>\n"
     ]
    }
   ],
   "metadata": {}
  },
  {
   "cell_type": "markdown",
   "source": [
    "Здесь переменная ```b``` ссылается на метод класса ```A```, но ссылка\r\n",
    "получена через экземпляр ```a```, т.е. после связывания конкретного\r\n",
    "экземпляра и метода. В этом случае тип таких объектов\r\n",
    "```bound method```, а не ```function```. Этот объект называется\r\n",
    "связанным методом. Сам объект представляет собой оболочку для объекта\r\n",
    "функции-метода. Эта оболочка неявно хранит ссылку на исходный экземпляр\r\n",
    "```a```, который был использован для получения метода. Таким образом,\r\n",
    "становиться доступным вызов ```b``` без передачи первого аргумента, он\r\n",
    "будет передан неявно самой оболочкой (как в декораторах).\r\n",
    "\r\n",
    "Подробнее эти концепции описаны в\r\n",
    "[блоге об истории Python Гвидо ван Россума](https://python-history.blogspot.com/2009/02/first-class-everything.html).\r\n",
    "\r\n",
    "Далее примидена небольша упращенная иллюстрация работы связанных и\r\n",
    "несвязанных методов. К ее изучению лучше вернуться после изучения всей\r\n",
    "главы о классах."
   ],
   "metadata": {}
  },
  {
   "cell_type": "code",
   "execution_count": 10,
   "source": [
    "class BoundMethod:\r\n",
    "    \"\"\"Связанный метод\"\"\"\r\n",
    "    def __init__(self, name, instance, function):\r\n",
    "        # Сохраним ссылки на экземпляр и функцию\r\n",
    "        self.name = name\r\n",
    "        self.instance = instance\r\n",
    "        self.function = function\r\n",
    "\r\n",
    "    def __call__(self, *args, **kwds):\r\n",
    "        # переопределение вызова\r\n",
    "        # неявно передаем экземпляр класса в качестве первого аргумента\r\n",
    "        return self.function(self.instance, *args, **kwds)"
   ],
   "outputs": [],
   "metadata": {}
  },
  {
   "cell_type": "code",
   "execution_count": 11,
   "source": [
    "class Class:\r\n",
    "    \"\"\"Пользовательский класс\"\"\"\r\n",
    "    def __init__(self, name, class_attributes):\r\n",
    "        # имя класса\r\n",
    "        self.name = name\r\n",
    "        # словарь атрибутов класса\r\n",
    "        self.class_attributes = class_attributes\r\n",
    "\r\n",
    "    def create_instance(self, *args):\r\n",
    "        \"\"\"Создание экземпляра\"\"\"\r\n",
    "        # Замена методов __new__ и __init__\r\n",
    "        return Instance(self, *args)\r\n",
    "\r\n",
    "    def __getattr__(self, name):\r\n",
    "        # Переопределим поиск атрибутов\r\n",
    "        if name not in self.class_attributes:\r\n",
    "            raise AttributeError\r\n",
    "        return self.class_attributes[name]\r\n",
    "\r\n",
    "    def __call__(self, *args):\r\n",
    "        # Переопределим вызов, для создания экземпляров\r\n",
    "        return self.create_instance(*args)"
   ],
   "outputs": [],
   "metadata": {}
  },
  {
   "cell_type": "code",
   "execution_count": 13,
   "source": [
    "from typing import Callable\r\n",
    "\r\n",
    "\r\n",
    "class Instance:\r\n",
    "    \"\"\"Экземпляр класса\"\"\"\r\n",
    "    def __init__(self, type_, attributes):\r\n",
    "        # Запомним тип и атрибуты экземпляра\r\n",
    "        self.type_ = type_\r\n",
    "        self.attributes = attributes\r\n",
    "\r\n",
    "    def __getattr__(self, name):\r\n",
    "        # Переопределим поиск атрибутов\r\n",
    "        # Сначала ищем атрибуты экземпляра\r\n",
    "        if name not in self.attributes:\r\n",
    "            # Если ничего не найдено ищем в классе\r\n",
    "            attributes = self.type_.__getattr__(name)\r\n",
    "        else:\r\n",
    "            attributes = self.attributes[name]\r\n",
    "        # Для функций создаем связанный метод\r\n",
    "        if isinstance(attributes, Callable):\r\n",
    "            return BoundMethod(name, self, attributes)\r\n",
    "        return attributes"
   ],
   "outputs": [],
   "metadata": {}
  },
  {
   "cell_type": "code",
   "execution_count": 14,
   "source": [
    "def method(self, attr_a, attr_b):\r\n",
    "    \"\"\"Эмулируем метод\"\"\"\r\n",
    "    print(f'{self.bar = }; {attr_a = }; {attr_b = }')"
   ],
   "outputs": [],
   "metadata": {}
  },
  {
   "cell_type": "code",
   "execution_count": 15,
   "source": [
    "# Создаем класс\r\n",
    "Foo = Class('Foo', {'func': method})\r\n",
    "\r\n",
    "print(f'{Foo.class_attributes = }')\r\n",
    "\r\n",
    "# можем обратиться к методу через класс\r\n",
    "print(f'{Foo.func = }')\r\n",
    "\r\n",
    "# Создаем экземпляр\r\n",
    "instance_a = Foo({'bar': 1, 'baz': 2})\r\n",
    "\r\n",
    "print(f'{instance_a.type_ = }')\r\n",
    "print(f'{instance_a.attributes = }')\r\n",
    "\r\n",
    "# можем обратиться к методу, теперь он связан\r\n",
    "print(instance_a.func)"
   ],
   "outputs": [
    {
     "output_type": "stream",
     "name": "stdout",
     "text": [
      "Foo.class_attributes = {'func': <function method at 0x00000214A4D734C0>}\n",
      "Foo.func = <function method at 0x00000214A4D734C0>\n",
      "instance_a.type_ = <__main__.Class object at 0x00000214A4E618E0>\n",
      "instance_a.attributes = {'bar': 1, 'baz': 2}\n",
      "<__main__.BoundMethod object at 0x00000214A4FF15E0>\n"
     ]
    }
   ],
   "metadata": {}
  },
  {
   "cell_type": "code",
   "execution_count": 16,
   "source": [
    "# пробуем вызвать\r\n",
    "Foo.func(instance_a, 2, 1)\r\n",
    "\r\n",
    "instance_a.func(2, 1)"
   ],
   "outputs": [
    {
     "output_type": "stream",
     "name": "stdout",
     "text": [
      "self.bar = 1; attr_a = 2; attr_b = 1\n",
      "self.bar = 1; attr_a = 2; attr_b = 1\n"
     ]
    }
   ],
   "metadata": {}
  },
  {
   "cell_type": "markdown",
   "source": [
    "## Методы экземпляра, статические методы\r\n",
    "\r\n",
    "Методы экземпляра это все те методы, которые создаются по умолчанию в\r\n",
    "Python, с указанием обязательного первого аргумента ```self```.\r\n",
    "Все методы, которые приводились выше были методами экземпляра.\r\n",
    "Их отличительной чертой является аргумент ```self```, посредством\r\n",
    "которого из метода можно получить доступ к экземпляру, а через него и\r\n",
    "к самому классу. Ниже привиден привер счетчика, который вы уже видели\r\n",
    "ранее. Все его методы являются методами экземпляра. В методе ```inc```\r\n",
    "показано, как можно обратиться к атрибуту экземпляра ```count``` и\r\n",
    "изменить его значение. Доступ к атрибутам класс, например\r\n",
    "```global_count```, из таких методов осуществляется с помощью\r\n",
    "специального \"магического\" атрибута ```__class__```. О \"магических\"\r\n",
    "атрибутах и методах речь пойдет в следующих разделах."
   ],
   "metadata": {}
  },
  {
   "cell_type": "code",
   "execution_count": 1,
   "source": [
    "class Counter:\r\n",
    "    global_count = 0\r\n",
    "    def __init__(self, initial=0):\r\n",
    "        self.count = initial\r\n",
    "    \r\n",
    "    def inc(self):\r\n",
    "        self.count += 1\r\n",
    "        self.__class__.global_count += 1\r\n",
    "    \r\n",
    "    def get_global_counter(self):\r\n",
    "        return self.__class__.global_count"
   ],
   "outputs": [],
   "metadata": {}
  },
  {
   "cell_type": "code",
   "execution_count": 2,
   "source": [
    "c_1 = Counter(5)\r\n",
    "c_2 = Counter()\r\n",
    "\r\n",
    "c_1.inc()\r\n",
    "c_1.inc()\r\n",
    "c_1.inc()\r\n",
    "\r\n",
    "c_2.inc()\r\n",
    "c_2.inc()\r\n",
    "\r\n",
    "print(f'{c_1.count = }')\r\n",
    "print(f'{c_1.get_global_counter() = }')\r\n",
    "\r\n",
    "print(f'{c_2.count = }')\r\n",
    "print(f'{c_2.get_global_counter() = }')"
   ],
   "outputs": [
    {
     "output_type": "stream",
     "name": "stdout",
     "text": [
      "c_1.count = 8\n",
      "c_1.get_global_counter() = 5\n",
      "c_2.count = 2\n",
      "c_2.get_global_counter() = 5\n"
     ]
    }
   ],
   "metadata": {}
  },
  {
   "cell_type": "markdown",
   "source": [
    "## Методы класса\r\n",
    "\r\n",
    "Другим видом методов выступают методы класса. Объявить их можно\r\n",
    "декорировав метод декоратором ```classmethod```. Метод класса также\r\n",
    "принимает один обязательный аргумент. По стандарту его имя ```cls```,\r\n",
    "не рекомендуется использовать другие имена. Этот аргумент обозначает,\r\n",
    "что метод принимает объект класса. В этомзаключается главное отличие\r\n",
    "метода класса от метода экземпляра. Метод класса связан с самим классом\r\n",
    "посредствам первого аргумента и не может получить доступ к экземплярам.\r\n",
    "\r\n",
    "Обычно в методах экземпляра обычно помещают поведение, которое может\r\n",
    "отличаться для каждого экземпляра, т.е. зависит от его состояния.\r\n",
    "Методы класса наоборот включают общее поведение для всех экземпляров,\r\n",
    "но не зависящее от их состояний.\r\n",
    "\r\n",
    "Частым использованием таких методов является создание новых экземпляров\r\n",
    "на оснвое разных данных, например, такие методы могут принимать данные\r\n",
    "в разном формате (```json```, ```csv```, ```xml``` и др.) и создавать\r\n",
    "нужные экземпляры.\r\n",
    "\r\n",
    "Ниже привиден пример класса даты, где метод класса используется для\r\n",
    "создание даты из строки."
   ],
   "metadata": {}
  },
  {
   "cell_type": "code",
   "execution_count": 8,
   "source": [
    "class Date:\r\n",
    "    \"\"\"Дата\r\n",
    "\r\n",
    "    :ivar day: день\r\n",
    "    :ivar month: месяц\r\n",
    "    :ivar year: год\r\n",
    "    \"\"\"\r\n",
    "    def __init__(self, day, month, year):\r\n",
    "        self.day = day\r\n",
    "        self.month = month\r\n",
    "        self.year = year\r\n",
    "\r\n",
    "    @classmethod\r\n",
    "    def from_str(cls, date_str):\r\n",
    "        day, month, year = map(int, date_str.split('.'))\r\n",
    "        return cls(day, month, year)"
   ],
   "outputs": [],
   "metadata": {}
  },
  {
   "cell_type": "code",
   "execution_count": 9,
   "source": [
    "date = Date(5, 10, 2020)\r\n",
    "\r\n",
    "# можно вызвать у экземпляра\r\n",
    "print(f'{date.from_str(\"9.11.2007\") = }')\r\n",
    "\r\n",
    "# и у класса\r\n",
    "print(f'{Date.from_str(\"27.10.2019\") = }')"
   ],
   "outputs": [
    {
     "output_type": "stream",
     "name": "stdout",
     "text": [
      "date.from_str(\"9.11.2007\") = <__main__.Date object at 0x00000221AB291E80>\n",
      "Date.from_str(\"27.10.2019\") = <__main__.Date object at 0x00000221AB2911C0>\n"
     ]
    }
   ],
   "metadata": {}
  },
  {
   "cell_type": "markdown",
   "source": [
    "## Статические методы\r\n",
    "\r\n",
    "Еще один вид методов это статические методы. Объявить статический метод\r\n",
    "можно с помощью декортатора ```staticmethod```. Суть статического метода\r\n",
    "заключается в том, что он не принимает никаких обязательных аргументов.\r\n",
    "Это значит, что получить доступ к экземпляру или классу через\r\n",
    "статический метод нельзя. По сути это просто функция, объявленная внутри\r\n",
    "класса. Зачастую использование таких методов заключается в реализации\r\n",
    "поведения подходящего по смыслу этому классу, но которому не нужны\r\n",
    "объекты класса и экземпляра. \r\n",
    "\r\n",
    "Давайте попробуем расширить функционал класса ```Date```. Неплохим\r\n",
    "дополнением был бы функционал проверки строки на правильный формат даты.\r\n",
    "Такой метод должен принимать строку и возвращать ```True``` или\r\n",
    "```False``` в зависимости от того содержит или нет строка правильный\r\n",
    "формат даты. Очевидно, что к конкретному экземпляру такой метод\r\n",
    "привязывать незачем. С классом он связан только по смыслу. Добавим этот\r\n",
    "метод как статический."
   ],
   "metadata": {}
  },
  {
   "cell_type": "code",
   "execution_count": 3,
   "source": [
    "class Date:\r\n",
    "    def __init__(self, day, month, year):\r\n",
    "        self.day = day\r\n",
    "        self.month = month\r\n",
    "        self.year = year\r\n",
    "    \r\n",
    "    @classmethod\r\n",
    "    def from_str(cls, date_str):\r\n",
    "        day, month, year = map(int, date_str.split('.'))\r\n",
    "        return cls(day, month, year)\r\n",
    "    \r\n",
    "    @staticmethod\r\n",
    "    def is_valid(date_str):\r\n",
    "        day, month, year = map(int, date_str.split('.'))\r\n",
    "        return 1 <= day <= 31 and 1 <= month <= 12 and 0 <= year <= 2038"
   ],
   "outputs": [],
   "metadata": {}
  },
  {
   "cell_type": "code",
   "execution_count": 7,
   "source": [
    "date = Date(3, 11, 2008)\r\n",
    "\r\n",
    "# можно вызвать у экземпляра\r\n",
    "print(f'{date.is_valid(\"5.10.1969\") = }')\r\n",
    "\r\n",
    "# и у класса\r\n",
    "print(f'{Date.is_valid(\"31.01.1956\") = }')"
   ],
   "outputs": [
    {
     "output_type": "stream",
     "name": "stdout",
     "text": [
      "date.is_valid(\"5.10.1969\") = True\n",
      "Date.is_valid(\"31.01.1956\") = True\n"
     ]
    }
   ],
   "metadata": {}
  },
  {
   "cell_type": "markdown",
   "source": [
    "Ниже примидена сравнительная таблица всех видов методов.\r\n",
    "\r\n",
    "| Метод       | Первый аргумент | Доступ к классу | Доступ к экземпляру | Вызывается у класса | Вызывается у экземпляра |\r\n",
    "|-------------|:---------------:|:---------------:|:-------------------:|:-------------------:|:-----------------------:|\r\n",
    "| Экземпляра  | ```self```      | +               | +                   | -                   | +                       |\r\n",
    "| Класса      | ```cls```       | +               | -                   | +                   | +                       |\r\n",
    "| Статический | -               | -               | -                   | +                   | +                       |"
   ],
   "metadata": {}
  },
  {
   "cell_type": "markdown",
   "source": [
    "# Полезные ссылки\r\n",
    "\r\n",
    "- [Difference between staticmethod and classmethod](https://stackoverflow.com/questions/136097/difference-between-staticmethod-and-classmethod)\r\n",
    "- [First-class Everything](https://python-history.blogspot.com/2009/02/first-class-everything.html)\r\n",
    "- [Что такое \"вызываемый\" объект?](https://stackoverflow.com/questions/111234/what-is-a-callable)\r\n"
   ],
   "metadata": {}
  }
 ]
}