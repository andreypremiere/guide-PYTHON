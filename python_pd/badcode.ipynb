{
 "metadata": {
  "language_info": {
   "codemirror_mode": {
    "name": "ipython",
    "version": 3
   },
   "file_extension": ".py",
   "mimetype": "text/x-python",
   "name": "python",
   "nbconvert_exporter": "python",
   "pygments_lexer": "ipython3",
   "version": "3.9.0"
  },
  "orig_nbformat": 2,
  "kernelspec": {
   "name": "python3",
   "display_name": "Python 3.9.0 64-bit ('.venv': venv)"
  },
  "interpreter": {
   "hash": "178cad48488a45b94c2e1acb3bfd8ec03d0e926b0801a270a439a0363b59c19a"
  }
 },
 "nbformat": 4,
 "nbformat_minor": 2,
 "cells": [
  {
   "cell_type": "markdown",
   "source": [
    "# Примеры плохого кода или раздел ```0xbadc0de```\n",
    "\n",
    "Добро пожаловать в раздел ```0xbadc0de```, где собраны забавные и иногда рабочие примеры кода на Python.\n",
    "\n",
    "Примеры могут быть не совсем рабочие или частично доработаны до рабочего состояния. \n"
   ],
   "metadata": {}
  },
  {
   "cell_type": "code",
   "execution_count": 1,
   "source": [
    "# Именовать переменные нужно осмысленно, т.е. что бы по их \r\n",
    "# названию можно было понять для чего она предназначена. \r\n",
    "# Плохой практикой является использование:\r\n",
    "# - однобуквенных имен, кроме использования их в исторически \r\n",
    "# сложившихся ситуациях, таких как: i, j, k для индексов, \r\n",
    "# x, y, z для координат и т.д.\r\n",
    "# - метапеременных: foo, bar, baz и т.д. Исключеним являются \r\n",
    "# использование в короткий примерах.\r\n",
    "# - неинформативных имен: lst, lst2, dct, ...\r\n",
    "\r\n",
    "lst = []\r\n",
    "lst2 = []\r\n",
    "\r\n",
    "msg = 'Введите имя или stop для завершения:'\r\n",
    "while (name:= input(msg)):\r\n",
    "    lst.append(name)\r\n",
    "    phone = input('Введите номер телефона:')\r\n",
    "    lst2.append(phone)\r\n",
    "\r\n",
    "print(f'{lst = }')\r\n",
    "print(f'{lst2 = }')"
   ],
   "outputs": [
    {
     "output_type": "stream",
     "name": "stdout",
     "text": [
      "lst = []\n",
      "lst2 = []\n"
     ]
    }
   ],
   "metadata": {}
  },
  {
   "cell_type": "code",
   "execution_count": 2,
   "source": [
    "# Нужно создать список, где сохраняются словари вида \r\n",
    "# {'имя': '...', 'телефоны': [{'описание': '...', 'номер': '...'}, {'описание': '...', 'номер': '...'}, ...]}\r\n",
    "\r\n",
    "# Попробуйте самостоятельно понять в чем проблема нижеприведенного кода.\r\n",
    "\r\n",
    "# Проблемы:\r\n",
    "# - неинформативные имена\r\n",
    "# - использование range(len(lst2)). В теле цикла нужны \r\n",
    "# элементы двух списков, в этом случае можно использовать \r\n",
    "# либо enumerate, либо zip для итерирования по двум \r\n",
    "# коллекциям одновременно\r\n",
    "# - совершенно неправильная работа со словарем. Словарь \r\n",
    "# создается один раз, затем его ключи обновляются через update. \r\n",
    "# Используется глубокое копирование. Здесь нужно создавать \r\n",
    "# словарь внутри цикла с нужными ключами и добавлть его в список.\r\n",
    "\r\n",
    "name_per = 'Bob'\r\n",
    "lst = ['315-194-6020', '555-2368', '8-800-555-35-35']\r\n",
    "lst2 = ['(1)', '(2)', '(3)']\r\n",
    "\r\n",
    "import copy\r\n",
    "dct = {}\r\n",
    "lst3 = []\r\n",
    "lst4 = []\r\n",
    "for i in range(len(lst2)):\r\n",
    "    dct.update({'описание': lst2[i], 'номер': lst[i]})\r\n",
    "    lst3.append(copy.deepcopy(dct))\r\n",
    "lst4.append(\r\n",
    "    {'имя': name_per, 'телефоны': lst3},\r\n",
    ")\r\n",
    "\r\n",
    "# корректная версия\r\n",
    "all_phones = ['315-194-6020', '555-2368', '8-800-555-35-35']\r\n",
    "descriptions = ['John Wick', 'Ghostbusters', 'Advertising']\r\n",
    "phone_book = []\r\n",
    "phones = []\r\n",
    "for description, phone in zip(descriptions, all_phones):\r\n",
    "    phones.append({'описание': description, 'номер': phone})\r\n",
    "\r\n",
    "phone_book.append(\r\n",
    "    {'имя': name_per, 'телефоны': phones},\r\n",
    ")\r\n",
    "print(phone_book)"
   ],
   "outputs": [
    {
     "output_type": "stream",
     "name": "stdout",
     "text": [
      "[{'имя': 'Bob', 'телефоны': [{'описание': 'John Wick', 'номер': '315-194-6020'}, {'описание': 'Ghostbusters', 'номер': '555-2368'}, {'описание': 'Advertising', 'номер': '8-800-555-35-35'}]}]\n"
     ]
    }
   ],
   "metadata": {}
  },
  {
   "cell_type": "code",
   "execution_count": 3,
   "source": [
    "# проверка числа x на принадлежность множеству \r\n",
    "# A = {x | x ≠ 0, x ∈ [2/x, 5]}\r\n",
    "# Этот пример не совсем рабочий. Предлагается \r\n",
    "# самостоятельно подумать почему.\r\n",
    "\r\n",
    "# Исходное решение\r\n",
    "x = 2\r\n",
    "print('x in A:', 2/x <= x!=0 <= 5)\r\n",
    "\r\n",
    "# Этот цикл призван показать неправильность решения\r\n",
    "for i in range(-10, 10):\r\n",
    "    if i == 0:  # Эта проверка добавлена, чтобы избежать исключения\r\n",
    "        print('Что-то пошло не так')\r\n",
    "    elif 2/i <= i!=0 <= 5:\r\n",
    "        print(i, 'in A')"
   ],
   "outputs": [
    {
     "output_type": "stream",
     "name": "stdout",
     "text": [
      "x in A: True\n",
      "-1 in A\n",
      "Что-то пошло не так\n",
      "2 in A\n",
      "3 in A\n",
      "4 in A\n",
      "5 in A\n",
      "6 in A\n",
      "7 in A\n",
      "8 in A\n",
      "9 in A\n"
     ]
    }
   ],
   "metadata": {}
  },
  {
   "cell_type": "code",
   "execution_count": 4,
   "source": [
    "# проверка числа x на принадлежность множеству \r\n",
    "# A = {x | x ≠ 0, x ∈ [2/x, 5]}\r\n",
    "# Этот пример работает не так как было задумано изначально\r\n",
    "\r\n",
    "# Исходное решение\r\n",
    "x = 2\r\n",
    "print('x in A:', [2/x, 3] and (x >= 2/x) and x <= 5)\r\n",
    "\r\n",
    "# Этот цикл призван показать неправильность решения\r\n",
    "for i in range(-5, 6):\r\n",
    "    if i == 0:  # Эта проверка добавлена, чтобы избежать исключения\r\n",
    "        print('Что-то пошло не так')\r\n",
    "    elif [2/x, 3] and (x >= 2/x) and x <= 5:\r\n",
    "        print(i, 'in A')"
   ],
   "outputs": [
    {
     "output_type": "stream",
     "name": "stdout",
     "text": [
      "x in A: True\n",
      "-5 in A\n",
      "-4 in A\n",
      "-3 in A\n",
      "-2 in A\n",
      "-1 in A\n",
      "Что-то пошло не так\n",
      "1 in A\n",
      "2 in A\n",
      "3 in A\n",
      "4 in A\n",
      "5 in A\n"
     ]
    }
   ],
   "metadata": {}
  },
  {
   "cell_type": "code",
   "execution_count": 1,
   "source": [
    "foo = None\r\n",
    "if str(type(foo))[8:-2] == 'NoneType':\r\n",
    "    print('What the f*ck is this?')"
   ],
   "outputs": [
    {
     "output_type": "stream",
     "name": "stdout",
     "text": [
      "What the f*ck is this?\n"
     ]
    }
   ],
   "metadata": {}
  },
  {
   "cell_type": "code",
   "execution_count": 5,
   "source": [
    "# создать список нечетных чисел из интервала [0, 15]\r\n",
    "a = [i for i in range(16) if i%2 is not 0]\r\n",
    "print(a)"
   ],
   "outputs": [
    {
     "output_type": "stream",
     "name": "stdout",
     "text": [
      "[1, 3, 5, 7, 9, 11, 13, 15]\n"
     ]
    }
   ],
   "metadata": {}
  },
  {
   "cell_type": "code",
   "execution_count": 6,
   "source": [
    "# проверить число x на четность\r\n",
    "x = 4\r\n",
    "if (x % 2) in [0]:\r\n",
    "    print('Четное')\r\n",
    "else:\r\n",
    "    print('Нечетное')"
   ],
   "outputs": [
    {
     "output_type": "stream",
     "name": "stdout",
     "text": [
      "Четное\n"
     ]
    }
   ],
   "metadata": {}
  },
  {
   "cell_type": "code",
   "execution_count": 7,
   "source": [
    "# один из способов распаковать кортеж длиной два в две переменные\r\n",
    "a = (42, 196)\r\n",
    "for i in range(len(a)):\r\n",
    "    globals()[f'a{i}'] = a[i]\r\n",
    "print(a0, a1)"
   ],
   "outputs": [
    {
     "output_type": "stream",
     "name": "stdout",
     "text": [
      "42 196\n"
     ]
    }
   ],
   "metadata": {}
  },
  {
   "cell_type": "code",
   "execution_count": 8,
   "source": [
    "# еще один способ распаковать кортеж длиной два в две переменные a и b\r\n",
    "x = (42, 196)\r\n",
    "for i in range(len(x)):\r\n",
    "    globals()[chr(ord('a') + i)] = x[i]\r\n",
    "print(a, b)"
   ],
   "outputs": [
    {
     "output_type": "stream",
     "name": "stdout",
     "text": [
      "42 196\n"
     ]
    }
   ],
   "metadata": {}
  },
  {
   "cell_type": "code",
   "execution_count": 9,
   "source": [
    "# другой вариант распаковать кортеж длиной два в две переменные a и b\r\n",
    "x = (42, 196)\r\n",
    "for i in range(len(x)):\r\n",
    "    if i == 0:\r\n",
    "        a = x[i]\r\n",
    "    else:\r\n",
    "        b = x[i]\r\n",
    "print(a, b)"
   ],
   "outputs": [
    {
     "output_type": "stream",
     "name": "stdout",
     "text": [
      "42 196\n"
     ]
    }
   ],
   "metadata": {}
  },
  {
   "cell_type": "code",
   "execution_count": 10,
   "source": [
    "# сравнение числа с заданными значениями\r\n",
    "k = 4\r\n",
    "if k == 3:\r\n",
    "    print('wait for it...')\r\n",
    "elif k == 4:\r\n",
    "    print('wait for it...')\r\n",
    "elif k == 5:\r\n",
    "    print('wait for it...')\r\n",
    "elif k != 3 or 4 or 5:\r\n",
    "    print('Legendary')"
   ],
   "outputs": [
    {
     "output_type": "stream",
     "name": "stdout",
     "text": [
      "wait for it...\n"
     ]
    }
   ],
   "metadata": {}
  },
  {
   "cell_type": "code",
   "execution_count": 9,
   "source": [
    "# один из способо выравнивания строки\r\n",
    "for i in range(8, 16):\r\n",
    "    s = ''\r\n",
    "    for base in 'bodx':\r\n",
    "        s += ' ' * (10 - len(f'{i:{base}}')) + f'{i:{base}}'\r\n",
    "    print(s)\r\n",
    "\r\n",
    "print('-' * 50)\r\n",
    "# правильный способ выравнивания строки\r\n",
    "for i in range(8, 16):\r\n",
    "    for base in 'bodx':\r\n",
    "        print(f'{i:>10{base}}', end='\\n' if base == 'x' else '')"
   ],
   "outputs": [
    {
     "output_type": "stream",
     "name": "stdout",
     "text": [
      "      1000        10         8         8\n",
      "      1001        11         9         9\n",
      "      1010        12        10         a\n",
      "      1011        13        11         b\n",
      "      1100        14        12         c\n",
      "      1101        15        13         d\n",
      "      1110        16        14         e\n",
      "      1111        17        15         f\n",
      "--------------------------------------------------\n",
      "      1000        10         8         8\n",
      "      1001        11         9         9\n",
      "      1010        12        10         a\n",
      "      1011        13        11         b\n",
      "      1100        14        12         c\n",
      "      1101        15        13         d\n",
      "      1110        16        14         e\n",
      "      1111        17        15         f\n"
     ]
    }
   ],
   "metadata": {}
  },
  {
   "cell_type": "code",
   "execution_count": 11,
   "source": [
    "# реализовать функцию, добавляющую к списку число 42,\r\n",
    "# если функция вызвана без аргументов, она должна \r\n",
    "# возвращать список из одного элемента: [42]\r\n",
    "\r\n",
    "# неправильная, но полностью рабочая реализация\r\n",
    "def foo(a=[]):\r\n",
    "    if a == []:\r\n",
    "        a = [42]\r\n",
    "    else:\r\n",
    "        a.append(42)\r\n",
    "    return a\r\n",
    "\r\n",
    "print('(1):', foo())\r\n",
    "print('(2):', foo())\r\n",
    "print('(3):', foo())\r\n",
    "print('(4):', foo([]))\r\n",
    "print('(5):', foo([1]))\r\n",
    "print('(6):', foo([1, 2]))"
   ],
   "outputs": [
    {
     "output_type": "stream",
     "name": "stdout",
     "text": [
      "(1): [42]\n",
      "(2): [42]\n",
      "(3): [42]\n",
      "(4): [42]\n",
      "(5): [1, 42]\n",
      "(6): [1, 2, 42]\n"
     ]
    }
   ],
   "metadata": {}
  },
  {
   "cell_type": "code",
   "execution_count": 12,
   "source": [
    "# реализовать функцию, добавляющую к списку число 42,\r\n",
    "# если функция вызвана без аргументов, она должна \r\n",
    "# возвращать список из одного элемента: [42]\r\n",
    "\r\n",
    "# еще одна попытка реализации\r\n",
    "def bar(a=None):\r\n",
    "    b = a\r\n",
    "    a = []\r\n",
    "    if isinstance(b, list):\r\n",
    "        b.append(42)\r\n",
    "        return b\r\n",
    "    else:\r\n",
    "        a.append(42)\r\n",
    "        return a\r\n",
    "\r\n",
    "print('(1):', bar())\r\n",
    "print('(2):', bar())\r\n",
    "print('(3):', bar())\r\n",
    "print('(4):', bar([]))\r\n",
    "print('(5):', bar([1]))\r\n",
    "print('(6):', bar([1, 2]))"
   ],
   "outputs": [
    {
     "output_type": "stream",
     "name": "stdout",
     "text": [
      "(1): [42]\n",
      "(2): [42]\n",
      "(3): [42]\n",
      "(4): [42]\n",
      "(5): [1, 42]\n",
      "(6): [1, 2, 42]\n"
     ]
    }
   ],
   "metadata": {}
  },
  {
   "cell_type": "code",
   "execution_count": 13,
   "source": [
    "# Пользователь вводит строку, разделенную пробелами. \r\n",
    "# Необходимо проверить, являются ли все элементы строки \r\n",
    "# числами > 0. Если ввод не удовлетворяет условию, то \r\n",
    "# нужно запросить повторный ввод.\r\n",
    "\r\n",
    "# Этот пример демоснтрирует сразу несколько неправильных \r\n",
    "# подходов. Первый заключается в зацикливании программы с \r\n",
    "# помощью рекурсии. Второй в несовмсем правильной проверке ввода.\r\n",
    "\r\n",
    "# Самостоятельно провертьте ввод на следующих примерах и \r\n",
    "# постарайтесь понять в чем проблема.\r\n",
    "# '1 2 3' - корректная работа\r\n",
    "# '1 2 q' - что-то идет не так, но работает \"почти\" правильно\r\n",
    "# '1 0 O O 4' - нужно больше ввода!\r\n",
    "def foo():\r\n",
    "    msg = 'Введите числа, раделенные пробелами'\r\n",
    "    input_arr = input(msg).split(' ')\r\n",
    "    for i in range(len(input_arr)):\r\n",
    "        if not input_arr[i].isdigit():\r\n",
    "            print('Введите число')\r\n",
    "            foo()\r\n",
    "    print('Ввод завершен')\r\n",
    "\r\n",
    "foo()"
   ],
   "outputs": [
    {
     "output_type": "stream",
     "name": "stdout",
     "text": [
      "Введите число\n",
      "Введите число\n",
      "Введите число\n",
      "Введите число\n",
      "Введите число\n",
      "Введите число\n",
      "Ввод завершен\n",
      "Ввод завершен\n",
      "Ввод завершен\n",
      "Ввод завершен\n",
      "Ввод завершен\n",
      "Ввод завершен\n",
      "Ввод завершен\n"
     ]
    }
   ],
   "metadata": {}
  },
  {
   "cell_type": "code",
   "execution_count": 14,
   "source": [
    "# Пользователь вводит строку, разделенную пробелами. \r\n",
    "# Необходимо проверить, являются ли все элементы строки \r\n",
    "# числами > 0. Если ввод не удовлетворяет условию, то \r\n",
    "# нужно запросить повторный ввод.\r\n",
    "\r\n",
    "# Здесь проблема заключается непосредственно в проверке ввода.\r\n",
    "\r\n",
    "# Самостоятельно провертьте ввод на следующих примерах:\r\n",
    "# '1 2 3' - корректная работа\r\n",
    "# '1 2 q' - будте отсторожны\r\n",
    "# '1 0 O O 4' - нужно больше ввода!\r\n",
    "def foo():\r\n",
    "    msg = 'Введите числа, раделенные пробелами'\r\n",
    "    input_str = input(msg).split(' ')\r\n",
    "    for c in input_str:\r\n",
    "        while not c.isdigit():\r\n",
    "            print('Введите число')\r\n",
    "            input_str = input().split(' ')\r\n",
    "    print('Ввод завершен')\r\n",
    "\r\n",
    "foo()"
   ],
   "outputs": [
    {
     "output_type": "stream",
     "name": "stdout",
     "text": [
      "Ввод завершен\n"
     ]
    }
   ],
   "metadata": {}
  },
  {
   "cell_type": "code",
   "execution_count": 15,
   "source": [
    "# безумная альфа версия языка программирования РУтон\r\n",
    "\r\n",
    "печать = print\r\n",
    "\r\n",
    "икс, игрек = 6, 4\r\n",
    "печать('Вектор:', (икс, игрек))\r\n",
    "\r\n",
    "расстояние = (икс**2 + игрек**2) ** 0.5\r\n",
    "печать('Длина вектора', расстояние)"
   ],
   "outputs": [
    {
     "output_type": "stream",
     "name": "stdout",
     "text": [
      "Вектор: (6, 4)\n",
      "Длина вектора 7.211102550927978\n"
     ]
    }
   ],
   "metadata": {}
  },
  {
   "cell_type": "code",
   "execution_count": 16,
   "source": [
    "# Пример бесполезного наследования\r\n",
    "# Здесь пример классов вроде \"namedtuple\", но еще более бесполезны.  \r\n",
    "# Самостоятельно определите проблемы этого кода.\r\n",
    "\r\n",
    "class Plain:\r\n",
    "    coefficient = 1\r\n",
    "    hours = 6\r\n",
    "    base_price = 130\r\n",
    "\r\n",
    "class ExPlain(Plain):\r\n",
    "    coefficient = 1.5\r\n",
    "    hours = 3\r\n",
    "    base_price = 110\r\n",
    "\r\n",
    "\r\n",
    "a = Plain()\r\n",
    "print(f'{a.coefficient = }, {a.hours = }, {a.base_price = }')\r\n",
    "b = ExPlain()\r\n",
    "print(f'{b.coefficient = }, {b.hours = }, {b.base_price = }')"
   ],
   "outputs": [
    {
     "output_type": "stream",
     "name": "stdout",
     "text": [
      "a.coefficient = 1, a.hours = 6, a.base_price = 130\n",
      "b.coefficient = 1.5, b.hours = 3, b.base_price = 110\n"
     ]
    }
   ],
   "metadata": {}
  },
  {
   "cell_type": "code",
   "execution_count": 3,
   "source": [
    "# Перебор с индексами\r\n",
    "# Здесь требуется проитерироваться по списку и использовать индексацию, начина с 1.\r\n",
    "\r\n",
    "xs = [5, 4, 3, 2]\r\n",
    "\r\n",
    "for num, i in enumerate(range(len(xs)), 1):\r\n",
    "    print(num, xs[i])\r\n",
    "print('-' * 25)\r\n",
    "\r\n",
    "# корректное решение\r\n",
    "for i, item in enumerate(xs):\r\n",
    "    print(i + 1, item)"
   ],
   "outputs": [
    {
     "output_type": "stream",
     "name": "stdout",
     "text": [
      "1 5\n",
      "2 4\n",
      "3 3\n",
      "4 2\n",
      "-------------------------\n",
      "1 5\n",
      "2 4\n",
      "3 3\n",
      "4 2\n"
     ]
    }
   ],
   "metadata": {}
  },
  {
   "cell_type": "code",
   "execution_count": 5,
   "source": [
    "# Выстрел в ногу\r\n",
    "# Этот пример демонстрирует отрицательные стороны использования глобальных переменных.\r\n",
    "# Задача довольно проста. Имеется список словарей. Необходимо сначала выбрать все элементы \r\n",
    "# с заданным значениям первого ключа, затем для полученного результата повторить процедуру \r\n",
    "# для другого ключа.\r\n",
    "\r\n",
    "# Этот пример сильно упрощен, а также добавлен небольшой кусок кода для предотвращения \r\n",
    "# зацикливания (его не было в исходном решении) без потери исходного смысла. Измененены \r\n",
    "# названия переменных на более простые.\r\n",
    "\r\n",
    "# Попробуйте самостоятельно найти проблему данного кода.\r\n",
    "\r\n",
    "# Добавка для предотвращения зацикливания\r\n",
    "class Counting:\r\n",
    "    \"\"\"Счетчик вызова функций.\r\n",
    "    Можно использовать как декортатор.\r\n",
    "    \"\"\"\r\n",
    "    def __init__(self, func):\r\n",
    "        self.count = 0\r\n",
    "        self.func = func\r\n",
    "    \r\n",
    "    def __call__(self, *args, **kwargs):\r\n",
    "        self.count += 1\r\n",
    "        self.func(*args, **kwargs)\r\n",
    "\r\n",
    "\r\n",
    "# Будем считать количество вызовов метода append\r\n",
    "my_append = Counting(list.append)\r\n",
    "\r\n",
    "\r\n",
    "# глобальные переменные\r\n",
    "my_list = [\r\n",
    "    {'a': 'foo', 'b': 1},\r\n",
    "    {'a': 'bar', 'b': 1},\r\n",
    "    {'a': 'foo', 'b': 3},\r\n",
    "    {'a': 'baz', 'b': 4}\r\n",
    "]\r\n",
    "a = []\r\n",
    "b = []\r\n",
    "c = []\r\n",
    "\r\n",
    "\r\n",
    "def quuz(list_, key, value):\r\n",
    "    for item in list_:\r\n",
    "        if value == item.get(key):\r\n",
    "            # для получения исходного смысла:\r\n",
    "            my_append(c, item)  # закомментируйте эту строку\r\n",
    "            # c.append(item)  # раскомментируйте эту строку\r\n",
    "        if my_append.count == 5:  # закомментируйте это условие\r\n",
    "            print('Превышение количества вызовов. Зацикливание!')\r\n",
    "            break\r\n",
    "    return c\r\n",
    "\r\n",
    "\r\n",
    "# демонстрация работы\r\n",
    "print('Состояние списков перед выполнением программы:')\r\n",
    "print(f'{my_list is a = }')\r\n",
    "print(f'{a is b = }')\r\n",
    "print(f'{a is c = }')    \r\n",
    "print('-' * 50)\r\n",
    "\r\n",
    "a = quuz(my_list, 'a', 'foo')\r\n",
    "print(a)\r\n",
    "\r\n",
    "print('Состояние списков (1):')\r\n",
    "print(f'{my_list is a = }')\r\n",
    "print(f'{a is b = }')\r\n",
    "print(f'{a is c = }')\r\n",
    "print('-' * 50)\r\n",
    "\r\n",
    "parametr_analiz = 'b'\r\n",
    "b = quuz(a, 'b', 1)\r\n",
    "print(b)\r\n",
    "\r\n",
    "print('Состояние списков (2):')\r\n",
    "print(f'{my_list is a = }')\r\n",
    "print(f'{a is b = }')\r\n",
    "print(f'{a is c = }')\r\n",
    "print('-' * 50)\r\n"
   ],
   "outputs": [
    {
     "output_type": "stream",
     "name": "stdout",
     "text": [
      "Состояние списков перед выполнением программы:\n",
      "my_list is a = False\n",
      "a is b = False\n",
      "a is c = False\n",
      "--------------------------------------------------\n",
      "[{'a': 'foo', 'b': 1}, {'a': 'foo', 'b': 3}]\n",
      "Состояние списков (1):\n",
      "my_list is a = False\n",
      "a is b = False\n",
      "a is c = True\n",
      "--------------------------------------------------\n",
      "Превышение количества вызовов. Зацикливание!\n",
      "[{'a': 'foo', 'b': 1}, {'a': 'foo', 'b': 3}, {'a': 'foo', 'b': 1}, {'a': 'foo', 'b': 1}, {'a': 'foo', 'b': 1}]\n",
      "Состояние списков (2):\n",
      "my_list is a = False\n",
      "a is b = True\n",
      "a is c = True\n",
      "--------------------------------------------------\n"
     ]
    }
   ],
   "metadata": {}
  },
  {
   "cell_type": "markdown",
   "source": [
    "Один из безумных вариантов реализации Hello World через метаклассы см. в файле\r\n",
    "```best_hello_world.py``` (~~Осторожно! Черная магия~~)."
   ],
   "metadata": {}
  },
  {
   "cell_type": "markdown",
   "source": [
    "# Интересные ссылки\n",
    "\n",
    "- [Просто БЕЗУМНЫЕ примеры написания ```Hello, World!```](https://old.reddit.com/r/Python/comments/k7hv95/what_is_the_longest_piece_of_code_you_can_write/)"
   ],
   "metadata": {}
  }
 ]
}