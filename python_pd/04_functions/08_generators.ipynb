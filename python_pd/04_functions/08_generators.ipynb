{
 "metadata": {
  "language_info": {
   "codemirror_mode": {
    "name": "ipython",
    "version": 3
   },
   "file_extension": ".py",
   "mimetype": "text/x-python",
   "name": "python",
   "nbconvert_exporter": "python",
   "pygments_lexer": "ipython3",
   "version": "3.9.0-final"
  },
  "orig_nbformat": 2,
  "kernelspec": {
   "name": "python3",
   "display_name": "Python 3"
  }
 },
 "nbformat": 4,
 "nbformat_minor": 2,
 "cells": [
  {
   "source": [
    "# Генераторы\n",
    "\n",
    "С точки зрения реализации, генератор в Python — это языковая конструкция, которую можно реализовать двумя способами: как функция с ключевым словом ```yield``` или как генераторное выражение. В результате вызова функции или вычисления выражения, получаем объект-генератор типа ```generator```.\n",
    "\n",
    "Пример выражения-генератора аналога ```range``` и его эквивалент в виде функции-генератора:"
   ],
   "cell_type": "markdown",
   "metadata": {}
  },
  {
   "cell_type": "code",
   "execution_count": 7,
   "metadata": {},
   "outputs": [
    {
     "output_type": "stream",
     "name": "stdout",
     "text": [
      "g = <generator object <genexpr> at 0x0000026C8C409F20>\ntype(g) = <class 'generator'>\ndir(g) = ['__class__', '__del__', '__delattr__', '__dir__', '__doc__', '__eq__', '__format__', '__ge__', '__getattribute__', '__gt__', '__hash__', '__init__', '__init_subclass__', '__iter__', '__le__', '__lt__', '__name__', '__ne__', '__new__', '__next__', '__qualname__', '__reduce__', '__reduce_ex__', '__repr__', '__setattr__', '__sizeof__', '__str__', '__subclasshook__', 'close', 'gi_code', 'gi_frame', 'gi_running', 'gi_yieldfrom', 'send', 'throw']\nhasattr(g, \"__iter__\") = True\nhasattr(g, \"__next__\") = True\n"
     ]
    }
   ],
   "source": [
    "g = (i for i in range(5))\n",
    "print(f'{g = }')\n",
    "print(f'{type(g) = }')\n",
    "print(f'{dir(g) = }')\n",
    "print(f'{hasattr(g, \"__iter__\") = }')\n",
    "print(f'{hasattr(g, \"__next__\") = }')"
   ]
  },
  {
   "cell_type": "code",
   "execution_count": 3,
   "metadata": {},
   "outputs": [
    {
     "output_type": "stream",
     "name": "stdout",
     "text": [
      "g = <generator object count at 0x000001AD343E5200>\ntype(g) = <class 'generator'>\n"
     ]
    }
   ],
   "source": [
    "def count(n):\n",
    "    for i in range(n):\n",
    "        yield i\n",
    "\n",
    "g = count(5)\n",
    "print(f'{g = }')\n",
    "print(f'{type(g) = }')"
   ]
  },
  {
   "source": [
    "В объекте-генераторе определены методы ```__next__``` и ```__iter__```, то есть, реализован протокол итератора, с этой точки зрения, в Python любой генератор является итератором.\n",
    "\n",
    "Концептуально, итератор -- это механизм поэлементного обхода данных, а генератор позволяет отложено (лениво) создавать результат при итерации. Генератор может создавать результат на основе какого-то алгоритма или брать элементы из источника данных (коллекция, файлы, сетевое подключения и т.д.) и изменять их.\n",
    "\n",
    "<img src=\"../03_collections/image/gen_iter.png\">\n",
    "\n",
    "Примером генератора является функция ```enumerate```:"
   ],
   "cell_type": "markdown",
   "metadata": {}
  },
  {
   "cell_type": "code",
   "execution_count": 2,
   "metadata": {},
   "outputs": [
    {
     "output_type": "stream",
     "name": "stdout",
     "text": [
      "['__class__', '__class_getitem__', '__delattr__', '__dir__', '__doc__', '__eq__', '__format__', '__ge__', '__getattribute__', '__gt__', '__hash__', '__init__', '__init_subclass__', '__iter__', '__le__', '__lt__', '__ne__', '__new__', '__next__', '__reduce__', '__reduce_ex__', '__repr__', '__setattr__', '__sizeof__', '__str__', '__subclasshook__']\n"
     ]
    }
   ],
   "source": [
    "res = enumerate([1, 2, 3])\n",
    "print(dir(res))"
   ]
  },
  {
   "source": [
    "Генераторы могут быть конечны и бесконечны. Функция ```count```, описанная выше, конечный генератор. Заменяя в ней цикл с условием на бесконечный цикл можно получить бесконечный счетчик.\n",
    "\n",
    "Данная функция уже реализована в модуле ```itertools```.\n",
    "\n",
    "Рассмотрим работу генераторов более подробно на следующей функции. "
   ],
   "cell_type": "markdown",
   "metadata": {}
  },
  {
   "cell_type": "code",
   "execution_count": 63,
   "metadata": {},
   "outputs": [],
   "source": [
    "def foo():\n",
    "    print('--> 1')\n",
    "    yield 1\n",
    "    print('--> 2')\n",
    "    yield 2"
   ]
  },
  {
   "source": [
    "Инструкция ```yield``` временно приостанавливает работу функции-генератора, а не завершает ее как ```return``` или появление исключения. Для пошаговой демонстрации воспользуемся функцией ```next```. Вызывая функцию ```next```, генератор ```foo``` выполняется до соответствующей инструкции ```yield```. При первом вызове ```next```, выполнение дойдет до строки ```yield 1``` и выполнение остановиться, в ожидании следующего вызова ```next```. Выражение, стоящее справа от ```yield``` будет возвращено как новое значение генератора. Справа от ```yield``` может ничего не быть, в этом случае будет возвращено ```None```.\n",
    "\n",
    "Когда генератор будет исчерпан, например, выполнение дойдет до инструкции ```return```, то автоматически будет возвращено исключение ```StopIteration```. Вся информация, которая будет указана после ```return```, добавиться в описание исключения. Стоит помнить, что в Python функции возвращают ```None``` даже в условии отсутствия ```return```."
   ],
   "cell_type": "markdown",
   "metadata": {}
  },
  {
   "cell_type": "code",
   "execution_count": 68,
   "metadata": {},
   "outputs": [
    {
     "output_type": "stream",
     "name": "stdout",
     "text": [
      "gen = <generator object foo at 0x000001AD347C2200>\ntype(gen) = <class 'generator'>\n------------------------------\n--> 1\nnext(gen) = 1\n--> 2\nnext(gen) = 2\n"
     ]
    },
    {
     "output_type": "error",
     "ename": "StopIteration",
     "evalue": "",
     "traceback": [
      "\u001b[1;31m---------------------------------------------------------------------------\u001b[0m",
      "\u001b[1;31mStopIteration\u001b[0m                             Traceback (most recent call last)",
      "\u001b[1;32m<ipython-input-68-d49b83838aba>\u001b[0m in \u001b[0;36m<module>\u001b[1;34m\u001b[0m\n\u001b[0;32m      6\u001b[0m \u001b[0mprint\u001b[0m\u001b[1;33m(\u001b[0m\u001b[1;34mf'{next(gen) = }'\u001b[0m\u001b[1;33m)\u001b[0m\u001b[1;33m\u001b[0m\u001b[1;33m\u001b[0m\u001b[0m\n\u001b[0;32m      7\u001b[0m \u001b[0mprint\u001b[0m\u001b[1;33m(\u001b[0m\u001b[1;34mf'{next(gen) = }'\u001b[0m\u001b[1;33m)\u001b[0m\u001b[1;33m\u001b[0m\u001b[1;33m\u001b[0m\u001b[0m\n\u001b[1;32m----> 8\u001b[1;33m \u001b[0mprint\u001b[0m\u001b[1;33m(\u001b[0m\u001b[1;34mf'{next(gen) = }'\u001b[0m\u001b[1;33m)\u001b[0m  \u001b[1;31m# StopIteration\u001b[0m\u001b[1;33m\u001b[0m\u001b[1;33m\u001b[0m\u001b[0m\n\u001b[0m",
      "\u001b[1;31mStopIteration\u001b[0m: "
     ]
    }
   ],
   "source": [
    "gen = foo()\n",
    "print(f'{gen = }')\n",
    "print(f'{type(gen) = }')\n",
    "print('-' * 30)\n",
    "\n",
    "print(f'{next(gen) = }')\n",
    "print(f'{next(gen) = }')\n",
    "print(f'{next(gen) = }')  # StopIteration"
   ]
  },
  {
   "source": [
    "Попробуйте пошагово выполнить этот код на [pythontutor](http://www.pythontutor.com/visualize.html#code=def%20foo%28%29%3A%0A%20%20%20%20print%28'--%3E%201'%29%0A%20%20%20%20yield%201%0A%20%20%20%20print%28'--%3E%202'%29%0A%20%20%20%20yield%202%0A%0Agen%20%3D%20foo%28%29%0Aprint%28next%28gen%29%29%0Aprint%28next%28gen%29%29&cumulative=false&curInstr=0&heapPrimitives=true&mode=display&origin=opt-frontend.js&py=3&rawInputLstJSON=%5B%5D&textReferences=false) и проследить, как работает генератор.\n",
    "\n",
    "Генераторы, как и итераторы, исчерпаемы, это значит повторное использование невозможно."
   ],
   "cell_type": "markdown",
   "metadata": {}
  },
  {
   "cell_type": "code",
   "execution_count": 69,
   "metadata": {},
   "outputs": [
    {
     "output_type": "stream",
     "name": "stdout",
     "text": [
      "(1): list(gen) = [1, 2]\n(2): list(gen) = []\n"
     ]
    }
   ],
   "source": [
    "def foo():\n",
    "    yield 1\n",
    "    yield 2\n",
    "\n",
    "gen = foo()\n",
    "\n",
    "print(f'(1): {list(gen) = }')\n",
    "print(f'(2): {list(gen) = }')"
   ]
  },
  {
   "source": [
    "Ниже приведен пример полноценного генераторы, вычисляющего новые значения по определенному алгоритму.\n",
    "\n",
    "Функция ```kaprekar_function``` вычисляет количество шагов выполнения [функции Капрекара](https://en.wikipedia.org/wiki/Kaprekar%27s_routine), пока число не достигнет определенной константы. Генератор ```gkaprekar``` проверяет первые ```n``` чисел."
   ],
   "cell_type": "markdown",
   "metadata": {}
  },
  {
   "cell_type": "code",
   "execution_count": 57,
   "metadata": {
    "tags": []
   },
   "outputs": [
    {
     "output_type": "stream",
     "name": "stdout",
     "text": [
      "10 (9, 1)\n11 (11, 1)\n12 (9, 1)\n13 (9, 5)\n14 (9, 3)\n"
     ]
    }
   ],
   "source": [
    "from typing import Union, Generator\n",
    "\n",
    "\n",
    "def kaprekar_function(n: int) -> tuple[int, int]:\n",
    "    \"\"\"Функция Капрекара.\n",
    "    Совершает действие: вычислить разницу между числом, \n",
    "    состоящим из цифр исходного числа, стоящих по убыванию, \n",
    "    и числом, состоящим из цифр исходного числа, стоящих \n",
    "    по возрастанию. \n",
    "    Шаги прекращаются когда число совпадает \n",
    "    с постоянной Капрекара.\n",
    "    Подробнее см.: https://en.wikipedia.org/wiki/Kaprekar%27s_routine\n",
    "\n",
    "    >>> kaprekar_function(876)\n",
    "    (495, 5)\n",
    "    >>> kaprekar_function(3412)\n",
    "    (6174, 3)\n",
    "    \n",
    "    :param n: исходное число\n",
    "    :type n: int\n",
    "    :return: пару чисел (x, y), где x - константа к которой \n",
    "             сходится исходное число, y - число шагов.\n",
    "    :rtype: tuple[int, int]\n",
    "    \"\"\"\n",
    "    count = 0\n",
    "    old_n = 0\n",
    "    while n != old_n and n > 0:\n",
    "        old_n = n\n",
    "        digits = list(str(n))\n",
    "        n1 = int(''.join(sorted(digits, reverse=True)))\n",
    "        n2 = int(''.join(sorted(digits)))\n",
    "        n = n1 - n2\n",
    "        count += 1\n",
    "    return old_n, count - 1 if count > 1 else count\n",
    "\n",
    "def gkaprekar(start: int, stop: Union[int]=None, /) -> Generator[tuple[int, tuple[int, int]], None, None]:\n",
    "    \"\"\"Генератор для функции Капрекара.\n",
    "    Подробнее см. kaprekar_function.\n",
    "\n",
    "    >>> list(gkaprekar(5))\n",
    "    [(0, (0, 0)), (1, (0, 1)), (2, (0, 1)), (3, (0, 1)), (4, (0, 1))]\n",
    "    >>> list(gkaprekar(10, 15))\n",
    "    [(10, (0, 1)), (11, (0, 1)), (12, (0, 1)), (13, (0, 5)), (14, (0, 3))]\n",
    "\n",
    "    :param start: Когда функция вызывается с одним параметрам \n",
    "                  этот аргумент означает правую границу \n",
    "                  интервала [0, start). В случае вызова функции \n",
    "                  с двумя аргументами, он характеризует левую \n",
    "                  границу [start, stop).\n",
    "    :type start: int\n",
    "    :param stop: В случае вызова функции с двумя аргументами, stop \n",
    "                 характеризует правую границу [start, stop).\n",
    "    :type stap: int\n",
    "\n",
    "    :return: Пары выда (i, K(i)), где i - проверяемое число, \n",
    "             K(i) - значение функции Капрекара (см. kaprekar_function).\n",
    "    :rtype: Generator[tuple[int, tuple[int, int]], None, None]\n",
    "    \"\"\"\n",
    "    if stop is None:\n",
    "        start, stop = 0, start\n",
    "    for i in range(start, stop):\n",
    "        yield i, kaprekar_function(i)\n",
    "\n",
    "for j, item in gkaprekar(10, 15):\n",
    "    print(j, item)"
   ]
  },
  {
   "source": [
    "## Параметрические генераторы\n",
    "\n",
    "Обычные генераторы великолепны, но что делать если в процессе работы генератора ему нужно передавать какие-либо параметры? Эту задачу решает инструкция ```yield``` и метод ```send```. Рассмотренные до этого генераторы использовали ```yield``` только для возвращения нового значения. Но используя ```yield``` также можно обозначить место, куда можно передать значение. \n",
    "\n",
    "В следующем примере демонстрируется эта возможность. Теперь в генераторе есть строка ```x = yield 1```. Она обозначает, что то, что стоит после ```yield``` будет возвращено из генератора (как в предыдущих примерах), но теперь мы связываем результат, которые возвращает ```yield``` с именем ```x```."
   ],
   "cell_type": "markdown",
   "metadata": {}
  },
  {
   "cell_type": "code",
   "execution_count": 77,
   "metadata": {},
   "outputs": [
    {
     "output_type": "stream",
     "name": "stdout",
     "text": [
      "next(gen) = 1\nnext(gen) = None\n"
     ]
    }
   ],
   "source": [
    "def foo():\n",
    "    x = yield 1\n",
    "    yield x\n",
    "\n",
    "gen = foo()\n",
    "print(f'{next(gen) = }')\n",
    "print(f'{next(gen) = }')"
   ]
  },
  {
   "source": [
    "Постойте, мы вызываем этот генератор два раза. В первом случае, как и ожидалось, возвращается 1, а почему во втором случае вернулось ```None```? И каким образом можно передать значение в генератор? Дело в том, что в процессе работы генератору нельзя передать значения \"классическим\" способом, с помощью круглых скобок. Для этого используется специальный метод ```send```. Этот метод принимает значения, они передаются в соответствующее место внутри генератора."
   ],
   "cell_type": "markdown",
   "metadata": {}
  },
  {
   "cell_type": "code",
   "execution_count": 78,
   "metadata": {},
   "outputs": [
    {
     "output_type": "stream",
     "name": "stdout",
     "text": [
      "next(gen) = 1\ngen.send(3) = 3\n"
     ]
    }
   ],
   "source": [
    "gen = foo()\n",
    "print(f'{next(gen) = }')\n",
    "print(f'{gen.send(3) = }')"
   ]
  },
  {
   "source": [
    "Обратите внимание, что во второй раз мы не использовали функцию ```next```. Давайте рассмотрим происходящее по шагам. Первым делом вызывается функция ```next(gen)```, она выполняет генератор до следующего ```yield```. В генераторе ```foo``` это строка ```x = yield 1```. Генератор возвращает первое значений равное 1. Затем, ожидается, что ему будет передано значение, генератор ожидает следующего вызова. Во второй раз мы используем ```gen.send(3)```. Этой строкой мы совершаем сразу два действия: передаем значение ```3``` и запрашиваем следующее значение, т.е. метод ```send``` выполняет сразу две операции. "
   ],
   "cell_type": "markdown",
   "metadata": {}
  },
  {
   "source": [
    "# Полезные ссылки\n",
    "\n",
    "- [Iterables vs. Iterators vs. Generators (статья с пояснением различий этих понятий)](https://nvie.com/posts/iterators-vs-generators/)\n",
    "- [Документация](https://docs.python.org/3/tutorial/classes.html#generators)\n",
    "- [Как работает yield](https://habr.com/ru/post/132554/)\n",
    "- [Монументальный доклад Д. Бизли \"A Curious Course on Coroutines and Concurrency\"](http://www.dabeaz.com/coroutines/Coroutines.pdf)"
   ],
   "cell_type": "markdown",
   "metadata": {}
  }
 ]
}