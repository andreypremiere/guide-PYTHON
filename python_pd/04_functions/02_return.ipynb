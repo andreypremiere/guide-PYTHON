{
 "metadata": {
  "language_info": {
   "codemirror_mode": {
    "name": "ipython",
    "version": 3
   },
   "file_extension": ".py",
   "mimetype": "text/x-python",
   "name": "python",
   "nbconvert_exporter": "python",
   "pygments_lexer": "ipython3",
   "version": "3.9.0-final"
  },
  "orig_nbformat": 2,
  "kernelspec": {
   "name": "python3",
   "display_name": "Python 3"
  }
 },
 "nbformat": 4,
 "nbformat_minor": 2,
 "cells": [
  {
   "source": [
    "# Оператор ```return```\n",
    "\n",
    "Для того, чтобы вернуть что-либо из функции необходимо использовать оператор ```return```. Для того, чтобы вернуть значение достаточно указать его сразу после ```return```. Несмотря на это он является не обязательным. В Python функции **всегда** возвращают результат, вне зависимости от наличия ```return```. в случает отсутствия ```return``` функция вернет ```None```. Отсутствие ```return``` эквивалентно ```return None```, поэтому последнее можно опускать. Еще одной эквивалентной конструкцией является указание просто ```return``` без аргумента. В этом случае также будет возвращено ```None```."
   ],
   "cell_type": "markdown",
   "metadata": {}
  },
  {
   "cell_type": "code",
   "execution_count": 1,
   "metadata": {},
   "outputs": [
    {
     "output_type": "stream",
     "name": "stdout",
     "text": [
      "foo() = 42\nbar() = None\nbaz() = None\nquz() = None\n"
     ]
    }
   ],
   "source": [
    "def foo():\n",
    "    \"\"\"Функция возвращает одно значение\"\"\"\n",
    "    return 42\n",
    "\n",
    "print(f'{foo() = }')\n",
    "\n",
    "def bar():\n",
    "    \"\"\"Функция возвращает None\"\"\"\n",
    "    return None\n",
    "\n",
    "def baz():\n",
    "    \"\"\"Функция возвращает None\"\"\"\n",
    "    return\n",
    "\n",
    "def quz():\n",
    "    \"\"\"Функция возвращает None\"\"\"\n",
    "    pass\n",
    "\n",
    "print(f'{bar() = }')\n",
    "print(f'{baz() = }')\n",
    "print(f'{quz() = }')"
   ]
  },
  {
   "source": [
    "Из функции можно вернуть сразу несколько значений. Для этого достаточно после ```return``` указать несколько значений через запятую. На самом деле в этом случае будет возвращено одно значение - кортеж, состоящий из указанных значений."
   ],
   "cell_type": "markdown",
   "metadata": {}
  },
  {
   "cell_type": "code",
   "execution_count": 2,
   "metadata": {},
   "outputs": [
    {
     "output_type": "stream",
     "name": "stdout",
     "text": [
      "foo() = (1, 2, 3)\ntype(foo()) = <class 'tuple'>\n"
     ]
    }
   ],
   "source": [
    "def foo():\n",
    "    return 1, 2, 3\n",
    "\n",
    "print(f'{foo() = }')\n",
    "print(f'{type(foo()) = }')"
   ]
  },
  {
   "source": [
    "Результат, возвращаемый из функции, можно связать с именем с помощью знака ```=````. Слева от него должен находиться идентификатор, а слева вызов функции. Если функция возвращает несколько значений, то можно использовать распаковку значений, по аналогии с распаковкой коллекций."
   ],
   "cell_type": "markdown",
   "metadata": {}
  },
  {
   "cell_type": "code",
   "execution_count": 3,
   "metadata": {},
   "outputs": [
    {
     "output_type": "stream",
     "name": "stdout",
     "text": [
      "a = 1, b = (1, 2, 3)\nc = 1, d = 2, e = 3\n"
     ]
    }
   ],
   "source": [
    "def spam():\n",
    "    return 1\n",
    "\n",
    "def eggs():\n",
    "    return 1, 2, 3\n",
    "\n",
    "# связывание результата функции с новым именем\n",
    "a = spam()\n",
    "b = eggs()\n",
    "\n",
    "# распаковка результата фкнции\n",
    "c, d, e = eggs()\n",
    "\n",
    "print(f'{a = }, {b = }')\n",
    "print(f'{c = }, {d = }, {e = }')"
   ]
  },
  {
   "source": [
    "Некоторые встроенные функции \"не возвращают\" результат, например, функция вывода ```print```. В качестве результата выступает ```None```. Поэтому будет полностью логично связать ее результат с именем."
   ],
   "cell_type": "markdown",
   "metadata": {}
  },
  {
   "cell_type": "code",
   "execution_count": 4,
   "metadata": {},
   "outputs": [
    {
     "output_type": "stream",
     "name": "stdout",
     "text": [
      "Ничего\na = None\n"
     ]
    }
   ],
   "source": [
    "a = print('Ничего')\n",
    "print(f'{a = }')"
   ]
  },
  {
   "cell_type": "code",
   "execution_count": null,
   "metadata": {},
   "outputs": [],
   "source": []
  }
 ]
}