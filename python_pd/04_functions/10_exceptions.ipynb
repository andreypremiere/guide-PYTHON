{
 "metadata": {
  "language_info": {
   "codemirror_mode": {
    "name": "ipython",
    "version": 3
   },
   "file_extension": ".py",
   "mimetype": "text/x-python",
   "name": "python",
   "nbconvert_exporter": "python",
   "pygments_lexer": "ipython3",
   "version": "3.9.0-final"
  },
  "orig_nbformat": 2,
  "kernelspec": {
   "name": "python3",
   "display_name": "Python 3"
  }
 },
 "nbformat": 4,
 "nbformat_minor": 2,
 "cells": [
  {
   "source": [
    "# Исключения\n",
    "\n",
    "Исключения это ситуации, которые могут возникнуть во время выполнения программы и приводят к невозможности дальнейшей корректной работы. Обычно их используют для описания крайних ситуаций, например деление на ноль, отсутствия файла и т.д.\n",
    "\n",
    "Все исключения в Python наследуются от базового класса ```BaseException```, от которого в свою очередь наследуется класс ```Exception```, объединяющий большинство исключений.\n",
    "\n",
    "В Python существует большое количество возможных исключений, например:\n",
    "\n",
    "- ошибки типов  ```TypeError```;\n",
    "- ошибки значений ```ValueError```;\n",
    "- синтаксические ошибки ```SyntaxError```;\n",
    "- предупреждения ```Warning```;\n",
    "- и т.д. \n",
    "\n",
    "Подробнее об их иерархии и назначении можно прочитать в [документации](https://docs.python.org/3.9/library/exceptions.html#exception-hierarchy). \n",
    "\n",
    "Вот примеры некоторых исключительных ситуаций:"
   ],
   "cell_type": "markdown",
   "metadata": {}
  },
  {
   "cell_type": "code",
   "execution_count": 2,
   "metadata": {},
   "outputs": [
    {
     "output_type": "error",
     "ename": "TypeError",
     "evalue": "can only concatenate str (not \"int\") to str",
     "traceback": [
      "\u001b[1;31m---------------------------------------------------------------------------\u001b[0m",
      "\u001b[1;31mTypeError\u001b[0m                                 Traceback (most recent call last)",
      "\u001b[1;32m<ipython-input-2-38466658948b>\u001b[0m in \u001b[0;36m<module>\u001b[1;34m\u001b[0m\n\u001b[1;32m----> 1\u001b[1;33m \u001b[1;34m'1'\u001b[0m \u001b[1;33m+\u001b[0m \u001b[1;36m1\u001b[0m  \u001b[1;31m# TypeError\u001b[0m\u001b[1;33m\u001b[0m\u001b[1;33m\u001b[0m\u001b[0m\n\u001b[0m",
      "\u001b[1;31mTypeError\u001b[0m: can only concatenate str (not \"int\") to str"
     ]
    }
   ],
   "source": [
    "'1' + 1  # TypeError"
   ]
  },
  {
   "cell_type": "code",
   "execution_count": 4,
   "metadata": {},
   "outputs": [
    {
     "output_type": "error",
     "ename": "SyntaxError",
     "evalue": "invalid syntax (<ipython-input-4-5829399992a5>, line 1)",
     "traceback": [
      "\u001b[1;36m  File \u001b[1;32m\"<ipython-input-4-5829399992a5>\"\u001b[1;36m, line \u001b[1;32m1\u001b[0m\n\u001b[1;33m    1.e\u001b[0m\n\u001b[1;37m      ^\u001b[0m\n\u001b[1;31mSyntaxError\u001b[0m\u001b[1;31m:\u001b[0m invalid syntax\n"
     ]
    }
   ],
   "source": [
    "1.e  # SyntaxError"
   ]
  },
  {
   "source": [
    "Для самостоятельного возбуждения исключений используется инструкция ```raise```, после которой указывается тип исключения. Например:"
   ],
   "cell_type": "markdown",
   "metadata": {}
  },
  {
   "cell_type": "code",
   "execution_count": 2,
   "metadata": {},
   "outputs": [
    {
     "output_type": "error",
     "ename": "ValueError",
     "evalue": "",
     "traceback": [
      "\u001b[1;31m---------------------------------------------------------------------------\u001b[0m",
      "\u001b[1;31mValueError\u001b[0m                                Traceback (most recent call last)",
      "\u001b[1;32m<ipython-input-2-e4c8e09828d5>\u001b[0m in \u001b[0;36m<module>\u001b[1;34m\u001b[0m\n\u001b[1;32m----> 1\u001b[1;33m \u001b[1;32mraise\u001b[0m \u001b[0mValueError\u001b[0m\u001b[1;33m\u001b[0m\u001b[1;33m\u001b[0m\u001b[0m\n\u001b[0m",
      "\u001b[1;31mValueError\u001b[0m: "
     ]
    }
   ],
   "source": [
    "raise ValueError"
   ]
  },
  {
   "source": [
    "# Обработка исключений\n",
    "\n",
    "Для обработки исключений используется конструкцию ```try ... except ... else ... finally```. Ветки ```try``` и ```except``` являются обязательными, в то время как остальные опциональны. Веток ```except``` может быть несколько, остальные ветки могут присутствовать в единственном экземпляре.\n",
    "\n",
    "В ветке ```try``` располагается код, который может вызывать исключение. Хорошим тоном является расположение минимального количества кода в ```try```.\n",
    "\n",
    "Ветка ```except``` предназначена для отслеживания исключений. После ключевого слова ```except``` желательно указывать тип исключения, которое нужно обработать. Если после ```except``` не указать какое исключение ожидается, то он примет любое исключение. Если указано несколько веток ```except``` с разными типами исключений, то они будут проверяться последовательно пока тип исклбчения не совпадет, что аналогично выполнению условного оператора.\n",
    "\n",
    "Последовательность выполнения конструкции ```try ... except ... else ... finally``` следующая. Выполняется код внутри ```try```, если он вызывает исключение происходит последовательная проверка на совпадения типа исключения и типа указанного после ```except```. Если типы совпадают, код внутри соответствующего ```except``` выполняется. Если исключения не произошло выполняется код внутри ```else```. В заключении выполняется код внутри ```finaly```. Ветка ```finaly``` выполняется в любом случае, в независимости от того было исключение или нет."
   ],
   "cell_type": "markdown",
   "metadata": {}
  },
  {
   "cell_type": "code",
   "execution_count": 5,
   "metadata": {},
   "outputs": [
    {
     "output_type": "stream",
     "name": "stdout",
     "text": [
      "Ввод пользователя: 'qwe'\nВведено не целое число\n"
     ]
    }
   ],
   "source": [
    "x = input()\n",
    "print(f'Ввод пользователя: {repr(x)}')\n",
    "\n",
    "try:\n",
    "    x = int(x)\n",
    "except ValueError:\n",
    "    print('Введено не целое число')"
   ]
  },
  {
   "cell_type": "code",
   "execution_count": 6,
   "metadata": {},
   "outputs": [
    {
     "output_type": "stream",
     "name": "stdout",
     "text": [
      "Ввод пользователя: '4'\nВведено целое число: 4\nВыполняется в любом случае\n"
     ]
    }
   ],
   "source": [
    "x = input()\n",
    "print(f'Ввод пользователя: {repr(x)}')\n",
    "\n",
    "try:\n",
    "    x = int(x)\n",
    "except ValueError:\n",
    "    print('Введено не целое число')\n",
    "else:\n",
    "    print(f'Введено целое число: {x}')\n",
    "finally:\n",
    "    print('Выполняется в любом случае')"
   ]
  },
  {
   "source": [
    "Использовать ```except``` без указания исключения считается плохой практикой, также как и указывать в качестве исключения ```Exception```, так как он является предком для большого семейства исключений. Также не рекомендуется помещать в блок ```try``` большие блоки кода. Это ухудшит читаемость и затруднит отладку. Нужно выделять только те участки, где нужно обработать исключение. Стоит помнить, что исключения нужны для исключительных ситуаций, т.е. не нужно использовать их повсеместно (особенно там, где можно обойтись условным оператором).\n",
    "\n",
    "С исключением можно работать, для этого в ```except``` пишут выражение ```Exception as e```. На место ```Exception``` записывается тип нужного исключения. Переменная ```e``` может иметь и другое имя, в большинстве случаем принято называть так. "
   ],
   "cell_type": "markdown",
   "metadata": {}
  },
  {
   "cell_type": "code",
   "execution_count": 10,
   "metadata": {},
   "outputs": [
    {
     "output_type": "stream",
     "name": "stdout",
     "text": [
      "Ввод пользователя: 'qwe'\nЧто-то пошло не так: invalid literal for int() with base 10: 'qwe'\n"
     ]
    }
   ],
   "source": [
    "x = input()\n",
    "print(f'Ввод пользователя: {repr(x)}')\n",
    "\n",
    "try:\n",
    "    x = int(x)\n",
    "except ValueError as e:\n",
    "    print(f'Что-то пошло не так: {e}')"
   ]
  },
  {
   "source": [
    "Время жизни это переменной ограничено веткой ```except```. В этом можно убедиться на следующем примере."
   ],
   "cell_type": "markdown",
   "metadata": {}
  },
  {
   "cell_type": "code",
   "execution_count": 11,
   "metadata": {},
   "outputs": [
    {
     "output_type": "stream",
     "name": "stdout",
     "text": [
      "Ввод пользователя: 'qwe'\nЧто-то пошло не так: invalid literal for int() with base 10: 'qwe'\n"
     ]
    },
    {
     "output_type": "error",
     "ename": "NameError",
     "evalue": "name 'e' is not defined",
     "traceback": [
      "\u001b[1;31m---------------------------------------------------------------------------\u001b[0m",
      "\u001b[1;31mNameError\u001b[0m                                 Traceback (most recent call last)",
      "\u001b[1;32m<ipython-input-11-feff086c44ab>\u001b[0m in \u001b[0;36m<module>\u001b[1;34m\u001b[0m\n\u001b[0;32m      8\u001b[0m     \u001b[0mprint\u001b[0m\u001b[1;33m(\u001b[0m\u001b[1;34mf'Что-то пошло не так: {e}'\u001b[0m\u001b[1;33m)\u001b[0m\u001b[1;33m\u001b[0m\u001b[1;33m\u001b[0m\u001b[0m\n\u001b[0;32m      9\u001b[0m \u001b[1;33m\u001b[0m\u001b[0m\n\u001b[1;32m---> 10\u001b[1;33m \u001b[0mprint\u001b[0m\u001b[1;33m(\u001b[0m\u001b[1;34mf'{e = }'\u001b[0m\u001b[1;33m)\u001b[0m\u001b[1;33m\u001b[0m\u001b[1;33m\u001b[0m\u001b[0m\n\u001b[0m",
      "\u001b[1;31mNameError\u001b[0m: name 'e' is not defined"
     ]
    }
   ],
   "source": [
    "x = input()\n",
    "print(f'Ввод пользователя: {repr(x)}')\n",
    "\n",
    "e = 0\n",
    "try:\n",
    "    x = int(x)\n",
    "except ValueError as e:\n",
    "    print(f'Что-то пошло не так: {e}')\n",
    "\n",
    "print(f'{e = }')  # переменная e удалена"
   ]
  },
  {
   "source": [
    "В случае если возникла необходимость работать с исключением вне блока ```except``` нужно его сохранить в дополнительной переменной."
   ],
   "cell_type": "markdown",
   "metadata": {}
  },
  {
   "cell_type": "code",
   "execution_count": 13,
   "metadata": {},
   "outputs": [
    {
     "output_type": "stream",
     "name": "stdout",
     "text": [
      "exception = ZeroDivisionError('division by zero')\ntype(exception) = <class 'ZeroDivisionError'>\n"
     ]
    }
   ],
   "source": [
    "exception = None\n",
    "try:\n",
    "    1/0\n",
    "except ZeroDivisionError as e:\n",
    "    exception = e\n",
    "\n",
    "print(f'{exception = }')\n",
    "print(f'{type(exception) = }')"
   ]
  },
  {
   "source": [
    "Иногда бывает необходимость возбудить исключение в связи с другим исключением, т.е. связать их, для этого используется оператор ```raise ... from ...```. Это бывает полезно для отслеживания причины появления ошибок.\n",
    "\n",
    "Могут возникнуть случаи, когда исключения возникают в неожиданных местах, например в ветках except или finally. Тогда интерпретатор использует связывание исключений и выводит осмысленное сообщение об ошибке без лишних затруднений."
   ],
   "cell_type": "markdown",
   "metadata": {}
  },
  {
   "cell_type": "code",
   "execution_count": 14,
   "metadata": {},
   "outputs": [
    {
     "output_type": "error",
     "ename": "RuntimeError",
     "evalue": "Что-то пошло не так",
     "traceback": [
      "\u001b[1;31m---------------------------------------------------------------------------\u001b[0m",
      "\u001b[1;31mKeyError\u001b[0m                                  Traceback (most recent call last)",
      "\u001b[1;32m<ipython-input-14-5af458b3395c>\u001b[0m in \u001b[0;36m<module>\u001b[1;34m\u001b[0m\n\u001b[0;32m      1\u001b[0m \u001b[1;32mtry\u001b[0m\u001b[1;33m:\u001b[0m\u001b[1;33m\u001b[0m\u001b[1;33m\u001b[0m\u001b[0m\n\u001b[1;32m----> 2\u001b[1;33m     \u001b[1;33m{\u001b[0m\u001b[1;33m}\u001b[0m\u001b[1;33m[\u001b[0m\u001b[1;34m'a'\u001b[0m\u001b[1;33m]\u001b[0m\u001b[1;33m\u001b[0m\u001b[1;33m\u001b[0m\u001b[0m\n\u001b[0m\u001b[0;32m      3\u001b[0m \u001b[1;32mexcept\u001b[0m \u001b[0mKeyError\u001b[0m \u001b[1;32mas\u001b[0m \u001b[0me\u001b[0m\u001b[1;33m:\u001b[0m\u001b[1;33m\u001b[0m\u001b[1;33m\u001b[0m\u001b[0m\n",
      "\u001b[1;31mKeyError\u001b[0m: 'a'",
      "\nThe above exception was the direct cause of the following exception:\n",
      "\u001b[1;31mRuntimeError\u001b[0m                              Traceback (most recent call last)",
      "\u001b[1;32m<ipython-input-14-5af458b3395c>\u001b[0m in \u001b[0;36m<module>\u001b[1;34m\u001b[0m\n\u001b[0;32m      2\u001b[0m     \u001b[1;33m{\u001b[0m\u001b[1;33m}\u001b[0m\u001b[1;33m[\u001b[0m\u001b[1;34m'a'\u001b[0m\u001b[1;33m]\u001b[0m\u001b[1;33m\u001b[0m\u001b[1;33m\u001b[0m\u001b[0m\n\u001b[0;32m      3\u001b[0m \u001b[1;32mexcept\u001b[0m \u001b[0mKeyError\u001b[0m \u001b[1;32mas\u001b[0m \u001b[0me\u001b[0m\u001b[1;33m:\u001b[0m\u001b[1;33m\u001b[0m\u001b[1;33m\u001b[0m\u001b[0m\n\u001b[1;32m----> 4\u001b[1;33m     \u001b[1;32mraise\u001b[0m \u001b[0mRuntimeError\u001b[0m\u001b[1;33m(\u001b[0m\u001b[1;34m'Что-то пошло не так'\u001b[0m\u001b[1;33m)\u001b[0m \u001b[1;32mfrom\u001b[0m \u001b[0me\u001b[0m\u001b[1;33m\u001b[0m\u001b[1;33m\u001b[0m\u001b[0m\n\u001b[0m",
      "\u001b[1;31mRuntimeError\u001b[0m: Что-то пошло не так"
     ]
    }
   ],
   "source": [
    "try:\n",
    "    {}['a']\n",
    "except KeyError as e:\n",
    "    raise RuntimeError('Что-то пошло не так') from e"
   ]
  },
  {
   "source": [
    "Обратите внимание, что переменные, созданные внутри блока ```try```, остаются доступны после его выполнения только в том случае, если операция связывания была выполнена до возбуждения исключения."
   ],
   "cell_type": "markdown",
   "metadata": {}
  },
  {
   "cell_type": "code",
   "execution_count": 17,
   "metadata": {},
   "outputs": [
    {
     "output_type": "stream",
     "name": "stdout",
     "text": [
      "Деление на ноль!\na = 'до'\n"
     ]
    },
    {
     "output_type": "error",
     "ename": "NameError",
     "evalue": "name 'b' is not defined",
     "traceback": [
      "\u001b[1;31m---------------------------------------------------------------------------\u001b[0m",
      "\u001b[1;31mNameError\u001b[0m                                 Traceback (most recent call last)",
      "\u001b[1;32m<ipython-input-17-ba737413be32>\u001b[0m in \u001b[0;36m<module>\u001b[1;34m\u001b[0m\n\u001b[0;32m      7\u001b[0m \u001b[1;33m\u001b[0m\u001b[0m\n\u001b[0;32m      8\u001b[0m \u001b[0mprint\u001b[0m\u001b[1;33m(\u001b[0m\u001b[1;34mf'{a = }'\u001b[0m\u001b[1;33m)\u001b[0m\u001b[1;33m\u001b[0m\u001b[1;33m\u001b[0m\u001b[0m\n\u001b[1;32m----> 9\u001b[1;33m \u001b[0mprint\u001b[0m\u001b[1;33m(\u001b[0m\u001b[1;34mf'{b = }'\u001b[0m\u001b[1;33m)\u001b[0m\u001b[1;33m\u001b[0m\u001b[1;33m\u001b[0m\u001b[0m\n\u001b[0m\u001b[0;32m     10\u001b[0m \u001b[0mprint\u001b[0m\u001b[1;33m(\u001b[0m\u001b[1;34mf'{c = }'\u001b[0m\u001b[1;33m)\u001b[0m\u001b[1;33m\u001b[0m\u001b[1;33m\u001b[0m\u001b[0m\n",
      "\u001b[1;31mNameError\u001b[0m: name 'b' is not defined"
     ]
    }
   ],
   "source": [
    "try:\n",
    "    a = 'до'\n",
    "    b = 1/0\n",
    "    c = 'после'\n",
    "except ZeroDivisionError:\n",
    "    print('Деление на ноль!')\n",
    "\n",
    "print(f'{a = }')\n",
    "print(f'{b = }')\n",
    "print(f'{c = }')"
   ]
  },
  {
   "source": [
    "Поэтому хорошим тоном будет создать переменные заранее."
   ],
   "cell_type": "markdown",
   "metadata": {}
  },
  {
   "cell_type": "code",
   "execution_count": 18,
   "metadata": {},
   "outputs": [
    {
     "output_type": "stream",
     "name": "stdout",
     "text": [
      "Деление на ноль!\na = None\n"
     ]
    }
   ],
   "source": [
    "a = None\n",
    "try:\n",
    "    a = 1/0\n",
    "except ZeroDivisionError:\n",
    "    print('Деление на ноль!')\n",
    "\n",
    "print(f'{a = }')"
   ]
  },
  {
   "source": [
    "# Принцип **EAFP**\n",
    "\n",
    "Принцип [**EAFP**](https://docs.python.org/3.9/glossary.html#term-eafp) (easier to ask for forgiveness than permission) или \"проще просить прощения, чем разрешения\". Этот принцип основан на предположении, что определенная операция всегда выполняется корректно. В случае не корректного выполнения просто обрабатывается ошибка. Таким образом этот принцип отдает предпочтение конструкциям ```try ... except ...```, а не ```if .. else ...```. Код, следующий этому принципу, считается немного более читаемым (субъективно), а также следования ему значит следование питоническому пути (хотя Гвидо [не считает](https://mail.python.org/pipermail/python-dev/2014-March/133118.html), что **EAFP** необходимо строго следовать)."
   ],
   "cell_type": "markdown",
   "metadata": {}
  },
  {
   "cell_type": "code",
   "execution_count": 20,
   "metadata": {},
   "outputs": [
    {
     "output_type": "stream",
     "name": "stdout",
     "text": [
      "Ключ не найден\n"
     ]
    }
   ],
   "source": [
    "d = {'a': 1, 'b': 2}\n",
    "\n",
    "try:\n",
    "    d['c']\n",
    "except KeyError:\n",
    "    print('Ключ не найден')"
   ]
  },
  {
   "source": [
    "# Принцип **LBYL**\n",
    "\n",
    "Противоположностью принципу **EAFP** выступает принцип [**LBYL**](https://docs.python.org/3/glossary.html#term-lbyl) (look before you leap) или \"смотри прежде чем прыгать\" (~~смотри куда прешь~~). Следуя этому принципу, необходимо сначала выполнить проверку, а затем действие."
   ],
   "cell_type": "markdown",
   "metadata": {}
  },
  {
   "cell_type": "code",
   "execution_count": 22,
   "metadata": {},
   "outputs": [
    {
     "output_type": "stream",
     "name": "stdout",
     "text": [
      "Ключ не найден\n"
     ]
    }
   ],
   "source": [
    "d = {'a': 1, 'b': 2}\n",
    "\n",
    "if 'c' not in d:\n",
    "    print('Ключ не найден')"
   ]
  },
  {
   "source": [
    "# Полезные ссылки\n",
    "\n",
    "- [Гвидо о EAFP](https://mail.python.org/pipermail/python-dev/2014-March/133118.html)\n",
    "- [What is the EAFP principle in Python?](https://stackoverflow.com/questions/11360858/what-is-the-eafp-principle-in-python)\n",
    "- [Как быстро работают исключения? (сравнение ```if ... else ...``` и ```try ... except ...```)](https://stackoverflow.com/questions/8107695/python-faq-how-fast-are-exceptions)"
   ],
   "cell_type": "markdown",
   "metadata": {}
  }
 ]
}