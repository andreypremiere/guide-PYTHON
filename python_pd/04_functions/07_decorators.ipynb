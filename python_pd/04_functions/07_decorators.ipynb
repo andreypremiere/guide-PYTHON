{
 "metadata": {
  "language_info": {
   "codemirror_mode": {
    "name": "ipython",
    "version": 3
   },
   "file_extension": ".py",
   "mimetype": "text/x-python",
   "name": "python",
   "nbconvert_exporter": "python",
   "pygments_lexer": "ipython3",
   "version": "3.9.0"
  },
  "orig_nbformat": 2,
  "kernelspec": {
   "name": "python3",
   "display_name": "Python 3.9.0 64-bit ('.venv')"
  },
  "interpreter": {
   "hash": "178cad48488a45b94c2e1acb3bfd8ec03d0e926b0801a270a439a0363b59c19a"
  }
 },
 "nbformat": 4,
 "nbformat_minor": 2,
 "cells": [
  {
   "cell_type": "markdown",
   "source": [
    "# Декораторы\r\n",
    "\r\n",
    "Декоратор это функция, которая в качестве одного из аргументов принимает объект и что-то возвращает. Декораторы в Python можно применять ко всему: функциям, классам и методам. Основная цель декораторов – изменить поведение объекта, не меняя сам объект. Это очень гибкая функциональная возможность языка.\r\n",
    "\r\n",
    "Декорирование функций происходит с помощью следующего синтаксиса\r\n",
    "\r\n",
    "```Python\r\n",
    "@decorator\r\n",
    "def function():\r\n",
    "    ...\r\n",
    "```\r\n",
    "\r\n",
    "Такая запись будет аналогично следующему определению:\r\n",
    "\r\n",
    "```Python\r\n",
    "def function():\r\n",
    "    ...\r\n",
    "\r\n",
    "function = decorator(function)\r\n",
    "```\r\n",
    "\r\n",
    "В этом случае результат выполнения функции ```decorator``` записывается обратно по имени ```function```. Таким образом происходит подмена функции, связанной с именем ```function```, на результат выполнения декоратора.\r\n",
    "\r\n",
    "С помощью декораторов можно, например, измерять время выполнения функций, контролировать количество вызовов, кеширование, вывод предупреждений об использовании устаревших функций, трассировка, использование в контрактном программировании.\r\n",
    "\r\n",
    "Рассмотрим пример измерения времени выполнения кода функции."
   ],
   "metadata": {}
  },
  {
   "cell_type": "code",
   "execution_count": 5,
   "source": [
    "import time\r\n",
    "\r\n",
    "def timeit(f):\r\n",
    "    \"\"\"Декоратор вычисления времени выполнения функции\"\"\"\r\n",
    "    def inner(*args, **kwargs):\r\n",
    "        start = time.time()\r\n",
    "        # запускаем декорируемую функцию, передавая ее параметры\r\n",
    "        # имя f определено в объемлющей области видимости\r\n",
    "        res = f(*args, **kwargs)\r\n",
    "        end = time.time()\r\n",
    "        print(f'{end - start} seconds')\r\n",
    "        # не забываем вернуть результат выполнения исходной функции\r\n",
    "        return res\r\n",
    "    return inner\r\n",
    "\r\n",
    "\r\n",
    "@timeit\r\n",
    "def my_sum(*args, **kwargs):\r\n",
    "    \"\"\"Функция суммы\"\"\"\r\n",
    "    return sum(*args, **kwargs)\r\n",
    "\r\n",
    "\r\n",
    "res = my_sum([i for i in range(int(1e5))])"
   ],
   "outputs": [
    {
     "output_type": "stream",
     "name": "stdout",
     "text": [
      "0.0010006427764892578 seconds\n"
     ]
    }
   ],
   "metadata": {}
  },
  {
   "cell_type": "markdown",
   "source": [
    "В такой реализации есть несколько проблем:\n",
    "- нет возможности отключить трассировку;\n",
    "- вывод в стандартный поток вывода (```sys.stdout```);\n",
    "- пропала строка документации и атрибуты декорируемой функции."
   ],
   "metadata": {}
  },
  {
   "cell_type": "code",
   "execution_count": 6,
   "source": [
    "print(f'{my_sum.__name__ = }')\r\n",
    "print(f'{my_sum.__doc__ = }')\r\n",
    "help(my_sum)"
   ],
   "outputs": [
    {
     "output_type": "stream",
     "name": "stdout",
     "text": [
      "my_sum.__name__ = 'inner'\n",
      "my_sum.__doc__ = None\n",
      "Help on function inner in module __main__:\n",
      "\n",
      "inner(*args, **kwargs)\n",
      "\n"
     ]
    }
   ],
   "metadata": {}
  },
  {
   "cell_type": "markdown",
   "source": [
    "Так как в Python функции являются объектами, то их можно изменять во время выполнения. В этом кроется решение упомянутых выше проблем. Можно скопировать нужные атрибуты декорируемой функции.\r\n",
    "\r\n",
    "Чтобы не копировать каждый атрибут вручную существует готовая реализация этого функционала в модуле ```functools``` стандартной библиотеки."
   ],
   "metadata": {}
  },
  {
   "cell_type": "code",
   "execution_count": 7,
   "source": [
    "from functools import wraps\r\n",
    "\r\n",
    "\r\n",
    "def timeit(f):\r\n",
    "    \"\"\"Декоратор вычисления времени выполнения функции\"\"\"\r\n",
    "    # декорируем внутреннюю функцию декоратором wraps\r\n",
    "    # он заменит атрибуты функции inner атрибутами исходной функции\r\n",
    "    @wraps(f)\r\n",
    "    def inner(*args, **kwargs):\r\n",
    "        start = time.time()\r\n",
    "        res = f(*args, **kwargs)\r\n",
    "        end = time.time()\r\n",
    "        print(f'{end - start} seconds')\r\n",
    "        return res\r\n",
    "    return inner\r\n",
    "\r\n",
    "\r\n",
    "@timeit\r\n",
    "def my_sum(*args, **kwargs):\r\n",
    "    \"\"\"Функция суммы\"\"\"\r\n",
    "    return sum(*args, **kwargs)\r\n",
    "\r\n",
    "\r\n",
    "print(f'{my_sum.__name__ = }')\r\n",
    "print(f'{my_sum.__doc__ = }')\r\n",
    "help(my_sum)"
   ],
   "outputs": [
    {
     "output_type": "stream",
     "name": "stdout",
     "text": [
      "my_sum.__name__ = 'my_sum'\n",
      "my_sum.__doc__ = 'Функция суммы'\n",
      "Help on function my_sum in module __main__:\n",
      "\n",
      "my_sum(*args, **kwargs)\n",
      "    Функция суммы\n",
      "\n"
     ]
    }
   ],
   "metadata": {}
  },
  {
   "cell_type": "markdown",
   "source": [
    "# Параметризованные декораторы\r\n",
    "\r\n",
    "У реализованного нами декоратора сильно ограниченное применение, попробуем его расширить.\r\n",
    "\r\n",
    "Отключение декоратора можно реализовать, используя глобальную переменную, например, ```DEC_ENABLED```, принимающую значение ```True```, если декоратор активен и ```False``` в противном случае.\r\n",
    "\r\n",
    "Возможность вывода не только в стандартный поток (```sys.stdout```), но и в поток ошибок (```sys.stderr```) или файл можно с помощью передачи аргументов. Добавление аргументов к декораторам немного усложняет задачу.\r\n",
    "\r\n",
    "```python\r\n",
    "@decorator(arg)\r\n",
    "def foo():\r\n",
    "    ...\r\n",
    "```\r\n",
    "\r\n",
    "В этом случае добавляется дополнительный этап, а именно вычисление декоратора.\r\n",
    "\r\n",
    "```python\r\n",
    "def foo():\r\n",
    "    ...\r\n",
    "\r\n",
    "dec = decorator(x)  # новый этап\r\n",
    "foo = dec(foo)\r\n",
    "```\r\n",
    "\r\n",
    "Решить проблему передачи аргументов можно несколькими способами. Первый из них, и не самый лучший заключается в добавлении еще одной вложенной функции."
   ],
   "metadata": {}
  },
  {
   "cell_type": "code",
   "execution_count": 8,
   "source": [
    "import sys\r\n",
    "\r\n",
    "\r\n",
    "DEC_ENABLED = True\r\n",
    "\r\n",
    "\r\n",
    "def timeit(file):\r\n",
    "    # Функция timeit теперь не является самим декоратором,\r\n",
    "    # а только вычисляет (возвращает) его.\r\n",
    "    # Это нужно для создания еще одного уровня объемлющей области\r\n",
    "    # видимости для хранения алгументов декоратора.\r\n",
    "    def dec(func):\r\n",
    "        # Далее все идет как обычно\r\n",
    "        @wraps(func)\r\n",
    "        def inner(*args, **kwargs):\r\n",
    "            start = time.time()\r\n",
    "            res = func(*args, **kwargs)\r\n",
    "            end = time.time()\r\n",
    "            # Здесь можно использовать аргументы\r\n",
    "            # из объемлющей области видимости\r\n",
    "            print(f'{end - start} seconds', file=file)\r\n",
    "            return res\r\n",
    "        return inner if DEC_ENABLED else func\r\n",
    "    return dec\r\n",
    "\r\n",
    "\r\n",
    "@timeit(sys.stderr)\r\n",
    "def my_sum(*args, **kwargs):\r\n",
    "    \"\"\"Функция суммы\"\"\"\r\n",
    "    return sum(*args, **kwargs)\r\n",
    "\r\n",
    "\r\n",
    "res = my_sum([i for i in range(int(1e5))])\r\n",
    "print(res)"
   ],
   "outputs": [
    {
     "output_type": "stream",
     "name": "stdout",
     "text": [
      "4999950000\n"
     ]
    },
    {
     "output_type": "stream",
     "name": "stderr",
     "text": [
      "0.0009989738464355469 seconds\n"
     ]
    }
   ],
   "metadata": {}
  },
  {
   "cell_type": "markdown",
   "source": [
    "Такой вариант будет работать при декорировании следующим образом ```@timeit(sys.stderr)```. Однако постоянно писать декораторы с тройной вложенностью это не путь питониста. Можно один раз сделать декоратор для декоратора, позволяющий передавать аргументы (да, декоратор для декоратора)."
   ],
   "metadata": {}
  },
  {
   "cell_type": "code",
   "execution_count": 9,
   "source": [
    "from functools import update_wrapper\r\n",
    "\r\n",
    "\r\n",
    "def with_args(dec):\r\n",
    "    \"\"\"Декоратор позволяющий передавать аргументы в декоратор\"\"\"\r\n",
    "    @wraps(dec)\r\n",
    "    def wrapper(*args, **kwargs):\r\n",
    "        # wrapper это обертка, принимающая аргументы декоратора\r\n",
    "        def decorator(func):\r\n",
    "            res = dec(func, *args, **kwargs)\r\n",
    "            update_wrapper(res, func)\r\n",
    "            return res\r\n",
    "        return decorator\r\n",
    "    return wrapper"
   ],
   "outputs": [],
   "metadata": {}
  },
  {
   "cell_type": "markdown",
   "source": [
    "Функция ```with_args``` принимает декоратор, оборачивает его в обертку ```wrapper```, внутри которой происходит создание нового декоратора. Исходный декоратор при этом не изменяется."
   ],
   "metadata": {}
  },
  {
   "cell_type": "code",
   "execution_count": 10,
   "source": [
    "DEC_ENABLED = True\r\n",
    "\r\n",
    "\r\n",
    "# теперь можно указать аргументы сразу после обязательного\r\n",
    "# аргумента-функции func\r\n",
    "@with_args\r\n",
    "def timeit(func, file):\r\n",
    "    def inner(*args, **kwargs):\r\n",
    "        start = time.time()\r\n",
    "        res = func(*args, **kwargs)\r\n",
    "        end = time.time()\r\n",
    "        print(f'{end - start} seconds', file=file)\r\n",
    "        return res\r\n",
    "    return inner if DEC_ENABLED else func\r\n",
    "\r\n",
    "\r\n",
    "@timeit(sys.stderr)\r\n",
    "def my_sum(*args, **kwargs):\r\n",
    "    \"\"\"Функция суммы\"\"\"\r\n",
    "    return sum(*args, **kwargs)\r\n",
    "\r\n",
    "\r\n",
    "res = my_sum([i for i in range(int(1e5))])\r\n",
    "print(res)"
   ],
   "outputs": [
    {
     "output_type": "stream",
     "name": "stdout",
     "text": [
      "4999950000\n"
     ]
    },
    {
     "output_type": "stream",
     "name": "stderr",
     "text": [
      "0.0020020008087158203 seconds\n"
     ]
    }
   ],
   "metadata": {}
  },
  {
   "cell_type": "markdown",
   "source": [
    "Однако это все еще слишком сложно. Гораздо удобнее добавить возможность\r\n",
    "вызывать декоратор без аргументов, т.е. добавить два варианта работы:\r\n",
    "\r\n",
    "```python\r\n",
    "@dec\r\n",
    "def func():\r\n",
    "    ...\r\n",
    "```\r\n",
    "\r\n",
    "```python\r\n",
    "@dec(a=1, b=2, с=3)\r\n",
    "def func():\r\n",
    "    ...\r\n",
    "```\r\n",
    "\r\n",
    "Попробуем воспользоваться только ключевыми аргументами."
   ],
   "metadata": {}
  },
  {
   "cell_type": "code",
   "execution_count": 12,
   "source": [
    "DEC_ENABLED = True\r\n",
    "\r\n",
    "\r\n",
    "def timeit(func=None, *, file=sys.stderr):\r\n",
    "    # Здесь используем * для определения file как ключевого аргумента\r\n",
    "    # дополнительно задаем аргументу func значение поумолчанию.\r\n",
    "    # Это необходимо для определения варианта вызова \r\n",
    "    # Условие ниже выполнится только в случае вызова декоратора с аргументами\r\n",
    "    if func is None:\r\n",
    "        def dec(func):\r\n",
    "            return timeit(func, file=file)\r\n",
    "        return dec if DEC_ENABLED else func\r\n",
    "    @wraps(func)\r\n",
    "    def inner(*args, **kwargs):\r\n",
    "        start = time.time()\r\n",
    "        res = func(*args, **kwargs)\r\n",
    "        end = time.time()\r\n",
    "        print(f'{end - start} seconds', file=file)\r\n",
    "        return res\r\n",
    "    return inner if DEC_ENABLED else func"
   ],
   "outputs": [],
   "metadata": {}
  },
  {
   "cell_type": "markdown",
   "source": [
    "Теперь декоратор ```timeit``` можно вызывать двумя способами. Во-первых, не передавая никаких аргументов. Тогда вывод будет осуществляться в стандартный поток вывода. При этом помня, что декоратор раскрывается как ```f = timeit(f)```, можно видеть, что аргумент ```func``` принимает значение функции ```f```. Тогда первое условие не будет выполнено, а будет создана обертка ```inner```."
   ],
   "metadata": {}
  },
  {
   "cell_type": "code",
   "execution_count": 13,
   "source": [
    "DEC_ENABLED = True\r\n",
    "\r\n",
    "\r\n",
    "@timeit\r\n",
    "def my_sum(*args, **kwargs):\r\n",
    "    \"\"\"Функция суммы\"\"\"\r\n",
    "    return sum(*args, **kwargs)\r\n",
    "\r\n",
    "\r\n",
    "res = my_sum([i for i in range(int(1e5))])\r\n",
    "print(res)"
   ],
   "outputs": [
    {
     "output_type": "stream",
     "name": "stdout",
     "text": [
      "4999950000\n"
     ]
    },
    {
     "output_type": "stream",
     "name": "stderr",
     "text": [
      "0.0019986629486083984 seconds\n"
     ]
    }
   ],
   "metadata": {}
  },
  {
   "cell_type": "markdown",
   "source": [
    "Во-вторых, передавая в качестве именованного аргумента ```file``` ```sys.stderr``` имя файла. В этом случае происходит явный вызов декоратора ```timeit(file=sys.stderr)``` без передачи аргумента ```func```, в связи с этим он принимает значение ```None```, а значит, выполняется первое условие и создается обертка ```dec```. Стоит отметить, что этот способ реализации декоратора позволяет передавать только ключевые аргумента. В большинстве случаев это улучшает читаемость кода, т.к. сразу видно за что отвечают определенные значения. "
   ],
   "metadata": {}
  },
  {
   "cell_type": "code",
   "execution_count": 14,
   "source": [
    "DEC_ENABLED = True\r\n",
    "\r\n",
    "\r\n",
    "@timeit(file=sys.stderr)\r\n",
    "def my_sum(*args, **kwargs):\r\n",
    "    \"\"\"Функция суммы\"\"\"\r\n",
    "    return sum(*args, **kwargs)\r\n",
    "\r\n",
    "\r\n",
    "res = my_sum([i for i in range(int(1e5))])\r\n",
    "print(res)"
   ],
   "outputs": [
    {
     "output_type": "stream",
     "name": "stdout",
     "text": [
      "4999950000\n"
     ]
    },
    {
     "output_type": "stream",
     "name": "stderr",
     "text": [
      "0.0009996891021728516 seconds\n"
     ]
    }
   ],
   "metadata": {}
  },
  {
   "cell_type": "markdown",
   "source": [
    "Благодаря переменной ```DEC_ENABLED``` измерение времени можно отключить. В этом случае никаких накладных расходов, связанных с вызовом дополнительных функций не будет.\r\n",
    "\r\n",
    "К одной функции можно применить сразу несколько декораторов, порядок их работы будет зависеть от порядка их применения к функции. Рассмотрим на примере гамбургера."
   ],
   "metadata": {}
  },
  {
   "cell_type": "code",
   "execution_count": 15,
   "source": [
    "def with_bun(f):\r\n",
    "    @wraps(f)\r\n",
    "    def inner():\r\n",
    "        print('-' * 8)\r\n",
    "        f()\r\n",
    "        print('-' * 8)\r\n",
    "    return inner\r\n",
    "\r\n",
    "\r\n",
    "def with_vegetables(f):\r\n",
    "    @wraps(f)\r\n",
    "    def inner():\r\n",
    "        print(' onion')\r\n",
    "        f()\r\n",
    "        print(' tomato')\r\n",
    "    return inner\r\n",
    "\r\n",
    "\r\n",
    "def with_sauce(f):\r\n",
    "    @wraps(f)\r\n",
    "    def inner():\r\n",
    "        print(' sauce')\r\n",
    "        f()\r\n",
    "    return inner"
   ],
   "outputs": [],
   "metadata": {}
  },
  {
   "cell_type": "markdown",
   "source": [
    "Определим основную функцию и задекорируем ее."
   ],
   "metadata": {}
  },
  {
   "cell_type": "code",
   "execution_count": 16,
   "source": [
    "@with_bun\r\n",
    "@with_vegetables\r\n",
    "@with_sauce\r\n",
    "def burger():\r\n",
    "    print(' cutlet')\r\n",
    "\r\n",
    "\r\n",
    "burger()"
   ],
   "outputs": [
    {
     "output_type": "stream",
     "name": "stdout",
     "text": [
      "--------\n",
      " onion\n",
      " sauce\n",
      " cutlet\n",
      " tomato\n",
      "--------\n"
     ]
    }
   ],
   "metadata": {}
  },
  {
   "cell_type": "markdown",
   "source": [
    "Если записать явно такое декорирование, то получиться следующая последовательность вызовов:"
   ],
   "metadata": {}
  },
  {
   "cell_type": "code",
   "execution_count": 17,
   "source": [
    "def burger():\r\n",
    "    print(' cutlet')\r\n",
    "\r\n",
    "\r\n",
    "burger = with_sauce(burger)\r\n",
    "burger = with_vegetables(burger)\r\n",
    "burger = with_bun(burger)\r\n",
    "\r\n",
    "\r\n",
    "burger()"
   ],
   "outputs": [
    {
     "output_type": "stream",
     "name": "stdout",
     "text": [
      "--------\n",
      " onion\n",
      " sauce\n",
      " cutlet\n",
      " tomato\n",
      "--------\n"
     ]
    }
   ],
   "metadata": {}
  },
  {
   "cell_type": "markdown",
   "source": [
    "Первым будет применяться самый нижний (внутренний) декоратор. Если\r\n",
    "изменить последовательность декорирования, то результат ожидаемо\r\n",
    "изменится.\r\n",
    "\r\n",
    "Вот еще пару примеров декораторов. Декоратор трассировки вызовов функций:"
   ],
   "metadata": {}
  },
  {
   "cell_type": "code",
   "execution_count": 20,
   "source": [
    "def trace(function=None, *, file=sys.stderr):\r\n",
    "    if function is None:\r\n",
    "        def dec(function):\r\n",
    "            return trace(function, file=file)\r\n",
    "        return dec if DEC_ENABLED else function\r\n",
    "\r\n",
    "    @wraps(function)\r\n",
    "    def inner(*args, **kwargs):\r\n",
    "        print(f'{function.__name__}, {args}, {kwargs}')\r\n",
    "        return function(*args, **kwargs)\r\n",
    "    return inner if DEC_ENABLED else function\r\n",
    "\r\n",
    "\r\n",
    "@trace\r\n",
    "def foo():\r\n",
    "    print('Nothing')\r\n",
    "\r\n",
    "\r\n",
    "foo()\r\n",
    "print('-' * 25)\r\n",
    "\r\n",
    "\r\n",
    "@trace\r\n",
    "def bar():\r\n",
    "    foo()\r\n",
    "    print('Unagi')\r\n",
    "\r\n",
    "\r\n",
    "bar()"
   ],
   "outputs": [
    {
     "output_type": "stream",
     "name": "stdout",
     "text": [
      "foo, (), {}\n",
      "Nothing\n",
      "-------------------------\n",
      "bar, (), {}\n",
      "foo, (), {}\n",
      "Nothing\n",
      "Unagi\n"
     ]
    }
   ],
   "metadata": {}
  },
  {
   "cell_type": "markdown",
   "source": [
    "Декоратор проверки входа пользователя в систему (в упрощенном виде). "
   ],
   "metadata": {}
  },
  {
   "cell_type": "code",
   "execution_count": 45,
   "source": [
    "def is_authenticated(user):\r\n",
    "    return user in ('monty', 'guido')\r\n",
    "\r\n",
    "\r\n",
    "def login_required(function=None, login_url=''):\r\n",
    "    def user_passes_test(view_func):\r\n",
    "        @wraps(view_func)\r\n",
    "        def wrapped(user, *args, **kwargs):\r\n",
    "            if is_authenticated(user):\r\n",
    "                return view_func(user, *args, **kwargs)\r\n",
    "            print(f'Пользователь {user} перенаправлен на страницу логина: {login_url}')\r\n",
    "        return wrapped\r\n",
    "\r\n",
    "    if function:\r\n",
    "        return user_passes_test(function)\r\n",
    "    return user_passes_test\r\n",
    "\r\n",
    "\r\n",
    "@login_required(login_url='localhost/login')\r\n",
    "def foo(user):\r\n",
    "    print(f'{user = }')\r\n",
    "\r\n",
    "\r\n",
    "foo('monty')\r\n",
    "foo('guido')\r\n",
    "foo('pyuty')"
   ],
   "outputs": [
    {
     "output_type": "stream",
     "name": "stdout",
     "text": [
      "user = 'monty'\n",
      "user = 'guido'\n",
      "Пользователь pyuty перенаправлен на страницу логина: localhost/login\n"
     ]
    }
   ],
   "metadata": {}
  },
  {
   "cell_type": "markdown",
   "source": [
    "# Полезные ссылки\r\n",
    "\r\n",
    "- [Decorators with parameters?](https://stackoverflow.com/questions/5929107/decorators-with-parameters)\r\n",
    "- [Reuven M. Lerner - Practical decorators - PyCon 2019](https://www.youtube.com/watch?v=MjHpMCIvwsY&feature=youtu.be)\r\n",
    "- [Добавление атрибута к функции](https://stackoverflow.com/questions/47056059/best-way-to-add-attributes-to-a-python-function)"
   ],
   "metadata": {}
  }
 ]
}