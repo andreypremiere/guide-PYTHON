{
 "metadata": {
  "language_info": {
   "codemirror_mode": {
    "name": "ipython",
    "version": 3
   },
   "file_extension": ".py",
   "mimetype": "text/x-python",
   "name": "python",
   "nbconvert_exporter": "python",
   "pygments_lexer": "ipython3",
   "version": "3.9.0"
  },
  "orig_nbformat": 2,
  "kernelspec": {
   "name": "python3",
   "display_name": "Python 3.9.0 64-bit ('.venv': venv)"
  },
  "interpreter": {
   "hash": "178cad48488a45b94c2e1acb3bfd8ec03d0e926b0801a270a439a0363b59c19a"
  }
 },
 "nbformat": 4,
 "nbformat_minor": 2,
 "cells": [
  {
   "cell_type": "markdown",
   "source": [
    "# Анонимные функции\n",
    "\n",
    "Анонимные или ```lambda``` функции это один из полезных элементов функционального программирования в Python. Их синтаксис довольно прост.\n",
    "\n",
    "```Python\n",
    "lambda [аргументы]: выражение\n",
    "```\n",
    "\n",
    "Основное отличие этих функций от обычных - отсутствие имен. При создании ```lambda``` функции она не связывается и именем и поэтому создавать ее \"просто так\" не имеет смысла. Отсутствие оператора ``` return``` является другим отличием от обычных функций. Телом анонимной функции выступает одно выражение, результат которого сразу возвращается. Не стоит использовать эти функции для выполнения сложных операций."
   ],
   "metadata": {}
  },
  {
   "cell_type": "code",
   "execution_count": 1,
   "source": [
    "lambda x, y: x + y"
   ],
   "outputs": [
    {
     "output_type": "execute_result",
     "data": {
      "text/plain": [
       "<function __main__.<lambda>(x, y)>"
      ]
     },
     "metadata": {},
     "execution_count": 1
    }
   ],
   "metadata": {}
  },
  {
   "cell_type": "code",
   "execution_count": 2,
   "source": [
    "(lambda x, y: x + y)(1, 2)"
   ],
   "outputs": [
    {
     "output_type": "execute_result",
     "data": {
      "text/plain": [
       "3"
      ]
     },
     "metadata": {},
     "execution_count": 2
    }
   ],
   "metadata": {}
  },
  {
   "cell_type": "markdown",
   "source": [
    "```lambda``` функции могут использовать все возможности аргументов в Python. \n",
    "\n",
    "Анонимные функции, как и обычные, можно связать с именем, которое затем использовать."
   ],
   "metadata": {}
  },
  {
   "cell_type": "code",
   "execution_count": 3,
   "source": [
    "foo = lambda x, y: x + y\r\n",
    "print(f'{foo = }')\r\n",
    "print(f'{type(foo) = }')\r\n",
    "print(f'{foo(1, 2) = }')"
   ],
   "outputs": [
    {
     "output_type": "stream",
     "name": "stdout",
     "text": [
      "foo = <function <lambda> at 0x0000016398AF7B80>\n",
      "type(foo) = <class 'function'>\n",
      "foo(1, 2) = 3\n"
     ]
    }
   ],
   "metadata": {}
  },
  {
   "cell_type": "markdown",
   "source": [
    "В большинстве случаев такие функции используются для однократного применения. В случаях, когда нужно создать функцию \"здесь и сейчас\" и которая будет не нужна в дальнейшем. Эти функции отлично подходят для передачи в другие функции в качестве аргумента."
   ],
   "metadata": {}
  },
  {
   "cell_type": "code",
   "execution_count": 4,
   "source": [
    "def foo(a, b, op=None):\r\n",
    "    if op is None:\r\n",
    "        return a + b\r\n",
    "    return op(a, b)\r\n",
    "\r\n",
    "print(f'{foo(1, 2, lambda x, y: x ** y) = }')\r\n",
    "print(f'{foo(1, 2, lambda x, y: x + y) = }')\r\n",
    "print(f'{foo(1, 2, lambda x, y: x - y) = }')"
   ],
   "outputs": [
    {
     "output_type": "stream",
     "name": "stdout",
     "text": [
      "foo(1, 2, lambda x, y: x ** y) = 1\n",
      "foo(1, 2, lambda x, y: x + y) = 3\n",
      "foo(1, 2, lambda x, y: x - y) = -1\n"
     ]
    }
   ],
   "metadata": {}
  },
  {
   "cell_type": "markdown",
   "source": [
    "Для приведенного выше пример лучше использовать модуль ```operator```, который реализует все доступные операторы в Python."
   ],
   "metadata": {}
  },
  {
   "cell_type": "code",
   "execution_count": 5,
   "source": [
    "import operator\r\n",
    "\r\n",
    "print(f'{foo(1, 2, operator.pow) = }')\r\n",
    "print(f'{foo(1, 2, operator.add) = }')\r\n",
    "print(f'{foo(1, 2, operator.sub) = }')"
   ],
   "outputs": [
    {
     "output_type": "stream",
     "name": "stdout",
     "text": [
      "foo(1, 2, operator.pow) = 1\n",
      "foo(1, 2, operator.add) = 3\n",
      "foo(1, 2, operator.sub) = -1\n"
     ]
    }
   ],
   "metadata": {}
  },
  {
   "cell_type": "markdown",
   "source": [
    "Еще одним применением анонимных функций можно выделить использование для произвольной сортировки коллекций с помощью аргумента ```key``` функции ```sorted``` или метода ```sort```."
   ],
   "metadata": {}
  },
  {
   "cell_type": "code",
   "execution_count": 6,
   "source": [
    "xs = [1, 4, 0, -1, 3, 4, 5, 8]\r\n",
    "\r\n",
    "# сортировка в обратном порядке\r\n",
    "# лучше использовать аргумент reverse=True\r\n",
    "ys = sorted(xs, key=lambda x: -x)\r\n",
    "\r\n",
    "# сортировка списка в пордяке: сначала четные по неубыванию, \r\n",
    "# затем нечетные по неубыванию\r\n",
    "zs = sorted(xs, key=lambda x: (x % 2, x))\r\n",
    "\r\n",
    "print(f'{ys = }')\r\n",
    "print(f'{zs = }')"
   ],
   "outputs": [
    {
     "output_type": "stream",
     "name": "stdout",
     "text": [
      "ys = [8, 5, 4, 4, 3, 1, 0, -1]\n",
      "zs = [0, 4, 4, 8, -1, 1, 3, 5]\n"
     ]
    }
   ],
   "metadata": {}
  },
  {
   "cell_type": "markdown",
   "source": [
    "В Python есть и другие элементы функционального программирования:\n",
    "- ```map``` - применение функции к каждому элементу коллекции;\n",
    "- ```zip``` - поэлементное объединение коллекций;\n",
    "- ```filter``` - фильтрация коллекции.\n",
    "\n",
    "Все эти функции возвращают итераторы, лениво вычисляющие следующие значения."
   ],
   "metadata": {}
  },
  {
   "cell_type": "code",
   "execution_count": 7,
   "source": [
    "s = '196'\r\n",
    "\r\n",
    "# преобразование строки с числом в набор цифр\r\n",
    "digits = map(int, s)\r\n",
    "print(f'{digits = }')\r\n",
    "print(f'{type(digits) = }')\r\n",
    "print(f'{list(digits) = }')"
   ],
   "outputs": [
    {
     "output_type": "stream",
     "name": "stdout",
     "text": [
      "digits = <map object at 0x0000016398B435E0>\n",
      "type(digits) = <class 'map'>\n",
      "list(digits) = [1, 9, 6]\n"
     ]
    }
   ],
   "metadata": {}
  },
  {
   "cell_type": "code",
   "execution_count": 8,
   "source": [
    "xs = [1, 2, 3, 4]\r\n",
    "ys = 'absd'\r\n",
    "\r\n",
    "# объединение нескольких коллекций\r\n",
    "foo = zip(xs, ys)\r\n",
    "\r\n",
    "print(f'{foo = }')\r\n",
    "print(f'{type(foo) = }')\r\n",
    "print(f'{list(foo) = }')"
   ],
   "outputs": [
    {
     "output_type": "stream",
     "name": "stdout",
     "text": [
      "foo = <zip object at 0x0000016398B40C40>\n",
      "type(foo) = <class 'zip'>\n",
      "list(foo) = [(1, 'a'), (2, 'b'), (3, 's'), (4, 'd')]\n"
     ]
    }
   ],
   "metadata": {}
  },
  {
   "cell_type": "code",
   "execution_count": 9,
   "source": [
    "xs = [1, 4, 0, -1, 3, 4, 5, 8]\r\n",
    "\r\n",
    "# выбор только положительных чисел из списка\r\n",
    "positive = filter(lambda x: x > 0, xs)\r\n",
    "\r\n",
    "print(f'{positive = }')\r\n",
    "print(f'{type(positive) = }')\r\n",
    "print(f'{list(positive) = }')"
   ],
   "outputs": [
    {
     "output_type": "stream",
     "name": "stdout",
     "text": [
      "positive = <filter object at 0x0000016398B438B0>\n",
      "type(positive) = <class 'filter'>\n",
      "list(positive) = [1, 4, 3, 4, 5, 8]\n"
     ]
    }
   ],
   "metadata": {}
  },
  {
   "cell_type": "markdown",
   "source": [
    "Вот еще несколько примеров включений и анонимных функций. Они сделаны\r\n",
    "скорее ради челленджа и изучения работы этого механизма, нежели ради\r\n",
    "практического применения. Не стоит говорить, что писать так не стоит."
   ],
   "metadata": {}
  },
  {
   "cell_type": "code",
   "execution_count": 10,
   "source": [
    "# Первые 10 чисел Фибоначчи\r\n",
    "xs = list(map(lambda x, f=lambda x, f:(f(x-1, f) + f(x-2, f)) if x > 1 else 1: f(x, f), range(10)))\r\n",
    "\r\n",
    "print(xs)"
   ],
   "outputs": [
    {
     "output_type": "stream",
     "name": "stdout",
     "text": [
      "[1, 1, 2, 3, 5, 8, 13, 21, 34, 55]\n"
     ]
    }
   ],
   "metadata": {}
  },
  {
   "cell_type": "code",
   "execution_count": 11,
   "source": [
    "# Простые числа < 1000\r\n",
    "# Для простоты понимания этот пример оформлен в несколько строк.\r\n",
    "# На самом деле это \"честный\" однострочник\r\n",
    "\r\n",
    "from functools import reduce\r\n",
    "\r\n",
    "xs = list(\r\n",
    "    filter(\r\n",
    "        None,\r\n",
    "        map(\r\n",
    "            lambda y: y * reduce(lambda x, y: x * y != 0, map(\r\n",
    "                lambda x, y=y: y % x, range(2, int(pow(y, 0.5) + 1))\r\n",
    "            ), 1),\r\n",
    "            range(2, 1000)\r\n",
    "        )\r\n",
    "    )\r\n",
    ")\r\n",
    "\r\n",
    "print(xs)"
   ],
   "outputs": [
    {
     "output_type": "stream",
     "name": "stdout",
     "text": [
      "[2, 3, 5, 7, 11, 13, 17, 19, 23, 29, 31, 37, 41, 43, 47, 53, 59, 61, 67, 71, 73, 79, 83, 89, 97, 101, 103, 107, 109, 113, 127, 131, 137, 139, 149, 151, 157, 163, 167, 173, 179, 181, 191, 193, 197, 199, 211, 223, 227, 229, 233, 239, 241, 251, 257, 263, 269, 271, 277, 281, 283, 293, 307, 311, 313, 317, 331, 337, 347, 349, 353, 359, 367, 373, 379, 383, 389, 397, 401, 409, 419, 421, 431, 433, 439, 443, 449, 457, 461, 463, 467, 479, 487, 491, 499, 503, 509, 521, 523, 541, 547, 557, 563, 569, 571, 577, 587, 593, 599, 601, 607, 613, 617, 619, 631, 641, 643, 647, 653, 659, 661, 673, 677, 683, 691, 701, 709, 719, 727, 733, 739, 743, 751, 757, 761, 769, 773, 787, 797, 809, 811, 821, 823, 827, 829, 839, 853, 857, 859, 863, 877, 881, 883, 887, 907, 911, 919, 929, 937, 941, 947, 953, 967, 971, 977, 983, 991, 997]\n"
     ]
    }
   ],
   "metadata": {}
  },
  {
   "cell_type": "code",
   "execution_count": 12,
   "source": [
    "# Множество Мандельброта (Осторожно! Черная магия)\r\n",
    "# Для простоты понимания этот пример оформлен в несколько строк.\r\n",
    "# На самом деле это \"честный\" однострочник\r\n",
    "\r\n",
    "(lambda Ru, Ro, Iu, Io, IM, Sx, Sy: reduce(\r\n",
    "    lambda x, y: x + y,\r\n",
    "    map(\r\n",
    "        lambda y, Iu=Iu,Io=Io,Ru=Ru,Ro=Ro,Sy=Sy, L=lambda yc, Iu=Iu,Io=Io,Ru=Ru,Ro=Ro,i=IM,Sx=Sx,Sy=Sy: reduce(\r\n",
    "            lambda x, y: x + y,\r\n",
    "            map(\r\n",
    "                lambda x, xc=Ru, yc=yc, Ru=Ru, Ro=Ro, i=i, Sx=Sx,\r\n",
    "                    F=lambda xc, yc, x, y, k,\r\n",
    "                        f=lambda xc,yc,x,y,k,f: (k <= 0) or (x*x+y*y >= 4.0) or 1+f(xc,yc,x*x-y*y+xc,2.0*x*y+yc, k-1, f)\r\n",
    "                    : f(xc, yc, x, y, k, f)\r\n",
    "                : chr(64 + F(Ru + x * (Ro - Ru) / Sx, yc, 0, 0, i)),\r\n",
    "                range(Sx)\r\n",
    "            )\r\n",
    "        ): L(Iu + y * (Io - Iu) / Sy),\r\n",
    "        range(Sy)\r\n",
    "    ))\r\n",
    ")(-2.1, 0.7, -1.2, 1.2, 30, 135, 32)\r\n"
   ],
   "outputs": [
    {
     "output_type": "execute_result",
     "data": {
      "text/plain": [
       "'BBBBBBBBBBBBBBBBBBBBBBBBBCCCCCCCCCCCCCCCCCCCCCCDDDDDDDDDDDDDDDDDDDDDDDDDDDDDDDDDDDDDDDDDDDDDDDDDDDDDDDDDDDDDDCCCCCCCCCCCCCCCCCCCCCCCCCCBBBBBBBBBBBBBBBBBBBBBBCCCCCCCCCCCCCCCCCDDDDDDDDDDDDDDDDDDDDDDDDDDDDDDDDDDDDDDDDDEEEEEEEEEFFHGGFFFFFEEEEEEEDDDDDDDDDDCCCCCCCCCCCCCCCCCCCBBBBBBBBBBBBBBBBBBBBCCCCCCCCCCCCCDDDDDDDDDDDDDDDDDDDDDDDDDDDDDDDDDDDDDDDDEEEEEEEEEEEEFFFFGGGJRMIGGGGGFFEEEEEEEEEDDDDDDDDDDCCCCCCCCCCCCCBBBBBBBBBBBBBBBBBBCCCCCCCCCCDDDDDDDDDDDDDDDDDDDDDDDDDDDDDDDDDDDDDDDEEEEEEEEEEEEEEEFFFFFFFGHHIJKOPNYMKHGGFFEEEEEEEEEEDDDDDDDDDDDCCCCCCCCBBBBBBBBBBBBBBBBCCCCCCCCDDDDDDDDDDDDDDDDDDDDDDDDDDDDDDDDDDDDDDEEEEEEEEEEEEEEEEEFFFFFFFGGHHJJKQ_W_SRLIIHGGFFFFFEEEEEEEEEEDDDDDDDDDDDCCCCBBBBBBBBBBBBBBCCCCCCCDDDDDDDDDDDDDDDDDDDDDDDDDDDDDDDDDDDDDEEEEEEEEEEEEEEEEEFFFFFFGGGGHIJMO_________\\\\P^SKHGGFFFFFFFFEEEEEEEDDDDDDDDDDDDDBBBBBBBBBBBBCCCCCCDDDDDDDDDDDDDDDDDDDDDDDDDDDDDDDDDDDDEEEEEEEEEEEEEEEEFFFFGGGGGGGHHHHIIJOQ___________[NJIHHHGGGGGFFFFFFFEEEEEDDDDDDDDDDBBBBBBBBBBBCCCCDDDDDDDDDDDDDDDDDDDDDDDDDDDDDDDDDDDEEEEEEEEEEEEEFFFFFFGHLPK_M_LJJJJN__LMNNOQU________RONMMKKMQKIHHHHHHIKXIGFEEEEDDDDDDDDBBBBBBBBBBCCCDDDDDDDDDDDDDDDDDDDDDDDDDDDDDDDDEEEEEEEEEFFFFFFFFFFFGGGGHHJMNV_____P_Z__________________________Q_LLNSYOPPTSLGFFEEEDDDDDDDBBBBBBBBBCCDDDDDDDDDDDDDDDDDDDDDDDDDDDDDEEEEEFFFFFFFFFFFFFFFFGGGGGGHHIIJKMOV__________________________________________URIHGFFFFEEEDDDDDBBBBBBBBCCDDDDDDDDDDDDDDDDDDDDDDEEEEEEFGGGGGGGGFFFFFFFFFGGGGGGGHHHIKY_______________________________________________ZOMJIHHGGFFEEEEDDDDBBBBBBBCDDDDDDDDDDDDDEEEEEEEEEEEFFFFGGGILOJIIHHHHIIKWIIHHHHHHHIIIIKM_R________________________________________________[RXNURIGFEEEEEDDDBBBBBBCDDDDDDDEEEEEEEEEEEEEEFFFFFFFGGGHIIKMO_VSRNLMOS__N_PLKJJJKKLO[____________________________________________________RNJIGGFFEEEEEDDBBBBBBDDDDEEEEEEEEEEEEEEFFFFFFFFFFGHHHHIJKLOS_______________]XNNNO_______________________________________________________X]JGFFFEEEEEEDBBBBBBDEEEEEEEEEEEEEEFFFFFFFGGGHIRKJJJJLMV______________________UV_______________________________________________________WHGFFFFEEEEEEDBBBBBDEEFFFFFFFFFGGGGGGGGGHHHHHJJLN_XV_\\\\U______________________________________________________________________________LIHGGFFFFEEEEEEEBBBBB_____________________________________________________________________________________________________________YPMKIIHGGGFFFFEEEEEEEBBBBBDEEFFFFFFFFFGGGGGGGGGHHHHHJJLN_XV_\\\\U______________________________________________________________________________LIHGGFFFFEEEEEEEBBBBBBDEEEEEEEEEEEEEEFFFFFFFGGGHIRKJJJJLMV______________________UV_______________________________________________________WHGFFFFEEEEEEDBBBBBBDDDDEEEEEEEEEEEEEEFFFFFFFFFFGHHHHIJKLOS_______________]XNNNO_______________________________________________________X]JGFFFEEEEEEDBBBBBBCDDDDDDDEEEEEEEEEEEEEEFFFFFFFGGGHIIKMO_VSRNLMOS__N_PLKJJJKKLO[____________________________________________________RNJIGGFFEEEEEDDBBBBBBBCDDDDDDDDDDDDDEEEEEEEEEEEFFFFGGGILOJIIHHHHIIKWIIHHHHHHHIIIIKM_R________________________________________________[RXNURIGFEEEEEDDDBBBBBBBBCCDDDDDDDDDDDDDDDDDDDDDDEEEEEEFGGGGGGGGFFFFFFFFFGGGGGGGHHHIKY_______________________________________________ZOMJIHHGGFFEEEEDDDDBBBBBBBBBCCDDDDDDDDDDDDDDDDDDDDDDDDDDDDDEEEEEFFFFFFFFFFFFFFFFGGGGGGHHIIJKMOV__________________________________________URIHGFFFFEEEDDDDDBBBBBBBBBBCCCDDDDDDDDDDDDDDDDDDDDDDDDDDDDDDDDEEEEEEEEEFFFFFFFFFFFGGGGHHJMNV_____P_Z__________________________Q_LLNSYOPPTSLGFFEEEDDDDDDDBBBBBBBBBBBCCCCDDDDDDDDDDDDDDDDDDDDDDDDDDDDDDDDDDDEEEEEEEEEEEEEFFFFFFGHLPK_M_LJJJJN__LMNNOQU________RONMMKKMQKIHHHHHHIKXIGFEEEEDDDDDDDDBBBBBBBBBBBBCCCCCCDDDDDDDDDDDDDDDDDDDDDDDDDDDDDDDDDDDDEEEEEEEEEEEEEEEEFFFFGGGGGGGHHHHIIJOQ___________[NJIHHHGGGGGFFFFFFFEEEEEDDDDDDDDDDBBBBBBBBBBBBBBCCCCCCCDDDDDDDDDDDDDDDDDDDDDDDDDDDDDDDDDDDDDEEEEEEEEEEEEEEEEEFFFFFFGGGGHIJMO_________\\\\P^SKHGGFFFFFFFFEEEEEEEDDDDDDDDDDDDDBBBBBBBBBBBBBBBBCCCCCCCCDDDDDDDDDDDDDDDDDDDDDDDDDDDDDDDDDDDDDDEEEEEEEEEEEEEEEEEFFFFFFFGGHHJJKQ_W_SRLIIHGGFFFFFEEEEEEEEEEDDDDDDDDDDDCCCCBBBBBBBBBBBBBBBBBBCCCCCCCCCCDDDDDDDDDDDDDDDDDDDDDDDDDDDDDDDDDDDDDDDEEEEEEEEEEEEEEEFFFFFFFGHHIJKOPNYMKHGGFFEEEEEEEEEEDDDDDDDDDDDCCCCCCCCBBBBBBBBBBBBBBBBBBBBCCCCCCCCCCCCCDDDDDDDDDDDDDDDDDDDDDDDDDDDDDDDDDDDDDDDDEEEEEEEEEEEEFFFFGGGJRMIGGGGGFFEEEEEEEEEDDDDDDDDDDCCCCCCCCCCCCCBBBBBBBBBBBBBBBBBBBBBBCCCCCCCCCCCCCCCCCDDDDDDDDDDDDDDDDDDDDDDDDDDDDDDDDDDDDDDDDDEEEEEEEEEFFHGGFFFFFEEEEEEEDDDDDDDDDDCCCCCCCCCCCCCCCCCCC'"
      ]
     },
     "metadata": {},
     "execution_count": 12
    }
   ],
   "metadata": {}
  }
 ]
}