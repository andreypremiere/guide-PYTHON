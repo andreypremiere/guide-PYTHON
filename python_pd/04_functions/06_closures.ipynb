{
 "metadata": {
  "language_info": {
   "codemirror_mode": {
    "name": "ipython",
    "version": 3
   },
   "file_extension": ".py",
   "mimetype": "text/x-python",
   "name": "python",
   "nbconvert_exporter": "python",
   "pygments_lexer": "ipython3",
   "version": "3.9.0-final"
  },
  "orig_nbformat": 2,
  "kernelspec": {
   "name": "python3",
   "display_name": "Python 3"
  }
 },
 "nbformat": 4,
 "nbformat_minor": 2,
 "cells": [
  {
   "source": [
    "# Замыкания\n",
    "\n",
    "Возможность использования вложенными функциями переменных из внешних областей видимости существенно расширяет возможности применения функций. В частности, применение замыканий. В обще смысле замыкание — это функция, в теле которой присутствуют ссылки на переменные, объявленные вне тела этой функции в окружающем коде и не являющиеся ее параметрами. Например, фабрика функций поиска минимума в заранее заданном интервале:"
   ],
   "cell_type": "markdown",
   "metadata": {}
  },
  {
   "cell_type": "code",
   "execution_count": 1,
   "metadata": {},
   "outputs": [
    {
     "output_type": "stream",
     "name": "stdout",
     "text": [
      "1\n"
     ]
    }
   ],
   "source": [
    "def make_min(*, l, h):\n",
    "    def inner(a, b, *args):\n",
    "        args = (a, b) + args\n",
    "        return min(i for i in args if l <= i <= h)\n",
    "    return inner\n",
    "\n",
    "bounded_min = make_min(l=0, h=42)\n",
    "print(f'{bounded_min(*[-1, 4, 254, 42, 1])}')"
   ]
  },
  {
   "source": [
    "Здесь при вызове функции ```bounded_min``` фактически происходит вызов ```inner```, находящейся внутри ```make_min```. При этом переменные ```l``` и ```h``` не уничтожаются сборщиком мусора, так как на них все еще остаются ссылки из вложенной функции ```inner```.\n",
    "\n",
    "Дело в том, что ссылки такие объекты сохраняются в специальном атрибуте объекта функций. Его можно получить используя ```__closure__```. Элементы, хранящиеся в этом кортеже, имеют тип ```cell```. Это специальный тип в Python, предназначенный для внутреннего использования. У элементов кортежа ```__closure__``` есть атрибут ```cell_contents``` с помощью которого можно получить объект."
   ],
   "cell_type": "markdown",
   "metadata": {}
  },
  {
   "cell_type": "code",
   "execution_count": 10,
   "metadata": {},
   "outputs": [
    {
     "output_type": "stream",
     "name": "stdout",
     "text": [
      "bounded_min.__closure__ = (<cell at 0x000001A0A2B2EC70: int object at 0x000001A09D046E50>, <cell at 0x000001A0A2B2EA00: int object at 0x000001A09D046910>)\ntype(bounded_min.__closure__[0]) = <class 'cell'>\nbounded_min.__closure__[0].cell_contents = 42\nbounded_min.__closure__[1].cell_contents = 0\n"
     ]
    }
   ],
   "source": [
    "print(f'{bounded_min.__closure__ = }')\n",
    "print(f'{type(bounded_min.__closure__[0]) = }')\n",
    "\n",
    "print(f'{bounded_min.__closure__[0].cell_contents = }')\n",
    "print(f'{bounded_min.__closure__[1].cell_contents = }')"
   ]
  },
  {
   "source": [
    "Выполните этот код в [pythontutor](http://www.pythontutor.com/visualize.html#code=def%20make_min%28*,%20l,%20h%29%3A%0A%20%20%20%20def%20inner%28a,%20b,%20*args%29%3A%0A%20%20%20%20%20%20%20%20args%20%3D%20%28a,%20b%29%20%2B%20args%0A%20%20%20%20%20%20%20%20return%20min%28i%20for%20i%20in%20args%20if%20l%20%3C%3D%20i%20%3C%3D%20h%29%0A%20%20%20%20return%20inner%0A%0Abounded_min%20%3D%20make_min%28l%3D0,%20h%3D42%29%0Ares%20%3D%20bounded_min%28*%5B-1,%204,%20254,%2042,%201%5D%29%0Aprint%28res%29&cumulative=false&curInstr=0&heapPrimitives=true&mode=display&origin=opt-frontend.js&py=3&rawInputLstJSON=%5B%5D&textReferences=false) и посмотрите, что происходит в памяти в момент выполнения.\n",
    "\n",
    "Переменные можно использовать не только из объемлющей области видимости."
   ],
   "cell_type": "markdown",
   "metadata": {}
  },
  {
   "cell_type": "code",
   "execution_count": 12,
   "metadata": {},
   "outputs": [
    {
     "output_type": "stream",
     "name": "stdout",
     "text": [
      "0\n1\n2\n3\n"
     ]
    }
   ],
   "source": [
    "def foo():  # плохая практика\n",
    "    print(i)\n",
    "\n",
    "for i in range(4):\n",
    "    foo()"
   ]
  },
  {
   "source": [
    "## Позднее связывание\n",
    "\n",
    "Рассмотрим случай, когда необходимо создать несколько функций."
   ],
   "cell_type": "markdown",
   "metadata": {}
  },
  {
   "cell_type": "code",
   "execution_count": 14,
   "metadata": {},
   "outputs": [
    {
     "output_type": "stream",
     "name": "stdout",
     "text": [
      "10\n10\n10\n"
     ]
    }
   ],
   "source": [
    "def create_multipiers():\n",
    "    return [lambda x: i * x for i in range(3)]\n",
    "\n",
    "for multiplier in create_multipiers():\n",
    "    print(multiplier(5))"
   ]
  },
  {
   "source": [
    "Выполните этот код в [pythontutor](http://www.pythontutor.com/visualize.html#code=def%20create_multipiers%28%29%3A%0A%20%20%20%20return%20%5Blambda%20x%3A%20i%20*%20x%20for%20i%20in%20range%283%29%5D%0A%0Afor%20multiplier%20in%20create_multipiers%28%29%3A%0A%20%20%20%20print%28multiplier%285%29%29&cumulative=false&curInstr=0&heapPrimitives=true&mode=display&origin=opt-frontend.js&py=3&rawInputLstJSON=%5B%5D&textReferences=false) и посмотрите, что происходит в памяти в момент выполнения.\n",
    "\n",
    "Результат отличается от ожидаемого. Это происходит из-за поздней привязки в Python, которое заключается в том, что поиск значений переменных, используемых в замыканиях, происходит во время вызова внутренней функции. Таким образом, в приведенном выше коде всякий раз, когда вызывается какая-либо из возвращаемых функций (т.е. ```multiplier```), значение ```i``` ищется в окружающей области видимости во время ее вызова (а к тому времени цикл уже завершился, поэтому ```i``` уже был присвоен конечный результат — значение ```2```).\n",
    "\n",
    "Для решения этой проблемы достаточно явно передать в каждое замыкание (т.е. лямбду) переменную ```i``` используя именованные аргументы."
   ],
   "cell_type": "markdown",
   "metadata": {}
  },
  {
   "cell_type": "code",
   "execution_count": 15,
   "metadata": {},
   "outputs": [
    {
     "output_type": "stream",
     "name": "stdout",
     "text": [
      "0\n5\n10\n"
     ]
    }
   ],
   "source": [
    "def create_multipiers():\n",
    "    return [lambda x, i=i: i * x for i in range(3)]\n",
    "\n",
    "for multiplier in create_multipiers():\n",
    "    print(multiplier(5))"
   ]
  },
  {
   "source": [
    "# Полезные ссылки\n",
    "\n",
    "- [Python Inner Functions—What Are They Good For?](https://realpython.com/inner-functions-what-are-they-good-for/)\n",
    "- [Why aren't python nested functions called closures?](https://stackoverflow.com/questions/4020419/why-arent-python-nested-functions-called-closures)"
   ],
   "cell_type": "markdown",
   "metadata": {}
  }
 ]
}