{
 "metadata": {
  "language_info": {
   "codemirror_mode": {
    "name": "ipython",
    "version": 3
   },
   "file_extension": ".py",
   "mimetype": "text/x-python",
   "name": "python",
   "nbconvert_exporter": "python",
   "pygments_lexer": "ipython3",
   "version": "3.9.0-final"
  },
  "orig_nbformat": 2,
  "kernelspec": {
   "name": "python3",
   "display_name": "Python 3"
  }
 },
 "nbformat": 4,
 "nbformat_minor": 2,
 "cells": [
  {
   "source": [
    "# Рекурсия\n",
    "\n",
    "Рекурсия -- это вызов функции из неё же самой, непосредственно (простая рекурсия) или через другие функции (сложная или косвенная рекурсия). Это довольно распространенный инструмент для решения разных задач. В основном его удобно использовать в тех случаях, когда решение исходной задачи можно получить, используя решение этой же, но более маленькой задачи. Ярким примером рекурсии являются числовые последовательности, описываемые рекуррентными формулами, например, числа Фибоначчи, факториал и др."
   ],
   "cell_type": "markdown",
   "metadata": {}
  },
  {
   "cell_type": "code",
   "execution_count": 1,
   "metadata": {},
   "outputs": [
    {
     "output_type": "stream",
     "name": "stdout",
     "text": [
      "fib(0) = 1\nfib(1) = 1\nfib(2) = 2\nfib(3) = 3\nfib(4) = 5\n"
     ]
    }
   ],
   "source": [
    "def fib(n):\n",
    "    if n in (0, 1):\n",
    "        return 1\n",
    "    return fib(n - 1) + fib(n - 2)\n",
    "\n",
    "\n",
    "for i in range(5):\n",
    "    print(f'fib({i}) = {fib(i)}')"
   ]
  },
  {
   "source": [
    "Рекурсия обладает существенными недостатками. Например, для ее реализации в большинстве случаев используется стек, т.е. состояния каждого вызова функции, включая локальные переменные, будет сохранено в памяти. Таких вызовов может быть достаточно много, что может привести к переполнению. В Python установлено ограничение на глубину стека равную 1000 (это значение может отличаться), при ее превышении будет возбуждено исключение ```RecursionError```. Кроме этого, рекурсия выполняется довольно долго.\n",
    "\n",
    "Самостоятельно запустите этот код на [pythontutor](http://www.pythontutor.com/visualize.html#code=def%20fib%28n%29%3A%0A%20%20%20%20if%20n%20in%20%280,%201%29%3A%0A%20%20%20%20%20%20%20%20return%201%0A%20%20%20%20return%20fib%28n%20-%201%29%20%2B%20fib%28n%20-%202%29%0A%0Aprint%28fib%284%29%29&cumulative=false&curInstr=0&heapPrimitives=true&mode=display&origin=opt-frontend.js&py=3&rawInputLstJSON=%5B%5D&textReferences=false) и пронаблюдайте, что происходит в памяти в момент выполнения.\n",
    "\n",
    "Проверить ограничение на количество вызовов рекурсивных функций можно с помощью модуля ```sys```."
   ],
   "cell_type": "markdown",
   "metadata": {}
  },
  {
   "cell_type": "code",
   "execution_count": 2,
   "metadata": {},
   "outputs": [
    {
     "output_type": "execute_result",
     "data": {
      "text/plain": [
       "3000"
      ]
     },
     "metadata": {},
     "execution_count": 2
    }
   ],
   "source": [
    "import sys\n",
    "sys.getrecursionlimit()"
   ]
  },
  {
   "source": [
    "Иногда рекурсия бывает далеко не оптимальна. Например, в вычислении чисел Фибоначчи функция ```fib``` будет несколько раз вычислять одинаковые значения. Для этой функции легко построить граф, например, для вычисления 5-го числа Фибоначчи.\n",
    "\n",
    "<img src=\"image/fib_graph.png\">\n",
    "\n",
    "Здесь видно, что третье число будет вычислено 2 раза, второе - 3 раза и т.д.\n",
    "\n",
    "Исправить такой недостаток рекурсии можно воспользовавшись [динамическим программированием](https://en.wikipedia.org/wiki/Dynamic_programming). Основу этого подхода составляет разбиение задач на более простые и решение их по отдельности. Затем решения подзадач объединяются в решение исходной задачи. Ключевым моментом выступает то, что каждая подзадача решается ровно один раз.\n",
    "\n",
    "Далее приведен пример вычисления чисел Фибоначчи с использованием динамического программирования."
   ],
   "cell_type": "markdown",
   "metadata": {}
  },
  {
   "cell_type": "code",
   "execution_count": 3,
   "metadata": {},
   "outputs": [
    {
     "output_type": "stream",
     "name": "stdout",
     "text": [
      "fib(0) = 1\nfib(1) = 1\nfib(2) = 2\nfib(3) = 3\nfib(4) = 5\n"
     ]
    }
   ],
   "source": [
    "def fib(n):\n",
    "    numbers = [1, 1]\n",
    "    for i in range(1, n):\n",
    "        numbers.append(numbers[-1] + numbers[-2])\n",
    "    return numbers[-1]\n",
    "\n",
    "\n",
    "for i in range(5):\n",
    "    print(f'fib({i}) = {fib(i)}')"
   ]
  },
  {
   "source": [
    "Таким образом, везде, где есть возможность решить задачу без применения рекурсии, лучше решать ее без использования рекурсии."
   ],
   "cell_type": "markdown",
   "metadata": {}
  },
  {
   "source": [
    "# Полезные ссылки\n",
    "\n",
    "- [Рекурсия (вики)](https://en.wikipedia.org/wiki/Recursion)\n",
    "- [Thinking Recursively in Python](https://realpython.com/python-thinking-recursively/)"
   ],
   "cell_type": "markdown",
   "metadata": {}
  }
 ]
}