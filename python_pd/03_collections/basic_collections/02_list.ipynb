{
 "metadata": {
  "language_info": {
   "codemirror_mode": {
    "name": "ipython",
    "version": 3
   },
   "file_extension": ".py",
   "mimetype": "text/x-python",
   "name": "python",
   "nbconvert_exporter": "python",
   "pygments_lexer": "ipython3",
   "version": "3.9.0"
  },
  "orig_nbformat": 2,
  "kernelspec": {
   "name": "python3",
   "display_name": "Python 3.9.0 64-bit ('.venv': venv)"
  },
  "interpreter": {
   "hash": "178cad48488a45b94c2e1acb3bfd8ec03d0e926b0801a270a439a0363b59c19a"
  }
 },
 "nbformat": 4,
 "nbformat_minor": 2,
 "cells": [
  {
   "cell_type": "markdown",
   "source": [
    "# Списки (```list```)\n",
    "\n",
    "Одной из базовых коллекций в Python являются списки. Списки призваны хранить упорядоченный набор элементов, которые могут быть разных типов. Литералами списка выступают квадратные скобки ```[]```. Списки имеют тип ```list```. Для создания пустого списка достаточно использовать следующие выражения:"
   ],
   "metadata": {}
  },
  {
   "cell_type": "code",
   "execution_count": 1,
   "source": [
    "xs = []\r\n",
    "ys = list()\r\n",
    "print(f'{type(xs) = }')\r\n",
    "print(f'{type(ys) = }')"
   ],
   "outputs": [
    {
     "output_type": "stream",
     "name": "stdout",
     "text": [
      "type(xs) = <class 'list'>\n",
      "type(ys) = <class 'list'>\n"
     ]
    }
   ],
   "metadata": {}
  },
  {
   "cell_type": "markdown",
   "source": [
    "В списках разрешено хранить объекты любых типов. Однако, их рекомендуется использовать для хранения однотипных данных, например, только чисел, только строк и тд. "
   ],
   "metadata": {}
  },
  {
   "cell_type": "code",
   "execution_count": 2,
   "source": [
    "xs = [42, 42., 'foo_bar', [1, 2, 3], None, False]\r\n",
    "print(f'{xs = }')"
   ],
   "outputs": [
    {
     "output_type": "stream",
     "name": "stdout",
     "text": [
      "xs = [42, 42.0, 'foo_bar', [1, 2, 3], None, False]\n"
     ]
    }
   ],
   "metadata": {}
  },
  {
   "cell_type": "markdown",
   "source": [
    "Списки в Python аналогичны динамическим массивам из других языков. Любые массивы хранятся в памяти последовательно. При создании\n",
    "4\n",
    "списка под него выделяется больше памяти, чем необходимо. Это делается для того, чтобы при добавлении элементов не перезаписывать массив слишком часто. Об этом стоит помнить, происходит активное изменение длины списка. Примерная схема роста списка в Python: 0, 4, 8, 16, 25, 35, 46, 58, 72, 88, … Таким образом, при добавлении первого элемента в пустой список произойдет выделение памяти сразу для 4 элементов. Если в процессе работы программы нужно создать большой список, то лучше создать его заранее, заполним, например, нулями. В результате удастся избежать частого копирования списка в памяти.\n",
    "\n",
    "## Операции со списками\n",
    "\n",
    "Список - это упорядоченная коллекция. Как и у любой коллекции они имеют длину, которую можно получить, используя функцию ```len```."
   ],
   "metadata": {}
  },
  {
   "cell_type": "code",
   "execution_count": 3,
   "source": [
    "xs = [1, 2, 3, 4]\r\n",
    "print(f'{len(xs) = }')"
   ],
   "outputs": [
    {
     "output_type": "stream",
     "name": "stdout",
     "text": [
      "len(xs) = 4\n"
     ]
    }
   ],
   "metadata": {}
  },
  {
   "cell_type": "markdown",
   "source": [
    "Со списками работают некоторые арифметические операторы. Так можно использовать ```+``` для конкатенации списков, а ```*``` для их размножения."
   ],
   "metadata": {}
  },
  {
   "cell_type": "code",
   "execution_count": 4,
   "source": [
    "xs = [1, 2, 3, 4]\r\n",
    "ys = [5, 6, 7]\r\n",
    "print(f'{xs + ys = }')\r\n",
    "print(f'{3 * xs = }')"
   ],
   "outputs": [
    {
     "output_type": "stream",
     "name": "stdout",
     "text": [
      "xs + ys = [1, 2, 3, 4, 5, 6, 7]\n",
      "3 * xs = [1, 2, 3, 4, 1, 2, 3, 4, 1, 2, 3, 4]\n"
     ]
    }
   ],
   "metadata": {}
  },
  {
   "cell_type": "markdown",
   "source": [
    "У списков есть ряд методов, обеспечивающих специфические операции. Например:\n",
    "- ```append(x)``` - добавление элемента ```x``` в конец списка;\n",
    "- ```pop()``` - удаление элемента, если не указан аргумент, то удаление происходит с конца, иначе (```pop(i)```) удаляется по индексу ```i```;\n",
    "- ```insert(i, x)``` - вставка элемента ```x``` в нужное место ```i```;\n",
    "- ```extend(ys)``` - объединение списков;\n",
    "- ```count(x)``` - подсчитать количество элементов, совпадающих с ```x```;\n",
    "- ```index(x)``` - получить индекс первого вхождения ```x```;\n",
    "- ```reverse()``` - перевернуть список;\n",
    "- и [другие](https://docs.python.org/3.9/tutorial/datastructures.html#).\n",
    "\n",
    "Все эти операции изменяют список \"на месте\", т.е. они ничего не возвращают."
   ],
   "metadata": {}
  },
  {
   "cell_type": "code",
   "execution_count": 5,
   "source": [
    "xs = [1, 2, 3, 4]\r\n",
    "ys = [5, 6, 7]\r\n",
    "\r\n",
    "xs.append(42)\r\n",
    "print(f'(1): {xs = }')\r\n",
    "\r\n",
    "# метод pop удобен, когда нужно использовать удаленный элемент\r\n",
    "x = xs.pop()\r\n",
    "print(f'(2): {x = }, {xs = }')\r\n",
    "x = xs.pop(2)\r\n",
    "print(f'(3): {x = }, {xs = }')\r\n",
    "\r\n",
    "# еще один способ удалить элемент по индексу\r\n",
    "del xs[2]\r\n",
    "print(f'(4): {xs = }')\r\n",
    "\r\n",
    "xs.insert(1, 196)\r\n",
    "print(f'(5): {xs = }')\r\n",
    "\r\n",
    "xs.extend(ys)\r\n",
    "print(f'(6): {xs = }')\r\n",
    "\r\n",
    "xs.reverse()\r\n",
    "print(f'{xs = }')"
   ],
   "outputs": [
    {
     "output_type": "stream",
     "name": "stdout",
     "text": [
      "(1): xs = [1, 2, 3, 4, 42]\n",
      "(2): x = 42, xs = [1, 2, 3, 4]\n",
      "(3): x = 3, xs = [1, 2, 4]\n",
      "(4): xs = [1, 2]\n",
      "(5): xs = [1, 196, 2]\n",
      "(6): xs = [1, 196, 2, 5, 6, 7]\n",
      "xs = [7, 6, 5, 2, 196, 1]\n"
     ]
    }
   ],
   "metadata": {}
  },
  {
   "cell_type": "code",
   "execution_count": 6,
   "source": [
    "xs = [1, 3, 2, 3, 3, 4]\r\n",
    "print(f'{4 in xs = }')\r\n",
    "print(f'{xs.count(3) = }')\r\n",
    "print(f'{xs.index(3) = }')"
   ],
   "outputs": [
    {
     "output_type": "stream",
     "name": "stdout",
     "text": [
      "4 in xs = True\n",
      "xs.count(3) = 3\n",
      "xs.index(3) = 1\n"
     ]
    }
   ],
   "metadata": {}
  },
  {
   "cell_type": "markdown",
   "source": [
    "Сортировка в Python использует алгоритм [TimSort](https://en.wikipedia.org/wiki/Timsort). Есть два способа отсортировать список: \"на месте\" и создав новый список. Метод ```sort``` сортирует текущий список, не создавая при этом новый. Функция ```sorted``` принимает список в качестве одного из аргументов, а возвращает новый отсортированный список. Обе функции сортируют список по неубыванию. Передавая аргумент ```reverse```, можно указать способ сортировки. По умолчанию он принимает значение ```False``` и сортировка происходит по неубыванию. Указав ```reverse=True```, сортировка будет происходить по невозрастанию.\n",
    "\n",
    "Сортировать можно списки из элементов одного типа. Строки сортируются в лексикографическом порядке."
   ],
   "metadata": {}
  },
  {
   "cell_type": "code",
   "execution_count": 7,
   "source": [
    "xs = [3, 5, 1, 2, 7, 0]\r\n",
    "ys = ['v', 'a', 'b', 'c', 'e']\r\n",
    "\r\n",
    "xs.sort()\r\n",
    "ys.sort(reverse=True)\r\n",
    "\r\n",
    "print(f'{xs = }')\r\n",
    "print(f'{ys = }')"
   ],
   "outputs": [
    {
     "output_type": "stream",
     "name": "stdout",
     "text": [
      "xs = [0, 1, 2, 3, 5, 7]\n",
      "ys = ['v', 'e', 'c', 'b', 'a']\n"
     ]
    }
   ],
   "metadata": {}
  },
  {
   "cell_type": "markdown",
   "source": [
    "Списки можно создавать из других коллекций, используя функцию ```list```. Например, преобразование строки в список разобъет ее на отдельные символы."
   ],
   "metadata": {}
  },
  {
   "cell_type": "code",
   "execution_count": 8,
   "source": [
    "xs = list('monty_python')\r\n",
    "print(f'{xs = }')"
   ],
   "outputs": [
    {
     "output_type": "stream",
     "name": "stdout",
     "text": [
      "xs = ['m', 'o', 'n', 't', 'y', '_', 'p', 'y', 't', 'h', 'o', 'n']\n"
     ]
    }
   ],
   "metadata": {}
  },
  {
   "cell_type": "markdown",
   "source": [
    "Преобразование списка в строку осуществляется с помощью функции ```str```. Такое представление повторяет вид списка в интерпретаторе Python. Содержимое полученной строки можно скопировать и вставить в REPL, и это будет корректным выражением."
   ],
   "metadata": {}
  },
  {
   "cell_type": "code",
   "execution_count": 9,
   "source": [
    "xs = [1, 2, 3, 4]\r\n",
    "print(f'{str(xs) = :>18}')\r\n",
    "print(f'{str(xs)[1:-1] = }')"
   ],
   "outputs": [
    {
     "output_type": "stream",
     "name": "stdout",
     "text": [
      "str(xs) =       [1, 2, 3, 4]\n",
      "str(xs)[1:-1] = '1, 2, 3, 4'\n"
     ]
    }
   ],
   "metadata": {}
  },
  {
   "cell_type": "markdown",
   "source": [
    "Как и любая коллекция списки поддерживают индексацию, которая начинается с нуля, и взятие срезов. Индексы могут быть и отрицательными."
   ],
   "metadata": {}
  },
  {
   "cell_type": "code",
   "execution_count": 10,
   "source": [
    "xs = list('monty_python')\r\n",
    "print(f'{xs = }')\r\n",
    "print(f'{xs[0] = }')\r\n",
    "print(f'{xs[5] = }')\r\n",
    "print(f'{xs[-1] = }')\r\n",
    "print(f'{xs[-7] = }')"
   ],
   "outputs": [
    {
     "output_type": "stream",
     "name": "stdout",
     "text": [
      "xs = ['m', 'o', 'n', 't', 'y', '_', 'p', 'y', 't', 'h', 'o', 'n']\n",
      "xs[0] = 'm'\n",
      "xs[5] = '_'\n",
      "xs[-1] = 'n'\n",
      "xs[-7] = '_'\n"
     ]
    }
   ],
   "metadata": {}
  },
  {
   "cell_type": "code",
   "execution_count": 11,
   "source": [
    "xs = list('monty_python')\r\n",
    "print(f'{xs = }')\r\n",
    "print(f'{xs[:] = }')\r\n",
    "print(f'{xs[::-1] = }')\r\n",
    "print(f'{xs[:5] = }')\r\n",
    "print(f'{xs[6:] = }')\r\n",
    "print(f'{xs[3:7] = }')\r\n",
    "print(f'{xs[3:8:2] = }')\r\n",
    "print(f'{xs[4::-1] = }')"
   ],
   "outputs": [
    {
     "output_type": "stream",
     "name": "stdout",
     "text": [
      "xs = ['m', 'o', 'n', 't', 'y', '_', 'p', 'y', 't', 'h', 'o', 'n']\n",
      "xs[:] = ['m', 'o', 'n', 't', 'y', '_', 'p', 'y', 't', 'h', 'o', 'n']\n",
      "xs[::-1] = ['n', 'o', 'h', 't', 'y', 'p', '_', 'y', 't', 'n', 'o', 'm']\n",
      "xs[:5] = ['m', 'o', 'n', 't', 'y']\n",
      "xs[6:] = ['p', 'y', 't', 'h', 'o', 'n']\n",
      "xs[3:7] = ['t', 'y', '_', 'p']\n",
      "xs[3:8:2] = ['t', '_', 'y']\n",
      "xs[4::-1] = ['y', 't', 'n', 'o', 'm']\n"
     ]
    }
   ],
   "metadata": {}
  },
  {
   "cell_type": "markdown",
   "source": [
    "В связи с тем, что списки позволяют хранить объекты произвольных типов, в них можно хранить и другие списки. При этом не обязательно одинакового размера. Каждый новый уровень списков индексируется отдельными квадратными скобками. "
   ],
   "metadata": {}
  },
  {
   "cell_type": "code",
   "execution_count": 12,
   "source": [
    "xs = []\r\n",
    "\r\n",
    "for i in range(5):\r\n",
    "    ys = []\r\n",
    "    for j in range(i + 1):\r\n",
    "        ys.append(j + i + 1)\r\n",
    "    xs.append(ys)\r\n",
    "\r\n",
    "for l in xs:\r\n",
    "    print(l)\r\n",
    "\r\n",
    "print(f'{xs[0][0] = }')\r\n",
    "print(f'{xs[-1][-1] = }')"
   ],
   "outputs": [
    {
     "output_type": "stream",
     "name": "stdout",
     "text": [
      "[1]\n",
      "[2, 3]\n",
      "[3, 4, 5]\n",
      "[4, 5, 6, 7]\n",
      "[5, 6, 7, 8, 9]\n",
      "xs[0][0] = 1\n",
      "xs[-1][-1] = 9\n"
     ]
    }
   ],
   "metadata": {}
  },
  {
   "cell_type": "markdown",
   "source": [
    "## Коротко об объекте ```range```\n",
    "\n",
    "С помощью функции ```range()``` можно создать специальный объект ```range```, передав параметры, аналогичные срезам: ```start```, ```stop```, ```step```. Этот объект представляет собой целочисленную последовательность из интервала $[start, stop)$ с заданным шагом $step$. Вызвать функцию можно тремя способами:\n",
    "- ```range(stop)``` - указана только верхняя граница, эквивалентно интервалу $[0, stop)$, шаг по умолчанию равен 1;\n",
    "- ```range(start, stop)``` - указаны нижняя и верхняя границы, эквивалентно интервалу $[start, stop)$, шаг по умолчанию равен 1;\n",
    "- ```range(start, stop, step)``` - указаны обе границы, эквивалентно интервалу $[start, stop)$, шаг равен $step$;\n",
    "\n",
    "Более подробно этот объект будет рассмотрен в разделе об итераторах."
   ],
   "metadata": {}
  },
  {
   "cell_type": "code",
   "execution_count": 13,
   "source": [
    "r = range(5)\r\n",
    "print(f'{r = }')\r\n",
    "print(f'{type(r) = }')\r\n",
    "print(f'{len(r) = }')\r\n",
    "print(f'{list(r) = }')\r\n",
    "print(f'{str(r) = }')"
   ],
   "outputs": [
    {
     "output_type": "stream",
     "name": "stdout",
     "text": [
      "r = range(0, 5)\n",
      "type(r) = <class 'range'>\n",
      "len(r) = 5\n",
      "list(r) = [0, 1, 2, 3, 4]\n",
      "str(r) = 'range(0, 5)'\n"
     ]
    }
   ],
   "metadata": {}
  },
  {
   "cell_type": "code",
   "execution_count": 14,
   "source": [
    "r = range(10, 20, 2)\r\n",
    "print(f'{r = }')\r\n",
    "print(f'{type(r) = }')\r\n",
    "print(f'{len(r) = }')\r\n",
    "print(f'{list(r) = }')\r\n",
    "print(f'{str(r) = }')"
   ],
   "outputs": [
    {
     "output_type": "stream",
     "name": "stdout",
     "text": [
      "r = range(10, 20, 2)\n",
      "type(r) = <class 'range'>\n",
      "len(r) = 5\n",
      "list(r) = [10, 12, 14, 16, 18]\n",
      "str(r) = 'range(10, 20, 2)'\n"
     ]
    }
   ],
   "metadata": {}
  },
  {
   "cell_type": "markdown",
   "source": [
    "## Итерирование по спискам\n",
    "\n",
    "Итерирование по списку аналогично итерированию по строке:\n",
    "- простой перебор\n",
    "- с помощью ```enumerate```\n",
    "- с помощью ```range``` (если не нужны элементы коллекции)"
   ],
   "metadata": {}
  },
  {
   "cell_type": "code",
   "execution_count": 15,
   "source": [
    "xs = [4, 3, 2, 1]\r\n",
    "\r\n",
    "for x in xs:\r\n",
    "    print(x)"
   ],
   "outputs": [
    {
     "output_type": "stream",
     "name": "stdout",
     "text": [
      "4\n",
      "3\n",
      "2\n",
      "1\n"
     ]
    }
   ],
   "metadata": {}
  },
  {
   "cell_type": "code",
   "execution_count": 16,
   "source": [
    "xs = [4, 3, 2, 1]\r\n",
    "\r\n",
    "for i, x in enumerate(xs):\r\n",
    "    print(f'xs[{i}] = {x}')"
   ],
   "outputs": [
    {
     "output_type": "stream",
     "name": "stdout",
     "text": [
      "xs[0] = 4\n",
      "xs[1] = 3\n",
      "xs[2] = 2\n",
      "xs[3] = 1\n"
     ]
    }
   ],
   "metadata": {}
  },
  {
   "cell_type": "code",
   "execution_count": 17,
   "source": [
    "xs = [4, 3, 2, 1]\r\n",
    "\r\n",
    "for i in range(len(xs)):\r\n",
    "    print(f'xs[{i}] = {xs[i]}')"
   ],
   "outputs": [
    {
     "output_type": "stream",
     "name": "stdout",
     "text": [
      "xs[0] = 4\n",
      "xs[1] = 3\n",
      "xs[2] = 2\n",
      "xs[3] = 1\n"
     ]
    }
   ],
   "metadata": {}
  },
  {
   "cell_type": "markdown",
   "source": [
    "# Варианты применения списков\r\n",
    "\r\n",
    "Помимо простого использования списка как контейнера для элементов и совершения над ним различных операций, списки могут быть использованы для моделирования специализированных структур данных, таких как стек и очередь. У списка для этого есть все необходимое. \r\n",
    "\r\n",
    "## Список как стек\r\n",
    "\r\n",
    "[Стек](https://en.wikipedia.org/wiki/Stack_(abstract_data_type)) - это структура данных, представляющая собой список, организованных по принципу \"последним пришел - первым ушел\" или LIFO (Last In First Out). Другими словами, добавлять новые элементы можно только в конец, и с него же элементы можно убирать. В \"классической\" версии стека доступ по индексу отсутствует. Добраться до последнего элемента (первого добавленного в стек) можно лишь вынув все элементы из стека.  Другой конец списка остается недоступным. Схематично это можно представить следующим образом:\r\n",
    "\r\n",
    "<img src=\"../image/stack.png\" align=\"center\">\r\n",
    "\r\n",
    "Таким образом, стек требует реализации двух операций:\r\n",
    "- ```append``` - добавление элемента на вершину стека\r\n",
    "- ```pop``` - удаление элемента с вершины стека\r\n",
    "\r\n",
    "Обе эти операции реализованы у типа ```list```. "
   ],
   "metadata": {}
  },
  {
   "cell_type": "code",
   "execution_count": 18,
   "source": [
    "stack = [1, 2, 3, 4, 5, 6]\r\n",
    "print(f'{stack.pop() = }')\r\n",
    "print(f'{stack = }')\r\n",
    "stack.append(7)\r\n",
    "print(f'{stack = }')"
   ],
   "outputs": [
    {
     "output_type": "stream",
     "name": "stdout",
     "text": [
      "stack.pop() = 6\n",
      "stack = [1, 2, 3, 4, 5]\n",
      "stack = [1, 2, 3, 4, 5, 7]\n"
     ]
    }
   ],
   "metadata": {}
  },
  {
   "cell_type": "markdown",
   "source": [
    "Стек широко применяется на практике. Одним из его применений является анализ выражений. Ниже приведен пример простой проверки скобочной последовательности."
   ],
   "metadata": {}
  },
  {
   "cell_type": "code",
   "execution_count": 19,
   "source": [
    "expressions = [\r\n",
    "    '5 + 2', \r\n",
    "    '2 * (3 + 4)', \r\n",
    "    '((2 / (3 + 1)) * (2 + 3))', \r\n",
    "    '(', \r\n",
    "    ')',\r\n",
    "    '1 + 2) - 4', \r\n",
    "    '1 + (2 * (3 + 5)',\r\n",
    "]\r\n",
    "\r\n",
    "def check_brackets(expr):\r\n",
    "    stack = []\r\n",
    "    for c in expr:\r\n",
    "        if c == '(':\r\n",
    "            stack.append(c)\r\n",
    "        elif c == ')':\r\n",
    "            if stack:\r\n",
    "                stack.pop()\r\n",
    "            else:\r\n",
    "                return False\r\n",
    "    if stack:\r\n",
    "        return False\r\n",
    "    else:\r\n",
    "        return True\r\n",
    "\r\n",
    "\r\n",
    "for s in expressions:\r\n",
    "    print(f'check({s}) = {check_brackets(s)}')\r\n"
   ],
   "outputs": [
    {
     "output_type": "stream",
     "name": "stdout",
     "text": [
      "check(5 + 2) = True\n",
      "check(2 * (3 + 4)) = True\n",
      "check(((2 / (3 + 1)) * (2 + 3))) = True\n",
      "check(() = False\n",
      "check()) = False\n",
      "check(1 + 2) - 4) = False\n",
      "check(1 + (2 * (3 + 5)) = False\n"
     ]
    }
   ],
   "metadata": {}
  },
  {
   "cell_type": "markdown",
   "source": [
    "## Список как очередь\n",
    "\n",
    "[Очередь](https://en.wikipedia.org/wiki/Queue_(abstract_data_type)) - это другая структура данных, схожая с обычной очередью в магазине. Это коллекция элементов организованная по принципу \"первым пришел - первым ушел\" или FIFO (First In First Out). Добавление новых элементов в очередь происходит в ее конец посредством операции ```append```, а получение элемента из очереди возможно только с ее начала с помощью ```pop```. Схематично очередь можно представить следующим образом. Обычно, доступа по индексу в очереди не предусмотрено.\n",
    "\n",
    "<img src=\"../image/deque.png\">\n",
    "\n",
    "Очереди бывают разных видов, например, с ограниченным количеством элементов (ограниченной длины), с приоритетом и другие.\n",
    "\n",
    "Однако, моделирование очереди с помощью списков (```list```) или массивов не является эффективным (не только в Python). Это происходит из-за того, что при удалении элемента с начала списка все остальные элементы нужно сдвинуть на 1 влево. Эта операция очень затратная по времени. Стоит учитывать и дополнительное выделение памяти у списков для добавления новых элементов.\n",
    "\n",
    "<img src=\"../image/array_shift.png\">\n",
    "\n",
    "\n",
    "Эффективность разных структур данных в Python будет рассмотрена позднее.  "
   ],
   "metadata": {}
  },
  {
   "cell_type": "code",
   "execution_count": 20,
   "source": [
    "deque = [1, 2, 3, 4, 5]\r\n",
    "fifo = deque.pop(0)\r\n",
    "print(f'Первый элемент: {fifo}')\r\n",
    "print(f'{deque = }')\r\n",
    "deque.append(6)\r\n",
    "print(f'{deque = }')"
   ],
   "outputs": [
    {
     "output_type": "stream",
     "name": "stdout",
     "text": [
      "Первый элемент: 1\n",
      "deque = [2, 3, 4, 5]\n",
      "deque = [2, 3, 4, 5, 6]\n"
     ]
    }
   ],
   "metadata": {}
  },
  {
   "cell_type": "markdown",
   "source": [
    "# Полезные сслыки\r\n",
    "\r\n",
    "1. [Алгоритм сортировки TimSort](https://habr.com/ru/company/infopulse/blog/133303/)\r\n",
    "2. [Реализация Python списка](https://www.laurentluce.com/posts/python-list-implementation/)\r\n",
    "3. [Data Structures. List](https://docs.python.org/3/tutorial/datastructures.html)\r\n",
    "4. [Accessing the index in `for` loops?](https://stackoverflow.com/questions/522563/accessing-the-index-in-for-loops)\r\n",
    "5. [How to make a flat list out of a list of lists](https://stackoverflow.com/questions/952914/how-to-make-a-flat-list-out-of-a-list-of-lists)\r\n",
    "6. [Understanding slice notation](https://stackoverflow.com/questions/509211/understanding-slice-notation)\r\n",
    "7. [Finding the index of an item in a list](https://stackoverflow.com/questions/176918/finding-the-index-of-an-item-in-a-list)\r\n",
    "8. [What is the difference between Python's list methods `append` and `extend`?](https://stackoverflow.com/questions/252703/what-is-the-difference-between-pythons-list-methods-append-and-extend)\r\n",
    "9. [How do I concatenate two lists in Python?](https://stackoverflow.com/questions/1720421/how-do-i-concatenate-two-lists-in-python)\r\n",
    "10. [How do you split a list into evenly sized chunks?](https://stackoverflow.com/questions/312443/how-do-you-split-a-list-into-evenly-sized-chunks)\r\n",
    "11. [List changes unexpectedly after assignment. Why is this and how can I prevent it?](https://stackoverflow.com/questions/2612802/list-changes-unexpectedly-after-assignment-why-is-this-and-how-can-i-prevent-it)"
   ],
   "metadata": {}
  }
 ]
}