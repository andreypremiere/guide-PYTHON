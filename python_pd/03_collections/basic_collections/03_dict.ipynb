{
 "metadata": {
  "language_info": {
   "codemirror_mode": {
    "name": "ipython",
    "version": 3
   },
   "file_extension": ".py",
   "mimetype": "text/x-python",
   "name": "python",
   "nbconvert_exporter": "python",
   "pygments_lexer": "ipython3",
   "version": "3.9.0-final"
  },
  "orig_nbformat": 2,
  "kernelspec": {
   "name": "python3",
   "display_name": "Python 3"
  }
 },
 "nbformat": 4,
 "nbformat_minor": 2,
 "cells": [
  {
   "source": [
    "# Словари (```dict```)\n",
    "\n",
    "Словари это еще одна фундаментальная структура данных. Другое название словарей - ассоциативные массивы или хеш-таблицы. В отличие от списков, индексируемых числами, словари индексируются ключами, которые могут быть любыми неизменяемыми или хешируемыми типами данных. Об изменяемых и неизменяемых типах данных будет подробнее рассмотрено в следующих разделах. Вот список некоторых неизменяемых типов, значения которых могут выступать в качестве ключей в словарях:\n",
    "- любые числа (```int```, ```float```, ```complex```)\n",
    "- ```str```\n",
    "- ```None```\n",
    "- ```bool```\n",
    "- ```tuple``` (этот тип будет рассмотрен в следующих разделах)\n",
    "- функции\n",
    "\n",
    "Словари ставят в соответствие какому-либо ключу определенное значение, в связи с этим их называют ассоциативными массивами. Такое соответствие достигается за счет вычисления [хеша](https://en.wikipedia.org/wiki/Hash_function) от объекта. Хеш это некоторое число, которое должно быть уникально для объектов с разными значениями, но одинаковым для объектов с одинаковыми значениями. В Python, используя функцию ```hash```, можно получить число, которое выступает в качестве хеша. У малых целых чисел хеш совпадает со значением числа."
   ],
   "cell_type": "markdown",
   "metadata": {}
  },
  {
   "cell_type": "code",
   "execution_count": 1,
   "metadata": {},
   "outputs": [
    {
     "output_type": "stream",
     "name": "stdout",
     "text": [
      "hash(42) = 42\nhash(42.5) = 1152921504606847018\nhash(\"42\") = -8297123596328698827\n"
     ]
    }
   ],
   "source": [
    "print(f'{hash(42) = }')\n",
    "print(f'{hash(42.5) = }')\n",
    "print(f'{hash(\"42\") = }')"
   ]
  },
  {
   "source": [
    "Другими словами, хеш ключа выступает в качестве индекса, который указывает, где храниться определенный объект. Схематично это можно представить следующим образом:\n",
    "\n",
    "<img src=\"../image/dict.png\">\n",
    "\n",
    "На сегодняшний день не существует \"идеальной\" хеш-функции, которая вычисляет хеш. Это приводит к тому, что не все ячейки в массиве будут заполнены. Время от времени в процессе расширения хеш-таблицы ее размер необходимо увеличивать и, соответственно, копировать в новое место в памяти. В Python поддерживается заполненность таблицы примерно на $2/3$.\n",
    "\n",
    "Ниже приведён пример работы хеш-таблицы и проблемы \"наложения\" хеша или коллизий:"
   ],
   "cell_type": "markdown",
   "metadata": {}
  },
  {
   "cell_type": "code",
   "execution_count": 2,
   "metadata": {},
   "outputs": [
    {
     "output_type": "stream",
     "name": "stdout",
     "text": [
      "['abcdefj']\n"
     ]
    }
   ],
   "source": [
    "import string\n",
    "\n",
    "# строки с повторяющимися хешами будем сохранять в список\n",
    "repetitions = []\n",
    "\n",
    "# будем искать повторения с заданной строкой\n",
    "prefix = 'abcdef'\n",
    "hash_s = hash(prefix) % 16\n",
    "\n",
    "# перебор всех символов\n",
    "for c in string.ascii_lowercase:\n",
    "    # добавим новый символ к префиксу и сравним хеши\n",
    "    if hash(prefix + c) % 16 == hash_s:\n",
    "        # если совпадают, то добавим в список\n",
    "        repetitions.append(prefix + c)\n",
    "\n",
    "# таблица размером 16 будет иметь 1 совпадение\n",
    "print(repetitions)"
   ]
  },
  {
   "source": [
    "Литералом словаря или хеш-таблицы являются фигурные скобки ```{}```. Для создания пустого словаря можно использовать либо фигурные скобки, либо встроенную функцию ```dict()```:"
   ],
   "cell_type": "markdown",
   "metadata": {}
  },
  {
   "cell_type": "code",
   "execution_count": 3,
   "metadata": {},
   "outputs": [
    {
     "output_type": "stream",
     "name": "stdout",
     "text": [
      "type(d_1) = <class 'dict'>\ntype(d_2) = <class 'dict'>\n"
     ]
    }
   ],
   "source": [
    "d_1 = {}\n",
    "d_2 = dict()\n",
    "print(f'{type(d_1) = }')\n",
    "print(f'{type(d_2) = }')"
   ]
  },
  {
   "source": [
    "Создать непустой словарь можно аналогичным способом, передав пары ```ключ: значение```, разделенные между собой запятыми. В качестве значений словари могут содержать произвольные объекты."
   ],
   "cell_type": "markdown",
   "metadata": {}
  },
  {
   "cell_type": "code",
   "execution_count": null,
   "metadata": {},
   "outputs": [],
   "source": [
    "d = {'a': 1, 2: 'str', None: [1, 2, 3], True: False}"
   ]
  },
  {
   "cell_type": "code",
   "execution_count": 4,
   "metadata": {},
   "outputs": [
    {
     "output_type": "stream",
     "name": "stdout",
     "text": [
      "d = {'a': 42, 'b': 2}\n"
     ]
    }
   ],
   "source": [
    "d = {'a': 1, 'b': 2, 'a': 42}\n",
    "print(f'{d = }')"
   ]
  },
  {
   "source": [
    "Ключи в словаре должны быть уникальными. Это приводит к тому, что предыдущие значения у повторяющихся ключей будут перезаписаны. Это приводит к тому, что ```1```, ```1.0```, ```1 + 0j``` и ```True```, а также ```0```, ```0.0```, ```0 + 0j``` и ```False``` считаются одинаковыми. В этом случае, в словарь попадет первый ключ и последнее значение дублирующего ключа."
   ],
   "cell_type": "markdown",
   "metadata": {}
  },
  {
   "cell_type": "code",
   "execution_count": 5,
   "metadata": {},
   "outputs": [
    {
     "output_type": "stream",
     "name": "stdout",
     "text": [
      "d = {1: 'd'}\n"
     ]
    }
   ],
   "source": [
    "d = {1: 'a', 1.: 'b', 1 + 0j: 'c', True: 'd'}\n",
    "print(f'{d = }')"
   ]
  },
  {
   "source": [
    "Словари можно создать из другой последовательности с помощью метода ```fromkeys```, передав ему коллекцию ключей и значение \"по умолчанию\". Это значение будет установлено для всех ключей. Если значение не передано, будет установлено ```None```."
   ],
   "cell_type": "markdown",
   "metadata": {}
  },
  {
   "cell_type": "code",
   "execution_count": 6,
   "metadata": {},
   "outputs": [
    {
     "output_type": "stream",
     "name": "stdout",
     "text": [
      "d = {'a': 1, 'b': 1, 'c': 1}\n"
     ]
    }
   ],
   "source": [
    "d = dict.fromkeys('abc', 1)\n",
    "print(f'{d = }')"
   ]
  },
  {
   "source": [
    "## Операции над словарями\n",
    "\n",
    "У словарей можно узнать длину с помощью функции ```len```:"
   ],
   "cell_type": "markdown",
   "metadata": {}
  },
  {
   "cell_type": "code",
   "execution_count": 7,
   "metadata": {},
   "outputs": [
    {
     "output_type": "stream",
     "name": "stdout",
     "text": [
      "len(d) = 3\n"
     ]
    }
   ],
   "source": [
    "d = {'a': 1, 'b': 2, 'c': 3}\n",
    "print(f'{len(d) = }')"
   ]
  },
  {
   "source": [
    "Обращение по ключу у списков осуществляется по аналогии со списками. Для этого нужно использовать квадратные скобки. Другим способом является использование метода ```get```."
   ],
   "cell_type": "markdown",
   "metadata": {}
  },
  {
   "cell_type": "code",
   "execution_count": 8,
   "metadata": {},
   "outputs": [
    {
     "output_type": "stream",
     "name": "stdout",
     "text": [
      "d[\"a\"] = 1\nd.get(\"c\") = 3\n"
     ]
    }
   ],
   "source": [
    "d = {'a': 1, 'b': 2, 'c': 3}\n",
    "print(f'{d[\"a\"] = }')\n",
    "print(f'{d.get(\"c\") = }')"
   ]
  },
  {
   "source": [
    "В случае обращения по несуществующему ключу, словарь возвращает исключение ```KeyError```."
   ],
   "cell_type": "markdown",
   "metadata": {}
  },
  {
   "cell_type": "code",
   "execution_count": 9,
   "metadata": {},
   "outputs": [
    {
     "output_type": "error",
     "ename": "KeyError",
     "evalue": "'g'",
     "traceback": [
      "\u001b[1;31m---------------------------------------------------------------------------\u001b[0m",
      "\u001b[1;31mKeyError\u001b[0m                                  Traceback (most recent call last)",
      "\u001b[1;32m<ipython-input-9-aefea57349df>\u001b[0m in \u001b[0;36m<module>\u001b[1;34m\u001b[0m\n\u001b[0;32m      1\u001b[0m \u001b[0md\u001b[0m \u001b[1;33m=\u001b[0m \u001b[1;33m{\u001b[0m\u001b[1;34m'a'\u001b[0m\u001b[1;33m:\u001b[0m \u001b[1;36m1\u001b[0m\u001b[1;33m,\u001b[0m \u001b[1;34m'b'\u001b[0m\u001b[1;33m:\u001b[0m \u001b[1;36m2\u001b[0m\u001b[1;33m,\u001b[0m \u001b[1;34m'c'\u001b[0m\u001b[1;33m:\u001b[0m \u001b[1;36m3\u001b[0m\u001b[1;33m}\u001b[0m\u001b[1;33m\u001b[0m\u001b[1;33m\u001b[0m\u001b[0m\n\u001b[1;32m----> 2\u001b[1;33m \u001b[0mprint\u001b[0m\u001b[1;33m(\u001b[0m\u001b[1;34mf'{d[\"g\"] = }'\u001b[0m\u001b[1;33m)\u001b[0m\u001b[1;33m\u001b[0m\u001b[1;33m\u001b[0m\u001b[0m\n\u001b[0m",
      "\u001b[1;31mKeyError\u001b[0m: 'g'"
     ]
    }
   ],
   "source": [
    "d = {'a': 1, 'b': 2, 'c': 3}\n",
    "print(f'{d[\"g\"] = }')"
   ]
  },
  {
   "source": [
    "Метод ```get``` нужно использовать, когда не известен факт наличия ключа в словаре. Метод принимает два аргумента. Первым аргументом передается ключ. Второй является необязательным и представляет собой значение, которое будет возвращено в случае отсутствия ключа. Он имеет значение по умолчанию равное ```None```."
   ],
   "cell_type": "markdown",
   "metadata": {}
  },
  {
   "cell_type": "code",
   "execution_count": 10,
   "metadata": {},
   "outputs": [
    {
     "output_type": "stream",
     "name": "stdout",
     "text": [
      "d.get(\"d\") = None\nd.get(\"f\", 42) = 42\n"
     ]
    }
   ],
   "source": [
    "d = {'a': 1, 'b': 2, 'c': 3}\n",
    "print(f'{d.get(\"d\") = }')\n",
    "print(f'{d.get(\"f\", 42) = }')"
   ]
  },
  {
   "source": [
    "Добавление новой пары ```ключ: значение``` или обновление значения, уже добавленного ключа можно с помощью квадратных скобок и оператора ```=```. В этом случае, если ключ существует, его значение будет обновлено, в противном случае будет создан новый ключ с соответствующим значением."
   ],
   "cell_type": "markdown",
   "metadata": {}
  },
  {
   "cell_type": "code",
   "execution_count": 11,
   "metadata": {},
   "outputs": [
    {
     "output_type": "stream",
     "name": "stdout",
     "text": [
      "d = {'a': 1, 'b': 2}\nd = {'a': 0, 'b': 2, 'c': 5}\n"
     ]
    }
   ],
   "source": [
    "d = {'a': 1, 'b': 2}\n",
    "print(f'{d = }')\n",
    "\n",
    "d['a'] = 0\n",
    "d['c'] = 5\n",
    "print(f'{d = }')"
   ]
  },
  {
   "source": [
    "В \"классической\" реализации хеш-таблиц они не сохраняют порядок вставки ключей. С версии интерпретатора 3.6 добавили сохранение порядка вставки элементов в ```dict```.\n",
    "\n",
    "Проверить наличие ключа в словаре можно по аналогии с проверкой наличия элемента в списке. Достаточно использовать оператор ```in``` или ```not in```."
   ],
   "cell_type": "markdown",
   "metadata": {}
  },
  {
   "cell_type": "code",
   "execution_count": 12,
   "metadata": {},
   "outputs": [
    {
     "output_type": "stream",
     "name": "stdout",
     "text": [
      "\"a\" in d = True\n\"c\" in d = False\n\"g\" not in d = True\n"
     ]
    }
   ],
   "source": [
    "d = {'a': 1, 'b': 2}\n",
    "print(f'{\"a\" in d = }')\n",
    "print(f'{\"c\" in d = }')\n",
    "print(f'{\"g\" not in d = }')"
   ]
  },
  {
   "source": [
    "В Python 3.9 введен оператор ```|``` для словарей. Он объединяет два словаря. В ранних версиях необходимо было использовать конструкцию, использующую две звездочки. Особенность этих обоих конструкций заключается в порядке следования операндов. От порядка зависит как будут перекрываться ключи."
   ],
   "cell_type": "markdown",
   "metadata": {}
  },
  {
   "cell_type": "code",
   "execution_count": 13,
   "metadata": {},
   "outputs": [
    {
     "output_type": "stream",
     "name": "stdout",
     "text": [
      "Python 3.9: foo | bar = {'a': 1, 'b': 2, 'c': 3, 'd': 4}\nPython 3.9: bar | foo = {'c': 42, 'd': 4, 'a': 1, 'b': 2}\nPython < 3.9: {**foo, **bar} = {'a': 1, 'b': 2, 'c': 3, 'd': 4}\nPython < 3.9: {**bar, **foo} = {'c': 42, 'd': 4, 'a': 1, 'b': 2}\n"
     ]
    }
   ],
   "source": [
    "foo = {'a': 1, 'b': 2, 'c': 42}\n",
    "bar = {'c': 3, 'd': 4}\n",
    "print(f'Python 3.9:{ foo | bar = }')\n",
    "print(f'Python 3.9:{ bar | foo = }')\n",
    "print(f'Python < 3.9:{ {**foo, **bar} = }')\n",
    "print(f'Python < 3.9:{ {**bar, **foo} = }')"
   ]
  },
  {
   "source": [
    "Оператор ```|``` имеет in-place аналог ```|=``` для обновления словаря \"на месте\". У него есть аналог в виде метода ```update```, который принимает другой словарь."
   ],
   "cell_type": "markdown",
   "metadata": {}
  },
  {
   "cell_type": "code",
   "execution_count": 14,
   "metadata": {},
   "outputs": [
    {
     "output_type": "stream",
     "name": "stdout",
     "text": [
      "foo = {'a': 1, 'b': 2, 'e': 5, 'f': 6}\nbar = {'c': 3, 'd': 4, 'e': 5, 'f': 6}\n"
     ]
    }
   ],
   "source": [
    "foo = {'a': 1, 'b': 2}\n",
    "bar = {'c': 3, 'd': 4}\n",
    "baz = {'e': 5, 'f': 6}\n",
    "\n",
    "foo |= baz\n",
    "bar.update(baz)\n",
    "\n",
    "print(f'{foo = }')\n",
    "print(f'{bar = }')"
   ]
  },
  {
   "source": [
    "## Итерирование по словарям\n",
    "\n",
    "По аналогии со списками, по словарям можно итерироваться разными способами. У словарей есть несколько методов, с помощью которых можно получить коллекции разных его составляющий, таких как ключи, значения, пары ```ключ, значение```. Эти методы облегчают использование циклов для итерирования по словарям."
   ],
   "cell_type": "markdown",
   "metadata": {}
  },
  {
   "cell_type": "code",
   "execution_count": 15,
   "metadata": {},
   "outputs": [
    {
     "output_type": "stream",
     "name": "stdout",
     "text": [
      "d.keys() = dict_keys(['a', 'b', 'c'])\nd.values() = dict_values([1, 2, 3])\nd.items() = dict_items([('a', 1), ('b', 2), ('c', 3)])\n"
     ]
    }
   ],
   "source": [
    "d = {'a': 1, 'b': 2, 'c': 3}\n",
    "print(f'{d.keys() = }')\n",
    "print(f'{d.values() = }')\n",
    "print(f'{d.items() = }')"
   ]
  },
  {
   "source": [
    "В связи с сохранением порядка вставки коллекция, получаемая с помощью метода ```keys``` будет всегда в одном и том же порядке. \n",
    "\n",
    "Иногда необходимо отсортировать пары словаря. Однако, словари не имеют встроенного метода сортировки. Сортировать нужно коллекции, возвращаемые ```keys```, ```values``` или ```items```. Стоит отметить, что эти коллекции не являются чисто списками, они имеют специальный тип. Поэтому у них нет метода ```sort```, как у списков."
   ],
   "cell_type": "markdown",
   "metadata": {}
  },
  {
   "cell_type": "code",
   "execution_count": 16,
   "metadata": {},
   "outputs": [
    {
     "output_type": "stream",
     "name": "stdout",
     "text": [
      "type(d.keys()) = <class 'dict_keys'>\ntype(d.values()) = <class 'dict_values'>\ntype(d.items()) = <class 'dict_items'>\n"
     ]
    }
   ],
   "source": [
    "d = {'a': 1, 'b': 2, 'c': 3}\n",
    "print(f'{type(d.keys()) = }')\n",
    "print(f'{type(d.values()) = }')\n",
    "print(f'{type(d.items()) = }')"
   ]
  },
  {
   "source": [
    "Для их сортировки придется использовать функцию ```sorted```."
   ],
   "cell_type": "markdown",
   "metadata": {}
  },
  {
   "cell_type": "code",
   "execution_count": 17,
   "metadata": {},
   "outputs": [
    {
     "output_type": "stream",
     "name": "stdout",
     "text": [
      "sorted(d.keys(), reverse=True) = ['c', 'b', 'a']\nsorted(d.values()) = [1, 2, 3]\nsorted(d.items(), reverse=True) = [('c', 1), ('b', 2), ('a', 3)]\n"
     ]
    }
   ],
   "source": [
    "d = {'a': 3, 'b': 2, 'c': 1}\n",
    "print(f'{sorted(d.keys(), reverse=True) = }')\n",
    "print(f'{sorted(d.values()) = }')\n",
    "print(f'{sorted(d.items(), reverse=True) = }')"
   ]
  },
  {
   "source": [
    "В последней строке видно, что коллекция пар ```d.items()``` сортируется по первому элемента кортежа, т.е. по ключу. Python сортирует коллекции в лексикографическом порядке. Это значит, что если первый элемент будет совпадать, то сортировка будет происходить по второму и т. д. Что бы самостоятельно задать элемент, по которому нужно сортировать такие коллекции нужно использовать ключевой аргумент ```key``` в функциях ```sort``` или ```sorted```. Этот аргумент принимает некоторую функцию, принимающую один аргумент и возвращающую элемент, по которому будет происходить сортировка."
   ],
   "cell_type": "markdown",
   "metadata": {}
  },
  {
   "cell_type": "code",
   "execution_count": 18,
   "metadata": {},
   "outputs": [
    {
     "output_type": "stream",
     "name": "stdout",
     "text": [
      "sorted(d.items(), key=foo) = [('c', 1), ('b', 2), ('a', 3)]\n"
     ]
    }
   ],
   "source": [
    "d = {'a': 3, 'b': 2, 'c': 1}\n",
    "\n",
    "# функция принимает элемент коллекции, т.е. кортеж \n",
    "# из двух элементов, и возвращает второй его элемет.\n",
    "def foo(x):\n",
    "    return x[1]\n",
    "\n",
    "# сортировка пар словаря по значению\n",
    "print(f'{sorted(d.items(), key=foo) = }')"
   ]
  },
  {
   "source": [
    "Словари поддерживают перебор:\n",
    "- ключей (по умолчанию)\n",
    "- ключей с помощью метода ```keys``` (эквивалент первого)\n",
    "- значений с помощью метода ```values```\n",
    "- пар ```ключ, значение``` с помощью метода ```items```\n",
    "- индексов и любых других элементов с помощью функции ```enumerate```"
   ],
   "cell_type": "markdown",
   "metadata": {}
  },
  {
   "cell_type": "code",
   "execution_count": 19,
   "metadata": {},
   "outputs": [
    {
     "output_type": "stream",
     "name": "stdout",
     "text": [
      "a: 1\nb: 2\nc: 3\n-------------------------\na: 1\nb: 2\nc: 3\n-------------------------\nvalue = 1\nvalue = 2\nvalue = 3\n-------------------------\na: 1\nb: 2\nc: 3\n-------------------------\n0: a - 1\n1: b - 2\n2: c - 3\n"
     ]
    }
   ],
   "source": [
    "d = {'a': 1, 'b': 2, 'c': 3}\n",
    "\n",
    "# аналог d.keys()\n",
    "for key in d:\n",
    "    print(f'{key}: {d[key]}')\n",
    "print('-' * 25)\n",
    "\n",
    "# аналог первого варианта\n",
    "for key in d.keys():\n",
    "    print(f'{key}: {d[key]}')\n",
    "print('-' * 25)\n",
    "\n",
    "for value in d.values():\n",
    "    print(f'{value = }')\n",
    "print('-' * 25)\n",
    "\n",
    "# самый полезный способ итерации\n",
    "for key, value in d.items():\n",
    "    print(f'{key}: {value}')\n",
    "print('-' * 25)\n",
    "\n",
    "for i, (k, v) in enumerate(d.items()):\n",
    "    print(f'{i}: {k} - {v}')"
   ]
  },
  {
   "source": [
    "# Применение словарей\n",
    "\n",
    "Частично с применением словарей мы уже сталкивались, когда делали множественную замену символов в строке."
   ],
   "cell_type": "markdown",
   "metadata": {}
  },
  {
   "cell_type": "code",
   "execution_count": 20,
   "metadata": {},
   "outputs": [
    {
     "output_type": "stream",
     "name": "stdout",
     "text": [
      "Словарь замен: {',': '', '.': '', ':': '', '!': '', '(': '', ')': '', ' ': '_'}\nстрока_со_знаками_препинания_и_пробелами\n"
     ]
    }
   ],
   "source": [
    "s = 'строка: (со знаками), препинания. и, пробелами!'\n",
    "\n",
    "# подготовим словарь замен. \n",
    "# знаки препинания ,.:!() будут заменяться на пустую строку, \n",
    "# т.е. удаляться\n",
    "d = dict.fromkeys(list(',.:!()'), '')\n",
    "# дополнительно все пробелы заменим на нижнее подчеркивание\n",
    "d[' '] = '_'\n",
    "print(f'Словарь замен: {d}')\n",
    "\n",
    "tran_tab = str.maketrans(d)\n",
    "print(s.translate(tran_tab))"
   ]
  },
  {
   "source": [
    "Еще одним интересным вариантом применения словаря является моделирования [графов](https://en.wikipedia.org/wiki/Graph_(discrete_mathematics)). Это еще одна структура данных, состоящая из узлов и ребер, которые соединяют узлы.\n",
    "\n",
    "<img src=\"../image/graph.png\" align=\"center\">\n"
   ],
   "cell_type": "markdown",
   "metadata": {}
  },
  {
   "cell_type": "code",
   "execution_count": null,
   "metadata": {},
   "outputs": [],
   "source": [
    "d = {}\n",
    "d['A'] = ['B', 'C', 'D']\n",
    "d['B'] = ['A', 'C', 'E']\n",
    "d['C'] = ['A', 'B', 'E']\n",
    "d['D'] = ['A', 'E', 'F']\n",
    "d['E'] = ['B', 'C', 'D', 'G']\n",
    "d['F'] = ['D', 'G']\n",
    "d['G'] = ['E', 'F']"
   ]
  },
  {
   "source": [
    "Использование словаря удобно для реализации простейшего меню пользователя. Предположим, пользователь вводит число. Программа должна совершить некоторые действия над числом на выбор пользователя:\n",
    "- возвести в квадрат;\n",
    "- вычислить корень третьей степени;\n",
    "- увеличить в 5 раз."
   ],
   "cell_type": "markdown",
   "metadata": {}
  },
  {
   "cell_type": "code",
   "execution_count": null,
   "metadata": {},
   "outputs": [],
   "source": [
    "# реализуем отдельные действия в виде \n",
    "# функций, они могут быть гораздло сложнее\n",
    "def sqr(x):\n",
    "    return x ** 2\n",
    "\n",
    "def power(x):\n",
    "    return x ** 1/3\n",
    "\n",
    "def mul_5(x):\n",
    "    return 5 * x\n",
    "\n",
    "# реализуем меню в виде словаря, сопоставив \n",
    "# команду пользователя и кортеж, состоящий из \n",
    "# описания действия и функции обработки\n",
    "d = {\n",
    "    'sqr': ('Возвести число в квадрат', sqr),\n",
    "    'pow': ('Извлечь корень третьей степени', power),\n",
    "    'mul': ('Увеличить в 5 раз', mul_5),\n",
    "}\n",
    "\n",
    "# вывод названия программы и меню на экран\n",
    "print('Простейшая программа с меню')\n",
    "for k, v in d.items():\n",
    "    print(f'{k} - {v[0]}')\n",
    "print('stop - выход')\n",
    "\n",
    "# зациклим программу, пока пользователь не введет stop\n",
    "msg = 'Введите команду:'\n",
    "while (s:= input(msg)) != 'stop':\n",
    "    # считаем число, здесь проверка на \n",
    "    # целое число опущена для простоты\n",
    "    number = input('Введите число:')\n",
    "    if s in d:\n",
    "        print(f'Результат: {d[s][1](int(number))}')"
   ]
  },
  {
   "source": [
    "# Полезные ссылки\n",
    "\n",
    "- [Что делает хеш в Python](https://stackoverflow.com/questions/17585730/what-does-hash-do-in-python)\n",
    "- [Словари в Python](https://realpython.com/python-dicts/)\n",
    "- [Хеш-таблицы Python](http://thepythoncorner.com/dev/hash-tables-understanding-dictionaries/)"
   ],
   "cell_type": "markdown",
   "metadata": {}
  }
 ]
}