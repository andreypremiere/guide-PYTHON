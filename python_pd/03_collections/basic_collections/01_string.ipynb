{
 "metadata": {
  "language_info": {
   "codemirror_mode": {
    "name": "ipython",
    "version": 3
   },
   "file_extension": ".py",
   "mimetype": "text/x-python",
   "name": "python",
   "nbconvert_exporter": "python",
   "pygments_lexer": "ipython3",
   "version": "3.7.4-final"
  },
  "orig_nbformat": 2,
  "kernelspec": {
   "name": "python38032bitvenvvirtualenvc33d04f3984e43aca36bd626842ab8ce",
   "display_name": "Python 3.8.0 32-bit ('.venv': virtualenv)",
   "language": "python"
  }
 },
 "nbformat": 4,
 "nbformat_minor": 2,
 "cells": [
  {
   "cell_type": "markdown",
   "source": [
    "# Строки (```str```)\n",
    "\n",
    "[Строковый тип](https://docs.python.org/3.9/library/stdtypes.html#text-sequence-type-str) данных в Python называется ```str```. Для создания строки можно использовать либо функцию ```str``` либо строковые литералы. Их в Python четыре вида: одинарные кавычки, двойные кавычки, тройные одинарные кавычки и тройные двойные кавычки. "
   ],
   "metadata": {}
  },
  {
   "cell_type": "code",
   "execution_count": 1,
   "source": [
    "s_1 = ''\r\n",
    "s_2 = \"foo\"\r\n",
    "s_3 = '''bar'''\r\n",
    "s_4 = \"\"\"baz\"\"\"\r\n",
    "print('type(s_1) ->', type(s_1))\r\n",
    "print('type(s_2) ->', type(s_2))\r\n",
    "print('type(s_3) ->', type(s_3))\r\n",
    "print('type(s_4) ->', type(s_4))"
   ],
   "outputs": [
    {
     "output_type": "stream",
     "name": "stdout",
     "text": [
      "type(s_1) -> <class 'str'>\n",
      "type(s_2) -> <class 'str'>\n",
      "type(s_3) -> <class 'str'>\n",
      "type(s_4) -> <class 'str'>\n"
     ]
    }
   ],
   "metadata": {}
  },
  {
   "cell_type": "markdown",
   "source": [
    "Длинные строки можно оформлять в несколько строк для этого используются либо круглые скобки, либо символ ```\\```. Обрамление строки в круглые скобки позволяет переносить ее части на разные строки. Отсутствие запятых является обязательным, иначе получится не строка, а кортеж - одна из коллекций. Символ ```\\``` означает, что текущая строка не закончена, и она будет объединена со следующей."
   ],
   "metadata": {}
  },
  {
   "cell_type": "code",
   "execution_count": 2,
   "source": [
    "long_str_1 = (\r\n",
    "    'foo' \r\n",
    "    'bar' \r\n",
    "    'baz'\r\n",
    ")\r\n",
    "long_str_2 = 'foo' \\\r\n",
    "             'bar' \\\r\n",
    "             'baz'\r\n",
    "print(long_str_1)\r\n",
    "print(long_str_2)"
   ],
   "outputs": [
    {
     "output_type": "stream",
     "name": "stdout",
     "text": [
      "foobarbaz\n",
      "foobarbaz\n"
     ]
    }
   ],
   "metadata": {}
  },
  {
   "cell_type": "markdown",
   "source": [
    "Внутри одинарных кавычек можно использовать дойные, а внутри тройных можно использовать одинарные и двойные без дополнительного экранирования. Использование одинарных кавычек внутри строки, созданной с помощью одинарных кавычек, потребует экранирования. Оно осуществляется с помощью символа ```\\```, который указывается перед экранируемым символом."
   ],
   "metadata": {}
  },
  {
   "cell_type": "code",
   "execution_count": 3,
   "source": [
    "s_1 = '\"Flying Circus\"'\r\n",
    "s_2 = '\\'Monty Python\\''\r\n",
    "s_3 = '''\"spam\", 'spam', spam'''\r\n",
    "print(s_1)\r\n",
    "print(s_2)\r\n",
    "print(s_3)"
   ],
   "outputs": [
    {
     "output_type": "stream",
     "name": "stdout",
     "text": [
      "\"Flying Circus\"\n",
      "'Monty Python'\n",
      "\"spam\", 'spam', spam\n"
     ]
    }
   ],
   "metadata": {}
  },
  {
   "cell_type": "markdown",
   "source": [
    "В строках есть целый ряд специальных символов, обозначающихся с помощью экранирования, например, перенос строки ```\\n```, табуляция ```\\t```, перевод каретки ```\\r```, backspace ```\\b``` и другие."
   ],
   "metadata": {}
  },
  {
   "cell_type": "code",
   "execution_count": 4,
   "source": [
    "s = '\\tspamalot\\n2006\\b4'\r\n",
    "print(s)"
   ],
   "outputs": [
    {
     "output_type": "stream",
     "name": "stdout",
     "text": [
      "\tspamalot\n",
      "2004\n"
     ]
    }
   ],
   "metadata": {}
  },
  {
   "cell_type": "markdown",
   "source": [
    "В Python реализовано несколько видов строк, которые обозначаются разными префиксами перед открывающей кавычкой. Обычные строки не используют никаких кавычек. Обратите внимание, что при использовании функции ```print``` специальные символы были интерпретированы как невидимые. Для того, чтобы оставить эти символы \"как есть\" в Python используется префикс ```r```, означающий \"сырые\" строки. В таких строках экранированные символы, остаются без изменений."
   ],
   "metadata": {}
  },
  {
   "cell_type": "code",
   "execution_count": 5,
   "source": [
    "s = r'\\tspamalot\\n2006\\b4'\r\n",
    "print(s)"
   ],
   "outputs": [
    {
     "output_type": "stream",
     "name": "stdout",
     "text": [
      "\\tspamalot\\n2006\\b4\n"
     ]
    }
   ],
   "metadata": {}
  },
  {
   "cell_type": "markdown",
   "source": [
    "Еще один вид строк - это байтовые строки. Они обозначаются префиксом ```b```. При этом тип такой строки будет уже не ```str```, а ```bytes```."
   ],
   "metadata": {}
  },
  {
   "cell_type": "code",
   "execution_count": 6,
   "source": [
    "s = b'\\tspamalot\\n2006\\b4'\r\n",
    "print(s)\r\n",
    "print('type(s) ->', type(s))"
   ],
   "outputs": [
    {
     "output_type": "stream",
     "name": "stdout",
     "text": [
      "b'\\tspamalot\\n2006\\x084'\n",
      "type(s) -> <class 'bytes'>\n"
     ]
    }
   ],
   "metadata": {}
  },
  {
   "cell_type": "markdown",
   "source": [
    "Подробнее со спец. символами и префиксами строк можно ознакомиться в [документации](https://docs.python.org/3.9/reference/lexical_analysis.html#strings)."
   ],
   "metadata": {}
  },
  {
   "cell_type": "markdown",
   "source": [
    "## Операции со строками\n",
    "\n",
    "Строки позволяют использовать некоторые арифметические операторы и их in-place аналоги. Например, ```+``` для конкатенации (объединения), а ```*``` для размножения строки."
   ],
   "metadata": {}
  },
  {
   "cell_type": "code",
   "execution_count": 7,
   "source": [
    "a = '-'\r\n",
    "b = '*'\r\n",
    "print('a + b =', a + b)\r\n",
    "print('a * 10 =', a * 10)\r\n",
    "\r\n",
    "a += b\r\n",
    "print('a += b ->', a)\r\n",
    "a *= 10\r\n",
    "print('a *= 10 ->', a)"
   ],
   "outputs": [
    {
     "output_type": "stream",
     "name": "stdout",
     "text": [
      "a + b = -*\n",
      "a * 10 = ----------\n",
      "a += b -> -*\n",
      "a *= 10 -> -*-*-*-*-*-*-*-*-*-*\n"
     ]
    }
   ],
   "metadata": {}
  },
  {
   "cell_type": "markdown",
   "source": [
    "Строки это одна из коллекций. Одной из базовый операций с коллекциями является получение её длины. Для этого в Python используется встроенная функций ```len```. В качестве аргумента она принимает любую коллекцию."
   ],
   "metadata": {}
  },
  {
   "cell_type": "code",
   "execution_count": 8,
   "source": [
    "s = 'foo_bar'\r\n",
    "print('len(s) ->', len(s))"
   ],
   "outputs": [
    {
     "output_type": "stream",
     "name": "stdout",
     "text": [
      "len(s) -> 7\n"
     ]
    }
   ],
   "metadata": {}
  },
  {
   "cell_type": "markdown",
   "source": [
    "Строки - это коллекция строк. Нет, не символов. В Python нет символа как отдельного типа данных. Каждый символ также является строкой. Представление строки как коллекции позволяет выполнять ряд действий, характерных для коллекций, например, брать элемент по индексу или брать срез. Индексирование любой последовательности в Python, как и в большинстве других языков, начинается с нуля. Для получения элемента по его индексу достаточно указать коллекцию и в квадратных скобках указать его индекс."
   ],
   "metadata": {}
  },
  {
   "cell_type": "code",
   "execution_count": 9,
   "source": [
    "s = 'foo_bar'\r\n",
    "print('s[0] =', s[0])\r\n",
    "print('s[1] =', s[1])\r\n",
    "print('type(s[0]) ->', type(s[0]))\r\n",
    "print('type(s[1]) ->', type(s[1]))"
   ],
   "outputs": [
    {
     "output_type": "stream",
     "name": "stdout",
     "text": [
      "s[0] = f\n",
      "s[1] = o\n",
      "type(s[0]) -> <class 'str'>\n",
      "type(s[1]) -> <class 'str'>\n"
     ]
    }
   ],
   "metadata": {}
  },
  {
   "cell_type": "markdown",
   "source": [
    "Тот факт, что один символ в Python тоже является строкой позволяет бесконечно обращаться по индексу."
   ],
   "metadata": {}
  },
  {
   "cell_type": "code",
   "execution_count": 10,
   "source": [
    "s = 'eggs'\r\n",
    "print('s[2] =', s[2])\r\n",
    "print('s[2][0] =', s[2][0])\r\n",
    "print('s[2][0][0][0][0][0] =', s[2][0][0][0][0][0])"
   ],
   "outputs": [
    {
     "output_type": "stream",
     "name": "stdout",
     "text": [
      "s[2] = g\n",
      "s[2][0] = g\n",
      "s[2][0][0][0][0][0] = g\n"
     ]
    }
   ],
   "metadata": {}
  },
  {
   "cell_type": "markdown",
   "source": [
    "В Python существуют не только неотрицательные индексы, но и отрицательные. В этом случае индекс равный ```-1``` указывает на последний элемент коллекции. Использование отрицательных индексов, особенно ```-1```, очень полезно. Это позволяет удобно получать последний элемент коллекции, без необходимости писать длинной выражение ```len(s) - 1```. Обратите внимание, что для получения последнего элемента от длины необходимо отнять 1, т. к. индексация начинается с нуля."
   ],
   "metadata": {}
  },
  {
   "cell_type": "code",
   "execution_count": 11,
   "source": [
    "s = 'spiced ham'\r\n",
    "print('s[0] =', s[0])\r\n",
    "print('s[-1] =', s[-1])\r\n",
    "print('s[len(s) - 1] =', s[len(s) - 1])"
   ],
   "outputs": [
    {
     "output_type": "stream",
     "name": "stdout",
     "text": [
      "s[0] = s\n",
      "s[-1] = m\n",
      "s[len(s) - 1] = m\n"
     ]
    }
   ],
   "metadata": {}
  },
  {
   "cell_type": "markdown",
   "source": [
    "На следующей схеме показано каким индексам какие элементы соответствуют. В верхней части указаны отрицательные индексы, а в нижней неотрицательные.\n",
    "\n",
    "<img src=\"../image/index.png\" align=\"center\">\n",
    "\n",
    "Стоит помнить, что обращение к несуществующим индексам вызывает ошибку ```IndexError```. "
   ],
   "metadata": {}
  },
  {
   "cell_type": "code",
   "execution_count": 12,
   "source": [
    "s = 'pacman'\r\n",
    "print(s[6])"
   ],
   "outputs": [
    {
     "output_type": "error",
     "ename": "IndexError",
     "evalue": "string index out of range",
     "traceback": [
      "\u001b[1;31m---------------------------------------------------------------------------\u001b[0m",
      "\u001b[1;31mIndexError\u001b[0m                                Traceback (most recent call last)",
      "\u001b[1;32m<ipython-input-12-98ddf7c25a19>\u001b[0m in \u001b[0;36m<module>\u001b[1;34m\u001b[0m\n\u001b[0;32m      1\u001b[0m \u001b[0ms\u001b[0m \u001b[1;33m=\u001b[0m \u001b[1;34m'pacman'\u001b[0m\u001b[1;33m\u001b[0m\u001b[1;33m\u001b[0m\u001b[0m\n\u001b[1;32m----> 2\u001b[1;33m \u001b[0mprint\u001b[0m\u001b[1;33m(\u001b[0m\u001b[0ms\u001b[0m\u001b[1;33m[\u001b[0m\u001b[1;36m6\u001b[0m\u001b[1;33m]\u001b[0m\u001b[1;33m)\u001b[0m\u001b[1;33m\u001b[0m\u001b[1;33m\u001b[0m\u001b[0m\n\u001b[0m",
      "\u001b[1;31mIndexError\u001b[0m: string index out of range"
     ]
    }
   ],
   "metadata": {}
  },
  {
   "cell_type": "markdown",
   "source": [
    "Взятие среза (```slice```) - это операция выбора подпоследовательности из исходной последовательности. Срезы получают, используя квадратные скобки и указывая три значения: начальное значение ```start```, конечное значение ```stop``` и шаг ```step```. Синтаксически это выглядит следующим образом:\n",
    "\n",
    "```python\n",
    "sequence[start:stop:step]\n",
    "```\n",
    "\n",
    "Начальное значение или ```start``` определяет начиная с какого элемента будет браться подпоследовательность или срез. Конечное значение или ```stop``` определяет верхнюю границу. Шаг (```step```) задает интервалы, через которые берутся элементы, например можно взять каждый второй элемент. Синтаксис среза аналогичен математическому интервалу $[start, stop)$, т. е. граница ```stop``` не включается. Все эти элементы не обязательны. По умолчанию ```start``` равен нулю, ```stop``` равен длине последовательности, а ```step``` равен 1."
   ],
   "metadata": {}
  },
  {
   "cell_type": "code",
   "execution_count": 13,
   "source": [
    "s = '123456789'\r\n",
    "print('Все последовательность:', s[:])\r\n",
    "print('Все последовательность:', s[::])\r\n",
    "print('Последовательность в обратном порядке:', s[::-1])\r\n",
    "print('Срез одного элемента:', s[0:1])\r\n",
    "print('Первые три символа:', s[:3])\r\n",
    "print('Последние 4-е символа:', s[-4:])\r\n",
    "print('Каждый второй символ:', s[::2])\r\n",
    "print('Каждый второй символ от 7-го до 2-го (в обратном порядке):', s[7:2:-2])\r\n",
    "print('Каждый третий символ от 2-го до 7-го:', s[2:7:3])"
   ],
   "outputs": [
    {
     "output_type": "stream",
     "name": "stdout",
     "text": [
      "Все последовательность: 123456789\n",
      "Все последовательность: 123456789\n",
      "Последовательность в обратном порядке: 987654321\n",
      "Срез одного элемента: 1\n",
      "Первые три символа: 123\n",
      "Последние 4-е символа: 6789\n",
      "Каждый второй символ: 13579\n",
      "Каждый второй символ от 7-го до 2-го (в обратном порядке): 864\n",
      "Каждый третий символ от 2-го до 7-го: 36\n"
     ]
    }
   ],
   "metadata": {}
  },
  {
   "cell_type": "markdown",
   "source": [
    "Срезы несколько отличаются от простого индексирования. Границы среза могут выходить за допустимые границы коллекции. При этом никаких исключений появляться не будет. Если указан срез, который не может содержать никаких элементов, например, как в последнем примере ниже, то такой срез будет возвращать пустую коллекцию."
   ],
   "metadata": {}
  },
  {
   "cell_type": "code",
   "execution_count": 14,
   "source": [
    "s = '123456789'\r\n",
    "print('stop больше длины коллекции:', s[:20:5])\r\n",
    "print('stop больше длины коллекции:', s[:-20:-5])\r\n",
    "print('step больше длины коллекции:', s[::10])\r\n",
    "print('start больше длины коллекции:', s[10:])"
   ],
   "outputs": [
    {
     "output_type": "stream",
     "name": "stdout",
     "text": [
      "stop больше длины коллекции: 16\n",
      "stop больше длины коллекции: 94\n",
      "step больше длины коллекции: 1\n",
      "start больше длины коллекции: \n"
     ]
    }
   ],
   "metadata": {}
  },
  {
   "cell_type": "code",
   "execution_count": 15,
   "source": [
    "s = '123456789'\r\n",
    "print('Положительные границы и отрицательный шаг:', s[6:2:-1])\r\n",
    "print('Отрицательные границы и отрицательный шаг:', s[-3:-7:-1])"
   ],
   "outputs": [
    {
     "output_type": "stream",
     "name": "stdout",
     "text": [
      "Положительные границы и отрицательный шаг: 7654\n",
      "Отрицательные границы и отрицательный шаг: 7654\n"
     ]
    }
   ],
   "metadata": {}
  },
  {
   "cell_type": "markdown",
   "source": [
    "Бывают ситуации, когда нужно брать один и тот же срез в разных местах программы. В этом случае постоянно писать его было бы не удобно. Для этого в Python существует специальный объект ```slice```. Его можно создать с помощью одноименной функции ```slice```. Эта функция может принимать от одного до трех аргументов, соответствующих значениям ```start```, ```stop```, ```step```. Применять срезы, созданные таким образом, достаточно просто. \n",
    "\n",
    "```python\n",
    "sequence[my_slice]\n",
    "```\n",
    "\n",
    "Это существенно повышает читаемость кода, когда необходимо использовать один и тот же срез несколько раз."
   ],
   "metadata": {}
  },
  {
   "cell_type": "code",
   "execution_count": 16,
   "source": [
    "YEAR = slice(4)  # указан только stop\r\n",
    "MONTH = slice(5, 7)  # указаны start и stop, step поумолчанию равен 1\r\n",
    "DAY = slice(8, 10)\r\n",
    "\r\n",
    "date = '2020-11-08'\r\n",
    "print('год:', date[YEAR])\r\n",
    "print('месяц:', date[MONTH])\r\n",
    "print('день:', date[DAY])"
   ],
   "outputs": [
    {
     "output_type": "stream",
     "name": "stdout",
     "text": [
      "год: 2020\n",
      "месяц: 11\n",
      "день: 08\n"
     ]
    }
   ],
   "metadata": {}
  },
  {
   "cell_type": "markdown",
   "source": [
    "Остается один вопрос. Почему\r\n",
    "[последний элемент](https://docs.python.org/3/tutorial/introduction.html#strings)\r\n",
    "среза не включается в результат? Ответ на него от части заключается в\r\n",
    "удобстве использования. Такая реализация \"защищает\" от непреднамеренного\r\n",
    "выхода за границу последовательности. С другой стороны индексы в Python\r\n",
    "на самом деле расположены между элементами.\r\n",
    "\r\n",
    "```python\r\n",
    "-4  -3  -2  -1\r\n",
    " +---+---+---+---+\r\n",
    " | s | p | a | m |\r\n",
    " +---+---+---+---+\r\n",
    " 0   1   2   3   4\r\n",
    "```\r\n",
    "\r\n",
    "Таким образом они указывают не на сам элемент, а на его начало. Или с\r\n",
    "другой стороны на место вставки нового элемента. Такой подход полностью\r\n",
    "объясняет поведение срезов. Если в примере выше взять срез `[1:2]` то\r\n",
    "ожидаемо получиться строка `pa`:\r\n",
    "\r\n",
    "```python\r\n",
    " +---+---+---+---+\r\n",
    " | s | p | a | m |\r\n",
    " +---+---+---+---+\r\n",
    " 0   1   2   3   4\r\n",
    "     |       |\r\n",
    "     +-------+\r\n",
    "```\r\n"
   ],
   "metadata": {}
  },
  {
   "cell_type": "markdown",
   "source": [
    "## Методы строк\n",
    "\n",
    "Строки имеют большое количество разных методов, которые предлагают разные способы обработки строк. Все эти методы можно разделить на две группы. Первая группа - это методы для проверки каких-либо правил, обычно они начинаются с префикса ```is``` и возвращают ```True``` или ```False```. Вторая группа - это методы для манипуляции строкой.\n",
    "\n",
    "В строках префиксом называют подстроку, с которой начинается строка. У строки может быть несколько префиксов. Суффикс -- это, наоборот, подстрока, которой заканчивается исходная строка.\n",
    "\n",
    "<img src=\"../image/prefix_suffix.png\" align=\"center\">\n",
    "\n",
    "Вот некоторые методы проверок:\n",
    "- ```isdigit``` - строка состоит из цифр\n",
    "- ```isalpha``` - строка состоит из буквенных символов\n",
    "- ```islower``` - строка в нижнем регистре\n",
    "- ```isspace``` - строка состоит только из пробельных символов\n",
    "- и [другие](https://docs.python.org/3.9/library/stdtypes.html#text-sequence-type-str)"
   ],
   "metadata": {}
  },
  {
   "cell_type": "code",
   "execution_count": 17,
   "source": [
    "print('\"42\".isdigit() ->', '42'.isdigit())\r\n",
    "print('\"-42\".isdigit() ->', '-42'.isdigit())\r\n",
    "print('\"42.0\".isdigit() ->', '42.0'.isdigit())\r\n",
    "print('\"42.5\".isdigit() ->', '42.5'.isdigit())"
   ],
   "outputs": [
    {
     "output_type": "stream",
     "name": "stdout",
     "text": [
      "\"42\".isdigit() -> True\n",
      "\"-42\".isdigit() -> False\n",
      "\"42.0\".isdigit() -> False\n",
      "\"42.5\".isdigit() -> False\n"
     ]
    }
   ],
   "metadata": {}
  },
  {
   "cell_type": "code",
   "execution_count": 18,
   "source": [
    "print('\"abc\".isalpha() ->', 'abc'.isalpha())\n",
    "print('\"rZЩ\".isalpha() ->', 'rZЩ'.isalpha())\n",
    "print('\"ab!\".isalpha() ->', 'ab!'.isalpha())\n",
    "print('\"ab3\".isalpha() ->', 'ab3'.isalpha())"
   ],
   "outputs": [
    {
     "output_type": "stream",
     "name": "stdout",
     "text": [
      "\"abc\".isalpha() -> True\n",
      "\"rZЩ\".isalpha() -> True\n",
      "\"ab!\".isalpha() -> False\n",
      "\"ab3\".isalpha() -> False\n"
     ]
    }
   ],
   "metadata": {}
  },
  {
   "cell_type": "markdown",
   "source": [
    "Методов манипуляции строкой достаточно много:\n",
    "- ```removeprefix``` - удаление префикса (>= 3.9) ([PEP 616](https://www.python.org/dev/peps/pep-0616/))\n",
    "- ```removesuffix``` - удаление суффикса (>= 3.9) ([PEP 616](https://www.python.org/dev/peps/pep-0616/))\n",
    "- ```find``` - поиск подстроки в строке\n",
    "- ```lower``` - приведение строки к нижнему регистру\n",
    "- ```upper``` - приведение строки к верхнему регистру\n",
    "- ```split``` - разбиение строки по разделителю\n",
    "- ```strip``` - удаление символов с начала и конца строки\n",
    "- и [другие](https://docs.python.org/3.9/library/stdtypes.html#text-sequence-type-str)"
   ],
   "metadata": {}
  },
  {
   "cell_type": "code",
   "execution_count": 19,
   "source": [
    "s = 'monty_python'\n",
    "\n",
    "# метод поиска подстроки в строке find стоит использовать, \n",
    "# когда нужно найти положение, иначе лучше воспользоваться in\n",
    "print('find ->', s.find('python'))\n",
    "\n",
    "print('upper ->', s.upper())\n",
    "print('split ->', s.split('_'))\n",
    "\n",
    "# эти два метода ввели в версии 3.9\n",
    "print('removeprefix ->', s.removeprefix('monty_'))\n",
    "print('removesuffix ->', s.removesuffix('_python'))"
   ],
   "outputs": [
    {
     "output_type": "stream",
     "name": "stdout",
     "text": [
      "find -> 6\n",
      "upper -> MONTY_PYTHON\n",
      "split -> ['monty', 'python']\n",
      "removeprefix -> python\n",
      "removesuffix -> monty\n"
     ]
    }
   ],
   "metadata": {}
  },
  {
   "cell_type": "markdown",
   "source": [
    "Одними из самых полезных операций над строками являются замена подстрок на другие. "
   ],
   "metadata": {}
  },
  {
   "cell_type": "code",
   "execution_count": 20,
   "source": [
    "# Заменить подстроку 'foo' на 'baz'\n",
    "print('foo_bar'.replace('foo', 'baz'))\n",
    "\n",
    "# replace по умолчанию заменяет все схождения\n",
    "print('foo_bar'.replace('o', 'a'))"
   ],
   "outputs": [
    {
     "output_type": "stream",
     "name": "stdout",
     "text": [
      "baz_bar\n",
      "faa_bar\n"
     ]
    }
   ],
   "metadata": {}
  },
  {
   "cell_type": "markdown",
   "source": [
    "Проблемой становиться ситуация, когда нужно заменить несколько разных подстрок на несколько других подстрок. Писать несколько ```replace``` подряд не выход. Для этого можно воспользоваться методом ```translate```. \n",
    "\n",
    "Ниже приведен пример замены нескольких подстрок одновременно. Здесь используются новые структуры данных, такие как словарь и список, которые будут рассмотрены далее."
   ],
   "metadata": {}
  },
  {
   "cell_type": "code",
   "execution_count": 21,
   "source": [
    "s = 'строка: (со знаками), препинания. и, пробелами!'\n",
    "\n",
    "# подготовим словарь замен. \n",
    "# знаки препинания ,.:!() будут заменяться на пустую строку, \n",
    "# т.е. удаляться\n",
    "d = dict.fromkeys(list(',.:!()'), '')\n",
    "# дополнительно все пробелы заменим на нижнее подчеркивание\n",
    "d[' '] = '_'\n",
    "print('Словарь замен:', d)\n",
    "\n",
    "# Создания таблицы замен\n",
    "tran_tab = str.maketrans(d)\n",
    "# замена символов в исходной строке\n",
    "print(s.translate(tran_tab))"
   ],
   "outputs": [
    {
     "output_type": "stream",
     "name": "stdout",
     "text": [
      "Словарь замен: {',': '', '.': '', ':': '', '!': '', '(': '', ')': '', ' ': '_'}\n",
      "строка_со_знаками_препинания_и_пробелами\n"
     ]
    }
   ],
   "metadata": {}
  },
  {
   "cell_type": "markdown",
   "source": [
    "## Хранение строк в памяти\n",
    "\n",
    "В Python строки не имеют постоянного размера в памяти. Python поддерживает минимум три кодировки для хранения строк:\n",
    "- ```utf-8``` ([wiki](https://en.wikipedia.org/wiki/UTF-8));\n",
    "- ```utf-16``` ([wiki](https://en.wikipedia.org/wiki/UTF-16));\n",
    "- ```utf-32``` ([wiki](https://en.wikipedia.org/wiki/UTF-32)).\n",
    "\n",
    "Символы закодированные ```utf-8``` занимают в памяти по 1 байту, она полностью совместима с ascii. Кодировка ```utf-16``` требует двух байт на один символ, а ```utf-32``` уже четырех.\n",
    "\n",
    "Интерпретатор Python следит за тем какие символы содержаться в строке. Пока все символы удовлетворяют кодировке ```utf-8``` все символы строки будут занимать 1 байт. Как только в строке появляется символ из кодировки ```utf-16``` или ```utf-32```, все символы строки начинают занимать столько байт, сколько требует кодировка этого символа."
   ],
   "metadata": {}
  },
  {
   "cell_type": "code",
   "execution_count": 22,
   "source": [
    "import sys\n",
    "\n",
    "print('Строка utf-8:')\n",
    "s_1 = 'abc'  # только acii символы, кирилица (utf-8)\n",
    "print(f'{sys.getsizeof(s_1) = }')\n",
    "\n",
    "s_2 = s_1 + 'd'  # все еще utf-8\n",
    "print(f'{sys.getsizeof(s_2) = }')\n",
    "print(f'Размер 1 символа: {sys.getsizeof(s_2) - sys.getsizeof(s_1)} байт')\n",
    "print('-' * 50)\n",
    "\n",
    "print('Строка utf-16:')\n",
    "s_3 = s_2 + 'ы'  # unicode (utf-16)\n",
    "print(f'{sys.getsizeof(s_3) = }')\n",
    "s_4 = s_3 + 'w'  # уже utf-16\n",
    "print(f'{sys.getsizeof(s_4) = }')\n",
    "print(f'Размер 1 символа: {sys.getsizeof(s_4) - sys.getsizeof(s_3)} байта')\n",
    "print('-' * 50)\n",
    "\n",
    "print('Строка utf-32:')\n",
    "s_5 = s_4 + '📼'  # unicode (utf-32)\n",
    "print(f'{sys.getsizeof(s_5) = }')\n",
    "s_6 = s_5 + 'w'  # еще больше utf-32\n",
    "print(f'{sys.getsizeof(s_6) = }')\n",
    "print(f'Размер 1 символа: {sys.getsizeof(s_6) - sys.getsizeof(s_5)} байта')"
   ],
   "outputs": [
    {
     "output_type": "stream",
     "name": "stdout",
     "text": [
      "Строка utf-8:\n",
      "sys.getsizeof(s_1) = 52\n",
      "sys.getsizeof(s_2) = 53\n",
      "Размер 1 символа: 1 байт\n",
      "--------------------------------------------------\n",
      "Строка utf-16:\n",
      "sys.getsizeof(s_3) = 84\n",
      "sys.getsizeof(s_4) = 86\n",
      "Размер 1 символа: 2 байта\n",
      "--------------------------------------------------\n",
      "Строка utf-32:\n",
      "sys.getsizeof(s_5) = 104\n",
      "sys.getsizeof(s_6) = 108\n",
      "Размер 1 символа: 4 байта\n"
     ]
    }
   ],
   "metadata": {}
  },
  {
   "cell_type": "markdown",
   "source": [
    "Все тоже самое, но в более которком виде:"
   ],
   "metadata": {}
  },
  {
   "cell_type": "code",
   "execution_count": 23,
   "source": [
    "import sys\n",
    "\n",
    "prefix = 'abc'\n",
    "suffix = 'w'\n",
    "symbols = {\n",
    "    'utf-8': 'd',\n",
    "    'utf-16': 'ы',\n",
    "    'utf-32': '🐛',\n",
    "}\n",
    "\n",
    "size_prefix = sys.getsizeof(prefix)\n",
    "print(f'{size_prefix = }')\n",
    "print('-' * 50)\n",
    "for encoding, char in symbols.items():\n",
    "    print('Строка ' + encoding + ':')\n",
    "    s_1 = prefix + char\n",
    "    s_2 = s_1 + suffix\n",
    "    print(f'{sys.getsizeof(s_2) = }')\n",
    "    print(f'Размер 1 символа: {sys.getsizeof(s_2) - sys.getsizeof(s_1)} байт')\n",
    "    print('-' * 50)"
   ],
   "outputs": [
    {
     "output_type": "stream",
     "name": "stdout",
     "text": [
      "size_prefix = 52\n",
      "--------------------------------------------------\n",
      "Строка utf-8:\n",
      "sys.getsizeof(s_2) = 54\n",
      "Размер 1 символа: 1 байт\n",
      "--------------------------------------------------\n",
      "Строка utf-16:\n",
      "sys.getsizeof(s_2) = 84\n",
      "Размер 1 символа: 2 байт\n",
      "--------------------------------------------------\n",
      "Строка utf-32:\n",
      "sys.getsizeof(s_2) = 96\n",
      "Размер 1 символа: 4 байт\n",
      "--------------------------------------------------\n"
     ]
    }
   ],
   "metadata": {}
  },
  {
   "cell_type": "markdown",
   "source": [
    "## Форматирование строк\n",
    "\n",
    "Существуют несколько способов форматирования строк:\n",
    "- оператор ```%```\n",
    "- метод ```format```\n",
    "- ```f```-строки\n",
    "- шаблонные строки (```Template```)\n",
    "\n",
    "Использование оператора ```%``` называют \"классическим\" форматированием строки. Этот оператор применяется к строке и принимает один аргумент. Эта операция может использовать спецификаторы формата, например, ```%x```. Спецификаторы формата - это специальные конструкции, размещаемые внутри строки. Они выполняют несколько функций:\n",
    "- указывают место вставки аргумента (не актуально для ```f```-строк);\n",
    "- преобразования значения аргумента;\n",
    "- дополнительные возможности, такие как: указания длины, точности, выравнивание и др.\n",
    "\n",
    "Например, следующий код преобразует некоторое целочисленное значение в строковое и представляет его в шестнадцатеричной системе:"
   ],
   "metadata": {}
  },
  {
   "cell_type": "code",
   "execution_count": 24,
   "source": [
    "errno = 50159747054\n",
    "s = '%x'\n",
    "print(s % errno)"
   ],
   "outputs": [
    {
     "output_type": "stream",
     "name": "stdout",
     "text": [
      "badc0ffee\n"
     ]
    }
   ],
   "metadata": {}
  },
  {
   "cell_type": "code",
   "execution_count": 25,
   "source": [
    "pi = 3.141592653589793\n",
    "s = 'π = % 8.4f'\n",
    "print(s % pi)"
   ],
   "outputs": [
    {
     "output_type": "stream",
     "name": "stdout",
     "text": [
      "π =   3.1416\n"
     ]
    }
   ],
   "metadata": {}
  },
  {
   "cell_type": "markdown",
   "source": [
    "В связи с тем, что оператор ```%``` принимает только один аргумент, для передачи нескольких значений необходимо передавать кортеж. Это одна из других структур данных, о ней речь пойдет чуть позже. Тогда каждое значение будет поставлено на соответствующее место."
   ],
   "metadata": {}
  },
  {
   "cell_type": "code",
   "execution_count": 26,
   "source": [
    "msg = 'I’m a teapot'\n",
    "errno = 50159747054\n",
    "s = '0x%x: %s'\n",
    "print(s % (errno, msg))"
   ],
   "outputs": [
    {
     "output_type": "stream",
     "name": "stdout",
     "text": [
      "0xbadc0ffee: I’m a teapot\n"
     ]
    }
   ],
   "metadata": {}
  },
  {
   "cell_type": "markdown",
   "source": [
    "Можно также передавать словарь, тогда в строке появляется возможность указывать имена переменных."
   ],
   "metadata": {}
  },
  {
   "cell_type": "code",
   "execution_count": 27,
   "source": [
    "msg = 'I’m a teapot'\n",
    "errno = 50159747054\n",
    "s = '0x%(errno)x: %(msg)s'\n",
    "print(s % {'errno': errno, 'msg': msg})"
   ],
   "outputs": [
    {
     "output_type": "stream",
     "name": "stdout",
     "text": [
      "0xbadc0ffee: I’m a teapot\n"
     ]
    }
   ],
   "metadata": {}
  },
  {
   "cell_type": "markdown",
   "source": [
    "Спецификаторы формата способны решать самые разные задачи. О том какие бывают спецификаторы читайте в [документации](https://docs.python.org/3.9/library/string.html#formatstrings).\n",
    "\n",
    "Метод \"классического\" форматирования строк на сегодняшний день уже устарел.\n",
    "\n",
    "Следующий способ форматирования называется \"современным\". Он заключается в использовании метода ```format```. Появился этот метод в 3-ей версии Python. Этот метод существенно расширяет возможности форматирования и делает его более простым. "
   ],
   "metadata": {}
  },
  {
   "cell_type": "code",
   "execution_count": 28,
   "source": [
    "msg = 'I’m a teapot'\n",
    "errno = 50159747054\n",
    "\n",
    "# простое позиционирвоание, аргументы вставляются \n",
    "# по порядку на мето фигурных скобок\n",
    "print('{}: {}'.format(errno, msg))\n",
    "\n",
    "# пощиционирование на основе индексов\n",
    "print('{1}: {0}'.format(msg, errno))\n",
    "\n",
    "# использование именованных аргументов и имен \n",
    "# переменнных внутри фигурных скобок \n",
    "# (порядок следование не важен)\n",
    "print('{errno}: {msg}'.format(errno=errno, msg=msg))"
   ],
   "outputs": [
    {
     "output_type": "stream",
     "name": "stdout",
     "text": [
      "50159747054: I’m a teapot\n",
      "50159747054: I’m a teapot\n",
      "50159747054: I’m a teapot\n"
     ]
    }
   ],
   "metadata": {}
  },
  {
   "cell_type": "markdown",
   "source": [
    "Метод ```format``` использует спецификаторы формата с несколько измененным синтаксисом. Здесь используется префикс в виде двоеточия, спецификатор формата следует после него."
   ],
   "metadata": {}
  },
  {
   "cell_type": "code",
   "execution_count": 29,
   "source": [
    "msg = 'I’m a teapot'\n",
    "errno = 50159747054\n",
    "print('{0:#x}: {1}'.format(errno, msg))"
   ],
   "outputs": [
    {
     "output_type": "stream",
     "name": "stdout",
     "text": [
      "0xbadc0ffee: I’m a teapot\n"
     ]
    }
   ],
   "metadata": {}
  },
  {
   "cell_type": "markdown",
   "source": [
    "Как уже упоминалось, функционал форматирования строк стал в разы мощнее благодаря введению этого метода. Например, можно использовать вложенные фигурные скобки.\n",
    "\n",
    "В качестве примера приведена таблица чисел в разных системах счисления."
   ],
   "metadata": {}
  },
  {
   "cell_type": "code",
   "execution_count": 30,
   "source": [
    "for i in range(7, 17):\n",
    "    for base in 'dXob':\n",
    "        print('{0:{1}{2}}'.format(i, 7, base), end=' ')\n",
    "    print()"
   ],
   "outputs": [
    {
     "output_type": "stream",
     "name": "stdout",
     "text": [
      "      7       7       7     111 \n",
      "      8       8      10    1000 \n",
      "      9       9      11    1001 \n",
      "     10       A      12    1010 \n",
      "     11       B      13    1011 \n",
      "     12       C      14    1100 \n",
      "     13       D      15    1101 \n",
      "     14       E      16    1110 \n",
      "     15       F      17    1111 \n",
      "     16      10      20   10000 \n"
     ]
    }
   ],
   "metadata": {}
  },
  {
   "cell_type": "markdown",
   "source": [
    "На сегодняшний день метод \"современного\" форматирования тоже можно считать устаревшим. Его рекомендуется использовать в случаях работы с интерпретатором, чья версия меньше 3.6. Начиная с версии 3.6 в Python появился \"суперсовременный\" метод форматирования строк. Его называют ```f```-строки или интерполяцией строковых литералов.\n",
    "\n",
    "```f```-строки создаются путем использования префикса ```f``` или ```F``` перед строкой. ```f```-строки можно комбинировать с \"сырыми\" строками, указывая префиксы ```fr``` или ```FR```. "
   ],
   "metadata": {}
  },
  {
   "cell_type": "code",
   "execution_count": 31,
   "source": [
    "errno = 50159747054\n",
    "s = f'{errno}'\n",
    "print(s)"
   ],
   "outputs": [
    {
     "output_type": "stream",
     "name": "stdout",
     "text": [
      "50159747054\n"
     ]
    }
   ],
   "metadata": {}
  },
  {
   "cell_type": "markdown",
   "source": [
    "```f```-строки используют фигурные скобки, внутри которых может находиться любой выражение, начиная от обращения к переменной, заканчивая вычислениями. ```f```-строки несколько отличаются от ```str.format()```. Выражения внутри фигурных скобок ```f```-строк имеют полный доступ к локальным и глобальным переменным и вычисляются в процессе выполнения. Это означает, что они завяся от контекста в котором находятся. Если выражение внутри фигурных скобок невозможно вычислить, возникнет исключение. ```str.format()``` в этом смысле отличается. Шаблон можно создать в любой момент, а осуществить подстановку - во время вызова метода ```format```."
   ],
   "metadata": {}
  },
  {
   "cell_type": "code",
   "execution_count": 32,
   "source": [
    "a, b = 2, 21\n",
    "print(f'a * b = {a * b}')"
   ],
   "outputs": [
    {
     "output_type": "stream",
     "name": "stdout",
     "text": [
      "a * b = 42\n"
     ]
    }
   ],
   "metadata": {}
  },
  {
   "cell_type": "markdown",
   "source": [
    "Эти конструкции очень удобно использовать для отладки программ. Например, конструкцию выше можно упростить, указав знак ```=``` после выражения внутри фигурных скобок."
   ],
   "metadata": {}
  },
  {
   "cell_type": "code",
   "execution_count": 33,
   "source": [
    "a, b = 2, 21\n",
    "print(f'{a * b = }')"
   ],
   "outputs": [
    {
     "output_type": "stream",
     "name": "stdout",
     "text": [
      "a * b = 42\n"
     ]
    }
   ],
   "metadata": {}
  },
  {
   "cell_type": "markdown",
   "source": [
    "Под капотом интерполяция строковых литералов преобразует строки в серию констант и выражений. После чего они объединяются, формируя окончательное представление строки. Одним из существенных плюсов этих строк, помимо удобства, является их скорость. Это одни из самых быстрых строк в Python."
   ],
   "metadata": {}
  },
  {
   "cell_type": "code",
   "execution_count": 34,
   "source": [
    "msg = 'I’m a teapot'\n",
    "errno = 50159747054\n",
    "s = f'{errno:#x}: {msg}'\n",
    "print(s)"
   ],
   "outputs": [
    {
     "output_type": "stream",
     "name": "stdout",
     "text": [
      "0xbadc0ffee: I’m a teapot\n"
     ]
    }
   ],
   "metadata": {}
  },
  {
   "cell_type": "code",
   "execution_count": 35,
   "source": [
    "number = 3234512922\n",
    "\n",
    "# кастомизация числа\n",
    "print(f'{number:_}')\n",
    "print(f'{number:,}')"
   ],
   "outputs": [
    {
     "output_type": "stream",
     "name": "stdout",
     "text": [
      "3_234_512_922\n",
      "3,234,512,922\n"
     ]
    }
   ],
   "metadata": {}
  },
  {
   "cell_type": "markdown",
   "source": [
    "Печать таблицы чисел в разных системах счисления можно переписать, используя ```f```-строки."
   ],
   "metadata": {}
  },
  {
   "cell_type": "code",
   "execution_count": 36,
   "source": [
    "for i in range(7, 17):\n",
    "    for base in 'dXob':\n",
    "        print(f'{i:7{base}}', end=' ')\n",
    "    print()"
   ],
   "outputs": [
    {
     "output_type": "stream",
     "name": "stdout",
     "text": [
      "      7       7       7     111 \n",
      "      8       8      10    1000 \n",
      "      9       9      11    1001 \n",
      "     10       A      12    1010 \n",
      "     11       B      13    1011 \n",
      "     12       C      14    1100 \n",
      "     13       D      15    1101 \n",
      "     14       E      16    1110 \n",
      "     15       F      17    1111 \n",
      "     16      10      20   10000 \n"
     ]
    }
   ],
   "metadata": {}
  },
  {
   "cell_type": "markdown",
   "source": [
    "Еще один пример использования форматирования строк - это преобразования в другие системы счисления."
   ],
   "metadata": {}
  },
  {
   "cell_type": "code",
   "execution_count": 37,
   "source": [
    "def to_binary(number, bits):\n",
    "    # преобразования чисел в двоичную систему\n",
    "    # и заполнение незначащими нулями до заданной длины\n",
    "    return f'{number:0{bits}b}'\n",
    "\n",
    "print(to_binary(352, 10))\n",
    "print(to_binary(153, 16))"
   ],
   "outputs": [
    {
     "output_type": "stream",
     "name": "stdout",
     "text": [
      "0101100000\n",
      "0000000010011001\n"
     ]
    }
   ],
   "metadata": {}
  },
  {
   "cell_type": "markdown",
   "source": [
    "Рассмотренные ```f```-строки могут вносить уязвимости в программу. Например, через них можно получать доступ к произвольным переменным в программе."
   ],
   "metadata": {}
  },
  {
   "cell_type": "code",
   "execution_count": 38,
   "source": [
    "SECRET_KEY = '2fgDfw5Hj9N'\n",
    "\n",
    "def foo():\n",
    "    pass\n",
    "\n",
    "user_input = '{obj.__globals__[SECRET_KEY]}'\n",
    "user_input.format(obj=foo)  # уязвимость"
   ],
   "outputs": [
    {
     "output_type": "execute_result",
     "data": {
      "text/plain": [
       "'2fgDfw5Hj9N'"
      ]
     },
     "metadata": {},
     "execution_count": 38
    }
   ],
   "metadata": {}
  },
  {
   "cell_type": "markdown",
   "source": [
    "Дополнительным методом форматирования строк в Python используются шаблонные строки. Этот инструмент менее гибкий и мощный по сравнению с предыдущими вариантами. Одним из минусов такого подхода является отсутствие поддержки спецификаторов формата, что добавляет работы.\n",
    "\n",
    "Создание шаблонов происходит с помощью специального класса ```Template```, который находится в модуле ```string```"
   ],
   "metadata": {}
  },
  {
   "cell_type": "code",
   "execution_count": 39,
   "source": [
    "from string import Template\n",
    "\n",
    "msg = 'I’m a teapot'\n",
    "errno = 50159747054\n",
    "\n",
    "# создание шаблона, для обозначения перменных \n",
    "# используется знак $ и имя переменной\n",
    "t = Template('$errno: $msg')\n",
    "\n",
    "# подстановка значений с помощью метода substitute\n",
    "print(t.substitute(errno=hex(errno), msg=msg))"
   ],
   "outputs": [
    {
     "output_type": "stream",
     "name": "stdout",
     "text": [
      "0xbadc0ffee: I’m a teapot\n"
     ]
    }
   ],
   "metadata": {}
  },
  {
   "cell_type": "markdown",
   "source": [
    "За счет простоты шаблонных строк они являются более безопасными. Их можно использовать при обработке строк, сгенерированных пользователями. Во всех остальных случаях рекомендуется использовать ```f```-строки.\n",
    "\n",
    "## Способы итерирования по строкам\n",
    "\n",
    "Для обхода строк можно использовать цикл ```for```. Первый вариант - самый простой. Используется, когда необходимо только перебрать всю строку."
   ],
   "metadata": {}
  },
  {
   "cell_type": "code",
   "execution_count": 40,
   "source": [
    "for s in 'abc':\n",
    "    print(s)"
   ],
   "outputs": [
    {
     "output_type": "stream",
     "name": "stdout",
     "text": [
      "a\n",
      "b\n",
      "c\n"
     ]
    }
   ],
   "metadata": {}
  },
  {
   "cell_type": "markdown",
   "source": [
    "В некоторых случаях нужно не просто итерироваться по коллекции, но и знать индекс текущего элемента. Эту задачу можно решить двумя способами. Первый заключается в использовании ```range```, о нем мы поговорим позднее. В этом варианте итерирование происходит по индексам строки, поэтому в теле цикла необходимо отдельно получать символ строки по его индексу."
   ],
   "metadata": {}
  },
  {
   "cell_type": "code",
   "execution_count": 41,
   "source": [
    "letters = 'abc'\n",
    "for i in range(len(letters)):\n",
    "    print(f'letters[{i}] = {letters[i]}')"
   ],
   "outputs": [
    {
     "output_type": "stream",
     "name": "stdout",
     "text": [
      "letters[0] = a\n",
      "letters[1] = b\n",
      "letters[2] = c\n"
     ]
    }
   ],
   "metadata": {}
  },
  {
   "cell_type": "markdown",
   "source": [
    "Более правильным способом итерирования по строке в случае, если нужно одновременно использовать элемент коллекции и его индекс, будет использование функции ```enumerate```. Здесь необходимо указывать сразу две переменные после ключевого слова ```for```, в первой будет находиться индекс, а во второй - элемент."
   ],
   "metadata": {}
  },
  {
   "cell_type": "code",
   "execution_count": 42,
   "source": [
    "letters = 'abc'\n",
    "for i, s in enumerate(letters):\n",
    "    print(f'letters[{i}] = {s}')"
   ],
   "outputs": [
    {
     "output_type": "stream",
     "name": "stdout",
     "text": [
      "letters[0] = a\n",
      "letters[1] = b\n",
      "letters[2] = c\n"
     ]
    }
   ],
   "metadata": {}
  },
  {
   "cell_type": "markdown",
   "source": [
    "# Модуль ```string```\n",
    "\n",
    "Стандартная библиотека Python довольно обширна. Она включает в себя множество дополнительных модулей, покрывающих широкий круг задач. Модуль ```string``` один из них. Он обеспечивает приятные дополнения при работе со строками. "
   ],
   "metadata": {}
  },
  {
   "cell_type": "code",
   "execution_count": 43,
   "source": [
    "import string\n",
    "\n",
    "# разные строковые константы\n",
    "print(f'Латинские буквы: {string.ascii_letters}')\n",
    "print(f'Латинские буквы в нижнем регистре: {string.ascii_lowercase}')\n",
    "print(f'Латинские буквы в верхнем регистре: {string.ascii_uppercase}')\n",
    "print(f'Цифры: {string.digits}')\n",
    "print(f'Знаки пунктуации {string.punctuation}')"
   ],
   "outputs": [
    {
     "output_type": "stream",
     "name": "stdout",
     "text": [
      "Латинские буквы: abcdefghijklmnopqrstuvwxyzABCDEFGHIJKLMNOPQRSTUVWXYZ\n",
      "Латинские буквы в нижнем регистре: abcdefghijklmnopqrstuvwxyz\n",
      "Латинские буквы в верхнем регистре: ABCDEFGHIJKLMNOPQRSTUVWXYZ\n",
      "Цифры: 0123456789\n",
      "Знаки пунктуации !\"#$%&'()*+,-./:;<=>?@[\\]^_`{|}~\n"
     ]
    }
   ],
   "metadata": {}
  },
  {
   "cell_type": "markdown",
   "source": [
    "Это не все константы, предоставляемые модулем ```string```. Кроме констант он предоставляет возможность реализовать свой собственный метод форматирования строк."
   ],
   "metadata": {}
  },
  {
   "cell_type": "markdown",
   "source": [
    "## Полезные сслыки\n",
    "\n",
    "1. [Документация по структурам данных](https://docs.python.org/3/tutorial/datastructures.html)\n",
    "2. [Документация по модулю ```string```](https://docs.python.org/3.9/library/string.html)\n",
    "3. [Сравнение методов форматирования строк](https://shultais.education/blog/python-f-strings)\n",
    "4. [О безопасности методов форматирования строк](https://lucumr.pocoo.org/2016/12/29/careful-with-str-format/)\n",
    "5. [73 примера использования ```f```-строк](https://miguendes.me/73-examples-to-help-you-master-pythons-f-strings)"
   ],
   "metadata": {}
  }
 ]
}