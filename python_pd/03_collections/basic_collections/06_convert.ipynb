{
 "metadata": {
  "language_info": {
   "codemirror_mode": {
    "name": "ipython",
    "version": 3
   },
   "file_extension": ".py",
   "mimetype": "text/x-python",
   "name": "python",
   "nbconvert_exporter": "python",
   "pygments_lexer": "ipython3",
   "version": "3.9.0-final"
  },
  "orig_nbformat": 2,
  "kernelspec": {
   "name": "python3",
   "display_name": "Python 3"
  }
 },
 "nbformat": 4,
 "nbformat_minor": 2,
 "cells": [
  {
   "source": [
    "# Преобразование коллекций\n",
    "\n",
    "Необходимость изменить тип коллекции встречается довольно часто. В Python это решается с помощью встроенных функций: ```list```, ```str```, ```dict```, ```set```, ```tuple```. Преобразовывать коллекции из одного типа в другой довольно просто. Достаточно передать в одну из функции коллекцию в качестве аргумента."
   ],
   "cell_type": "markdown",
   "metadata": {}
  },
  {
   "cell_type": "code",
   "execution_count": 1,
   "metadata": {},
   "outputs": [
    {
     "output_type": "stream",
     "name": "stdout",
     "text": [
      "Список из строки: list(foo) = ['s', 'p', 'a', 'm', ',', ' ', 'l', 'o', 'v', 'e', 'l', 'y', ' ', 's', 'p', 'a', 'm']\nКортеж из строки: tuple(foo) = ('s', 'p', 'a', 'm', ',', ' ', 'l', 'o', 'v', 'e', 'l', 'y', ' ', 's', 'p', 'a', 'm')\nМножество из строки: set(foo) = {'l', 's', 'v', 'o', 'p', 'a', ' ', 'e', 'y', 'm', ','}\nСловарь из строки: dict.fromkeys(foo) = {'s': None, 'p': None, 'a': None, 'm': None, ',': None, ' ': None, 'l': None, 'o': None, 'v': None, 'e': None, 'y': None}\n"
     ]
    }
   ],
   "source": [
    "foo = 'spam, lovely spam'\n",
    "\n",
    "print(f'Список из строки: {list(foo) = }')\n",
    "print(f'Кортеж из строки: {tuple(foo) = }')\n",
    "print(f'Множество из строки: {set(foo) = }')  # удалены все дублирующие символы\n",
    "\n",
    "# просто так из строки нельзя получить словарь\n",
    "# можно воспользоваться приемом, который использовался \n",
    "# ранее для удаления символов\n",
    "print(f'Словарь из строки: {dict.fromkeys(foo) = }')  # удалены все дублирующие символы"
   ]
  },
  {
   "cell_type": "code",
   "execution_count": 2,
   "metadata": {},
   "outputs": [
    {
     "output_type": "stream",
     "name": "stdout",
     "text": [
      "Строка из списка: str(bar) = '[1, 2, 3, 4, 1, 1, 6]'\nКортеж из списка: tuple(bar) = (1, 2, 3, 4, 1, 1, 6)\nМножество из списка: set(bar) = {1, 2, 3, 4, 6}\nСловарь из списка: dict.fromkeys(bar) = {1: None, 2: None, 3: None, 4: None, 6: None}\n"
     ]
    }
   ],
   "source": [
    "bar = [1, 2, 3, 4, 1, 1, 6]\n",
    "\n",
    "print(f'Строка из списка: {str(bar) = }')\n",
    "print(f'Кортеж из списка: {tuple(bar) = }')\n",
    "print(f'Множество из списка: {set(bar) = }')\n",
    "print(f'Словарь из списка: {dict.fromkeys(bar) = }')"
   ]
  },
  {
   "cell_type": "code",
   "execution_count": 3,
   "metadata": {},
   "outputs": [
    {
     "output_type": "stream",
     "name": "stdout",
     "text": [
      "Строка ключей из словаря: str(baz) = \"{'a': 1, 'b': 2, 'c': 1, 'd': 3}\"\nСтрока значений из словаря: str(baz.values()) = 'dict_values([1, 2, 1, 3])'\nСписок пар (ключ, значение) из словаря: str(baz.items()) = \"dict_items([('a', 1), ('b', 2), ('c', 1), ('d', 3)])\"\n--------------------------------------------------\nСписок ключей из словаря: list(baz) = ['a', 'b', 'c', 'd']\nСписок значений из словаря: list(baz.values()) = [1, 2, 1, 3]\nСписок пар (ключ, значение) из словаря: list(baz.items()) = [('a', 1), ('b', 2), ('c', 1), ('d', 3)]\n--------------------------------------------------\nКортеж ключей из словаря: tuple(baz) = ('a', 'b', 'c', 'd')\nКортеж значений из словаря: tuple(baz.values()) = (1, 2, 1, 3)\nКортеж пар (ключ, значение) из словаря: tuple(baz.items()) = (('a', 1), ('b', 2), ('c', 1), ('d', 3))\n--------------------------------------------------\nМножество ключей из словаря: set(baz) = {'c', 'a', 'd', 'b'}\nМножество значений из словаря: set(baz.values()) = {1, 2, 3}\nМножество пар (ключ, значение) из словаря: set(baz.items()) = {('c', 1), ('d', 3), ('b', 2), ('a', 1)}\n"
     ]
    }
   ],
   "source": [
    "baz = {'a': 1, 'b': 2, 'c': 1, 'd': 3}\n",
    "\n",
    "print(f'Строка ключей из словаря: {str(baz) = }')\n",
    "print(f'Строка значений из словаря: {str(baz.values()) = }')\n",
    "print(f'Список пар (ключ, значение) из словаря: {str(baz.items()) = }')\n",
    "print('-' * 50)\n",
    "print(f'Список ключей из словаря: {list(baz) = }')\n",
    "print(f'Список значений из словаря: {list(baz.values()) = }')\n",
    "print(f'Список пар (ключ, значение) из словаря: {list(baz.items()) = }')\n",
    "print('-' * 50)\n",
    "print(f'Кортеж ключей из словаря: {tuple(baz) = }')\n",
    "print(f'Кортеж значений из словаря: {tuple(baz.values()) = }')\n",
    "print(f'Кортеж пар (ключ, значение) из словаря: {tuple(baz.items()) = }')\n",
    "print('-' * 50)\n",
    "print(f'Множество ключей из словаря: {set(baz) = }')\n",
    "print(f'Множество значений из словаря: {set(baz.values()) = }')\n",
    "print(f'Множество пар (ключ, значение) из словаря: {set(baz.items()) = }')"
   ]
  },
  {
   "cell_type": "code",
   "execution_count": 4,
   "metadata": {},
   "outputs": [
    {
     "output_type": "stream",
     "name": "stdout",
     "text": [
      "Строка из множества: str(a) = '{1, 2, 3, 4}'\nСписок из множества: list(a) = [1, 2, 3, 4]\nКортеж из множества: tuple(a) = (1, 2, 3, 4)\nСловарь из множества: dict.fromkeys(a) = {1: None, 2: None, 3: None, 4: None}\n"
     ]
    }
   ],
   "source": [
    "a = {1, 2, 3, 4}\n",
    "\n",
    "print(f'Строка из множества: {str(a) = }')\n",
    "print(f'Список из множества: {list(a) = }')\n",
    "print(f'Кортеж из множества: {tuple(a) = }')\n",
    "print(f'Словарь из множества: {dict.fromkeys(a) = }')"
   ]
  },
  {
   "source": [
    "# Распаковка\n",
    "\n",
    "О распаковке уже упоминалось ранее в контексте замены переменной. Однако это не все ее возможности."
   ],
   "cell_type": "markdown",
   "metadata": {}
  },
  {
   "cell_type": "code",
   "execution_count": 5,
   "metadata": {},
   "outputs": [
    {
     "output_type": "stream",
     "name": "stdout",
     "text": [
      "a = 1, b = 2\n"
     ]
    }
   ],
   "source": [
    "# сначала создается кортеж (1, 2), затем он распаковывается, \n",
    "# т.е. объекты внутри него поочередно связываются с именами a и b\n",
    "a, b = 1, 2\n",
    "print(f'{a = }, {b = }')"
   ]
  },
  {
   "source": [
    "Использовать такое присваивание можно только когда количество объектов справа совпадает с количеством имен слева. В противном случае будет исключение ```ValueError```."
   ],
   "cell_type": "markdown",
   "metadata": {}
  },
  {
   "cell_type": "code",
   "execution_count": 6,
   "metadata": {},
   "outputs": [
    {
     "output_type": "error",
     "ename": "ValueError",
     "evalue": "too many values to unpack (expected 2)",
     "traceback": [
      "\u001b[1;31m---------------------------------------------------------------------------\u001b[0m",
      "\u001b[1;31mValueError\u001b[0m                                Traceback (most recent call last)",
      "\u001b[1;32m<ipython-input-6-8904fd2ea925>\u001b[0m in \u001b[0;36m<module>\u001b[1;34m\u001b[0m\n\u001b[1;32m----> 1\u001b[1;33m \u001b[0ma\u001b[0m\u001b[1;33m,\u001b[0m \u001b[0mb\u001b[0m \u001b[1;33m=\u001b[0m \u001b[1;36m1\u001b[0m\u001b[1;33m,\u001b[0m \u001b[1;36m2\u001b[0m\u001b[1;33m,\u001b[0m \u001b[1;36m3\u001b[0m\u001b[1;33m\u001b[0m\u001b[1;33m\u001b[0m\u001b[0m\n\u001b[0m",
      "\u001b[1;31mValueError\u001b[0m: too many values to unpack (expected 2)"
     ]
    }
   ],
   "source": [
    "a, b = 1, 2, 3"
   ]
  },
  {
   "source": [
    "Замена переменной также основана на распаковке."
   ],
   "cell_type": "markdown",
   "metadata": {}
  },
  {
   "cell_type": "code",
   "execution_count": 7,
   "metadata": {},
   "outputs": [
    {
     "output_type": "stream",
     "name": "stdout",
     "text": [
      "a = 2, b = 1\n"
     ]
    }
   ],
   "source": [
    "a, b = 1, 2\n",
    "a, b = b, a\n",
    "print(f'{a = }, {b = }')"
   ]
  },
  {
   "source": [
    "Распаковку можно использовать для любых коллекций."
   ],
   "cell_type": "markdown",
   "metadata": {}
  },
  {
   "cell_type": "code",
   "execution_count": 8,
   "metadata": {},
   "outputs": [
    {
     "output_type": "stream",
     "name": "stdout",
     "text": [
      "Распаковка кортежа: a = 1, b = 2, c = 3\nРаспаковка списка: a = 4, b = 3, c = 6\nРаспаковка множества: a = 8, b = 0, c = 7\nРаспаковка строки: a = 'a', b = 'b', c = 'c'\nРаспаковка словаря: a = 'd', b = 'g', c = 'k'\n"
     ]
    }
   ],
   "source": [
    "# распаковка кортежа, аналогична записи\n",
    "# a, b, c = 1, 2, 3\n",
    "a, b, c = (1, 2, 3)\n",
    "print(f'Распаковка кортежа: {a = }, {b = }, {c = }')\n",
    "\n",
    "# распаковка списка\n",
    "a, b, c = [4, 3, 6]\n",
    "print(f'Распаковка списка: {a = }, {b = }, {c = }')\n",
    "\n",
    "# распаковка множества, будте внимательны, оно не имее порядка!\n",
    "# не стоит распаковывать множество\n",
    "a, b, c = {7, 8, 0}\n",
    "print(f'Распаковка множества: {a = }, {b = }, {c = }')\n",
    "\n",
    "# распаковка строки\n",
    "a, b, c = 'abc'\n",
    "print(f'Распаковка строки: {a = }, {b = }, {c = }')\n",
    "\n",
    "# распаковка словаря, по умолчанию распакуются ключи\n",
    "a, b, c = {'d': 1, 'g': 2, 'k': 3}\n",
    "print(f'Распаковка словаря: {a = }, {b = }, {c = }')"
   ]
  },
  {
   "source": [
    "В операции распаковки можно использовать звездочку. Она собирает все элементы, которые не были связаны с другими именами. При этом звездочка порождает список независимо от типа распаковываемой коллекции."
   ],
   "cell_type": "markdown",
   "metadata": {}
  },
  {
   "cell_type": "code",
   "execution_count": 9,
   "metadata": {},
   "outputs": [
    {
     "output_type": "stream",
     "name": "stdout",
     "text": [
      "(1): a = 1, b = [2, 3, 4, 5, 6]\n(2): a = 1, b = [2, 3, 4, 5], c = 6\n(3): a = 1, b = [], c = 3\n(4): a = 1, b = 2, c = [3, 4], d = 5, e = 6\n(5): a = [1, 2, 3, 4, 5], b = 6\n"
     ]
    }
   ],
   "source": [
    "# с именем a будет связан первый элемент, \n",
    "# все остальное будет положено в b\n",
    "a, *b = 1, 2, 3, 4, 5, 6\n",
    "print(f'(1): {a = }, {b = }')\n",
    "\n",
    "# первый элемент будет связан с именем a, \n",
    "# последний - с c, а все остальное с b\n",
    "a, *b, c = 1, 2, 3, 4, 5, 6\n",
    "print(f'(2): {a = }, {b = }, {c = }')\n",
    "\n",
    "# в b будет пустой список\n",
    "a, *b, c = 1, 3\n",
    "print(f'(3): {a = }, {b = }, {c = }')\n",
    "\n",
    "a, b, *c, d, e = 1, 2, 3, 4, 5, 6\n",
    "print(f'(4): {a = }, {b = }, {c = }, {d = }, {e = }')\n",
    "\n",
    "# отделяется последний элемент\n",
    "*a, b = 1, 2, 3, 4, 5, 6\n",
    "print(f'(5): {a = }, {b = }')"
   ]
  },
  {
   "source": [
    "В Python есть специальная переменная с нижним подчеркиванием в качестве имени. По договоренности этим именем стоит называть что-то, что не предполагается использовать далее в программе. В распаковке можно использовать эту переменную вместе со звездочкой, для обозначения ненужной части распаковываемой коллекции. Эта переменная все равно доступна и из нее можно получить значение, но этого делать не рекомендуется."
   ],
   "cell_type": "markdown",
   "metadata": {}
  },
  {
   "cell_type": "code",
   "execution_count": 10,
   "metadata": {},
   "outputs": [
    {
     "output_type": "stream",
     "name": "stdout",
     "text": [
      "a = 1, _ = [2, 3, 4, 5, 6]\n"
     ]
    }
   ],
   "source": [
    "a, *_ = 1, 2, 3, 4, 5, 6\n",
    "print(f'{a = }, {_ = }')"
   ]
  },
  {
   "source": [
    "Использование переменной нижнее подчеркивание в цикле. В этом случае он будет означать повторение действия без использования значения итерируемой переменной."
   ],
   "cell_type": "markdown",
   "metadata": {}
  },
  {
   "cell_type": "code",
   "execution_count": 11,
   "metadata": {},
   "outputs": [
    {
     "output_type": "stream",
     "name": "stdout",
     "text": [
      "Повторение действия\nПовторение действия\nПовторение действия\nПовторение действия\n"
     ]
    }
   ],
   "source": [
    "for i in range(4):\n",
    "    print('Повторение действия')"
   ]
  },
  {
   "source": [
    "Использовать звездочку без указания дополнительных переменных нельзя. Это бессмысленная операция."
   ],
   "cell_type": "markdown",
   "metadata": {}
  },
  {
   "cell_type": "code",
   "execution_count": 12,
   "metadata": {},
   "outputs": [
    {
     "output_type": "error",
     "ename": "SyntaxError",
     "evalue": "starred assignment target must be in a list or tuple (<ipython-input-12-ac88d659a9d5>, line 1)",
     "traceback": [
      "\u001b[1;36m  File \u001b[1;32m\"<ipython-input-12-ac88d659a9d5>\"\u001b[1;36m, line \u001b[1;32m1\u001b[0m\n\u001b[1;33m    *b = 1, 3\u001b[0m\n\u001b[1;37m    ^\u001b[0m\n\u001b[1;31mSyntaxError\u001b[0m\u001b[1;31m:\u001b[0m starred assignment target must be in a list or tuple\n"
     ]
    }
   ],
   "source": [
    "*b = 1, 3"
   ]
  },
  {
   "source": [
    "Звездочка может быть только одна. Это связано с тем, что она работает жадно. Поэтому в случае с несколькими звездочками становиться не ясно как разделить между ними элементы."
   ],
   "cell_type": "markdown",
   "metadata": {}
  },
  {
   "cell_type": "code",
   "execution_count": 13,
   "metadata": {},
   "outputs": [
    {
     "output_type": "error",
     "ename": "SyntaxError",
     "evalue": "multiple starred expressions in assignment (<ipython-input-13-e856518ef1b4>, line 1)",
     "traceback": [
      "\u001b[1;36m  File \u001b[1;32m\"<ipython-input-13-e856518ef1b4>\"\u001b[1;36m, line \u001b[1;32m1\u001b[0m\n\u001b[1;33m    a, *b, *c = 1, 2, 3, 4, 5, 6\u001b[0m\n\u001b[1;37m    ^\u001b[0m\n\u001b[1;31mSyntaxError\u001b[0m\u001b[1;31m:\u001b[0m multiple starred expressions in assignment\n"
     ]
    }
   ],
   "source": [
    "a, *b, *c = 1, 2, 3, 4, 5, 6\n",
    "print(f'{a = }, {b = }, {c = }')"
   ]
  }
 ]
}