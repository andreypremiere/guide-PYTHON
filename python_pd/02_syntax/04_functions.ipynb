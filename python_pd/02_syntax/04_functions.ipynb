{
 "metadata": {
  "language_info": {
   "codemirror_mode": {
    "name": "ipython",
    "version": 3
   },
   "file_extension": ".py",
   "mimetype": "text/x-python",
   "name": "python",
   "nbconvert_exporter": "python",
   "pygments_lexer": "ipython3",
   "version": "3.9.0-final"
  },
  "orig_nbformat": 2,
  "kernelspec": {
   "name": "python3",
   "display_name": "Python 3"
  }
 },
 "nbformat": 4,
 "nbformat_minor": 2,
 "cells": [
  {
   "source": [
    "# Коротко о функциях\n",
    "\n",
    "## Синтаксис\n",
    "\n",
    "В Python объявление функций происходит с помощью ключевого слова def. Формально синтаксис можно записать следующим образом:\n",
    "\n",
    "```python\n",
    "def identifier([parameter_list]):\n",
    "    function_suite\n",
    "```\n",
    "\n",
    "За ключевым словом ```def``` следует имя (идентификатор) функции ```identifier```. Ограничения на имена функций аналогичны ограничениям на прочие идентификаторы. За тем в круглых скобках следует перечисление аргументов функции  ```parameter_list```, если таковые необходимы. После закрывающей круглой скобки идет двоеточие, отделяющее объявление функции и её тело. Тело функции ```function_suite``` следует писать, делая отступ. Оно может содержать одну или несколько инструкций. В качестве тела функции может использоваться ключевое слово ```pass```, которое ничего не выполняет. Таким образом, простейшая функция может выглядеть как:"
   ],
   "cell_type": "markdown",
   "metadata": {}
  },
  {
   "cell_type": "code",
   "execution_count": null,
   "metadata": {},
   "outputs": [],
   "source": [
    "def foo():  # определение функции\n",
    "    pass  # тело функции"
   ]
  },
  {
   "source": [
    "Для возвращения какого-либо объекта из функции используется ключевое слово ```return```. Следующая функция будет всегда возвращать одно значение - ```42```."
   ],
   "cell_type": "markdown",
   "metadata": {}
  },
  {
   "cell_type": "code",
   "execution_count": null,
   "metadata": {},
   "outputs": [],
   "source": [
    "def foo():\n",
    "    return 42"
   ]
  },
  {
   "source": [
    "Вызывать функции можно, указав идентификатор и значения параметров, заключенные в круглые скобки. Вызов функции должен находиться после ее определения."
   ],
   "cell_type": "markdown",
   "metadata": {}
  },
  {
   "cell_type": "code",
   "execution_count": 1,
   "metadata": {},
   "outputs": [
    {
     "output_type": "stream",
     "name": "stdout",
     "text": [
      "42\n"
     ]
    }
   ],
   "source": [
    "def foo():\n",
    "    return 42\n",
    "\n",
    "print(foo())"
   ]
  },
  {
   "source": [
    "Если функция не должна ничего возвращать его писать не обязательно. Однако стоит учитывать, что функции в Python всегда возвращают значение и если ключевое слово ```return``` не указано, функция по умолчанию вернет ```None```, т.е."
   ],
   "cell_type": "markdown",
   "metadata": {}
  },
  {
   "cell_type": "code",
   "execution_count": 3,
   "metadata": {},
   "outputs": [
    {
     "output_type": "stream",
     "name": "stdout",
     "text": [
      "foo() -> None\nbar() -> None\nbaz() -> None\n"
     ]
    }
   ],
   "source": [
    "def foo():\n",
    "    pass\n",
    "\n",
    "def bar():\n",
    "    return None\n",
    "\n",
    "def baz():\n",
    "    return\n",
    "\n",
    "print('foo() ->', foo())\n",
    "print('bar() ->', bar())\n",
    "print('baz() ->', baz())"
   ]
  },
  {
   "source": [
    "## Аргументы\n",
    "\n",
    "Python позволяет задавать два вида аргументов у функции: позиционные или обязательные и ключевые или необязательные. Позиционные аргументы задаются перечислением их идентификаторов через запятую."
   ],
   "cell_type": "markdown",
   "metadata": {}
  },
  {
   "cell_type": "code",
   "execution_count": 3,
   "metadata": {},
   "outputs": [
    {
     "output_type": "stream",
     "name": "stdout",
     "text": [
      "8\n16\n"
     ]
    }
   ],
   "source": [
    "# Функция foo принимает три позиционных аргумента a, b и c\n",
    "def foo(a, b, c):\n",
    "    return 2 * a + b * c\n",
    "\n",
    "# вызвать функцию можно передав значения через запятую\n",
    "print(foo(1, 2, 3))\n",
    "\n",
    "# можно явно указать имена и значения\n",
    "print(foo(a=3, b=2, c=5))"
   ]
  },
  {
   "source": [
    "Один из способов определить функцию с ключевыми аргументами -- это указать у аргумента через пробел значение по умолчанию."
   ],
   "cell_type": "markdown",
   "metadata": {}
  },
  {
   "cell_type": "code",
   "execution_count": 5,
   "metadata": {},
   "outputs": [
    {
     "output_type": "stream",
     "name": "stdout",
     "text": [
      "1\n7\n8\n"
     ]
    }
   ],
   "source": [
    "def foo(a, b, c=0):\n",
    "    return a + 3 * b - 2 * c\n",
    "\n",
    "# значения передаются поочередно, c будет равно 3\n",
    "print(foo(1, 2, 3))\n",
    "\n",
    "# если у ключевых аргументов указано значение по умолчанию,\n",
    "# его можно не передавать\n",
    "print(foo(1, 2))\n",
    "\n",
    "# можно явно указывать значения у ключевых аргументов\n",
    "print(foo(10, 2, c=4))"
   ]
  },
  {
   "source": [
    "Более подробно функции будут рассмотрены в пункте 4 \"Функции\".\n",
    "\n",
    "# Некоторые встроенные функции\n",
    "\n",
    "Интерпретатор Python предоставляет некоторое количество встроенных функций. С полным перечнем можно ознакомиться в [документации](https://docs.python.org/3/library/functions.html). О некоторых уже упоминалось, например, ```print```, ```input```, ```int```, ```bool```, ```str```, ```complex``` и ```float```. Вот пример использования некоторых из них."
   ],
   "cell_type": "markdown",
   "metadata": {}
  },
  {
   "cell_type": "code",
   "execution_count": 16,
   "metadata": {},
   "outputs": [
    {
     "output_type": "stream",
     "name": "stdout",
     "text": [
      "abs: 5\nchr ё\nord: 68\nmax: 20\nmin: 0\n--------------------------------------------------\nHelp on built-in function abs in module builtins:\n\nabs(x, /)\n    Return the absolute value of the argument.\n\nhelp: None\n"
     ]
    }
   ],
   "source": [
    "# модуль числа\n",
    "print('abs:', abs(-5))\n",
    "\n",
    "# получение символа по коду Unicode\n",
    "print('chr:', chr(1105))\n",
    "# обратная chr, получения кода по символу\n",
    "print('ord:', ord('D'))\n",
    "\n",
    "# максимум, принимают хотябы два аргумента\n",
    "print('max:', max(1, 20, 3, 6, 1, 0))\n",
    "# минимум\n",
    "print('min:', min(1, 20, 3, 6, 1, 0))\n",
    "\n",
    "print('-' * 50)\n",
    "# получение справки об объекте\n",
    "print('help:', help(abs))"
   ]
  }
 ]
}