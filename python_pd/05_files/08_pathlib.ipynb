{
 "metadata": {
  "language_info": {
   "codemirror_mode": {
    "name": "ipython",
    "version": 3
   },
   "file_extension": ".py",
   "mimetype": "text/x-python",
   "name": "python",
   "nbconvert_exporter": "python",
   "pygments_lexer": "ipython3",
   "version": "3.9.0-final"
  },
  "orig_nbformat": 2,
  "kernelspec": {
   "name": "python3",
   "display_name": "Python 3",
   "language": "python"
  }
 },
 "nbformat": 4,
 "nbformat_minor": 2,
 "cells": [
  {
   "source": [
    "# Модуль ```pathlib```\n",
    "\n",
    "Модуль ```pathlib``` был введен в стандартную библиотеку с версии интерпретатора 3.4. Он предоставляет более высокоуровневый функционал в объектно ориентированном стиле по сравнению с модулем ```os.path```.\n"
   ],
   "cell_type": "markdown",
   "metadata": {}
  },
  {
   "cell_type": "code",
   "execution_count": 1,
   "metadata": {},
   "outputs": [],
   "source": [
    "import pathlib"
   ]
  },
  {
   "source": [
    "Пути можно создавать используя классы ```Path```, ```PurePath```, ```PureWindowsPath``` и другие. В большинстве ситуаций стоит использовать ```Path```."
   ],
   "cell_type": "markdown",
   "metadata": {}
  },
  {
   "cell_type": "code",
   "execution_count": 2,
   "metadata": {},
   "outputs": [
    {
     "output_type": "stream",
     "name": "stdout",
     "text": [
      "type(p) = <class 'pathlib.WindowsPath'>\nТекущая директория (абсолютный путь): c:\\projects\\python\\programming_basics_course\nРодительская директория (абсолютный путь): c:\\projects\\python\n"
     ]
    }
   ],
   "source": [
    "p = pathlib.Path()\n",
    "\n",
    "# Не стоит думать, что объекты путей, предоставляемые библиотекой \n",
    "# pathlib, являются строками. Это объекты соответствующего типа, \n",
    "# который зависит от ОС.\n",
    "print(f'{type(p) = }')\n",
    "\n",
    "print(f'Текущая директория (абсолютный путь): {p.absolute()}')\n",
    "print(f'Родительская директория (абсолютный путь): {p.absolute().parent}')"
   ]
  },
  {
   "cell_type": "code",
   "execution_count": 3,
   "metadata": {},
   "outputs": [
    {
     "output_type": "stream",
     "name": "stdout",
     "text": [
      "Текущая директория: c:\\projects\\python\\programming_basics_course\nДомашняя директория: C:\\Users\\Владимир\n"
     ]
    }
   ],
   "source": [
    "print(f'Текущая директория: {pathlib.Path.cwd()}')\n",
    "print(f'Домашняя директория: {pathlib.Path.home()}')"
   ]
  },
  {
   "cell_type": "code",
   "execution_count": 4,
   "metadata": {},
   "outputs": [
    {
     "output_type": "stream",
     "name": "stdout",
     "text": [
      ".git\n.pytest_cache\n.venv\n.vscode\npython_pd\nTutorial\n__pycache__\n"
     ]
    }
   ],
   "source": [
    "# Получим рабочую директорию (не текущую!)\n",
    "p = pathlib.Path()\n",
    "\n",
    "# легким движением пальцев по клавиатуре обойдем \n",
    "# все папки в директории.\n",
    "for path in p.iterdir():\n",
    "    if path.is_dir():\n",
    "        print(path)"
   ]
  },
  {
   "cell_type": "code",
   "execution_count": 5,
   "metadata": {},
   "outputs": [
    {
     "output_type": "stream",
     "name": "stdout",
     "text": [
      "python_pd\\01_intro\\00_overview.md\npython_pd\\01_intro\\01_introduction.md\npython_pd\\02_syntax\\00_overview.md\npython_pd\\03_collections\\00_overview.md\npython_pd\\03_collections\\basic_collections\\00_overview.md\npython_pd\\04_functions\\00_overview.md\npython_pd\\05_files\\00_overview.md\npython_pd\\06_classes\\00_overview.md\npython_pd\\07_import\\00_overview.md\npython_pd\\work\\syntax\\overview.md\npython_pd\\work\\syntax\\fizzbuzz\\description.md\n"
     ]
    }
   ],
   "source": [
    "p = pathlib.Path('python_pd')\n",
    "\n",
    "# легко и непринужденно рекурсивно получаем \n",
    "# все файлы нужного расширения.\n",
    "for f in p.glob('**/*.md'):\n",
    "    print(f)"
   ]
  },
  {
   "source": [
    "### Манипуляции с путями"
   ],
   "cell_type": "markdown",
   "metadata": {}
  },
  {
   "cell_type": "code",
   "execution_count": 6,
   "metadata": {},
   "outputs": [
    {
     "output_type": "stream",
     "name": "stdout",
     "text": [
      "Новый путь: src\\.venv\\Scripts\\python.exe\nСоставляющие пути: ('src', '.venv', 'Scripts', 'python.exe')\nДиск: ''\nДиск: 'c:'\nГлобальный корень: ''\nГлобальный корень: '\\\\'\nДиск + глобальный корень: ''\nДиск + глобальный корень: 'c:\\\\'\nВсе предки: [WindowsPath('src/.venv/Scripts'), WindowsPath('src/.venv'), WindowsPath('src'), WindowsPath('.')]\nПоследний элемент пути: python.exe\nРасширение: .exe\nВсе расширения: ['.tar', '.gz']\nПоследний компоненит без последнего суффикса: python\nОбъединение путей: src\\.venv\\Scripts\\pip.exe\n"
     ]
    }
   ],
   "source": [
    "p_1 = pathlib.Path('src/')\n",
    "p_2 = pathlib.Path(\"c:/projects\")\n",
    "\n",
    "# Для составления путей можно использовать оператор /\n",
    "p_3 = p_1 / \".venv\" / \"Scripts\" / \"python.exe\"\n",
    "\n",
    "print(f'Новый путь: {p_3}')\n",
    "\n",
    "print(f'Составляющие пути: {p_3.parts}')\n",
    "\n",
    "print(f'Диск: {repr(p_3.drive)}')  # нет\n",
    "print(f'Диск: {repr(p_2.drive)}')  # внутри f-строк нельзя использовать \\\n",
    "\n",
    "print(f'Глобальный корень: {repr(p_3.root)}')  # нет\n",
    "print(f'Глобальный корень: {repr(p_2.root)}')\n",
    "\n",
    "print(f'Диск + глобальный корень: {repr(p_3.anchor)}')  # нет\n",
    "print(f'Диск + глобальный корень: {repr(p_2.anchor)}')\n",
    "\n",
    "print(f'Все предки: {list(p_3.parents)}')\n",
    "\n",
    "print(f'Последний элемент пути: {p_3.name}')  # аналог os.path.basename\n",
    "\n",
    "print(f'Расширение: {p_3.suffix}')\n",
    "print(f'Все расширения: {(p_3.parent / \"foobar.tar.gz\").suffixes}')\n",
    "print(f'Последний компоненит без последнего суффикса: {p_3.stem}')\n",
    "\n",
    "print(f'Объединение путей: {p_3.parent.joinpath(\"pip.exe\")}')"
   ]
  },
  {
   "source": [
    "### Проверки (предикаты)"
   ],
   "cell_type": "markdown",
   "metadata": {}
  },
  {
   "cell_type": "code",
   "execution_count": 7,
   "metadata": {},
   "outputs": [
    {
     "output_type": "stream",
     "name": "stdout",
     "text": [
      "p = WindowsPath('c:/projects/python/programming_basics_course')\nПуть существует: True\nПуть указывает на директорию: True\nПуть указывает на файл: False\nПуть является абсолютным: True\nПуть является составной частью другого пути: True\n"
     ]
    }
   ],
   "source": [
    "p = pathlib.Path().absolute()\n",
    "print(f'{p = }')\n",
    "print(f'Путь существует: {p.exists()}')\n",
    "print(f'Путь указывает на директорию: {p.is_dir()}')\n",
    "print(f'Путь указывает на файл: {p.is_file()}')\n",
    "print(f'Путь является абсолютным: {p.is_absolute()}')  # должен иметь корень или диск\n",
    "print(f'Путь является составной частью другого пути: {p.is_relative_to(\"c:/projects/python\")}')"
   ]
  },
  {
   "cell_type": "code",
   "execution_count": 8,
   "metadata": {},
   "outputs": [
    {
     "output_type": "stream",
     "name": "stdout",
     "text": [
      "В пути есть файлы с расширением pyi: True\nВ директории py есть файлы с расширением, которое начинается на py: True\n"
     ]
    }
   ],
   "source": [
    "p_1 = pathlib.Path('src\\.venv\\Lib\\py\\io.pyi')\n",
    "\n",
    "# матчинг по шаблону\n",
    "print(f'В пути есть файлы с расширением pyi: {p_1.match(\"**/*.pyi\")}')\n",
    "print(f'В директории py есть файлы с расширением, которое начинается на py: {p_1.match(\"py/*.py*\")}')"
   ]
  },
  {
   "cell_type": "code",
   "execution_count": null,
   "metadata": {},
   "outputs": [],
   "source": []
  },
  {
   "source": [
    "## Определение текущего каталога для скрипта"
   ],
   "cell_type": "markdown",
   "metadata": {}
  },
  {
   "cell_type": "code",
   "execution_count": 9,
   "metadata": {},
   "outputs": [
    {
     "output_type": "stream",
     "name": "stdout",
     "text": [
      "Текущая (рабочая) директория (относительный): .\nТекущая (рабочая) директория (абсолютный): c:\\projects\\python\\programming_basics_course\n"
     ]
    }
   ],
   "source": [
    "cur_dir = pathlib.Path()\n",
    "print(f'Текущая (рабочая) директория (относительный): {str(cur_dir)}')\n",
    "print(f'Текущая (рабочая) директория (абсолютный): {str(cur_dir.absolute())}')"
   ]
  },
  {
   "cell_type": "code",
   "execution_count": null,
   "metadata": {},
   "outputs": [],
   "source": [
    "cur_dir = pathlib.Path(__file__)  # не сработает в REPL или jupyter"
   ]
  },
  {
   "source": [
    "## Вычисление относительного пути от текущей до заданной директории"
   ],
   "cell_type": "markdown",
   "metadata": {}
  },
  {
   "cell_type": "code",
   "execution_count": 10,
   "metadata": {},
   "outputs": [
    {
     "output_type": "stream",
     "name": "stdout",
     "text": [
      "Текущая директория: c:\\projects\\python\\programming_basics_course\\python_pd\\05_files\nЦелевая директория: C:\\projects\\python\\programming_basics_course\\python_pd\\04_functions\n"
     ]
    }
   ],
   "source": [
    "# файл\n",
    "file = r'python_pd\\05_files\\data.txt'\n",
    "\n",
    "cur_dir = pathlib.Path(file).absolute().parent\n",
    "print(f'Текущая директория: {str(cur_dir)}')\n",
    "\n",
    "# другой (целевой) файл\n",
    "relative_path = r'..\\04_functions\\00_overview.md'\n",
    "\n",
    "# вычисление нового абсолютного пути до целевой директории\n",
    "src_path = (cur_dir / relative_path).resolve().parent\n",
    "print(f'Целевая директория: {src_path}')"
   ]
  },
  {
   "source": [
    "## Открытие файла"
   ],
   "cell_type": "markdown",
   "metadata": {}
  },
  {
   "cell_type": "code",
   "execution_count": 11,
   "metadata": {},
   "outputs": [
    {
     "output_type": "stream",
     "name": "stdout",
     "text": [
      "foo\nbar\nbaz\nquz\n"
     ]
    }
   ],
   "source": [
    "file = r'python_pd\\05_files\\data.txt'\n",
    "cur_dir = pathlib.Path(file)\n",
    "\n",
    "with cur_dir.open() as f:\n",
    "    print(f.read())"
   ]
  },
  {
   "source": [
    "Здесь перечислены далеко не все возможности модуля ```pathlib```, более подробно читайте в [документации](https://docs.python.org/3/library/pathlib.html#module-pathlib), там же расположены хорошие примеры, демонстрирующие работу этих функций.\n",
    "\n",
    "# Полезные ссылки\n",
    "\n",
    "- [Документация к модулю ```pathlib```](https://docs.python.org/3/library/pathlib.html#module-pathlib)\n",
    "- [Документация к модулю ```glob```](https://docs.python.org/3/library/glob.html)\n",
    "- [Python 3's pathlib Module: Taming the File System](https://realpython.com/python-pathlib/)\n",
    "- [How can I safely create a nested directory?](https://stackoverflow.com/questions/273192/how-can-i-safely-create-a-nested-directory)"
   ],
   "cell_type": "markdown",
   "metadata": {}
  }
 ]
}