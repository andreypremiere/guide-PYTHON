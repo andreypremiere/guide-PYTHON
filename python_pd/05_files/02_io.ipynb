{
 "metadata": {
  "language_info": {
   "codemirror_mode": {
    "name": "ipython",
    "version": 3
   },
   "file_extension": ".py",
   "mimetype": "text/x-python",
   "name": "python",
   "nbconvert_exporter": "python",
   "pygments_lexer": "ipython3",
   "version": "3.9.0-final"
  },
  "orig_nbformat": 2,
  "kernelspec": {
   "name": "python3",
   "display_name": "Python 3"
  }
 },
 "nbformat": 4,
 "nbformat_minor": 2,
 "cells": [
  {
   "source": [
    "# Модуль ```io```\n",
    "\n",
    "Модуль ```io``` предоставляет основные возможности Python для работы с различными типами ввода-вывода. Существует три основных типа ввода-вывода: \n",
    "- текстовый ввод-вывод; \n",
    "- двоичный ввод-вывод;\n",
    "- необработанный ввод-вывод. \n",
    "\n",
    "Как уже описывалось в [пункте про файлы](01_files.ipynb) потоки и файловые объекты независимо от своей категории могут иметь разные свойства:\n",
    "\n",
    "- ограничения доступа (только чтение, только запись, запись и чтение);\n",
    "- произвольные доступ (например, допустим для файлов, и недопустим для сокетов);\n",
    "- формат данных (текстовый или бинарный).\n",
    "\n",
    "Потоки могут быть связаны с реальным файлом на диске или просто представлять кусок памяти. Примером текстового потока является результат выполнения функуции ```open``` в режим которых не содержит флага ```b```. Результат функции ```open``` имеет тип [```TextIOWrapper```](https://docs.python.org/3/library/io.html#io.TextIOWrapper). Это текстовый поток, который реализован поверх двоичного [```BufferedIOBase```](https://docs.python.org/3/library/io.html#io.BufferedIOBase)."
   ],
   "cell_type": "markdown",
   "metadata": {}
  },
  {
   "cell_type": "code",
   "execution_count": 1,
   "metadata": {},
   "outputs": [
    {
     "output_type": "stream",
     "name": "stdout",
     "text": [
      "f = <_io.TextIOWrapper name='python_pd\\\\05_files\\\\data.txt' mode='r' encoding='cp1251'>\n"
     ]
    }
   ],
   "source": [
    "f = open(r'python_pd\\05_files\\data.txt', mode='r')\n",
    "print(f'{f = }')\n",
    "f.close()"
   ]
  },
  {
   "source": [
    "Добавление флага ```b``` приводит к появлению бинарных потоков:\n",
    "- ```r``` - ```BufferedReader```\n",
    "- ```r+```, ```w+``` или ```a+``` - ```BufferedRandom```\n",
    "- ```w``` или ```a``` - ```BufferedWriter```"
   ],
   "cell_type": "markdown",
   "metadata": {}
  },
  {
   "cell_type": "code",
   "execution_count": 2,
   "metadata": {},
   "outputs": [
    {
     "output_type": "stream",
     "name": "stdout",
     "text": [
      "f = <_io.BufferedReader name='python_pd\\\\05_files\\\\data.txt'>\ndata = b''\ntype(data) = <class 'bytes'>\ndata.decode(encoding=\"cp1251\") = ''\n"
     ]
    }
   ],
   "source": [
    "f = open(r'python_pd\\05_files\\data.txt', mode='rb')\n",
    "print(f'{f = }')\n",
    "data = f.read()\n",
    "f.close()\n",
    "\n",
    "print(f'{data = }')  # файл тектовый - результат строка байт\n",
    "print(f'{type(data) = }')\n",
    "print(f'{data.decode(encoding=\"cp1251\") = }')  # декодирование строки байт в текст"
   ]
  },
  {
   "source": [
    "Бинарные потоки можно преобразовать в текстовые."
   ],
   "cell_type": "markdown",
   "metadata": {}
  },
  {
   "cell_type": "code",
   "execution_count": 3,
   "metadata": {},
   "outputs": [
    {
     "output_type": "stream",
     "name": "stdout",
     "text": [
      "type(f) = <class '_io.BufferedReader'>\ntype(new_f) = <class '_io.TextIOWrapper'>\nf.closed = True\nnew_f.closed = True\n"
     ]
    }
   ],
   "source": [
    "from io import TextIOWrapper\n",
    "\n",
    "f = open(r'python_pd\\05_files\\data.txt', mode='rb')\n",
    "print(f'{type(f) = }')\n",
    "new_f = TextIOWrapper(f, encoding='cp1257')\n",
    "print(f'{type(new_f) = }')\n",
    "f.close()\n",
    "\n",
    "# закрытие исходного потока привело к закрытию текстового\n",
    "print(f'{f.closed = }')\n",
    "print(f'{new_f.closed = }')"
   ]
  },
  {
   "source": [
    "Как упоминалось выше, потоки могут быть не привязаны к реальным объектам на диске."
   ],
   "cell_type": "markdown",
   "metadata": {}
  },
  {
   "cell_type": "code",
   "execution_count": 4,
   "metadata": {},
   "outputs": [
    {
     "output_type": "stream",
     "name": "stdout",
     "text": [
      "(1): f.tell() = 14\n(2): f.read() = 'Hello, Monty\\n'\n(3): b.tell() = 14\n(4): f.tell() = 0\n(5): b.read() = b'Hello, Monty\\r\\n'\n"
     ]
    }
   ],
   "source": [
    "import io\n",
    "\n",
    "# создадим текстовый поток\n",
    "b = io.BytesIO(b'')\n",
    "f = TextIOWrapper(b, encoding='utf-8')\n",
    "\n",
    "# запишем текст в поток через print\n",
    "print('Hello, Monty', file=f)\n",
    "\n",
    "# указатель передвинулся в конец\n",
    "print(f'(1): {f.tell() = }')\n",
    "\n",
    "# для чтения из потока передвинем указатель\n",
    "f.seek(0)\n",
    "print(f'(2): {f.read() = }')\n",
    "\n",
    "# манипуляции с f сказываются на b и наоборот\n",
    "print(f'(3): {b.tell() = }')\n",
    "b.seek(0)\n",
    "print(f'(4): {f.tell() = }')\n",
    "print(f'(5): {b.read() = }')\n",
    "\n",
    "b.close()"
   ]
  },
  {
   "source": [
    "Аналогом ```BytesIO``` будет [```StringIO```](https://docs.python.org/3/library/io.html#io.StringIO) для типа ```str```."
   ],
   "cell_type": "markdown",
   "metadata": {}
  },
  {
   "source": [
    "# Полезные ссылки\n",
    "\n",
    "- [Документация](https://docs.python.org/3/library/io.html)\n",
    "- [What's the difference between '_io' and 'io'?](https://stackoverflow.com/questions/26208863/whats-the-difference-between-io-and-io/26208902)\n",
    "- [What's the difference between io.open() and os.open() on Python?](https://stackoverflow.com/questions/7219511/whats-the-difference-between-io-open-and-os-open-on-python)"
   ],
   "cell_type": "markdown",
   "metadata": {}
  }
 ]
}