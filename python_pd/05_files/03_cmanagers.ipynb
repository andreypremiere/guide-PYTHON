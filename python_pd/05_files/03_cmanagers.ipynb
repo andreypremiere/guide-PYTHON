{
 "metadata": {
  "language_info": {
   "codemirror_mode": {
    "name": "ipython",
    "version": 3
   },
   "file_extension": ".py",
   "mimetype": "text/x-python",
   "name": "python",
   "nbconvert_exporter": "python",
   "pygments_lexer": "ipython3",
   "version": "3.8.0-final"
  },
  "orig_nbformat": 2,
  "kernelspec": {
   "name": "5be696dc-7900-45eb-ba9e-444d8f184671",
   "display_name": "'Python Interactive'"
  }
 },
 "nbformat": 4,
 "nbformat_minor": 2,
 "cells": [
  {
   "source": [
    "# Менеджеры контекста\n",
    "\n",
    "Менеджеры контекста это удобный способ управления ресурсами, например, файлами, сокетами и т.д. Это короткое представление паттерна, использующего конструкцию ```try ... finaly ...```:\n",
    "\n",
    "```python\n",
    "r = acquire_resource()  # получение ресурса\n",
    "try:\n",
    "    do_something(r)  # какие-либо операции с ресурсом\n",
    "finaly:\n",
    "    # освобождение происходит в любом случае\n",
    "    release_resource(r)\n",
    "```\n",
    "\n",
    "Менеджер контекста позволяет оставить за кадром освобождение ресурсов, т.е. действие ```release_resource``` будет вызвано неявно:\n",
    "\n",
    "```python\n",
    "with acquire_resource as r:\n",
    "    do_something(r)\n",
    "```\n",
    "\n",
    "Для поддержки оператора ```with``` необходимо, чтобы объект реализовывал протокол менеджера контекста. Этот протокол заключается в реализации двух методов: ```__enter__``` и ```__exit__```. Первый метод служит для инициализации контекста, например, открывает файл. Значение, возвращаемое ```__enter__```, записывается в переменную по имени, указанному после оператора ```as```. Второй метод вызывается после выполнения тела оператора ```with``` и принимает три аргумента: тип исключения, само исключение, объект типа ```traceback```. Если в процессе выполнения тела оператора ```with``` было поднято исключение, метод ```__exit__``` может подави его, вернув ```True```. Любые объекты, реализующие эти два метода, будут являться менеджерами контекста. Подобное поведение без явного указания реализуемого интерфейса называется утиной типизацией."
   ],
   "cell_type": "markdown",
   "metadata": {}
  },
  {
   "cell_type": "code",
   "execution_count": 1,
   "metadata": {},
   "outputs": [
    {
     "output_type": "stream",
     "name": "stdout",
     "text": [
      "data = 'foo\\nbar\\nbaz\\nquz'\n"
     ]
    }
   ],
   "source": [
    "path = r'python_pd\\05_files\\\\'\n",
    "with open(path + 'data.txt', 'r', encoding='cp1251') as f:\n",
    "    data = f.read()\n",
    "print(f'{data = }')"
   ]
  },
  {
   "source": [
    "Оператор ```with``` позволяет работать одновременно с несколькими менеджерами контекста:\n",
    "\n",
    "```python\n",
    "with acquire_res() as r, acquire_other_res() as other:\n",
    "    do_something(r, other)\n",
    "```\n",
    "\n",
    "Такая запись эквивалентна двум вложенным менеджерам контекста:\n",
    "\n",
    "```python\n",
    "with acquire_res() as r:\n",
    "    with acquire_other_res() as other:\n",
    "        do_something(r, other)\n",
    "```\n",
    "\n",
    "Однако не стоит злоупотреблять использованием первого варианта, особенно для большого количества менеджеров контекста. Порой читаемость кода будет лучше, если использовать вложенные блоки."
   ],
   "cell_type": "markdown",
   "metadata": {}
  },
  {
   "cell_type": "code",
   "execution_count": 2,
   "metadata": {},
   "outputs": [
    {
     "output_type": "stream",
     "name": "stdout",
     "text": [
      "data1 = 'foo\\nbar\\nbaz\\nquz'\ndata2 = 'Foo\\tbar\\n'\n"
     ]
    }
   ],
   "source": [
    "with open(path + 'data.txt') as f1, open(path + 'write_data.txt') as f2:\n",
    "    data1 = f1.read()\n",
    "    data2 = f2.read()\n",
    "print(f'{data1 = }')\n",
    "print(f'{data2 = }')"
   ]
  },
  {
   "source": [
    "Оператор ```with``` можно использовать без явного указания имени переменной.\n",
    "\n",
    "```python\n",
    "with acquire_res():\n",
    "    do_something()\n",
    "```\n",
    "\n",
    "Стандартная библиотека Python включает самые разные менеджеры контекста для различных ситуаций. При этом работа с ними единообразна. Например, модуль ```tempfile``` реализует классы для работы с временными файлами. Он содержит класс ```TemporaryFile```, который автоматически удаляет файлы при выходе из менеджера контекста. Также менеджеры контекста активно используются при асинхронной работе.\n",
    "\n",
    "О том как реализовать собственный менеджер контекста читайте в главе про классы.\n",
    "\n",
    "# Модуль ```contextlib```\n",
    "\n",
    "Модуль ```contextlib``` входит в стандартную библиотеку и включает в себя такие менеджеры контекста как:\n",
    "\n",
    "- ```closing``` – обобщение логики освобождения ресурсов, подходит для любых объектов реализующих метод ```close```;\n",
    "- ```redirect_stdout``` – перенаправляет вывод в стандартный поток);\n",
    "- ```suppress``` – позволяет подавить исключения указанных типов;\n",
    "- ```ContextDecorator``` – объединяет менеджеры контекста и декораторы;\n",
    "- ```ExitStack``` – позволяет управлять произвольным количеством менеджеров контекста (например, когда необходимо управлять произвольным количество ресурсов). \n",
    "\n",
    "Например, функция, логирующая пути открытых файлов:"
   ],
   "cell_type": "markdown",
   "metadata": {}
  },
  {
   "cell_type": "code",
   "execution_count": 3,
   "metadata": {},
   "outputs": [],
   "source": [
    "from contextlib import ExitStack\n",
    "\n",
    "def marge_log(path, *logs):\n",
    "    \"\"\"Логирование открытых файлов.\n",
    "    Логирует имена отурытых файлов с помощью \n",
    "    класса contextlib.ExitStack.\n",
    "\n",
    "    :param path: путь до лог-файла\n",
    "    :type path: str\n",
    "    :param logs: пути до файлов\n",
    "    :type logs: tuple[str]\n",
    "    \"\"\"\n",
    "    with ExitStack() as st:\n",
    "        # добавляем произвольное количество ресурсов в стек\n",
    "        handles = [st.enter_context(open(log)) for log in logs]\n",
    "        # не забываем про файл логов\n",
    "        output = open(path, 'w')\n",
    "        st.enter_context(output)\n",
    "\n",
    "        # пишем в файл логов имена всех остальных файлов\n",
    "        output.write('\\n'.join(h.name for h in handles))"
   ]
  },
  {
   "source": [
    "Или использование ```suppress``` для элегантного удаления файла (пример из документации)."
   ],
   "cell_type": "markdown",
   "metadata": {}
  },
  {
   "cell_type": "code",
   "execution_count": 4,
   "metadata": {},
   "outputs": [],
   "source": [
    "from contextlib import suppress\n",
    "\n",
    "with suppress(FileNotFoundError):\n",
    "    os.remove('somefile.tmp')"
   ]
  },
  {
   "source": [
    "Пример применения декоратора ```contextmanager```, который может сделать менеджером контекста даже функцию. \n",
    "\n",
    "В качестве примера приведена функция ```get_prefix_spaces```, которая умеет выводить на экран сообщения с отступом. При этом учитываются вложенные менеджеры контекста."
   ],
   "cell_type": "markdown",
   "metadata": {}
  },
  {
   "cell_type": "code",
   "execution_count": 5,
   "metadata": {},
   "outputs": [
    {
     "output_type": "stream",
     "name": "stdout",
     "text": [
      "    foo\n        bar\n            baz\n"
     ]
    }
   ],
   "source": [
    "from contextlib import contextmanager\n",
    "\n",
    "\n",
    "def get_prefix_spaces(indent=4):\n",
    "    \"\"\"Фабрика менеджеров контекста печати с отступом.\n",
    "    Для создания менеджера контекста из функции \n",
    "    используется декоратор contextlib.contextmanager.\n",
    "\n",
    "    В качестве \"хака\" для отслеживания уровня отступа \n",
    "    используется объемлющая область видимости и оператор \n",
    "    nonlocal для возможности редактирования.\n",
    "\n",
    "    Функция _print - это обертка для print.\n",
    "\n",
    "    :param indent: количество пробелов в одном уровне отступа.\n",
    "    :type indent: int\n",
    "    :return: менеджер контекста для печати с отступом.\n",
    "    :rtype: Callable\n",
    "    \"\"\"\n",
    "    level = 0\n",
    "    def _print(msg, *args, **kwargs):\n",
    "        print(f'{\" \" * indent * level}{msg}', *args, **kwargs)\n",
    "\n",
    "    @contextmanager\n",
    "    def inner():\n",
    "        nonlocal level\n",
    "        try:\n",
    "            level += 1\n",
    "            yield _print\n",
    "        finally:\n",
    "            level -= 1\n",
    "    return inner\n",
    "\n",
    "\n",
    "prefix_spaces = get_prefix_spaces()\n",
    "\n",
    "with prefix_spaces() as f:\n",
    "    f('foo')\n",
    "    with prefix_spaces() as f:\n",
    "        f('bar')\n",
    "        with prefix_spaces() as f:\n",
    "            f('baz')\n"
   ]
  },
  {
   "source": [
    "Читайте документацию по ```contextlib``` для ознакомления с другими вариантами менеджеров контекста и примерами их использования.\n",
    "\n",
    "# Полезные ссылки\n",
    "\n",
    "- [Документация по ```contextlib```](https://docs.python.org/3/library/contextlib.html)"
   ],
   "cell_type": "markdown",
   "metadata": {}
  }
 ]
}