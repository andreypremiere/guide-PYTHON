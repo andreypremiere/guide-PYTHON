{
 "metadata": {
  "language_info": {
   "codemirror_mode": {
    "name": "ipython",
    "version": 3
   },
   "file_extension": ".py",
   "mimetype": "text/x-python",
   "name": "python",
   "nbconvert_exporter": "python",
   "pygments_lexer": "ipython3",
   "version": "3.9.0-final"
  },
  "orig_nbformat": 2,
  "kernelspec": {
   "name": "python3",
   "display_name": "Python 3",
   "language": "python"
  }
 },
 "nbformat": 4,
 "nbformat_minor": 2,
 "cells": [
  {
   "source": [
    "# Модуль ```os.path```\n",
    "\n",
    "Модуль ```path``` входит в состав модуля ```os``` и предоставляет некоторый функционал по работе с путями. Для начала работы с ним необходимо импортировать модуль."
   ],
   "cell_type": "markdown",
   "metadata": {}
  },
  {
   "cell_type": "code",
   "execution_count": 1,
   "metadata": {},
   "outputs": [],
   "source": [
    "import os.path"
   ]
  },
  {
   "cell_type": "code",
   "execution_count": 2,
   "metadata": {},
   "outputs": [
    {
     "output_type": "stream",
     "name": "stdout",
     "text": [
      "Абсолютный путь (неправильный): c:\\projects\\python\\programming_basics_course\\data.txt\nАбсолютный путь (правильный): c:\\projects\\python\\programming_basics_course\\python_pd\\05_files\\data.txt\nДиректория: c:\\projects\\python\\programming_basics_course\\python_pd\\05_files\nБазовое имя (1): data.txt\nБазовое имя (2): 05_files\nДиректория и базовое имя (1): ('c:\\\\projects\\\\python\\\\programming_basics_course\\\\python_pd\\\\05_files', 'data.txt')\nДиректория и базовое имя (2): ('c:\\\\projects\\\\python\\\\programming_basics_course\\\\python_pd', '05_files')\nДиректория и базовое имя (3): ('c:/', '')\nДиректория и базовое имя (4): ('', 'data.txt')\nОбщий префикс нескольких путей: c:\\projects\\python\\programming_basics_course\\python_pd\\05_files\n"
     ]
    }
   ],
   "source": [
    "# Полный путь до файла\n",
    "# abspath возвращает абсолютный путь относительно текущего рабочего \n",
    "# каталога, т.е. фактически склеивает \"путь\\к\\рабочему\\каталогу\" и \"переданный\\путь\". \n",
    "# abspath не проверяет, действительно ли существует файл или директория.\n",
    "print(f'Абсолютный путь (неправильный): {os.path.abspath(\"data.txt\")}')\n",
    "p_1 = os.path.abspath(r'python_pd\\05_files\\data.txt')\n",
    "print(f'Абсолютный путь (правильный): {p_1}')\n",
    "\n",
    "# Имя директории\n",
    "d = os.path.dirname(p_1)\n",
    "print(f'Директория: {d}')\n",
    "\n",
    "# Последний элемент пути (базовое имя)\n",
    "print(f'Базовое имя (1): {os.path.basename(p_1)}')\n",
    "print(f'Базовое имя (2): {os.path.basename(d)}')\n",
    "\n",
    "# Разбиение пути на директорию и базовое имя\n",
    "print(f'Директория и базовое имя (1): {os.path.split(p_1)}')\n",
    "print(f'Директория и базовое имя (2): {os.path.split(d)}')\n",
    "print(f'Директория и базовое имя (3): {os.path.split(\"c:/\")}')\n",
    "print(f'Директория и базовое имя (4): {os.path.split(\"data.txt\")}')\n",
    "\n",
    "# Определение самого длинного префикса для нескольких путей\n",
    "p_2 = os.path.abspath(r'python_pd\\05_files')\n",
    "os.path.commonprefix([p_1, p_2])\n",
    "print(f'Общий префикс нескольких путей: {os.path.commonprefix([p_1, p_2])}')"
   ]
  },
  {
   "source": [
    "### Манипуляции с путями\n",
    "\n",
    "- ```expandvars(path)``` - возвращает аргумент с подставленными переменными окружения (```$name``` или ```${name}``` заменяются переменной окружения ```name```). Несуществующие имена не заменяет. На Windows также заменяет ```%name%```.\n",
    "- ```join(path1[, path2[, ...]])``` - соединяет пути с учётом особенностей операционной системы (например, разделителя).\n",
    "- ```normcase(path)``` - нормализует регистр пути (на файловых системах, не учитывающих регистр, приводит путь к нижнему регистру).\n",
    "- ```normpath(path)``` - нормализует путь, убирая избыточные разделители и ссылки на предыдущие директории. На Windows преобразует прямые слеши в обратные.\n",
    "- ```realpath(path)``` - возвращает канонический путь, убирая все символические ссылки (если они поддерживаются).\n",
    "- ```relpath(path, start=None)``` - вычисляет путь относительно директории ```start``` (по умолчанию - относительно текущей директории).\n",
    "- ```splitdrive(path)``` - разбивает путь на пару.\n",
    "- ```splitext(path)``` - разбивает путь на пару (```root```, ```ext```), где ```ext``` начинается с точки и содержит не более одной точки.\n",
    "- ```expanduser(path)``` - заменяет ```~``` или ```~user``` на домашнюю директорию пользователя."
   ],
   "cell_type": "markdown",
   "metadata": {}
  },
  {
   "cell_type": "code",
   "execution_count": 3,
   "metadata": {},
   "outputs": [
    {
     "output_type": "stream",
     "name": "stdout",
     "text": [
      "Составление пути (рекомендуется): folder_a\\folder_b\\..\\folder_c\\file.json\nСоставление пути (не рекомендуется): folder_a\\folder_b/../folder_c/file.json\nПодстановка переменных окружения: c:\\Users\\Владимир\\.vscode\\extensions\\ms-toolsai.jupyter-2020.12.414227025\\pythonFiles;c:\\Users\\Владимир\\.vscode\\extensions\\ms-toolsai.jupyter-2020.12.414227025\\pythonFiles\\lib\\python\nНормализация регистра: folder_a\\folder_b\\file.json\nНормализует пути: folder_a\\folder_c\\file.json\nВычисление относительного пути: ..\\..\nРазделение пути (1): ('c:', '\\\\projects\\\\python\\\\programming_basics_course\\\\python_pd\\\\05_files\\\\data.txt')\nРазделение пути (2): ('c:\\\\projects\\\\python\\\\programming_basics_course\\\\python_pd\\\\05_files\\\\data', '.txt')\n"
     ]
    }
   ],
   "source": [
    "# Для соединения нескольких путей рекомендуется использовать join, т.к. она учитывает особенности ОС.\n",
    "# Не рекомендуется в строках использовать слеши или зависящие от ОС разделители\n",
    "print(f'Составление пути (рекомендуется): {os.path.join(\"folder_a\", \"folder_b\", \"..\", \"folder_c\", \"file.json\")}')\n",
    "print(f'Составление пути (не рекомендуется): {os.path.join(\"folder_a\", \"folder_b/../folder_c/file.json\")}')\n",
    "\n",
    "print(f'Подстановка переменных окружения: {os.path.expandvars(\"$PYTHONPATH\")}')\n",
    "print(f'Нормализация регистра: {os.path.normcase(\"Folder_A/FOLDER_b/file.JSON\")}')\n",
    "print(f'Нормализует пути: {os.path.normpath(\"folder_a/folder_b/../folder_c/file.json\")}')\n",
    "print(f'Вычисление относительного пути: {os.path.relpath(\"python_pd\", start=p_1)}')\n",
    "print(f'Разделение пути (1): {os.path.splitdrive(p_1)}')\n",
    "print(f'Разделение пути (2): {os.path.splitext(p_1)}')"
   ]
  },
  {
   "source": [
    "### Вспомогательные характеристики файлов\n",
    "\n",
    "Модуль ```os.path``` дает возможность получать вспомогательную информацию о файлах такую как: время создания/изменения/доступа и размер файла:\n",
    "- ```getatime(path)``` - время последнего доступа к файлу, в секундах.\n",
    "- ```getmtime(path)``` - время последнего изменения файла, в секундах.\n",
    "- ```getctime(path)``` - время создания файла (Windows), время последнего изменения файла (Unix).\n",
    "- ```getsize(path)``` - размер файла в байтах."
   ],
   "cell_type": "markdown",
   "metadata": {}
  },
  {
   "cell_type": "code",
   "execution_count": 4,
   "metadata": {},
   "outputs": [
    {
     "output_type": "stream",
     "name": "stdout",
     "text": [
      "Время последнего доступа: 1607675548.0541656 секунд\nВремя последнего изменения: 1607443302.8658152 секунд\nВремя создания: 1607415740.2179174 секунд\nРазмер файла: 18 байт\n"
     ]
    }
   ],
   "source": [
    "print(f'Время последнего доступа: {os.path.getatime(p_1)} секунд')\n",
    "print(f'Время последнего изменения: {os.path.getmtime(p_1)} секунд')\n",
    "print(f'Время создания: {os.path.getctime(p_1)} секунд')\n",
    "print(f'Размер файла: {os.path.getsize(p_1)} байт')"
   ]
  },
  {
   "source": [
    "### Проверки (предикаты)\n",
    "\n",
    "Модуль ```os.path``` предоставляет несколько функций для различного рода проверок:\n",
    "- ```exists(path)``` - указывает ли путь на существующий путь или дескриптор открытого файла.\n",
    "- ```isabs(path)``` - является ли путь абсолютным.\n",
    "- ```isfile(path)``` - является ли путь файлом.\n",
    "- ```isdir(path)``` - является ли путь директорией.\n",
    "- ```islink(path)``` - является ли путь символической ссылкой.\n",
    "- ```ismount(path)``` - является ли путь точкой монтирования.\n",
    "- ```samefile(path1, path2)``` - указывают ли path1 и path2 на один и тот же файл или директорию.\n",
    "- ```sameopenfile(fp1, fp2)``` - указывают ли дескрипторы fp1 и fp2 на один и тот же открытый файл.\n",
    "- ```supports_unicode_filenames``` - поддерживает ли файловая система Unicode."
   ],
   "cell_type": "markdown",
   "metadata": {}
  },
  {
   "cell_type": "code",
   "execution_count": 5,
   "metadata": {},
   "outputs": [
    {
     "output_type": "stream",
     "name": "stdout",
     "text": [
      "Путь указывает на существующий файл: True\nПуть является абсолютным: True\nПуть является файлом: True\nПуть является директорией: False\nПуть является символической ссылкой: False\nПуть является тойкой монтирования: False\nПути указывают на один и тот же файл или директорию: False\nПоддержка unicode: True\n"
     ]
    }
   ],
   "source": [
    "print(f'Путь указывает на существующий файл: {os.path.exists(p_1)}')\n",
    "print(f'Путь является абсолютным: {os.path.isabs(p_1)}')\n",
    "print(f'Путь является файлом: {os.path.isfile(p_1)}')\n",
    "print(f'Путь является директорией: {os.path.isdir(p_1)}')\n",
    "print(f'Путь является символической ссылкой: {os.path.islink(p_1)}')\n",
    "print(f'Путь является тойкой монтирования: {os.path.ismount(p_1)}')\n",
    "print(f'Пути указывают на один и тот же файл или директорию: {os.path.samefile(p_1, p_2)}')\n",
    "print(f'Поддержка unicode: {os.path.supports_unicode_filenames}')"
   ]
  },
  {
   "source": [
    "## Определение текущего каталога для скрипта"
   ],
   "cell_type": "markdown",
   "metadata": {}
  },
  {
   "cell_type": "code",
   "execution_count": null,
   "metadata": {},
   "outputs": [],
   "source": [
    "os.path.dirname(__file__)  # не сработает в REPL или jupyter"
   ]
  },
  {
   "cell_type": "code",
   "execution_count": null,
   "metadata": {},
   "outputs": [],
   "source": [
    "os.path.dirname(os.path.abspath(__file__))"
   ]
  },
  {
   "source": [
    "# Полезные ссылки\n",
    "\n",
    "- [Документация к модулю ```os.path```](https://docs.python.org/3/library/os.path.html)\n",
    "- [Краткое описание функций ```os.path```](https://pythonworld.ru/moduli/modul-os-path.html)\n",
    "- [Relative paths in Python](https://stackoverflow.com/questions/918154/relative-paths-in-python)\n",
    "- [How to get an absolute file path in Python](https://stackoverflow.com/questions/51520/how-to-get-an-absolute-file-path-in-python/51539#51539)\n",
    "- [How do I get the path and name of the file that is currently executing?](https://stackoverflow.com/questions/50499/how-do-i-get-the-path-and-name-of-the-file-that-is-currently-executing/31867043)\n",
    "- [Why doesn't os.path.join() work in this case?](https://stackoverflow.com/questions/1945920/why-doesnt-os-path-join-work-in-this-case)"
   ],
   "cell_type": "markdown",
   "metadata": {}
  }
 ]
}