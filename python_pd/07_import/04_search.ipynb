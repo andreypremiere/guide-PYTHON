{
 "cells": [
  {
   "cell_type": "markdown",
   "source": [
    "# Поиск модулей и пакетов"
   ],
   "metadata": {}
  },
  {
   "cell_type": "markdown",
   "source": [
    "# Реализация своего варианта поиска"
   ],
   "metadata": {}
  },
  {
   "cell_type": "markdown",
   "source": [
    "# Реализация своего варианта загрузки модуля\r\n"
   ],
   "metadata": {}
  },
  {
   "cell_type": "markdown",
   "source": [
    "# Полезные ссылки\r\n"
   ],
   "metadata": {}
  }
 ],
 "metadata": {
  "orig_nbformat": 4,
  "language_info": {
   "name": "python",
   "version": "3.9.0",
   "mimetype": "text/x-python",
   "codemirror_mode": {
    "name": "ipython",
    "version": 3
   },
   "pygments_lexer": "ipython3",
   "nbconvert_exporter": "python",
   "file_extension": ".py"
  },
  "kernelspec": {
   "name": "python3",
   "display_name": "Python 3.9.0 64-bit ('.venv': venv)"
  },
  "interpreter": {
   "hash": "178cad48488a45b94c2e1acb3bfd8ec03d0e926b0801a270a439a0363b59c19a"
  }
 },
 "nbformat": 4,
 "nbformat_minor": 2
}